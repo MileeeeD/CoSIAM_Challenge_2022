{
 "cells": [
  {
   "cell_type": "markdown",
   "id": "ac3b37c1",
   "metadata": {
    "slideshow": {
     "slide_type": "slide"
    }
   },
   "source": [
    "<center><img src='../img/logo_cosiam/LogoCoSIAM_COL.png' style='height:230px;  margin: 0px 15px 15px 0px'></center>\n",
    "\n",
    "# Módulo 3: Repaso de Python\n"
   ]
  },
  {
   "cell_type": "markdown",
   "id": "6f6782c3",
   "metadata": {
    "slideshow": {
     "slide_type": "slide"
    }
   },
   "source": [
    "# Python\n",
    "\n",
    "<br>\n",
    "<img src='../img/clase03/python.png' style='height:300px; float: left; margin: 0px 15px 15px 0px'> \n",
    "\n",
    "• Lenguaje de programación <br>\n",
    "• Muy popular en el campo de la ciencia de datos <br>\n",
    "• Reconocido por su legibilidad <br>"
   ]
  },
  {
   "cell_type": "markdown",
   "id": "e1010ef7",
   "metadata": {
    "slideshow": {
     "slide_type": "slide"
    }
   },
   "source": [
    "# Tipos de archivo: `.py` vs `.ipynb`\n",
    "\n",
    "• `ipynb`: Jupyter Notebook. Necesitas tener instalado Jupyter para poder ejecutar. Ideal para realizar experimentos e interactuar con ellos.\n",
    "\n",
    "• `py`: Script. Se ejecutan desde la **terminal**. Se pueden crear usando un editor de código (ejemplo: Visual Studio Code). Ideal para escribir código en producción. "
   ]
  },
  {
   "cell_type": "markdown",
   "id": "a5edd8d4",
   "metadata": {
    "slideshow": {
     "slide_type": "slide"
    }
   },
   "source": [
    "# Código"
   ]
  },
  {
   "cell_type": "markdown",
   "id": "fe14fb0c",
   "metadata": {
    "slideshow": {
     "slide_type": "slide"
    }
   },
   "source": [
    "# Variables"
   ]
  },
  {
   "cell_type": "code",
   "execution_count": 1,
   "id": "0d64869d",
   "metadata": {},
   "outputs": [],
   "source": [
    "mi_variable = 2 "
   ]
  },
  {
   "cell_type": "code",
   "execution_count": 2,
   "id": "4e1a3dbe",
   "metadata": {},
   "outputs": [
    {
     "name": "stdout",
     "output_type": "stream",
     "text": [
      "2\n"
     ]
    }
   ],
   "source": [
    "print(mi_variable)"
   ]
  },
  {
   "cell_type": "code",
   "execution_count": 3,
   "id": "b1b85a98",
   "metadata": {},
   "outputs": [
    {
     "data": {
      "text/plain": [
       "5"
      ]
     },
     "execution_count": 3,
     "metadata": {},
     "output_type": "execute_result"
    }
   ],
   "source": [
    "mi_variable + 3"
   ]
  },
  {
   "cell_type": "code",
   "execution_count": 4,
   "id": "3e748e3e",
   "metadata": {},
   "outputs": [
    {
     "name": "stdout",
     "output_type": "stream",
     "text": [
      "Hola mundo 2\n"
     ]
    }
   ],
   "source": [
    "print(f\"Hola mundo {mi_variable}\")"
   ]
  },
  {
   "cell_type": "code",
   "execution_count": 5,
   "id": "8d9cce7e",
   "metadata": {},
   "outputs": [
    {
     "data": {
      "text/plain": [
       "int"
      ]
     },
     "execution_count": 5,
     "metadata": {},
     "output_type": "execute_result"
    }
   ],
   "source": [
    "type(mi_variable)"
   ]
  },
  {
   "cell_type": "code",
   "execution_count": 6,
   "id": "631fdb9d",
   "metadata": {},
   "outputs": [],
   "source": [
    "cadena = \"Vamos a buscar las esferas del dragon\""
   ]
  },
  {
   "cell_type": "code",
   "execution_count": 7,
   "id": "cb540dd3",
   "metadata": {},
   "outputs": [
    {
     "name": "stdout",
     "output_type": "stream",
     "text": [
      "Vamos a buscar las esferas del dragon\n"
     ]
    }
   ],
   "source": [
    "print(cadena)"
   ]
  },
  {
   "cell_type": "code",
   "execution_count": 8,
   "id": "56337ee0",
   "metadata": {},
   "outputs": [
    {
     "data": {
      "text/plain": [
       "str"
      ]
     },
     "execution_count": 8,
     "metadata": {},
     "output_type": "execute_result"
    }
   ],
   "source": [
    "type(cadena)"
   ]
  },
  {
   "cell_type": "code",
   "execution_count": 9,
   "id": "f261de2a",
   "metadata": {},
   "outputs": [
    {
     "data": {
      "text/plain": [
       "['Vamos', 'a', 'buscar', 'las', 'esferas', 'del', 'dragon']"
      ]
     },
     "execution_count": 9,
     "metadata": {},
     "output_type": "execute_result"
    }
   ],
   "source": [
    "cadena.split()"
   ]
  },
  {
   "cell_type": "code",
   "execution_count": 10,
   "id": "5c92f108",
   "metadata": {},
   "outputs": [
    {
     "data": {
      "text/plain": [
       "['Vam', 's a buscar las esferas del drag', 'n']"
      ]
     },
     "execution_count": 10,
     "metadata": {},
     "output_type": "execute_result"
    }
   ],
   "source": [
    "cadena.split(\"o\")"
   ]
  },
  {
   "cell_type": "code",
   "execution_count": 11,
   "id": "ed67c99d",
   "metadata": {},
   "outputs": [],
   "source": [
    "palabras = cadena.split()"
   ]
  },
  {
   "cell_type": "code",
   "execution_count": 12,
   "id": "a42aa6c0",
   "metadata": {},
   "outputs": [
    {
     "data": {
      "text/plain": [
       "['Vamos', 'a', 'buscar', 'las', 'esferas', 'del', 'dragon']"
      ]
     },
     "execution_count": 12,
     "metadata": {},
     "output_type": "execute_result"
    }
   ],
   "source": [
    "palabras"
   ]
  },
  {
   "cell_type": "code",
   "execution_count": 13,
   "id": "e7ec1aea",
   "metadata": {},
   "outputs": [
    {
     "data": {
      "text/plain": [
       "list"
      ]
     },
     "execution_count": 13,
     "metadata": {},
     "output_type": "execute_result"
    }
   ],
   "source": [
    "type(palabras)"
   ]
  },
  {
   "cell_type": "code",
   "execution_count": 14,
   "id": "bf70fe36",
   "metadata": {},
   "outputs": [
    {
     "data": {
      "text/plain": [
       "6"
      ]
     },
     "execution_count": 14,
     "metadata": {},
     "output_type": "execute_result"
    }
   ],
   "source": [
    "int(\"3\") * 2"
   ]
  },
  {
   "cell_type": "code",
   "execution_count": 15,
   "id": "31996e4d",
   "metadata": {},
   "outputs": [
    {
     "data": {
      "text/plain": [
       "'33'"
      ]
     },
     "execution_count": 15,
     "metadata": {},
     "output_type": "execute_result"
    }
   ],
   "source": [
    "\"3\" * 2"
   ]
  },
  {
   "cell_type": "markdown",
   "id": "95c8d5a7",
   "metadata": {
    "slideshow": {
     "slide_type": "slide"
    }
   },
   "source": [
    "# Listas"
   ]
  },
  {
   "cell_type": "code",
   "execution_count": 16,
   "id": "2beca2b2",
   "metadata": {},
   "outputs": [
    {
     "data": {
      "text/plain": [
       "['Vamos', 'a', 'buscar', 'las', 'esferas', 'del', 'dragon']"
      ]
     },
     "execution_count": 16,
     "metadata": {},
     "output_type": "execute_result"
    }
   ],
   "source": [
    "palabras"
   ]
  },
  {
   "cell_type": "code",
   "execution_count": 17,
   "id": "16d78d32",
   "metadata": {},
   "outputs": [
    {
     "data": {
      "text/plain": [
       "'a'"
      ]
     },
     "execution_count": 17,
     "metadata": {},
     "output_type": "execute_result"
    }
   ],
   "source": [
    "palabras[1]"
   ]
  },
  {
   "cell_type": "code",
   "execution_count": 18,
   "id": "84045994",
   "metadata": {},
   "outputs": [
    {
     "data": {
      "text/plain": [
       "'del'"
      ]
     },
     "execution_count": 18,
     "metadata": {},
     "output_type": "execute_result"
    }
   ],
   "source": [
    "palabras[-2]"
   ]
  },
  {
   "cell_type": "code",
   "execution_count": 19,
   "id": "7935bcfc",
   "metadata": {},
   "outputs": [
    {
     "data": {
      "text/plain": [
       "['buscar', 'las', 'esferas']"
      ]
     },
     "execution_count": 19,
     "metadata": {},
     "output_type": "execute_result"
    }
   ],
   "source": [
    "palabras[2:5]"
   ]
  },
  {
   "cell_type": "code",
   "execution_count": 20,
   "id": "9800ca42",
   "metadata": {},
   "outputs": [
    {
     "data": {
      "text/plain": [
       "6"
      ]
     },
     "execution_count": 20,
     "metadata": {},
     "output_type": "execute_result"
    }
   ],
   "source": [
    "palabras.index(\"dragon\")"
   ]
  },
  {
   "cell_type": "code",
   "execution_count": 21,
   "id": "339694e0",
   "metadata": {},
   "outputs": [
    {
     "data": {
      "text/plain": [
       "['buscar', 'las', 'esferas', 'del']"
      ]
     },
     "execution_count": 21,
     "metadata": {},
     "output_type": "execute_result"
    }
   ],
   "source": [
    "n = 6\n",
    "\n",
    "palabras[2:n]"
   ]
  },
  {
   "cell_type": "markdown",
   "id": "d05419b4",
   "metadata": {
    "slideshow": {
     "slide_type": "slide"
    }
   },
   "source": [
    "# Condicionales"
   ]
  },
  {
   "cell_type": "code",
   "execution_count": 22,
   "id": "a61e3d4b",
   "metadata": {},
   "outputs": [],
   "source": [
    "if 3 > 5:\n",
    "    print(\"Verdadero\")"
   ]
  },
  {
   "cell_type": "code",
   "execution_count": 23,
   "id": "701d2bbc",
   "metadata": {},
   "outputs": [
    {
     "name": "stdout",
     "output_type": "stream",
     "text": [
      "Verdadero\n"
     ]
    }
   ],
   "source": [
    "if 3 < 5:\n",
    "    print(\"Verdadero\")"
   ]
  },
  {
   "cell_type": "code",
   "execution_count": 24,
   "id": "597e27f1",
   "metadata": {},
   "outputs": [
    {
     "name": "stdout",
     "output_type": "stream",
     "text": [
      ":(\n"
     ]
    }
   ],
   "source": [
    "if 3 > 5:\n",
    "    print(\"Verdadero\")\n",
    "else: \n",
    "    print(\":(\")"
   ]
  },
  {
   "cell_type": "code",
   "execution_count": 25,
   "id": "051c8d6a",
   "metadata": {},
   "outputs": [
    {
     "data": {
      "text/plain": [
       "['Vamos', 'a', 'buscar', 'las', 'esferas', 'del', 'dragon']"
      ]
     },
     "execution_count": 25,
     "metadata": {},
     "output_type": "execute_result"
    }
   ],
   "source": [
    "palabras"
   ]
  },
  {
   "cell_type": "code",
   "execution_count": 26,
   "id": "46e0417d",
   "metadata": {},
   "outputs": [
    {
     "name": "stdout",
     "output_type": "stream",
     "text": [
      "viernes NO está en palabras\n"
     ]
    }
   ],
   "source": [
    "dia = \"viernes\"\n",
    "\n",
    "if dia in palabras:\n",
    "    print(f\"{dia} está en palabras\")\n",
    "else:\n",
    "    print(f\"{dia} NO está en palabras\")"
   ]
  },
  {
   "cell_type": "code",
   "execution_count": 27,
   "id": "3bdab11a",
   "metadata": {},
   "outputs": [
    {
     "data": {
      "text/plain": [
       "False"
      ]
     },
     "execution_count": 27,
     "metadata": {},
     "output_type": "execute_result"
    }
   ],
   "source": [
    "dia in palabras"
   ]
  },
  {
   "cell_type": "markdown",
   "id": "099250b3",
   "metadata": {
    "slideshow": {
     "slide_type": "slide"
    }
   },
   "source": [
    "# Bucles"
   ]
  },
  {
   "cell_type": "code",
   "execution_count": 28,
   "id": "d0c3ac32",
   "metadata": {},
   "outputs": [
    {
     "name": "stdout",
     "output_type": "stream",
     "text": [
      "Vamos\n",
      "a\n",
      "buscar\n",
      "las\n",
      "esferas\n",
      "del\n",
      "dragon\n"
     ]
    }
   ],
   "source": [
    "for _ in palabras:\n",
    "    print(_)"
   ]
  },
  {
   "cell_type": "code",
   "execution_count": 29,
   "id": "a1e08d6b",
   "metadata": {},
   "outputs": [
    {
     "name": "stdout",
     "output_type": "stream",
     "text": [
      "La palabra <<Vamos>> está en el lugar #0 de la lista\n",
      "La palabra <<a>> está en el lugar #1 de la lista\n",
      "La palabra <<buscar>> está en el lugar #2 de la lista\n",
      "La palabra <<las>> está en el lugar #3 de la lista\n",
      "La palabra <<esferas>> está en el lugar #4 de la lista\n",
      "La palabra <<del>> está en el lugar #5 de la lista\n",
      "La palabra <<dragon>> está en el lugar #6 de la lista\n"
     ]
    }
   ],
   "source": [
    "for i,_ in enumerate(palabras): \n",
    "    print(f\"La palabra <<{_}>> está en el lugar #{i} de la lista\")"
   ]
  },
  {
   "cell_type": "code",
   "execution_count": 30,
   "id": "f4add8af",
   "metadata": {},
   "outputs": [
    {
     "name": "stdout",
     "output_type": "stream",
     "text": [
      "5\n",
      "jeje\n",
      "6\n",
      "jeje\n",
      "7\n",
      "jeje\n",
      "8\n",
      "jeje\n",
      "9\n",
      "jeje\n",
      "10\n",
      "jeje\n",
      "11\n",
      "jeje\n",
      "12\n",
      "jeje\n",
      "13\n",
      "jeje\n",
      "14\n",
      "jeje\n",
      "Jajaja\n"
     ]
    }
   ],
   "source": [
    "for numero in range(5,15):\n",
    "    print(numero)\n",
    "    print(\"jeje\")\n",
    "    \n",
    "print(\"Jajaja\")"
   ]
  },
  {
   "cell_type": "code",
   "execution_count": 31,
   "id": "dbc2af71",
   "metadata": {},
   "outputs": [
    {
     "name": "stdout",
     "output_type": "stream",
     "text": [
      "5 es un número impar\n",
      "6 es un número par\n",
      "7 es un número impar\n",
      "8 es un número par\n",
      "9 es un número impar\n",
      "10 es un número par\n",
      "11 es un número impar\n",
      "12 es un número par\n",
      "13 es un número impar\n",
      "14 es un número par\n"
     ]
    }
   ],
   "source": [
    "for numero in range(5,15):\n",
    "    if numero % 2 == 0:\n",
    "        print(f\"{numero} es un número par\")\n",
    "    else:\n",
    "        print(f\"{numero} es un número impar\")"
   ]
  },
  {
   "cell_type": "markdown",
   "id": "38843707",
   "metadata": {
    "slideshow": {
     "slide_type": "slide"
    }
   },
   "source": [
    "# Listas de comprensión"
   ]
  },
  {
   "cell_type": "code",
   "execution_count": 32,
   "id": "56dc139f",
   "metadata": {},
   "outputs": [
    {
     "data": {
      "text/plain": [
       "['VAMOS', 'A', 'BUSCAR', 'LAS', 'ESFERAS', 'DEL', 'DRAGON']"
      ]
     },
     "execution_count": 32,
     "metadata": {},
     "output_type": "execute_result"
    }
   ],
   "source": [
    "# Búcle normal\n",
    "\n",
    "nueva_lista = []\n",
    "\n",
    "for p in palabras:\n",
    "    nueva_lista.append(p.upper())\n",
    "    \n",
    "nueva_lista"
   ]
  },
  {
   "cell_type": "code",
   "execution_count": 33,
   "id": "757f6d07",
   "metadata": {},
   "outputs": [
    {
     "data": {
      "text/plain": [
       "['VAMOS', 'A', 'BUSCAR', 'LAS', 'ESFERAS', 'DEL', 'DRAGON']"
      ]
     },
     "execution_count": 33,
     "metadata": {},
     "output_type": "execute_result"
    }
   ],
   "source": [
    "# Lista de comprensión\n",
    "\n",
    "nueva_lista2 = [p.upper() for p in palabras]\n",
    "nueva_lista2"
   ]
  },
  {
   "cell_type": "code",
   "execution_count": 34,
   "id": "b0df1cee",
   "metadata": {
    "scrolled": true
   },
   "outputs": [
    {
     "data": {
      "text/plain": [
       "[12, 16, 20, 24, 28]"
      ]
     },
     "execution_count": 34,
     "metadata": {},
     "output_type": "execute_result"
    }
   ],
   "source": [
    "[n*2 for n in range(5,15) if n % 2 == 0]"
   ]
  },
  {
   "cell_type": "markdown",
   "id": "898c83a3",
   "metadata": {
    "slideshow": {
     "slide_type": "slide"
    }
   },
   "source": [
    "# Diccionarios"
   ]
  },
  {
   "cell_type": "code",
   "execution_count": 35,
   "id": "6dfd8572",
   "metadata": {},
   "outputs": [],
   "source": [
    "mi_diccionario = {}"
   ]
  },
  {
   "cell_type": "code",
   "execution_count": 36,
   "id": "2c9b7505",
   "metadata": {},
   "outputs": [],
   "source": [
    "mi_diccionario['verde'] = 'green'"
   ]
  },
  {
   "cell_type": "code",
   "execution_count": 37,
   "id": "fe7d3c2b",
   "metadata": {},
   "outputs": [
    {
     "data": {
      "text/plain": [
       "{'verde': 'green'}"
      ]
     },
     "execution_count": 37,
     "metadata": {},
     "output_type": "execute_result"
    }
   ],
   "source": [
    "mi_diccionario"
   ]
  },
  {
   "cell_type": "code",
   "execution_count": 38,
   "id": "d38f5a3d",
   "metadata": {},
   "outputs": [],
   "source": [
    "mi_diccionario['azul'] = 'blue'"
   ]
  },
  {
   "cell_type": "code",
   "execution_count": 39,
   "id": "84d7de8a",
   "metadata": {},
   "outputs": [
    {
     "data": {
      "text/plain": [
       "{'verde': 'green', 'azul': 'blue'}"
      ]
     },
     "execution_count": 39,
     "metadata": {},
     "output_type": "execute_result"
    }
   ],
   "source": [
    "mi_diccionario"
   ]
  },
  {
   "cell_type": "code",
   "execution_count": 40,
   "id": "1949a5fb",
   "metadata": {},
   "outputs": [],
   "source": [
    "mi_diccionario['verde2'] = 'green'"
   ]
  },
  {
   "cell_type": "code",
   "execution_count": 41,
   "id": "826162ab",
   "metadata": {},
   "outputs": [
    {
     "data": {
      "text/plain": [
       "{'verde': 'green', 'azul': 'blue', 'verde2': 'green'}"
      ]
     },
     "execution_count": 41,
     "metadata": {},
     "output_type": "execute_result"
    }
   ],
   "source": [
    "mi_diccionario"
   ]
  },
  {
   "cell_type": "code",
   "execution_count": 42,
   "id": "aba84026",
   "metadata": {},
   "outputs": [],
   "source": [
    "mi_diccionario['verde'] = 'v'"
   ]
  },
  {
   "cell_type": "code",
   "execution_count": 43,
   "id": "d997879f",
   "metadata": {},
   "outputs": [
    {
     "data": {
      "text/plain": [
       "{'verde': 'v', 'azul': 'blue', 'verde2': 'green'}"
      ]
     },
     "execution_count": 43,
     "metadata": {},
     "output_type": "execute_result"
    }
   ],
   "source": [
    "mi_diccionario"
   ]
  },
  {
   "cell_type": "markdown",
   "id": "92be057b",
   "metadata": {
    "slideshow": {
     "slide_type": "slide"
    }
   },
   "source": [
    "# Funciones"
   ]
  },
  {
   "cell_type": "code",
   "execution_count": 44,
   "id": "9a8bb728",
   "metadata": {},
   "outputs": [],
   "source": [
    "def mi_funcion(nombre):\n",
    "    return f\"Mi nombre es {nombre.upper()}\""
   ]
  },
  {
   "cell_type": "code",
   "execution_count": 45,
   "id": "a0173044",
   "metadata": {},
   "outputs": [
    {
     "data": {
      "text/plain": [
       "'Mi nombre es GOKÚ'"
      ]
     },
     "execution_count": 45,
     "metadata": {},
     "output_type": "execute_result"
    }
   ],
   "source": [
    "mi_funcion(\"Gokú\")"
   ]
  },
  {
   "cell_type": "code",
   "execution_count": 46,
   "id": "970ae35f",
   "metadata": {},
   "outputs": [],
   "source": [
    "nombres = [\"Vegeta\", \"Piccolo\", \"Bulma\", \"Krillin\"]"
   ]
  },
  {
   "cell_type": "code",
   "execution_count": 47,
   "id": "3192d24d",
   "metadata": {},
   "outputs": [
    {
     "name": "stdout",
     "output_type": "stream",
     "text": [
      "Vegeta\n",
      "Piccolo\n",
      "Bulma\n",
      "Krillin\n"
     ]
    }
   ],
   "source": [
    "for n in nombres:\n",
    "    print(n)"
   ]
  },
  {
   "cell_type": "code",
   "execution_count": 48,
   "id": "265e843e",
   "metadata": {},
   "outputs": [
    {
     "name": "stdout",
     "output_type": "stream",
     "text": [
      "Mi nombre es VEGETA\n",
      "Mi nombre es PICCOLO\n",
      "Mi nombre es BULMA\n",
      "Mi nombre es KRILLIN\n"
     ]
    }
   ],
   "source": [
    "for n in nombres:\n",
    "    print(mi_funcion(n))"
   ]
  },
  {
   "cell_type": "code",
   "execution_count": 49,
   "id": "07bb5bc5",
   "metadata": {},
   "outputs": [
    {
     "data": {
      "text/plain": [
       "['Mi nombre es VEGETA',\n",
       " 'Mi nombre es PICCOLO',\n",
       " 'Mi nombre es BULMA',\n",
       " 'Mi nombre es KRILLIN']"
      ]
     },
     "execution_count": 49,
     "metadata": {},
     "output_type": "execute_result"
    }
   ],
   "source": [
    "[mi_funcion(n) for n in nombres]"
   ]
  },
  {
   "cell_type": "markdown",
   "id": "2a4bf034",
   "metadata": {
    "slideshow": {
     "slide_type": "slide"
    }
   },
   "source": [
    "# Importar librerias"
   ]
  },
  {
   "cell_type": "markdown",
   "id": "8a764b7d",
   "metadata": {},
   "source": [
    "• Se pueden instalar librerias desde la terminal o desde el notebook"
   ]
  },
  {
   "cell_type": "code",
   "execution_count": 50,
   "id": "d8a35c6c",
   "metadata": {},
   "outputs": [
    {
     "name": "stdout",
     "output_type": "stream",
     "text": [
      "Requirement already satisfied: pandas in /opt/anaconda3/envs/coSIAM2022/lib/python3.9/site-packages (1.5.0)\r\n",
      "Requirement already satisfied: python-dateutil>=2.8.1 in /opt/anaconda3/envs/coSIAM2022/lib/python3.9/site-packages (from pandas) (2.8.2)\r\n",
      "Requirement already satisfied: numpy>=1.20.3 in /opt/anaconda3/envs/coSIAM2022/lib/python3.9/site-packages (from pandas) (1.23.3)\r\n",
      "Requirement already satisfied: pytz>=2020.1 in /opt/anaconda3/envs/coSIAM2022/lib/python3.9/site-packages (from pandas) (2022.4)\r\n",
      "Requirement already satisfied: six>=1.5 in /opt/anaconda3/envs/coSIAM2022/lib/python3.9/site-packages (from python-dateutil>=2.8.1->pandas) (1.16.0)\r\n"
     ]
    }
   ],
   "source": [
    "! pip install pandas"
   ]
  },
  {
   "cell_type": "code",
   "execution_count": 51,
   "id": "107328fc",
   "metadata": {},
   "outputs": [],
   "source": [
    "import pandas as pd\n",
    "import seaborn as sns"
   ]
  },
  {
   "cell_type": "code",
   "execution_count": 52,
   "id": "e9709d58",
   "metadata": {},
   "outputs": [
    {
     "data": {
      "text/html": [
       "<div>\n",
       "<style scoped>\n",
       "    .dataframe tbody tr th:only-of-type {\n",
       "        vertical-align: middle;\n",
       "    }\n",
       "\n",
       "    .dataframe tbody tr th {\n",
       "        vertical-align: top;\n",
       "    }\n",
       "\n",
       "    .dataframe thead th {\n",
       "        text-align: right;\n",
       "    }\n",
       "</style>\n",
       "<table border=\"1\" class=\"dataframe\">\n",
       "  <thead>\n",
       "    <tr style=\"text-align: right;\">\n",
       "      <th></th>\n",
       "      <th>sepal_length</th>\n",
       "      <th>sepal_width</th>\n",
       "      <th>petal_length</th>\n",
       "      <th>petal_width</th>\n",
       "      <th>species</th>\n",
       "    </tr>\n",
       "  </thead>\n",
       "  <tbody>\n",
       "    <tr>\n",
       "      <th>0</th>\n",
       "      <td>5.1</td>\n",
       "      <td>3.5</td>\n",
       "      <td>1.4</td>\n",
       "      <td>0.2</td>\n",
       "      <td>setosa</td>\n",
       "    </tr>\n",
       "    <tr>\n",
       "      <th>1</th>\n",
       "      <td>4.9</td>\n",
       "      <td>3.0</td>\n",
       "      <td>1.4</td>\n",
       "      <td>0.2</td>\n",
       "      <td>setosa</td>\n",
       "    </tr>\n",
       "    <tr>\n",
       "      <th>2</th>\n",
       "      <td>4.7</td>\n",
       "      <td>3.2</td>\n",
       "      <td>1.3</td>\n",
       "      <td>0.2</td>\n",
       "      <td>setosa</td>\n",
       "    </tr>\n",
       "    <tr>\n",
       "      <th>3</th>\n",
       "      <td>4.6</td>\n",
       "      <td>3.1</td>\n",
       "      <td>1.5</td>\n",
       "      <td>0.2</td>\n",
       "      <td>setosa</td>\n",
       "    </tr>\n",
       "    <tr>\n",
       "      <th>4</th>\n",
       "      <td>5.0</td>\n",
       "      <td>3.6</td>\n",
       "      <td>1.4</td>\n",
       "      <td>0.2</td>\n",
       "      <td>setosa</td>\n",
       "    </tr>\n",
       "  </tbody>\n",
       "</table>\n",
       "</div>"
      ],
      "text/plain": [
       "   sepal_length  sepal_width  petal_length  petal_width species\n",
       "0           5.1          3.5           1.4          0.2  setosa\n",
       "1           4.9          3.0           1.4          0.2  setosa\n",
       "2           4.7          3.2           1.3          0.2  setosa\n",
       "3           4.6          3.1           1.5          0.2  setosa\n",
       "4           5.0          3.6           1.4          0.2  setosa"
      ]
     },
     "execution_count": 52,
     "metadata": {},
     "output_type": "execute_result"
    }
   ],
   "source": [
    "iris = sns.load_dataset('iris')\n",
    "iris.head()"
   ]
  },
  {
   "cell_type": "markdown",
   "id": "0cf3c1f6",
   "metadata": {
    "slideshow": {
     "slide_type": "slide"
    }
   },
   "source": [
    "# Funciones lambda"
   ]
  },
  {
   "cell_type": "code",
   "execution_count": 53,
   "id": "d620988a",
   "metadata": {},
   "outputs": [
    {
     "data": {
      "text/plain": [
       "0      5.1\n",
       "1      4.9\n",
       "2      4.7\n",
       "3      4.6\n",
       "4      5.0\n",
       "      ... \n",
       "145    6.7\n",
       "146    6.3\n",
       "147    6.5\n",
       "148    6.2\n",
       "149    5.9\n",
       "Name: sepal_length, Length: 150, dtype: float64"
      ]
     },
     "execution_count": 53,
     "metadata": {},
     "output_type": "execute_result"
    }
   ],
   "source": [
    "iris['sepal_length']"
   ]
  },
  {
   "cell_type": "code",
   "execution_count": 54,
   "id": "4ab2c076",
   "metadata": {},
   "outputs": [
    {
     "data": {
      "text/plain": [
       "0      510.0\n",
       "1      490.0\n",
       "2      470.0\n",
       "3      460.0\n",
       "4      500.0\n",
       "       ...  \n",
       "145    670.0\n",
       "146    630.0\n",
       "147    650.0\n",
       "148    620.0\n",
       "149    590.0\n",
       "Name: sepal_length, Length: 150, dtype: float64"
      ]
     },
     "execution_count": 54,
     "metadata": {},
     "output_type": "execute_result"
    }
   ],
   "source": [
    "iris['sepal_length'].apply(lambda medida: medida*100)"
   ]
  },
  {
   "cell_type": "code",
   "execution_count": 55,
   "id": "f5cac44a",
   "metadata": {},
   "outputs": [],
   "source": [
    "iris['nueva_medida'] = iris['sepal_length'].apply(lambda medida: medida*100)"
   ]
  },
  {
   "cell_type": "code",
   "execution_count": 56,
   "id": "7e22a39d",
   "metadata": {},
   "outputs": [
    {
     "data": {
      "text/html": [
       "<div>\n",
       "<style scoped>\n",
       "    .dataframe tbody tr th:only-of-type {\n",
       "        vertical-align: middle;\n",
       "    }\n",
       "\n",
       "    .dataframe tbody tr th {\n",
       "        vertical-align: top;\n",
       "    }\n",
       "\n",
       "    .dataframe thead th {\n",
       "        text-align: right;\n",
       "    }\n",
       "</style>\n",
       "<table border=\"1\" class=\"dataframe\">\n",
       "  <thead>\n",
       "    <tr style=\"text-align: right;\">\n",
       "      <th></th>\n",
       "      <th>sepal_length</th>\n",
       "      <th>sepal_width</th>\n",
       "      <th>petal_length</th>\n",
       "      <th>petal_width</th>\n",
       "      <th>species</th>\n",
       "      <th>nueva_medida</th>\n",
       "    </tr>\n",
       "  </thead>\n",
       "  <tbody>\n",
       "    <tr>\n",
       "      <th>0</th>\n",
       "      <td>5.1</td>\n",
       "      <td>3.5</td>\n",
       "      <td>1.4</td>\n",
       "      <td>0.2</td>\n",
       "      <td>setosa</td>\n",
       "      <td>510.0</td>\n",
       "    </tr>\n",
       "    <tr>\n",
       "      <th>1</th>\n",
       "      <td>4.9</td>\n",
       "      <td>3.0</td>\n",
       "      <td>1.4</td>\n",
       "      <td>0.2</td>\n",
       "      <td>setosa</td>\n",
       "      <td>490.0</td>\n",
       "    </tr>\n",
       "    <tr>\n",
       "      <th>2</th>\n",
       "      <td>4.7</td>\n",
       "      <td>3.2</td>\n",
       "      <td>1.3</td>\n",
       "      <td>0.2</td>\n",
       "      <td>setosa</td>\n",
       "      <td>470.0</td>\n",
       "    </tr>\n",
       "    <tr>\n",
       "      <th>3</th>\n",
       "      <td>4.6</td>\n",
       "      <td>3.1</td>\n",
       "      <td>1.5</td>\n",
       "      <td>0.2</td>\n",
       "      <td>setosa</td>\n",
       "      <td>460.0</td>\n",
       "    </tr>\n",
       "    <tr>\n",
       "      <th>4</th>\n",
       "      <td>5.0</td>\n",
       "      <td>3.6</td>\n",
       "      <td>1.4</td>\n",
       "      <td>0.2</td>\n",
       "      <td>setosa</td>\n",
       "      <td>500.0</td>\n",
       "    </tr>\n",
       "    <tr>\n",
       "      <th>...</th>\n",
       "      <td>...</td>\n",
       "      <td>...</td>\n",
       "      <td>...</td>\n",
       "      <td>...</td>\n",
       "      <td>...</td>\n",
       "      <td>...</td>\n",
       "    </tr>\n",
       "    <tr>\n",
       "      <th>145</th>\n",
       "      <td>6.7</td>\n",
       "      <td>3.0</td>\n",
       "      <td>5.2</td>\n",
       "      <td>2.3</td>\n",
       "      <td>virginica</td>\n",
       "      <td>670.0</td>\n",
       "    </tr>\n",
       "    <tr>\n",
       "      <th>146</th>\n",
       "      <td>6.3</td>\n",
       "      <td>2.5</td>\n",
       "      <td>5.0</td>\n",
       "      <td>1.9</td>\n",
       "      <td>virginica</td>\n",
       "      <td>630.0</td>\n",
       "    </tr>\n",
       "    <tr>\n",
       "      <th>147</th>\n",
       "      <td>6.5</td>\n",
       "      <td>3.0</td>\n",
       "      <td>5.2</td>\n",
       "      <td>2.0</td>\n",
       "      <td>virginica</td>\n",
       "      <td>650.0</td>\n",
       "    </tr>\n",
       "    <tr>\n",
       "      <th>148</th>\n",
       "      <td>6.2</td>\n",
       "      <td>3.4</td>\n",
       "      <td>5.4</td>\n",
       "      <td>2.3</td>\n",
       "      <td>virginica</td>\n",
       "      <td>620.0</td>\n",
       "    </tr>\n",
       "    <tr>\n",
       "      <th>149</th>\n",
       "      <td>5.9</td>\n",
       "      <td>3.0</td>\n",
       "      <td>5.1</td>\n",
       "      <td>1.8</td>\n",
       "      <td>virginica</td>\n",
       "      <td>590.0</td>\n",
       "    </tr>\n",
       "  </tbody>\n",
       "</table>\n",
       "<p>150 rows × 6 columns</p>\n",
       "</div>"
      ],
      "text/plain": [
       "     sepal_length  sepal_width  petal_length  petal_width    species  \\\n",
       "0             5.1          3.5           1.4          0.2     setosa   \n",
       "1             4.9          3.0           1.4          0.2     setosa   \n",
       "2             4.7          3.2           1.3          0.2     setosa   \n",
       "3             4.6          3.1           1.5          0.2     setosa   \n",
       "4             5.0          3.6           1.4          0.2     setosa   \n",
       "..            ...          ...           ...          ...        ...   \n",
       "145           6.7          3.0           5.2          2.3  virginica   \n",
       "146           6.3          2.5           5.0          1.9  virginica   \n",
       "147           6.5          3.0           5.2          2.0  virginica   \n",
       "148           6.2          3.4           5.4          2.3  virginica   \n",
       "149           5.9          3.0           5.1          1.8  virginica   \n",
       "\n",
       "     nueva_medida  \n",
       "0           510.0  \n",
       "1           490.0  \n",
       "2           470.0  \n",
       "3           460.0  \n",
       "4           500.0  \n",
       "..            ...  \n",
       "145         670.0  \n",
       "146         630.0  \n",
       "147         650.0  \n",
       "148         620.0  \n",
       "149         590.0  \n",
       "\n",
       "[150 rows x 6 columns]"
      ]
     },
     "execution_count": 56,
     "metadata": {},
     "output_type": "execute_result"
    }
   ],
   "source": [
    "iris"
   ]
  },
  {
   "cell_type": "markdown",
   "id": "6a6889c8",
   "metadata": {
    "slideshow": {
     "slide_type": "slide"
    }
   },
   "source": [
    "### 🤓 Recapitulando: Hoy aprendímos...\n",
    "- Básicos de Python"
   ]
  },
  {
   "cell_type": "markdown",
   "id": "57cbb280",
   "metadata": {
    "slideshow": {
     "slide_type": "slide"
    }
   },
   "source": [
    "<img src='../img/dragonball/3.jpeg' style='height:600px; float: left; margin: 0px 15px 15px 0px'>\n",
    "\n",
    "• **Módulo 1**: &nbsp;&nbsp;&nbsp;&nbsp; Introducción ✅ <br>\n",
    "• **Módulo 2**: &nbsp;&nbsp;&nbsp;&nbsp; Configuración de ambiente de desarrollo ✅ <br>\n",
    "• **Módulo 3**: &nbsp;&nbsp;&nbsp;&nbsp; Repaso de Python ✅ <br>"
   ]
  }
 ],
 "metadata": {
  "kernelspec": {
   "display_name": "Python 3 (ipykernel)",
   "language": "python",
   "name": "python3"
  },
  "language_info": {
   "codemirror_mode": {
    "name": "ipython",
    "version": 3
   },
   "file_extension": ".py",
   "mimetype": "text/x-python",
   "name": "python",
   "nbconvert_exporter": "python",
   "pygments_lexer": "ipython3",
   "version": "3.9.13"
  }
 },
 "nbformat": 4,
 "nbformat_minor": 5
}
