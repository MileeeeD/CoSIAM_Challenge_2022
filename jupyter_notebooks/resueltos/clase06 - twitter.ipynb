{
 "cells": [
  {
   "cell_type": "markdown",
   "metadata": {
    "slideshow": {
     "slide_type": "slide"
    }
   },
   "source": [
    "<center><img src='../img/logo_cosiam/LogoCoSIAM_COL.png' style='height:230px;  margin: 0px 15px 15px 0px'></center>\n",
    "\n",
    "# Módulo 6:  Cuenta de desarrollador de Twitter\n",
    "\n",
    "- Adquisición de datos, parte III: Twitter usando la cuenta de desarrollador\n",
    "- Adquisición de datos, parte IV: Redes sociales usando la libreria SNScrape\n"
   ]
  },
  {
   "cell_type": "markdown",
   "metadata": {
    "slideshow": {
     "slide_type": "slide"
    }
   },
   "source": [
    "# En capítulos anteriores...\n",
    "\n",
    "<br>\n",
    "<center><img src='../img/pipeline/pipeline1.png' style='height:600px;'> </centeR>\n"
   ]
  },
  {
   "cell_type": "markdown",
   "metadata": {
    "slideshow": {
     "slide_type": "slide"
    }
   },
   "source": [
    "# NLP y las Redes Sociales\n",
    "\n",
    "<center><img src='../img/clase06/2021minute.jpeg' style='height:400px; float: center; margin: 0px 15px 15px 0px'></center>\n",
    "\n",
    "- Son datos y hay que darlos:\n",
    "    - +300 millones de usuarios **activos** al mes en Twitter\n",
    "    - +350.000 tuits por minuto\n",
    "    - 2.900 millones usuarios **activos** al mes en Facebook\n",
    "- La fuente más grande de datos no estructurados"
   ]
  },
  {
   "cell_type": "markdown",
   "metadata": {
    "slideshow": {
     "slide_type": "slide"
    }
   },
   "source": [
    "## Aplicaciones de NLP en las redes sociales \n",
    "\n",
    "<center><br>\n",
    "<img src='../img/clase01/adele.png' style='height:350px;'>\n",
    "</center>\n",
    "\n",
    "- Detección de temas tendencia\n",
    "- Minería de opinión\n",
    "- Detección de sentimiento \n",
    "- Detección de Fake News\n",
    "- Filtrar contenido adulto/ofensivo \n",
    "- Soporte al cliente"
   ]
  },
  {
   "cell_type": "markdown",
   "metadata": {
    "slideshow": {
     "slide_type": "slide"
    }
   },
   "source": [
    "# Retos de NLP en las redes sociales \n",
    "\n",
    "<center><img src='../img/clase06/formal.png' style='height:300px; float: center; margin: 0px 15px 15px 0px'><Small><i>Escala de formalidad</i></Small></center>\n",
    "\n",
    "- Varios idiomas \n",
    "- Diferentes sistemas de escritura y trasliteración\n",
    "- No es formal\n",
    "- Errores de gramática y ortografía \n",
    "- Elementos no textuales (🤔🦠🥺⏫, memes, xD :), etc.)\n",
    "- Textos cortos y vocabulario nuevo"
   ]
  },
  {
   "cell_type": "markdown",
   "metadata": {
    "slideshow": {
     "slide_type": "slide"
    }
   },
   "source": [
    "# 🤖 La API de Twitter: Tweepy\n",
    "\n",
    "`pip install tweepy`\n",
    "\n",
    "http://docs.tweepy.org/en/latest/\n",
    "\n",
    "- API (Interfaz de programación de aplicaciones): Cuando una compañía construye un conjunto de URLs dedicadas a devolver respuestas de datos. \n",
    "- Tweepy es la libreria de Python que nos permite conectarnos a Twitter\n",
    "- **Limitación**: Se pueden adquirir máximo 2.000.000 de tweets al mes. Sólo se pueden adquirir tweets con una semana de antiguedad."
   ]
  },
  {
   "cell_type": "markdown",
   "metadata": {
    "slideshow": {
     "slide_type": "slide"
    }
   },
   "source": [
    "## Paso 1: Crear una aplicación\n",
    "\n",
    "<br>\n",
    "<center><img src='../img/clase06/micro.png' style='height:300px; float: center; margin: 0px 15px 15px 0px'></center>\n",
    "\n",
    "- Ir a https://developer.twitter.com/en/portal/dashboard\n",
    "- Crear aplicación en la sección `Elevated` y guardar claves en otro archivo\n",
    "\n",
    "```\n",
    "api_key,\n",
    "api_secret_key,\n",
    "access_token,\n",
    "access_token_secret,\n",
    "bearer_token,\n",
    "```"
   ]
  },
  {
   "cell_type": "markdown",
   "metadata": {
    "slideshow": {
     "slide_type": "slide"
    }
   },
   "source": [
    "## Paso 2: Autenticarse con Twitter\n",
    "\n"
   ]
  },
  {
   "cell_type": "code",
   "execution_count": 1,
   "metadata": {
    "slideshow": {
     "slide_type": "fragment"
    }
   },
   "outputs": [],
   "source": [
    "import pandas as pd \n",
    "import tweepy"
   ]
  },
  {
   "cell_type": "code",
   "execution_count": 2,
   "metadata": {
    "slideshow": {
     "slide_type": "fragment"
    }
   },
   "outputs": [],
   "source": [
    "# Leer llaves\n",
    "keys = pd.read_csv(\"../no/keys.csv\", header=None)\n",
    "keys = dict(zip(keys[0],keys[1]))"
   ]
  },
  {
   "cell_type": "code",
   "execution_count": 3,
   "metadata": {
    "slideshow": {
     "slide_type": "fragment"
    }
   },
   "outputs": [],
   "source": [
    "# Autorizar a través API\n",
    "auth = tweepy.OAuthHandler(keys['api_key'], keys['api_secret_key'])\n",
    "auth.set_access_token(keys['access_token'], keys['access_token_secret'])\n",
    "api = tweepy.API(auth, wait_on_rate_limit=True)"
   ]
  },
  {
   "cell_type": "markdown",
   "metadata": {
    "slideshow": {
     "slide_type": "slide"
    }
   },
   "source": [
    "## Paso 3: Hacer un tuit\n",
    "\n",
    "- Documentación: http://docs.tweepy.org/en/latest/\n"
   ]
  },
  {
   "cell_type": "code",
   "execution_count": 4,
   "metadata": {
    "slideshow": {
     "slide_type": "fragment"
    }
   },
   "outputs": [],
   "source": [
    "# api.update_status('Después de mucho tiempo... vuelvo')"
   ]
  },
  {
   "cell_type": "markdown",
   "metadata": {
    "slideshow": {
     "slide_type": "slide"
    }
   },
   "source": [
    "## Paso 4: Recolectar datos\n",
    "Documentación: https://docs.tweepy.org/en/stable/api.html"
   ]
  },
  {
   "cell_type": "code",
   "execution_count": 5,
   "metadata": {
    "slideshow": {
     "slide_type": "fragment"
    }
   },
   "outputs": [],
   "source": [
    "tweets = tweepy.Cursor(api.search_tweets,\n",
    "                       q=['sincelejo -RT'],\n",
    "                       lang='es',\n",
    "                       geocode=f'9.304722,-75.397778,100km',\n",
    "                       tweet_mode='extended').items(100)"
   ]
  },
  {
   "cell_type": "code",
   "execution_count": 6,
   "metadata": {
    "slideshow": {
     "slide_type": "fragment"
    }
   },
   "outputs": [],
   "source": [
    "# Objeto generador\n",
    "t = [tweet for tweet in tweets]"
   ]
  },
  {
   "cell_type": "code",
   "execution_count": 7,
   "metadata": {
    "slideshow": {
     "slide_type": "fragment"
    }
   },
   "outputs": [
    {
     "name": "stdout",
     "output_type": "stream",
     "text": [
      "Acaba de publicar una foto en Sincelejo, Sucre https://t.co/NXtmvBHF4E\n"
     ]
    }
   ],
   "source": [
    "print(t[0].full_text)"
   ]
  },
  {
   "cell_type": "code",
   "execution_count": 8,
   "metadata": {
    "slideshow": {
     "slide_type": "fragment"
    }
   },
   "outputs": [],
   "source": [
    "t_processed = []\n",
    "\n",
    "for tweet in t:\n",
    "    temp = []\n",
    "    temp.append(tweet.full_text)\n",
    "    temp.append(tweet.created_at)\n",
    "    temp.append(tweet.user.location)\n",
    "    temp.append(tweet.id)\n",
    "    temp.append(f\"https://twitter.com/i/web/status/{tweet.id}\")\n",
    "    \n",
    "    t_processed.append(temp)"
   ]
  },
  {
   "cell_type": "code",
   "execution_count": 9,
   "metadata": {
    "slideshow": {
     "slide_type": "fragment"
    }
   },
   "outputs": [
    {
     "data": {
      "text/html": [
       "<div>\n",
       "<style scoped>\n",
       "    .dataframe tbody tr th:only-of-type {\n",
       "        vertical-align: middle;\n",
       "    }\n",
       "\n",
       "    .dataframe tbody tr th {\n",
       "        vertical-align: top;\n",
       "    }\n",
       "\n",
       "    .dataframe thead th {\n",
       "        text-align: right;\n",
       "    }\n",
       "</style>\n",
       "<table border=\"1\" class=\"dataframe\">\n",
       "  <thead>\n",
       "    <tr style=\"text-align: right;\">\n",
       "      <th></th>\n",
       "      <th>tweet</th>\n",
       "      <th>date</th>\n",
       "      <th>user_location</th>\n",
       "      <th>id</th>\n",
       "      <th>link</th>\n",
       "    </tr>\n",
       "  </thead>\n",
       "  <tbody>\n",
       "    <tr>\n",
       "      <th>0</th>\n",
       "      <td>Acaba de publicar una foto en Sincelejo, Sucre...</td>\n",
       "      <td>2022-10-08 21:12:31+00:00</td>\n",
       "      <td>Periodista</td>\n",
       "      <td>1578855883882123264</td>\n",
       "      <td>https://twitter.com/i/web/status/1578855883882...</td>\n",
       "    </tr>\n",
       "    <tr>\n",
       "      <th>1</th>\n",
       "      <td>CEREVIDI FUE ESCUCHADO.\\n\\nel centro de rehabi...</td>\n",
       "      <td>2022-10-08 20:53:40+00:00</td>\n",
       "      <td>Montería, Colombia📍</td>\n",
       "      <td>1578851140057575424</td>\n",
       "      <td>https://twitter.com/i/web/status/1578851140057...</td>\n",
       "    </tr>\n",
       "    <tr>\n",
       "      <th>2</th>\n",
       "      <td>Tú me puedes gustar mucho pero yo pa' Sincelej...</td>\n",
       "      <td>2022-10-08 20:14:01+00:00</td>\n",
       "      <td>Mompós, Colombia</td>\n",
       "      <td>1578841165478055937</td>\n",
       "      <td>https://twitter.com/i/web/status/1578841165478...</td>\n",
       "    </tr>\n",
       "    <tr>\n",
       "      <th>3</th>\n",
       "      <td>Acabo de ver Veolia continua trabajos de repar...</td>\n",
       "      <td>2022-10-08 19:35:34+00:00</td>\n",
       "      <td>Sincelejo, Colombia</td>\n",
       "      <td>1578831485578059776</td>\n",
       "      <td>https://twitter.com/i/web/status/1578831485578...</td>\n",
       "    </tr>\n",
       "    <tr>\n",
       "      <th>4</th>\n",
       "      <td>Continúan los trabajos de reparación total de ...</td>\n",
       "      <td>2022-10-08 19:11:15+00:00</td>\n",
       "      <td>Sincelejo- Sucre</td>\n",
       "      <td>1578825365807845376</td>\n",
       "      <td>https://twitter.com/i/web/status/1578825365807...</td>\n",
       "    </tr>\n",
       "  </tbody>\n",
       "</table>\n",
       "</div>"
      ],
      "text/plain": [
       "                                               tweet  \\\n",
       "0  Acaba de publicar una foto en Sincelejo, Sucre...   \n",
       "1  CEREVIDI FUE ESCUCHADO.\\n\\nel centro de rehabi...   \n",
       "2  Tú me puedes gustar mucho pero yo pa' Sincelej...   \n",
       "3  Acabo de ver Veolia continua trabajos de repar...   \n",
       "4  Continúan los trabajos de reparación total de ...   \n",
       "\n",
       "                       date        user_location                   id  \\\n",
       "0 2022-10-08 21:12:31+00:00           Periodista  1578855883882123264   \n",
       "1 2022-10-08 20:53:40+00:00  Montería, Colombia📍  1578851140057575424   \n",
       "2 2022-10-08 20:14:01+00:00     Mompós, Colombia  1578841165478055937   \n",
       "3 2022-10-08 19:35:34+00:00  Sincelejo, Colombia  1578831485578059776   \n",
       "4 2022-10-08 19:11:15+00:00     Sincelejo- Sucre  1578825365807845376   \n",
       "\n",
       "                                                link  \n",
       "0  https://twitter.com/i/web/status/1578855883882...  \n",
       "1  https://twitter.com/i/web/status/1578851140057...  \n",
       "2  https://twitter.com/i/web/status/1578841165478...  \n",
       "3  https://twitter.com/i/web/status/1578831485578...  \n",
       "4  https://twitter.com/i/web/status/1578825365807...  "
      ]
     },
     "execution_count": 9,
     "metadata": {},
     "output_type": "execute_result"
    }
   ],
   "source": [
    "data = pd.DataFrame(t_processed)\n",
    "data.columns = ['tweet', 'date', 'user_location', 'id', 'link']\n",
    "data.head()"
   ]
  },
  {
   "cell_type": "code",
   "execution_count": 10,
   "metadata": {
    "slideshow": {
     "slide_type": "fragment"
    }
   },
   "outputs": [],
   "source": [
    "data.to_csv(\"datos20210513.csv\", index=False)"
   ]
  },
  {
   "cell_type": "markdown",
   "metadata": {
    "slideshow": {
     "slide_type": "slide"
    }
   },
   "source": [
    "# ... pero, quiero datos más antiguos 🥺\n",
    "\n",
    "<br>\n",
    "<center><img src='../img/clase06/no_t.jpeg' style='height:400px; float: center; margin: 0px 15px 15px 0px'></center>"
   ]
  },
  {
   "cell_type": "markdown",
   "metadata": {
    "slideshow": {
     "slide_type": "slide"
    }
   },
   "source": [
    "<center><img src='../img/clase06/si_t2.jpeg' style='height:400px; float: center; margin: 0px 15px 15px 0px'></center>"
   ]
  },
  {
   "cell_type": "markdown",
   "metadata": {
    "slideshow": {
     "slide_type": "slide"
    }
   },
   "source": [
    "###  Paso 1: Crear un entorno en Twitter\n",
    "\n",
    "Dirigirse a https://developer.twitter.com/en/account/environments y seguir los siguientes pasos."
   ]
  },
  {
   "cell_type": "markdown",
   "metadata": {
    "slideshow": {
     "slide_type": "fragment"
    }
   },
   "source": [
    "1. Hacer click en `set up dev environment` en la sección de `full archive`\n",
    "<img src='../img/clase06/tw1.png'>"
   ]
  },
  {
   "cell_type": "markdown",
   "metadata": {
    "slideshow": {
     "slide_type": "slide"
    }
   },
   "source": [
    "2. Darle un nombre al entorno y escoger una de las aplicaciones\n",
    "<img src='../img/clase06/tw2.png'>"
   ]
  },
  {
   "cell_type": "markdown",
   "metadata": {
    "slideshow": {
     "slide_type": "slide"
    }
   },
   "source": [
    "3. Recordar el nombre del ambiente (en este ejemplo `Historico`) y saber cuál aplicación se usó para acceder con esas llaves\n",
    "<img src='../img/clase06/tw3.png'>"
   ]
  },
  {
   "cell_type": "markdown",
   "metadata": {
    "slideshow": {
     "slide_type": "slide"
    }
   },
   "source": [
    "### Ejemplo de uso"
   ]
  },
  {
   "cell_type": "code",
   "execution_count": 11,
   "metadata": {
    "slideshow": {
     "slide_type": "fragment"
    }
   },
   "outputs": [],
   "source": [
    "# Nótese que la cadena de búsqueda ahora debe incluir otros paramétros que no son soportados en la librería\n",
    "busqueda = 'Dragon Ball lang:es -\"RT @\"'\n",
    "\n",
    "params = dict(label = 'Historico', # Nombre del entorno que creamos\n",
    "              query = busqueda,\n",
    "              fromDate = '202001010000',\n",
    "              toDate = '202001020000')"
   ]
  },
  {
   "cell_type": "code",
   "execution_count": 12,
   "metadata": {
    "slideshow": {
     "slide_type": "fragment"
    }
   },
   "outputs": [],
   "source": [
    "#Cursor\n",
    "tweets = tweepy.Cursor(api.search_full_archive, **params).items(200)"
   ]
  },
  {
   "cell_type": "code",
   "execution_count": 13,
   "metadata": {
    "slideshow": {
     "slide_type": "slide"
    }
   },
   "outputs": [],
   "source": [
    "t_processed = []\n",
    "\n",
    "for tweet in tweets:\n",
    "    temp = []\n",
    "    \n",
    "    if tweet.truncated:\n",
    "        temp.append(tweet.extended_tweet['full_text'])\n",
    "    else:\n",
    "        temp.append(tweet.text)\n",
    "        \n",
    "    temp.append(tweet.created_at)\n",
    "    temp.append(tweet.user.location)\n",
    "    temp.append(tweet.id)\n",
    "    temp.append(f\"https://twitter.com/i/web/status/{tweet.id}\")\n",
    "    \n",
    "    t_processed.append(temp)"
   ]
  },
  {
   "cell_type": "code",
   "execution_count": 14,
   "metadata": {
    "slideshow": {
     "slide_type": "fragment"
    }
   },
   "outputs": [
    {
     "data": {
      "text/html": [
       "<div>\n",
       "<style scoped>\n",
       "    .dataframe tbody tr th:only-of-type {\n",
       "        vertical-align: middle;\n",
       "    }\n",
       "\n",
       "    .dataframe tbody tr th {\n",
       "        vertical-align: top;\n",
       "    }\n",
       "\n",
       "    .dataframe thead th {\n",
       "        text-align: right;\n",
       "    }\n",
       "</style>\n",
       "<table border=\"1\" class=\"dataframe\">\n",
       "  <thead>\n",
       "    <tr style=\"text-align: right;\">\n",
       "      <th></th>\n",
       "      <th>tweet</th>\n",
       "      <th>date</th>\n",
       "      <th>user_location</th>\n",
       "      <th>id</th>\n",
       "      <th>link</th>\n",
       "    </tr>\n",
       "  </thead>\n",
       "  <tbody>\n",
       "    <tr>\n",
       "      <th>0</th>\n",
       "      <td>creo que este mes pinta tatuarse algo de drago...</td>\n",
       "      <td>2020-01-01 23:51:26+00:00</td>\n",
       "      <td>+20 · lgbt</td>\n",
       "      <td>1212521744482865154</td>\n",
       "      <td>https://twitter.com/i/web/status/1212521744482...</td>\n",
       "    </tr>\n",
       "    <tr>\n",
       "      <th>1</th>\n",
       "      <td>Los juegos licencia son el kebab de las 4 de l...</td>\n",
       "      <td>2020-01-01 23:47:17+00:00</td>\n",
       "      <td>Vigo, Galicia</td>\n",
       "      <td>1212520699920822272</td>\n",
       "      <td>https://twitter.com/i/web/status/1212520699920...</td>\n",
       "    </tr>\n",
       "    <tr>\n",
       "      <th>2</th>\n",
       "      <td>Bien, estoy cansado. Las Armys se la pasan dom...</td>\n",
       "      <td>2020-01-01 23:42:37+00:00</td>\n",
       "      <td>Somewhere I Belong</td>\n",
       "      <td>1212519527231025152</td>\n",
       "      <td>https://twitter.com/i/web/status/1212519527231...</td>\n",
       "    </tr>\n",
       "    <tr>\n",
       "      <th>3</th>\n",
       "      <td>@MrTacoLz @RmArturo Y seremos para siempre Dra...</td>\n",
       "      <td>2020-01-01 23:37:28+00:00</td>\n",
       "      <td>Cdmx</td>\n",
       "      <td>1212518232394850304</td>\n",
       "      <td>https://twitter.com/i/web/status/1212518232394...</td>\n",
       "    </tr>\n",
       "    <tr>\n",
       "      <th>4</th>\n",
       "      <td>@NetflixLAT Por favor dame una esperanza ... D...</td>\n",
       "      <td>2020-01-01 23:37:15+00:00</td>\n",
       "      <td>None</td>\n",
       "      <td>1212518177642549248</td>\n",
       "      <td>https://twitter.com/i/web/status/1212518177642...</td>\n",
       "    </tr>\n",
       "  </tbody>\n",
       "</table>\n",
       "</div>"
      ],
      "text/plain": [
       "                                               tweet  \\\n",
       "0  creo que este mes pinta tatuarse algo de drago...   \n",
       "1  Los juegos licencia son el kebab de las 4 de l...   \n",
       "2  Bien, estoy cansado. Las Armys se la pasan dom...   \n",
       "3  @MrTacoLz @RmArturo Y seremos para siempre Dra...   \n",
       "4  @NetflixLAT Por favor dame una esperanza ... D...   \n",
       "\n",
       "                       date       user_location                   id  \\\n",
       "0 2020-01-01 23:51:26+00:00          +20 · lgbt  1212521744482865154   \n",
       "1 2020-01-01 23:47:17+00:00       Vigo, Galicia  1212520699920822272   \n",
       "2 2020-01-01 23:42:37+00:00  Somewhere I Belong  1212519527231025152   \n",
       "3 2020-01-01 23:37:28+00:00                Cdmx  1212518232394850304   \n",
       "4 2020-01-01 23:37:15+00:00                None  1212518177642549248   \n",
       "\n",
       "                                                link  \n",
       "0  https://twitter.com/i/web/status/1212521744482...  \n",
       "1  https://twitter.com/i/web/status/1212520699920...  \n",
       "2  https://twitter.com/i/web/status/1212519527231...  \n",
       "3  https://twitter.com/i/web/status/1212518232394...  \n",
       "4  https://twitter.com/i/web/status/1212518177642...  "
      ]
     },
     "execution_count": 14,
     "metadata": {},
     "output_type": "execute_result"
    }
   ],
   "source": [
    "data = pd.DataFrame(t_processed)\n",
    "data.columns = ['tweet', 'date', 'user_location', 'id', 'link']\n",
    "data.head()"
   ]
  },
  {
   "cell_type": "markdown",
   "metadata": {
    "slideshow": {
     "slide_type": "slide"
    }
   },
   "source": [
    "# ... pero, quiero datos más antiguos 🥺\n",
    "\n",
    "<br>\n",
    "<center><img src='../img/clase06/no_t.jpeg' style='height:400px; float: center; margin: 0px 15px 15px 0px'></center>"
   ]
  },
  {
   "cell_type": "markdown",
   "metadata": {
    "slideshow": {
     "slide_type": "slide"
    }
   },
   "source": [
    "# ... presentando `snscrape`\n",
    "\n",
    "<br>\n",
    "<center><img src='../img/clase06/si_t.jpeg' style='height:400px; float: center; margin: 0px 15px 15px 0px'></center>"
   ]
  },
  {
   "cell_type": "markdown",
   "metadata": {
    "slideshow": {
     "slide_type": "slide"
    }
   },
   "source": [
    "# SNScrape \n",
    "\n",
    "`pip install snscrape`\n",
    "\n",
    "- Libreria creada para hacer scraping de diferentes redes sociales (Twitter, Facebook, Instagram, VKontakte y más...)\n",
    "- En un futuro podría dejar de funcionar\n",
    "- Documentación: https://github.com/JustAnotherArchivist/snscrape"
   ]
  },
  {
   "cell_type": "code",
   "execution_count": 15,
   "metadata": {
    "slideshow": {
     "slide_type": "fragment"
    }
   },
   "outputs": [
    {
     "name": "stdout",
     "output_type": "stream",
     "text": [
      "https://twitter.com/CANmialegria/status/500066563522056192\n",
      "2014-08-14 23:48:54+00:00\n",
      "Cambiemos el HT #EraGolDeYepes, por #EraGolDeCopete. ¡Nunca hubo fuera de lugar!\n",
      "¿#LaCulpaEsDePostobon?  @PradoVerde1999 @vamosmiverdecom\n",
      "****************************************************************************************************\n",
      "\n",
      "https://twitter.com/MiguelSalcedoV/status/500065738640850944\n",
      "2014-08-14 23:45:37+00:00\n",
      "#EraGolDeYepes era gol de yepessssssssssssss #10añosduNord\n",
      "****************************************************************************************************\n",
      "\n",
      "https://twitter.com/cami_canoles/status/500064190288384000\n",
      "2014-08-14 23:39:28+00:00\n",
      "http://t.co/X3CpWL1Q3x #eragoldeyepes\n",
      "****************************************************************************************************\n",
      "\n",
      "https://twitter.com/TamayoJr11/status/500062617969643520\n",
      "2014-08-14 23:33:13+00:00\n",
      "#EraGolDeYepes http://t.co/K9Am0bxOIh\n",
      "****************************************************************************************************\n",
      "\n",
      "https://twitter.com/Edw_Chacon/status/500055868361412608\n",
      "2014-08-14 23:06:24+00:00\n",
      "JjaJja Todavia Me Acuerdo :') #EraGolDeYepes http://t.co/xFkiku07ae\n",
      "****************************************************************************************************\n",
      "\n",
      "https://twitter.com/niko14p/status/500043243581882368\n",
      "2014-08-14 22:16:14+00:00\n",
      "#EraGolDeYepes\n",
      "****************************************************************************************************\n",
      "\n",
      "https://twitter.com/SebastianTK1/status/500037065510486017\n",
      "2014-08-14 21:51:41+00:00\n",
      "#EraGolDeYepes\n",
      "****************************************************************************************************\n",
      "\n",
      "https://twitter.com/vanegiraldo196/status/500033127444930560\n",
      "2014-08-14 21:36:02+00:00\n",
      "Día 42 #EraGolDeYepes\n",
      "****************************************************************************************************\n",
      "\n",
      "https://twitter.com/DussanCristhian/status/500023139699802113\n",
      "2014-08-14 20:56:21+00:00\n",
      "Ahhhhh #yodespechado disfruto de mis amistades #PásalaJoven es mi#SituacionSentimental .y #EraGolDeYepes\n",
      "****************************************************************************************************\n",
      "\n",
      "https://twitter.com/SaraBenavides27/status/500021235234136064\n",
      "2014-08-14 20:48:47+00:00\n",
      "#EraGolDeYepes .\n",
      "****************************************************************************************************\n",
      "\n",
      "https://twitter.com/pildoradigital_/status/500011323502370816\n",
      "2014-08-14 20:09:23+00:00\n",
      "http://t.co/GGkbwNMx3w #EraGolDeYepes Ingresa y lee lo mejor del fútbol.\n",
      "****************************************************************************************************\n",
      "\n"
     ]
    }
   ],
   "source": [
    "import snscrape.modules.twitter as sntwitter\n",
    "\n",
    "maxTweets = 10  \n",
    "for i,tweet in enumerate(sntwitter.TwitterSearchScraper('#eragoldeyepes ' + 'since:2014-07-15 until:2014-08-15').get_items()) :\n",
    "        if i > maxTweets :\n",
    "            break\n",
    "        print(tweet)\n",
    "        print(tweet.date)\n",
    "        print(tweet.content)\n",
    "        print(\"*\"*100)\n",
    "        print()"
   ]
  },
  {
   "cell_type": "markdown",
   "metadata": {
    "slideshow": {
     "slide_type": "slide"
    }
   },
   "source": [
    "### 🤓 Recapitulando: Hoy aprendímos...\n",
    "\n",
    "- Twitter usando la cuenta de desarrollador\n",
    "- Redes sociales usando la libreria SNScrape"
   ]
  },
  {
   "cell_type": "markdown",
   "metadata": {
    "slideshow": {
     "slide_type": "slide"
    }
   },
   "source": [
    "<img src='../img/dragonball/6.jpeg' style='height:600px; float: left; margin: 0px 15px 15px 0px'>\n",
    "\n",
    "• **Módulo 1**: &nbsp;&nbsp;&nbsp;&nbsp; Introducción ✅ <br>\n",
    "• **Módulo 2**: &nbsp;&nbsp;&nbsp;&nbsp; Configuración de ambiente de desarrollo ✅ <br>\n",
    "• **Módulo 3**: &nbsp;&nbsp;&nbsp;&nbsp; Repaso de Python ✅ <br>\n",
    "• **Módulo 4**: &nbsp;&nbsp;&nbsp;&nbsp; Panorama general del Aprendizaje Automático (Machine Learning) ✅ <br>\n",
    "• **Módulo 5**: &nbsp;&nbsp;&nbsp;&nbsp; ¿Cómo adquirir datos? ✅ <br>\n",
    "• **Módulo 6**: &nbsp;&nbsp;&nbsp;&nbsp; Cuenta de desarrollador de Twitter ✅ <br>"
   ]
  }
 ],
 "metadata": {
  "celltoolbar": "Slideshow",
  "kernelspec": {
   "display_name": "Python 3 (ipykernel)",
   "language": "python",
   "name": "python3"
  },
  "language_info": {
   "codemirror_mode": {
    "name": "ipython",
    "version": 3
   },
   "file_extension": ".py",
   "mimetype": "text/x-python",
   "name": "python",
   "nbconvert_exporter": "python",
   "pygments_lexer": "ipython3",
   "version": "3.9.13"
  }
 },
 "nbformat": 4,
 "nbformat_minor": 2
}
