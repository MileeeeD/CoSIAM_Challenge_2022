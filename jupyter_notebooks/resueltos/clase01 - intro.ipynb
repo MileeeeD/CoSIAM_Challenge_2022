{
 "cells": [
  {
   "cell_type": "markdown",
   "id": "bfe6e7f7",
   "metadata": {
    "slideshow": {
     "slide_type": "slide"
    }
   },
   "source": [
    "# Introducción a la ciencia de datos a través del procesamiento de lenguaje natural \n",
    "\n",
    "<br>\n",
    "<br>\n",
    "<br>\n",
    "\n",
    "<img src='../img/logo_cosiam/LogoCoSIAM_COL.png' style='height:230px; float: left; margin: 0px 15px 15px 0px'>\n",
    "\n",
    "#### CoSIAM Curso Corto\n",
    "Viviana Márquez,  M.Sc.<br>\n",
    "Octubre 2022"
   ]
  },
  {
   "cell_type": "markdown",
   "id": "71d696d5",
   "metadata": {
    "slideshow": {
     "slide_type": "slide"
    }
   },
   "source": [
    "### Presentación\n",
    "<br>\n",
    "<img src='../img/fotos/VivianaM_Manhattan.jpg' style='height:550px; float: left; margin: 0px 30px 15px 0px'>\n",
    "\n",
    "👋 ¡Hola! Soy Viviana Márquez\n",
    "<br><small>Contacto: www.VivianaMarquez.com</small>\n",
    "\n",
    "🎓 MSc. Ciencia de Datos - *Universidad de San Francisco*<br>\n",
    "🎓 BSc. Matemáticas - *Fundación  Universitaria Konrad Lorenz*<br>\n",
    "🎓 Técnica en Producción de Medios Audiovisuales<br>\n",
    "\n",
    "**Actualmente**: <br>\n",
    "Científica de Datos para Dataminr <br>\n",
    "<small>📍 Manhattan, New York</small><br>\n",
    "<small>*Antes*: HBO, Royal Caribbean Cruises, Zimmerman Advertising, TruSTAR Technology.</small><br>"
   ]
  },
  {
   "cell_type": "markdown",
   "id": "57cbb280",
   "metadata": {
    "slideshow": {
     "slide_type": "slide"
    }
   },
   "source": [
    "### Contenido\n",
    "\n",
    "• **Módulo 1**: &nbsp;&nbsp;&nbsp;&nbsp; Introducción <br>\n",
    "• **Módulo 2**: &nbsp;&nbsp;&nbsp;&nbsp; Configuración de ambiente de desarrollo <br>\n",
    "• **Módulo 3**: &nbsp;&nbsp;&nbsp;&nbsp; Repaso de Python <br>\n",
    "• **Módulo 4**: &nbsp;&nbsp;&nbsp;&nbsp; Panorama general del Aprendizaje Automático (Machine Learning) <br>\n",
    "• **Módulo 5**: &nbsp;&nbsp;&nbsp;&nbsp; ¿Cómo adquirir datos? <br>\n",
    "• **Módulo 6**: &nbsp;&nbsp;&nbsp;&nbsp; Cuenta de desarrollador de Twitter <br>\n",
    "• **Módulo 7**: &nbsp;&nbsp;&nbsp;&nbsp; Web Scraping <br>\n",
    "• **Módulo 8**: &nbsp;&nbsp;&nbsp;&nbsp; De palabras a vectores <br>\n",
    "• **Módulo 9**: &nbsp;&nbsp;&nbsp;&nbsp; Modelos de Machine Learning <br>\n",
    "• **Módulo 10**: &nbsp; Visualizaciones <br>\n",
    "• **Módulo 11**: &nbsp; Introducción a redes neuronales & Hugging Face <br>"
   ]
  },
  {
   "cell_type": "markdown",
   "id": "ac3b37c1",
   "metadata": {
    "slideshow": {
     "slide_type": "slide"
    }
   },
   "source": [
    "<center><img src='../img/logo_cosiam/LogoCoSIAM_COL.png' style='height:230px;  margin: 0px 15px 15px 0px'></center>\n",
    "\n",
    "# Módulo 1: Introducción\n",
    "¿Qué es la ciencia de datos?\n",
    "¿Qué es el procesamiento de lenguaje natural?\n"
   ]
  },
  {
   "cell_type": "markdown",
   "id": "31a8d685",
   "metadata": {
    "slideshow": {
     "slide_type": "slide"
    }
   },
   "source": [
    "# 🤔 ¿Qué hace un científico de datos?"
   ]
  },
  {
   "cell_type": "markdown",
   "id": "a218977c",
   "metadata": {
    "slideshow": {
     "slide_type": "fragment"
    }
   },
   "source": [
    "<img src='../img/clase01/meme1.jpeg' style='height:750px; float: left; margin: 0px 15px 15px 0px'> \n",
    "\n",
    "• Respuesta fácil: TODO. \n",
    "    \n",
    "• Respuesta larga: Depende del trabajo.\n",
    "\n",
    "<br>\n",
    "<hr>\n",
    "\n",
    "<center>🏆 Fórmula Ganadora:</center><br>\n",
    "\n",
    "<center><b>Matemáticas + Programación + Comunicación + Conocimiento del Tema</b></center>\n",
    "\n",
    "<hr>"
   ]
  },
  {
   "cell_type": "markdown",
   "id": "3d74c2a0",
   "metadata": {
    "slideshow": {
     "slide_type": "slide"
    }
   },
   "source": [
    "# 🤔 ¿Qué hace un científico de datos?\n",
    "\n",
    "<br>\n",
    "\n",
    "### Ejemplo: https://tweetfeed.live/\n",
    "\n",
    "### Ejemplo: https://twitter.com/nyt_first_said\n",
    "\n"
   ]
  },
  {
   "cell_type": "markdown",
   "id": "ae35a829",
   "metadata": {
    "slideshow": {
     "slide_type": "slide"
    }
   },
   "source": [
    "# 🤔 ¿Qué hace un científico de datos?\n",
    "\n",
    "<br>\n",
    "\n",
    "#### 🏆 Fórmula Ganadora:\n",
    "\n",
    "<br>\n",
    "\n",
    "✅ Matemáticas (Estadística, Álgebra Lineal, Cálculo, etc.)\n",
    "\n",
    "\n",
    "✅ Programación (Python/R/SQL, Desarrollo Web, Bases de Datos, Machine Learning, Inteligencia Artificial, etc.)\n",
    "\n",
    "\n",
    "✅ Comunicación (Crear visualizaciones, reportes, escribir, etc.)\n",
    "\n",
    "\n",
    "✅ Conocimiento del tema (Depende de la industria)"
   ]
  },
  {
   "cell_type": "markdown",
   "id": "41afd1a7",
   "metadata": {
    "slideshow": {
     "slide_type": "slide"
    }
   },
   "source": [
    "# Artificial Intelligence, Machine Learning, Deep Learning... ¿Cuál es la diferencia? \n",
    "\n",
    "<br>\n",
    "<center><img src='../img/clase01/meme2.png' style='height:600px;'> </centeR>\n"
   ]
  },
  {
   "cell_type": "markdown",
   "id": "f4c278f3",
   "metadata": {
    "slideshow": {
     "slide_type": "slide"
    }
   },
   "source": [
    "# Artificial Intelligence, Machine Learning, Deep Learning... ¿Cuál es la diferencia? \n",
    "\n",
    "<br>\n",
    "<center><img src='../img/clase01/ai_ml_dl.png' style='height:600px;'> </centeR>\n"
   ]
  },
  {
   "cell_type": "markdown",
   "id": "6e18da2a",
   "metadata": {
    "slideshow": {
     "slide_type": "notes"
    }
   },
   "source": [
    "Machine Learning es una rama de la Inteligencia Artificial, la cual se encarga de programar a las máquinas (computadores) para que piensen y aprendan. Por el otro lado, Deep Learning es una rama de Machine Learning que busca imitar el funcionamiento de las redes neuronales de los seres humanos para que las máquinas aprendan a aprender, valga redundancia."
   ]
  },
  {
   "cell_type": "markdown",
   "id": "058f9db0",
   "metadata": {
    "slideshow": {
     "slide_type": "slide"
    }
   },
   "source": [
    "# 🤖 Machine Learning\n",
    "<br>\n",
    "\n",
    "<center><img src='../img/clase01/ml.png' style='height:80px'></center>\n",
    "\n",
    "El Machine Learning (aprendizaje automático) se encarga de <u>representar</u> la estructura y <u>generalizar</u> comportamientos de un conjunto de datos a través de un <b>modelo</b>."
   ]
  },
  {
   "cell_type": "markdown",
   "id": "e054fe61",
   "metadata": {
    "slideshow": {
     "slide_type": "fragment"
    }
   },
   "source": [
    "💡 <u>Representar</u>: Extraer la estructura de un conjunto de datos.\n",
    "\n",
    "\n",
    "💡 <u>Generalizar</u>: Hacer predicciones a partir de un conjunto de datos."
   ]
  },
  {
   "cell_type": "markdown",
   "id": "5f5c78c1",
   "metadata": {
    "slideshow": {
     "slide_type": "slide"
    }
   },
   "source": [
    "# 🌳 Así como las matemáticas tienen diferentes áreas, la inteligencia artificial también \n",
    "\n",
    "<br>\n",
    "<center><img src=\"../img/clase01/ai2.png\" style='height:500px;'></center>"
   ]
  },
  {
   "cell_type": "markdown",
   "id": "c561b8fa",
   "metadata": {
    "slideshow": {
     "slide_type": "slide"
    }
   },
   "source": [
    "# Procesamiento de Lenguaje Natural (NLP)\n",
    "\n",
    "<br>\n",
    "<center><img src=\"../img/clase01/nlp.png\" style='height:400px;'></center>\n",
    "\n",
    "- Es el área de las ciencias de la computación (inteligencia artificial) que se encarga de tratar con los lenguajes humanos y derivar información valiosa de ellos.\n",
    "\n",
    "- Existen docenas de métodos y estrategias para resolver un problema dado."
   ]
  },
  {
   "cell_type": "markdown",
   "id": "5bdd807f",
   "metadata": {
    "slideshow": {
     "slide_type": "slide"
    }
   },
   "source": [
    "# 🤔 ¿Para qué aprender NLP?"
   ]
  },
  {
   "cell_type": "markdown",
   "id": "de49653b",
   "metadata": {
    "slideshow": {
     "slide_type": "slide"
    }
   },
   "source": [
    "### ¿Cómo le hablamos a Siri? ¿Siri habla español?\n",
    "\n",
    "<center><br>\n",
    "<img src='../img/clase01/siri.jpg' style='height:350px;'>"
   ]
  },
  {
   "cell_type": "markdown",
   "id": "7ee8f676",
   "metadata": {
    "slideshow": {
     "slide_type": "fragment"
    }
   },
   "source": [
    "Nosotros NO le hablamos a los asistentes virtuales en lenguaje de programación, le hablamos en nuestro idioma natural-- el idioma en el que todos nos comunicamos. \n",
    "\n",
    "Los computadores solo pueden procesar datos binarios-- 0s y 1s.\n",
    "\n",
    "¿Cómo hacemos para que las máquinas nos entiendan? Ahí es donde el Procesamiento de Lenguaje Natural (NLP) entra en acción."
   ]
  },
  {
   "cell_type": "markdown",
   "id": "51e885ae",
   "metadata": {
    "slideshow": {
     "slide_type": "slide"
    }
   },
   "source": [
    "### Textos y Big Data\n",
    "\n",
    "<center><br>\n",
    "<img src='../img/clase01/unstructured.png' style='height:350px;'>\n",
    "</center>\n",
    "\n",
    "• Existen más de 6.500 idiomas en el mundo.\n",
    "\n",
    "• 79% de los datos producidos son no estructurados --> La gran mayoría son textos.\n",
    "\n",
    "• Se están generando millones de datos en este momento: WhatsApp, Twitter, YouTube, Reddit, etc."
   ]
  },
  {
   "cell_type": "markdown",
   "id": "4a853fea",
   "metadata": {
    "slideshow": {
     "slide_type": "slide"
    }
   },
   "source": [
    "##### NLP en el mundo real\n",
    "# Modelado de lenguaje\n",
    "\n",
    "<center><br>\n",
    "<img src='../img/clase01/task1.png' style='height:400px;'>\n",
    "</center>\n",
    "\n",
    "• Predecir una frase en base a la historia de las palabras anteriores. "
   ]
  },
  {
   "cell_type": "markdown",
   "id": "abebba1e",
   "metadata": {
    "slideshow": {
     "slide_type": "slide"
    }
   },
   "source": [
    "##### NLP en el mundo real\n",
    "# Clasificación de texto\n",
    "\n",
    "<center><br>\n",
    "<img src='../img/clase01/spam.jpg' style='height:350px;'>\n",
    "</center>\n",
    "\n",
    "• Se encarga de poner los textos en diferentes categorias basado en su contenido.\n",
    "\n",
    "• Ejemplo más famoso: Correo basura o no."
   ]
  },
  {
   "cell_type": "markdown",
   "id": "b169f5f1",
   "metadata": {
    "slideshow": {
     "slide_type": "slide"
    }
   },
   "source": [
    "##### NLP en el mundo real\n",
    "# Extracción de información\n",
    "\n",
    "<center><br>\n",
    "<img src='../img/clase01/whatsapp.jpg' style='height:400px;'>\n",
    "</center>\n",
    "\n",
    "• Como su nombre lo dice, se encarga de extraer información relevante del texto.\n",
    "\n",
    "• Ejemplos: Eventos de calendario y entidades mencionadas."
   ]
  },
  {
   "cell_type": "markdown",
   "id": "ea2ef592",
   "metadata": {
    "slideshow": {
     "slide_type": "slide"
    }
   },
   "source": [
    "##### NLP en el mundo real\n",
    "# Recuperación de información\n",
    "\n",
    "<center><br>\n",
    "<img src='../img/clase01/pregunta.png' style='height:350px;'>\n",
    "</center>\n",
    "\n",
    "• Encontrar documentos relevantes en un conjunto de datos grandes según la busqueda de un usuario. \n",
    "\n",
    "• Relacionado con los resumenes de texto."
   ]
  },
  {
   "cell_type": "markdown",
   "id": "b01eb8c4",
   "metadata": {
    "slideshow": {
     "slide_type": "slide"
    }
   },
   "source": [
    "##### NLP en el mundo real\n",
    "# Chatbots\n",
    "\n",
    "<center><br>\n",
    "<img src='../img/clase01/chatbot.png' style='height:400px;'>\n",
    "</center>\n",
    "\n",
    "• Sistemas que pueden responder preguntas automáticamente. "
   ]
  },
  {
   "cell_type": "markdown",
   "id": "f2e5d7fd",
   "metadata": {
    "slideshow": {
     "slide_type": "slide"
    }
   },
   "source": [
    "##### NLP en el mundo real\n",
    "# Traducción\n",
    "\n",
    "<center><br>\n",
    "<img src='../img/clase01/deepl.png' style='height:400px;'>\n",
    "</center>"
   ]
  },
  {
   "cell_type": "markdown",
   "id": "773f4ce0",
   "metadata": {
    "slideshow": {
     "slide_type": "slide"
    }
   },
   "source": [
    "##### NLP en el mundo real\n",
    "# Monitoreo de redes sociales\n",
    "\n",
    "<center><br>\n",
    "<img src='../img/clase01/adele.png' style='height:350px;'>\n",
    "</center>\n",
    "\n",
    "• Las empresas quieren entender a sus clientes (campañas de mercadeo específicas)\n",
    "\n",
    "• Tomar ventaja de la retroalimentación explícita e implícita de sus clientes."
   ]
  },
  {
   "cell_type": "markdown",
   "id": "4f39c174",
   "metadata": {
    "slideshow": {
     "slide_type": "slide"
    }
   },
   "source": [
    "##### NLP en el mundo real\n"
   ]
  },
  {
   "cell_type": "markdown",
   "id": "52664f49",
   "metadata": {
    "slideshow": {
     "slide_type": "fragment"
    }
   },
   "source": [
    "# Todos los días surgen problemas únicos.\n"
   ]
  },
  {
   "cell_type": "markdown",
   "id": "b17a9ac5",
   "metadata": {
    "slideshow": {
     "slide_type": "fragment"
    }
   },
   "source": [
    "Análisis de emojis: \n",
    " - [Instagram](https://instagram-engineering.com/emojineering-part-1-machine-learning-for-emoji-trendsmachine-learning-for-emoji-trends-7f5f9cb979ad)"
   ]
  },
  {
   "cell_type": "markdown",
   "id": "f6c96deb",
   "metadata": {
    "slideshow": {
     "slide_type": "slide"
    }
   },
   "source": [
    "# 😫 🤯 ¿Por qué es NLP difícil?\n"
   ]
  },
  {
   "cell_type": "markdown",
   "id": "579f8c9e",
   "metadata": {
    "slideshow": {
     "slide_type": "slide"
    }
   },
   "source": [
    "<center><img src='../img/clase01/chicken.jpg'>\n",
    "<center>    \n",
    "    <big>El pollo está listo para comer</big>\n",
    "</center>"
   ]
  },
  {
   "cell_type": "markdown",
   "id": "ebee4b62",
   "metadata": {
    "slideshow": {
     "slide_type": "notes"
    }
   },
   "source": [
    "¿El pollo está listo para ser comido o está listo para que le den de comer?"
   ]
  },
  {
   "cell_type": "markdown",
   "id": "94332d55",
   "metadata": {
    "slideshow": {
     "slide_type": "fragment"
    }
   },
   "source": [
    "### Ambigüedad"
   ]
  },
  {
   "cell_type": "markdown",
   "id": "df6e146d",
   "metadata": {
    "slideshow": {
     "slide_type": "slide"
    }
   },
   "source": [
    "<center><img src='../img/clase01/perro.jpg' style='height:350px;'>\n",
    "<center>    \n",
    "    <big>\"El perro mordió al hombre\" vs \"El hombre mordió al perro\"</big>\n",
    "</center>"
   ]
  },
  {
   "cell_type": "markdown",
   "id": "af6f7024",
   "metadata": {
    "slideshow": {
     "slide_type": "fragment"
    }
   },
   "source": [
    "### Conocimiento popular"
   ]
  },
  {
   "cell_type": "markdown",
   "id": "1d5e2e0f",
   "metadata": {
    "slideshow": {
     "slide_type": "slide"
    }
   },
   "source": [
    "<center><img src='../img/clase01/estrenar.jpeg'>\n",
    "<center>    \n",
    "    <big>¿Cómo se dice \"estrenar\" en inglés?</big>\n",
    "</center>"
   ]
  },
  {
   "cell_type": "markdown",
   "id": "5a9cecff",
   "metadata": {
    "slideshow": {
     "slide_type": "fragment"
    }
   },
   "source": [
    "### Diversidad en los idiomas"
   ]
  },
  {
   "cell_type": "markdown",
   "id": "e4a9ab09",
   "metadata": {
    "slideshow": {
     "slide_type": "notes"
    }
   },
   "source": [
    "Empalagarse, consuegro, antier, te quiero..."
   ]
  },
  {
   "cell_type": "markdown",
   "id": "3c79b4be",
   "metadata": {
    "slideshow": {
     "slide_type": "slide"
    }
   },
   "source": [
    "<center><img src='../img/clase01/meme_sarcasmo.jpeg'>"
   ]
  },
  {
   "cell_type": "markdown",
   "id": "7a86a055",
   "metadata": {
    "slideshow": {
     "slide_type": "fragment"
    }
   },
   "source": [
    "### Sarcasmo"
   ]
  },
  {
   "cell_type": "markdown",
   "id": "2e2c7b64",
   "metadata": {
    "slideshow": {
     "slide_type": "slide"
    }
   },
   "source": [
    "### 🤓 Recapitulando: Hoy aprendímos...\n",
    "- ¿Qué hace un científico de datos?\n",
    "- AI vs Machine Learning vs Deep Learning\n",
    "- ¿Qué es el Procesamiento de Lenguaje Natural?"
   ]
  },
  {
   "cell_type": "markdown",
   "id": "8c9215fd",
   "metadata": {
    "slideshow": {
     "slide_type": "slide"
    }
   },
   "source": [
    "<img src='../img/dragonball/1.jpeg' style='height:600px; float: left; margin: 0px 15px 15px 0px'>\n",
    "\n",
    "• **Módulo 1**: &nbsp;&nbsp;&nbsp;&nbsp; Introducción ✅ <br>"
   ]
  }
 ],
 "metadata": {
  "celltoolbar": "Slideshow",
  "kernelspec": {
   "display_name": "Python 3 (ipykernel)",
   "language": "python",
   "name": "python3"
  },
  "language_info": {
   "codemirror_mode": {
    "name": "ipython",
    "version": 3
   },
   "file_extension": ".py",
   "mimetype": "text/x-python",
   "name": "python",
   "nbconvert_exporter": "python",
   "pygments_lexer": "ipython3",
   "version": "3.9.13"
  }
 },
 "nbformat": 4,
 "nbformat_minor": 5
}
