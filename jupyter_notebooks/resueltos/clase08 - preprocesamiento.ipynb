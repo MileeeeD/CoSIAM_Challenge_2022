{
 "cells": [
  {
   "cell_type": "markdown",
   "metadata": {
    "slideshow": {
     "slide_type": "slide"
    }
   },
   "source": [
    "<center><img src='../img/logo_cosiam/LogoCoSIAM_COL.png' style='height:230px;  margin: 0px 15px 15px 0px'></center>\n",
    "\n",
    "# Módulo 8 (Parte 1): De palabras a vectores\n",
    "\n",
    "- Pre-procesamiento de texto\n"
   ]
  },
  {
   "cell_type": "markdown",
   "metadata": {
    "slideshow": {
     "slide_type": "slide"
    }
   },
   "source": [
    "# En capítulos anteriores...\n",
    "\n",
    "<br>\n",
    "<center><img src='../img/pipeline/pipeline1b.png' style='height:600px;'> </centeR>\n"
   ]
  },
  {
   "cell_type": "markdown",
   "metadata": {
    "slideshow": {
     "slide_type": "slide"
    }
   },
   "source": [
    "# Hoy\n",
    "\n",
    "<br>\n",
    "<center><img src='../img/pipeline/pipeline2.png' style='height:600px;'> </center>\n"
   ]
  },
  {
   "cell_type": "markdown",
   "metadata": {
    "slideshow": {
     "slide_type": "slide"
    }
   },
   "source": [
    "### 🚀 Hoy veremos...\n",
    "\n",
    "- Limpieza de texto\n",
    "    - Métodos básicos útiles de Python\n",
    "    - RegEx\n",
    "    - Funciones utiles para Twitter\n",
    "    - Emojis\n",
    "\n",
    "- Herramientas específicas de pre-procesamiento de texto en NLP\n",
    "    - Palabras vacías\n",
    "    - Tokenización\n",
    "    - Stemming\n",
    "    - Lematización\n",
    "    - Etiquetado gramatical"
   ]
  },
  {
   "cell_type": "markdown",
   "metadata": {
    "slideshow": {
     "slide_type": "slide"
    }
   },
   "source": [
    "# Limpieza de texto\n",
    "\n",
    "<br>\n",
    "<center><img src='../img/clase08/bob.jpg' style='height:400px;'> </centeR>"
   ]
  },
  {
   "cell_type": "markdown",
   "metadata": {
    "slideshow": {
     "slide_type": "slide"
    }
   },
   "source": [
    "### Métodos básicos útiles de Python"
   ]
  },
  {
   "cell_type": "code",
   "execution_count": 1,
   "metadata": {
    "slideshow": {
     "slide_type": "fragment"
    }
   },
   "outputs": [],
   "source": [
    "texto = \"Existen sólo dos #países donde no se puede comprar la #CocaCola\""
   ]
  },
  {
   "cell_type": "code",
   "execution_count": 2,
   "metadata": {
    "slideshow": {
     "slide_type": "fragment"
    }
   },
   "outputs": [
    {
     "data": {
      "text/plain": [
       "'EXISTEN SÓLO DOS #PAÍSES DONDE NO SE PUEDE COMPRAR LA #COCACOLA'"
      ]
     },
     "execution_count": 2,
     "metadata": {},
     "output_type": "execute_result"
    }
   ],
   "source": [
    "texto.upper()"
   ]
  },
  {
   "cell_type": "code",
   "execution_count": 3,
   "metadata": {
    "slideshow": {
     "slide_type": "fragment"
    }
   },
   "outputs": [
    {
     "data": {
      "text/plain": [
       "True"
      ]
     },
     "execution_count": 3,
     "metadata": {},
     "output_type": "execute_result"
    }
   ],
   "source": [
    "texto.startswith(\"E\")"
   ]
  },
  {
   "cell_type": "code",
   "execution_count": 4,
   "metadata": {
    "slideshow": {
     "slide_type": "slide"
    }
   },
   "outputs": [
    {
     "data": {
      "text/plain": [
       "['Existen',\n",
       " 'sólo',\n",
       " 'dos',\n",
       " '#países',\n",
       " 'donde',\n",
       " 'no',\n",
       " 'se',\n",
       " 'puede',\n",
       " 'comprar',\n",
       " 'la',\n",
       " '#CocaCola']"
      ]
     },
     "execution_count": 4,
     "metadata": {},
     "output_type": "execute_result"
    }
   ],
   "source": [
    "texto.split()"
   ]
  },
  {
   "cell_type": "code",
   "execution_count": 5,
   "metadata": {
    "slideshow": {
     "slide_type": "fragment"
    }
   },
   "outputs": [
    {
     "name": "stdout",
     "output_type": "stream",
     "text": [
      "#países\n",
      "#CocaCola\n"
     ]
    }
   ],
   "source": [
    "for palabra in texto.split():\n",
    "    if palabra.startswith(\"#\"):\n",
    "        print(palabra)"
   ]
  },
  {
   "cell_type": "markdown",
   "metadata": {
    "slideshow": {
     "slide_type": "slide"
    }
   },
   "source": [
    "### RegEx: Expresión Regular\n",
    "\n",
    "<center><img src='../img/clase08/regex.jpg' style='height:100px;'></center>\n",
    "\n",
    "- Búsqueda de patrones\n",
    "- Cheat sheet: https://cheatography.com/davechild/cheat-sheets/regular-expressions/\n",
    "- Herramienta útil: https://www.autoregex.xyz/"
   ]
  },
  {
   "cell_type": "code",
   "execution_count": 6,
   "metadata": {
    "slideshow": {
     "slide_type": "slide"
    }
   },
   "outputs": [
    {
     "name": "stdout",
     "output_type": "stream",
     "text": [
      "¡Hola! ¿Cómo estás? Mi número es 777 777 8888, el de mi hermano es 999-666-6666 y el de mi hermana es (444) 000-2222\n"
     ]
    }
   ],
   "source": [
    "import re\n",
    "\n",
    "texto = \"¡Hola! ¿Cómo estás? Mi número es 777 777 8888, el de mi hermano es 999-666-6666 y el de mi hermana es (444) 000-2222\"\n",
    "print(texto)"
   ]
  },
  {
   "cell_type": "code",
   "execution_count": 7,
   "metadata": {
    "slideshow": {
     "slide_type": "fragment"
    }
   },
   "outputs": [
    {
     "data": {
      "text/plain": [
       "False"
      ]
     },
     "execution_count": 7,
     "metadata": {},
     "output_type": "execute_result"
    }
   ],
   "source": [
    "\"XXX-XXX-XXXX\" in texto"
   ]
  },
  {
   "cell_type": "code",
   "execution_count": 8,
   "metadata": {
    "slideshow": {
     "slide_type": "fragment"
    }
   },
   "outputs": [],
   "source": [
    "patron = \"XXX-XXX-XXXX\"\n",
    "re.search(patron, texto)"
   ]
  },
  {
   "cell_type": "code",
   "execution_count": 9,
   "metadata": {
    "slideshow": {
     "slide_type": "fragment"
    }
   },
   "outputs": [
    {
     "data": {
      "text/plain": [
       "['777 777 8888', '999-666-6666', '(444) 000-2222']"
      ]
     },
     "execution_count": 9,
     "metadata": {},
     "output_type": "execute_result"
    }
   ],
   "source": [
    "patron = r'\\(?\\d{3}\\)?-?\\s?\\d{3}-?\\s?\\d{4}'\n",
    "\n",
    "re.findall(patron, texto)"
   ]
  },
  {
   "cell_type": "code",
   "execution_count": 10,
   "metadata": {
    "slideshow": {
     "slide_type": "fragment"
    }
   },
   "outputs": [
    {
     "data": {
      "text/plain": [
       "'¡Hola! ¿Cómo estás? Mi número es *NÚMERO*, el de mi hermano es *NÚMERO* y el de mi hermana es *NÚMERO*'"
      ]
     },
     "execution_count": 10,
     "metadata": {},
     "output_type": "execute_result"
    }
   ],
   "source": [
    "re.sub(patron, \"*NÚMERO*\", texto)"
   ]
  },
  {
   "cell_type": "markdown",
   "metadata": {
    "slideshow": {
     "slide_type": "slide"
    }
   },
   "source": [
    "#### ¿Cómo es la de un email?"
   ]
  },
  {
   "cell_type": "markdown",
   "metadata": {
    "slideshow": {
     "slide_type": "fragment"
    }
   },
   "source": [
    "```\n",
    "(?:[a-z0-9!#$%&'*+/=?^_`{|}~-]+(?:\\.[a-z0-9!#$%&'*+/=?^_`{|}~-]+)*|\"(?:[\\x01-\\x08\\x0b\\x0c\\x0e-\\x1f\\x21\\x23-\\x5b\\x5d-\\x7f]|\\\\[\\x01-\\x09\\x0b\\x0c\\x0e-\\x7f])*\")@(?:(?:[a-z0-9](?:[a-z0-9-]*[a-z0-9])?\\.)+[a-z0-9](?:[a-z0-9-]*[a-z0-9])?|\\[(?:(?:25[0-5]|2[0-4][0-9]|[01]?[0-9][0-9]?)\\.){3}(?:25[0-5]|2[0-4][0-9]|[01]?[0-9][0-9]?|[a-z0-9-]*[a-z0-9]:(?:[\\x01-\\x08\\x0b\\x0c\\x0e-\\x1f\\x21-\\x5a\\x53-\\x7f]|\\\\[\\x01-\\x09\\x0b\\x0c\\x0e-\\x7f])+)\\])\n",
    "```"
   ]
  },
  {
   "cell_type": "markdown",
   "metadata": {
    "slideshow": {
     "slide_type": "slide"
    }
   },
   "source": [
    "### Funciones para Twitter"
   ]
  },
  {
   "cell_type": "code",
   "execution_count": 11,
   "metadata": {
    "slideshow": {
     "slide_type": "fragment"
    }
   },
   "outputs": [
    {
     "data": {
      "text/html": [
       "<div>\n",
       "<style scoped>\n",
       "    .dataframe tbody tr th:only-of-type {\n",
       "        vertical-align: middle;\n",
       "    }\n",
       "\n",
       "    .dataframe tbody tr th {\n",
       "        vertical-align: top;\n",
       "    }\n",
       "\n",
       "    .dataframe thead th {\n",
       "        text-align: right;\n",
       "    }\n",
       "</style>\n",
       "<table border=\"1\" class=\"dataframe\">\n",
       "  <thead>\n",
       "    <tr style=\"text-align: right;\">\n",
       "      <th></th>\n",
       "      <th>tweet</th>\n",
       "      <th>date</th>\n",
       "      <th>user_location</th>\n",
       "      <th>id</th>\n",
       "      <th>link</th>\n",
       "    </tr>\n",
       "  </thead>\n",
       "  <tbody>\n",
       "    <tr>\n",
       "      <th>0</th>\n",
       "      <td>Acaba de publicar una foto en Sincelejo, Sucre...</td>\n",
       "      <td>2022-10-08 21:12:31+00:00</td>\n",
       "      <td>Periodista</td>\n",
       "      <td>1578855883882123264</td>\n",
       "      <td>https://twitter.com/i/web/status/1578855883882...</td>\n",
       "    </tr>\n",
       "    <tr>\n",
       "      <th>1</th>\n",
       "      <td>CEREVIDI FUE ESCUCHADO.\\n\\nel centro de rehabi...</td>\n",
       "      <td>2022-10-08 20:53:40+00:00</td>\n",
       "      <td>Montería, Colombia📍</td>\n",
       "      <td>1578851140057575424</td>\n",
       "      <td>https://twitter.com/i/web/status/1578851140057...</td>\n",
       "    </tr>\n",
       "    <tr>\n",
       "      <th>2</th>\n",
       "      <td>Tú me puedes gustar mucho pero yo pa' Sincelej...</td>\n",
       "      <td>2022-10-08 20:14:01+00:00</td>\n",
       "      <td>Mompós, Colombia</td>\n",
       "      <td>1578841165478055937</td>\n",
       "      <td>https://twitter.com/i/web/status/1578841165478...</td>\n",
       "    </tr>\n",
       "    <tr>\n",
       "      <th>3</th>\n",
       "      <td>Acabo de ver Veolia continua trabajos de repar...</td>\n",
       "      <td>2022-10-08 19:35:34+00:00</td>\n",
       "      <td>Sincelejo, Colombia</td>\n",
       "      <td>1578831485578059776</td>\n",
       "      <td>https://twitter.com/i/web/status/1578831485578...</td>\n",
       "    </tr>\n",
       "    <tr>\n",
       "      <th>4</th>\n",
       "      <td>Continúan los trabajos de reparación total de ...</td>\n",
       "      <td>2022-10-08 19:11:15+00:00</td>\n",
       "      <td>Sincelejo- Sucre</td>\n",
       "      <td>1578825365807845376</td>\n",
       "      <td>https://twitter.com/i/web/status/1578825365807...</td>\n",
       "    </tr>\n",
       "  </tbody>\n",
       "</table>\n",
       "</div>"
      ],
      "text/plain": [
       "                                               tweet  \\\n",
       "0  Acaba de publicar una foto en Sincelejo, Sucre...   \n",
       "1  CEREVIDI FUE ESCUCHADO.\\n\\nel centro de rehabi...   \n",
       "2  Tú me puedes gustar mucho pero yo pa' Sincelej...   \n",
       "3  Acabo de ver Veolia continua trabajos de repar...   \n",
       "4  Continúan los trabajos de reparación total de ...   \n",
       "\n",
       "                        date        user_location                   id  \\\n",
       "0  2022-10-08 21:12:31+00:00           Periodista  1578855883882123264   \n",
       "1  2022-10-08 20:53:40+00:00  Montería, Colombia📍  1578851140057575424   \n",
       "2  2022-10-08 20:14:01+00:00     Mompós, Colombia  1578841165478055937   \n",
       "3  2022-10-08 19:35:34+00:00  Sincelejo, Colombia  1578831485578059776   \n",
       "4  2022-10-08 19:11:15+00:00     Sincelejo- Sucre  1578825365807845376   \n",
       "\n",
       "                                                link  \n",
       "0  https://twitter.com/i/web/status/1578855883882...  \n",
       "1  https://twitter.com/i/web/status/1578851140057...  \n",
       "2  https://twitter.com/i/web/status/1578841165478...  \n",
       "3  https://twitter.com/i/web/status/1578831485578...  \n",
       "4  https://twitter.com/i/web/status/1578825365807...  "
      ]
     },
     "execution_count": 11,
     "metadata": {},
     "output_type": "execute_result"
    }
   ],
   "source": [
    "import pandas as pd\n",
    "\n",
    "df = pd.read_csv(\"../archivos/sincelejo.csv\")\n",
    "df.head()"
   ]
  },
  {
   "cell_type": "markdown",
   "metadata": {
    "slideshow": {
     "slide_type": "slide"
    }
   },
   "source": [
    "Función útil que les comparto"
   ]
  },
  {
   "cell_type": "code",
   "execution_count": 12,
   "metadata": {
    "slideshow": {
     "slide_type": "fragment"
    }
   },
   "outputs": [],
   "source": [
    "import re\n",
    "\n",
    "pattern1 = '?P<pic>pic.twitter.com/[^\\s]+'\n",
    "pattern2 = '?P<url>https?://[^\\s]+'\n",
    "\n",
    "def text_clean(row):\n",
    "    text = row['tweet']\n",
    "    \n",
    "    links = [tuple(j for j in i if j)[-1] for i in re.findall(f\"({pattern1})|({pattern2})\",text)]\n",
    "    for link in links:\n",
    "        text = text.replace(link,\"\")\n",
    "             \n",
    "    hashtags = [interaction for interaction in text.split() if interaction.startswith(\"#\")]\n",
    "    for hashtag in hashtags:\n",
    "        text = text.replace(hashtag,\"\")\n",
    "        \n",
    "    mentions = [interaction for interaction in text.split() if interaction.startswith(\"@\")]\n",
    "    for mention in mentions:\n",
    "        text = text.replace(mention,\"\")\n",
    "        \n",
    "    return text, links, hashtags, mentions"
   ]
  },
  {
   "cell_type": "code",
   "execution_count": 13,
   "metadata": {
    "slideshow": {
     "slide_type": "slide"
    }
   },
   "outputs": [
    {
     "data": {
      "text/html": [
       "<div>\n",
       "<style scoped>\n",
       "    .dataframe tbody tr th:only-of-type {\n",
       "        vertical-align: middle;\n",
       "    }\n",
       "\n",
       "    .dataframe tbody tr th {\n",
       "        vertical-align: top;\n",
       "    }\n",
       "\n",
       "    .dataframe thead th {\n",
       "        text-align: right;\n",
       "    }\n",
       "</style>\n",
       "<table border=\"1\" class=\"dataframe\">\n",
       "  <thead>\n",
       "    <tr style=\"text-align: right;\">\n",
       "      <th></th>\n",
       "      <th>tweet</th>\n",
       "      <th>date</th>\n",
       "      <th>user_location</th>\n",
       "      <th>id</th>\n",
       "      <th>link</th>\n",
       "      <th>clean</th>\n",
       "      <th>links</th>\n",
       "      <th>hashtags</th>\n",
       "      <th>mentions</th>\n",
       "    </tr>\n",
       "  </thead>\n",
       "  <tbody>\n",
       "    <tr>\n",
       "      <th>0</th>\n",
       "      <td>Acaba de publicar una foto en Sincelejo, Sucre...</td>\n",
       "      <td>2022-10-08 21:12:31+00:00</td>\n",
       "      <td>Periodista</td>\n",
       "      <td>1578855883882123264</td>\n",
       "      <td>https://twitter.com/i/web/status/1578855883882...</td>\n",
       "      <td>Acaba de publicar una foto en Sincelejo, Sucre</td>\n",
       "      <td>[https://t.co/NXtmvBHF4E]</td>\n",
       "      <td>[]</td>\n",
       "      <td>[]</td>\n",
       "    </tr>\n",
       "    <tr>\n",
       "      <th>1</th>\n",
       "      <td>CEREVIDI FUE ESCUCHADO.\\n\\nel centro de rehabi...</td>\n",
       "      <td>2022-10-08 20:53:40+00:00</td>\n",
       "      <td>Montería, Colombia📍</td>\n",
       "      <td>1578851140057575424</td>\n",
       "      <td>https://twitter.com/i/web/status/1578851140057...</td>\n",
       "      <td>CEREVIDI FUE ESCUCHADO.\\n\\nel centro de rehabi...</td>\n",
       "      <td>[https://t.co/6Vp0VuUug6]</td>\n",
       "      <td>[]</td>\n",
       "      <td>[@ICBFColombia, @hectorolimpo,, @EstebanKle]</td>\n",
       "    </tr>\n",
       "    <tr>\n",
       "      <th>2</th>\n",
       "      <td>Tú me puedes gustar mucho pero yo pa' Sincelej...</td>\n",
       "      <td>2022-10-08 20:14:01+00:00</td>\n",
       "      <td>Mompós, Colombia</td>\n",
       "      <td>1578841165478055937</td>\n",
       "      <td>https://twitter.com/i/web/status/1578841165478...</td>\n",
       "      <td>Tú me puedes gustar mucho pero yo pa' Sincelej...</td>\n",
       "      <td>[]</td>\n",
       "      <td>[]</td>\n",
       "      <td>[]</td>\n",
       "    </tr>\n",
       "    <tr>\n",
       "      <th>3</th>\n",
       "      <td>Acabo de ver Veolia continua trabajos de repar...</td>\n",
       "      <td>2022-10-08 19:35:34+00:00</td>\n",
       "      <td>Sincelejo, Colombia</td>\n",
       "      <td>1578831485578059776</td>\n",
       "      <td>https://twitter.com/i/web/status/1578831485578...</td>\n",
       "      <td>Acabo de ver Veolia continua trabajos de repar...</td>\n",
       "      <td>[https://t.co/RTfNhOWlhy]</td>\n",
       "      <td>[]</td>\n",
       "      <td>[@franjanoticias]</td>\n",
       "    </tr>\n",
       "    <tr>\n",
       "      <th>4</th>\n",
       "      <td>Continúan los trabajos de reparación total de ...</td>\n",
       "      <td>2022-10-08 19:11:15+00:00</td>\n",
       "      <td>Sincelejo- Sucre</td>\n",
       "      <td>1578825365807845376</td>\n",
       "      <td>https://twitter.com/i/web/status/1578825365807...</td>\n",
       "      <td>Continúan los trabajos de reparación total de ...</td>\n",
       "      <td>[https://t.co/I1IUHxDgOf]</td>\n",
       "      <td>[]</td>\n",
       "      <td>[]</td>\n",
       "    </tr>\n",
       "  </tbody>\n",
       "</table>\n",
       "</div>"
      ],
      "text/plain": [
       "                                               tweet  \\\n",
       "0  Acaba de publicar una foto en Sincelejo, Sucre...   \n",
       "1  CEREVIDI FUE ESCUCHADO.\\n\\nel centro de rehabi...   \n",
       "2  Tú me puedes gustar mucho pero yo pa' Sincelej...   \n",
       "3  Acabo de ver Veolia continua trabajos de repar...   \n",
       "4  Continúan los trabajos de reparación total de ...   \n",
       "\n",
       "                        date        user_location                   id  \\\n",
       "0  2022-10-08 21:12:31+00:00           Periodista  1578855883882123264   \n",
       "1  2022-10-08 20:53:40+00:00  Montería, Colombia📍  1578851140057575424   \n",
       "2  2022-10-08 20:14:01+00:00     Mompós, Colombia  1578841165478055937   \n",
       "3  2022-10-08 19:35:34+00:00  Sincelejo, Colombia  1578831485578059776   \n",
       "4  2022-10-08 19:11:15+00:00     Sincelejo- Sucre  1578825365807845376   \n",
       "\n",
       "                                                link  \\\n",
       "0  https://twitter.com/i/web/status/1578855883882...   \n",
       "1  https://twitter.com/i/web/status/1578851140057...   \n",
       "2  https://twitter.com/i/web/status/1578841165478...   \n",
       "3  https://twitter.com/i/web/status/1578831485578...   \n",
       "4  https://twitter.com/i/web/status/1578825365807...   \n",
       "\n",
       "                                               clean  \\\n",
       "0    Acaba de publicar una foto en Sincelejo, Sucre    \n",
       "1  CEREVIDI FUE ESCUCHADO.\\n\\nel centro de rehabi...   \n",
       "2  Tú me puedes gustar mucho pero yo pa' Sincelej...   \n",
       "3  Acabo de ver Veolia continua trabajos de repar...   \n",
       "4  Continúan los trabajos de reparación total de ...   \n",
       "\n",
       "                       links hashtags  \\\n",
       "0  [https://t.co/NXtmvBHF4E]       []   \n",
       "1  [https://t.co/6Vp0VuUug6]       []   \n",
       "2                         []       []   \n",
       "3  [https://t.co/RTfNhOWlhy]       []   \n",
       "4  [https://t.co/I1IUHxDgOf]       []   \n",
       "\n",
       "                                       mentions  \n",
       "0                                            []  \n",
       "1  [@ICBFColombia, @hectorolimpo,, @EstebanKle]  \n",
       "2                                            []  \n",
       "3                             [@franjanoticias]  \n",
       "4                                            []  "
      ]
     },
     "execution_count": 13,
     "metadata": {},
     "output_type": "execute_result"
    }
   ],
   "source": [
    "df[['clean', 'links', 'hashtags', 'mentions']] = df.apply(text_clean, axis=1, result_type='expand')\n",
    "\n",
    "df.head()"
   ]
  },
  {
   "cell_type": "code",
   "execution_count": 14,
   "metadata": {
    "slideshow": {
     "slide_type": "fragment"
    }
   },
   "outputs": [
    {
     "data": {
      "text/plain": [
       "[]                                                                                                                                                                                                                                           69\n",
       "[#Sincelejo]                                                                                                                                                                                                                                  4\n",
       "[#cámaras, #seguridad, #accidente, #tránsito, #centro, #Sincelejo., #motociclista, #herido]                                                                                                                                                   2\n",
       "[#Sincelejo.]                                                                                                                                                                                                                                 1\n",
       "[#DELACOJTA, #documental, #arteencolombia, #cartagena, #barranquilla, #cartagenadeindias, #monteria, #sincelejo, #santamarta, #valledupar, #riohacha, #laguajira, #caribecolombiano, #cultura, #culturacolombiana, #culturacaribe, #arte]     1\n",
       "Name: hashtags, dtype: int64"
      ]
     },
     "execution_count": 14,
     "metadata": {},
     "output_type": "execute_result"
    }
   ],
   "source": [
    "df.hashtags.value_counts().head()"
   ]
  },
  {
   "cell_type": "markdown",
   "metadata": {
    "slideshow": {
     "slide_type": "slide"
    }
   },
   "source": [
    "Función útil que les comparto\n",
    "\n",
    "`pip install regex` `pip install emoji`"
   ]
  },
  {
   "cell_type": "code",
   "execution_count": 15,
   "metadata": {
    "slideshow": {
     "slide_type": "fragment"
    }
   },
   "outputs": [],
   "source": [
    "import regex\n",
    "import emoji\n",
    "\n",
    "def get_emojis(text):\n",
    "    emoji_list = []\n",
    "    data = regex.findall(r'\\X', text)\n",
    "    for word in data:\n",
    "        emojis = emoji.distinct_emoji_list(word)\n",
    "        emoji_list.extend(emojis)\n",
    "\n",
    "    return emoji_list"
   ]
  },
  {
   "cell_type": "code",
   "execution_count": 16,
   "metadata": {
    "slideshow": {
     "slide_type": "slide"
    }
   },
   "outputs": [
    {
     "data": {
      "text/html": [
       "<div>\n",
       "<style scoped>\n",
       "    .dataframe tbody tr th:only-of-type {\n",
       "        vertical-align: middle;\n",
       "    }\n",
       "\n",
       "    .dataframe tbody tr th {\n",
       "        vertical-align: top;\n",
       "    }\n",
       "\n",
       "    .dataframe thead th {\n",
       "        text-align: right;\n",
       "    }\n",
       "</style>\n",
       "<table border=\"1\" class=\"dataframe\">\n",
       "  <thead>\n",
       "    <tr style=\"text-align: right;\">\n",
       "      <th></th>\n",
       "      <th>emojis</th>\n",
       "      <th>tweet</th>\n",
       "    </tr>\n",
       "  </thead>\n",
       "  <tbody>\n",
       "    <tr>\n",
       "      <th>1</th>\n",
       "      <td>[🙏]</td>\n",
       "      <td>CEREVIDI FUE ESCUCHADO.\\n\\nel centro de rehabilitación de vida diferente en el municipio de Sincelejo en el departamento de Sucre fue escuchada por el @ICBFColombia y el gobernador @hectorolimpo, \"todo se puede si no los proponemos, está pelea no acaba aquí\"\\nGracias @EstebanKle  🙏 https://t.co/6Vp0VuUug6</td>\n",
       "    </tr>\n",
       "    <tr>\n",
       "      <th>2</th>\n",
       "      <td>[🫣, 🫣, 🫣, 😂]</td>\n",
       "      <td>Tú me puedes gustar mucho pero yo pa' Sincelejo no voy.🫣🫣🫣😂</td>\n",
       "    </tr>\n",
       "    <tr>\n",
       "      <th>9</th>\n",
       "      <td>[📳]</td>\n",
       "      <td>📳 #Programación oficial 37 Encuentro Nacional de #Bandas en #Sincelejo - Del 2 al 6 de noviembre de 2022 https://t.co/WN327IRuAh</td>\n",
       "    </tr>\n",
       "    <tr>\n",
       "      <th>15</th>\n",
       "      <td>[💃, ❤]</td>\n",
       "      <td>Mi hija IsabelMaria puede llevar 6 años viviendo en sincelejo, pero ese swing cartagenero no lo pierde, esa sacudida de pelo y lo que le gusta la champeta la identifican💃\\nElla dice que es cartagenera de nacimiento y sincelejana de ❤ https://t.co/V9biR0rmH5</td>\n",
       "    </tr>\n",
       "    <tr>\n",
       "      <th>17</th>\n",
       "      <td>[📢]</td>\n",
       "      <td>📢 iATENCIÓN! #NACIONAL \\n\\nBorracho estrelló camioneta en Sincelejo\\n\\n#ChicaNoticias #MásContenidos #NuevosProgramas https://t.co/OXt7PwCc6v</td>\n",
       "    </tr>\n",
       "    <tr>\n",
       "      <th>18</th>\n",
       "      <td>[📳]</td>\n",
       "      <td>📳 Cuerpo de #Bomberos rescató a dos #menores y dos #adultos tras caída de su #vehículo al #abismo del sector “Curva de la Virgen”, zona norte de #Bucaramanga, quienes viajaban desde #Sincelejo a #Santander.\\n\\nAfortunadamente las 4 personas resultaron #ilesas. https://t.co/FSvuv1UwlG</td>\n",
       "    </tr>\n",
       "    <tr>\n",
       "      <th>21</th>\n",
       "      <td>[😵‍💫, 🥴, 🤯]</td>\n",
       "      <td>El guayabo hpta que debe tener el que se estrelló en el centro de sincelejo 😵‍💫🥴🤯 ay padre</td>\n",
       "    </tr>\n",
       "    <tr>\n",
       "      <th>22</th>\n",
       "      <td>[🤦🏽‍♂️, 🤦🏽‍♂️, 🤦🏽‍♂️]</td>\n",
       "      <td>En Sincelejo últimamente te mata un carro o un atracador 🤦🏽‍♂️🤦🏽‍♂️🤦🏽‍♂️</td>\n",
       "    </tr>\n",
       "    <tr>\n",
       "      <th>24</th>\n",
       "      <td>[📳]</td>\n",
       "      <td>📳 La Primera dama de la Nación, Verónica Alcocer García, tramitó y recibió en #Sincelejo la #CédulaDigital, el nuevo documento de identificación de los colombianos. https://t.co/Fl76jDFOXv</td>\n",
       "    </tr>\n",
       "    <tr>\n",
       "      <th>25</th>\n",
       "      <td>[📳]</td>\n",
       "      <td>📳 Reportan #caravanas nocturnas de #motocicletas en distintos sectores de #Sincelejo https://t.co/hwvsFXKqPT</td>\n",
       "    </tr>\n",
       "    <tr>\n",
       "      <th>31</th>\n",
       "      <td>[📳]</td>\n",
       "      <td>📳 Tras seguirlo a través de las #cámaras de #video #vigilancia, patrullas de la #Policía capturaron en el barrio Villa Mady de #Sincelejo, a alias “Care #Caballo”, presunto #delincuente que se había dado a la #fuga tras hurtar 1 bolso y 1 celular a una ciudadana. https://t.co/l08g4C05TF</td>\n",
       "    </tr>\n",
       "    <tr>\n",
       "      <th>39</th>\n",
       "      <td>[📳]</td>\n",
       "      <td>📳 #Responsable del múltiple #accidente de #tránsito en el centro de #Sincelejo afirma que tuvo un problema #mental. https://t.co/GDpmACdKtB</td>\n",
       "    </tr>\n",
       "    <tr>\n",
       "      <th>41</th>\n",
       "      <td>[📳]</td>\n",
       "      <td>📳 Video 2: En #cámaras de #seguridad quedó registrado múltiple #accidente de #tránsito en el #centro de #Sincelejo.\\n\\nUn #motociclista resultó #herido y fue trasladado a un centro de salud de la ciudad. https://t.co/n9DIY4DEKe</td>\n",
       "    </tr>\n",
       "    <tr>\n",
       "      <th>43</th>\n",
       "      <td>[📳]</td>\n",
       "      <td>📳 En #cámaras de #seguridad quedó registrado múltiple #accidente de #tránsito en el #centro de #Sincelejo.\\n\\nUn #motociclista resultó #herido y fue trasladado a un centro de salud de la ciudad. https://t.co/DRb2i1ibtI</td>\n",
       "    </tr>\n",
       "    <tr>\n",
       "      <th>47</th>\n",
       "      <td>[📳]</td>\n",
       "      <td>📳 Estrepitoso #accidente de #tránsito en el centro de #Sincelejo.\\n\\nUn hombre que conducía una #motocicleta resultó herido tras ser arrollado por un vehículo tipo SUV que terminó impactando un poste y bolardos.\\n\\nTestigos afirman que el automóvil no habría respetado el #semáforo. https://t.co/ryeZxUiIn9</td>\n",
       "    </tr>\n",
       "    <tr>\n",
       "      <th>52</th>\n",
       "      <td>[😔]</td>\n",
       "      <td>@CDarioRodriguez Vengan a sincelejo ustedes 😔</td>\n",
       "    </tr>\n",
       "    <tr>\n",
       "      <th>54</th>\n",
       "      <td>[😂]</td>\n",
       "      <td>@EdgarRafaelGa13 Mi Sincelejo 😂</td>\n",
       "    </tr>\n",
       "    <tr>\n",
       "      <th>56</th>\n",
       "      <td>[💪🏽]</td>\n",
       "      <td>Que bien por los jóvenes de Sincelejo, veo muchas personas con ganas de cambio y de que lo vamos a Lograr! 💪🏽</td>\n",
       "    </tr>\n",
       "    <tr>\n",
       "      <th>57</th>\n",
       "      <td>[📳]</td>\n",
       "      <td>📳 La #Señorita #Sucre 2022-2023 en el @reinadocolombia, Fabiana Caleño, fue presentada ante las autoridades en #Sincelejo. https://t.co/va15DL5Wgl</td>\n",
       "    </tr>\n",
       "    <tr>\n",
       "      <th>62</th>\n",
       "      <td>[📳]</td>\n",
       "      <td>📳 ¿Quieres ser #candidata al #Reinado de las Fiestas del 20 de enero 2023 en #Sincelejo? https://t.co/AFyP3BWnBU</td>\n",
       "    </tr>\n",
       "    <tr>\n",
       "      <th>68</th>\n",
       "      <td>[📳]</td>\n",
       "      <td>📳 En la vía #Corozal - #Sampués, sector Bremen - La Gallera, el joven Deivis Villacob se desplazaba en #motocicleta y fue herido en el rostro con arma de fuego tras ser interceptado por 2 hombres también en motocicleta.\\n\\nLa víctima fue trasladada hasta una clínica de #Sincelejo. https://t.co/FEUG5HuvJ6</td>\n",
       "    </tr>\n",
       "    <tr>\n",
       "      <th>69</th>\n",
       "      <td>[📢, 🌟, 👑, 📀, 🔊, 🟢, ✨]</td>\n",
       "      <td>📢 Estamos listos para disfrutar al máximo en el #SalónDeLaFama🌟, con  @keyvincelprospecto 👑  interpretando todos sus éxitos  📀\\n\\nY por Sincelejo @pequeno_display con todos sus artistas 🔊\\n\\n¡Vive una noche inolvidable con  #AgurdienteAntioqueño 🟢 #PaLasQueSea ✨ https://t.co/77UrKTEVcS</td>\n",
       "    </tr>\n",
       "    <tr>\n",
       "      <th>72</th>\n",
       "      <td>[📢, 🟢, 🪩, 💯, 🙋‍♂️, 🙋🏽‍♀️, 🌟, 🥛, ✨]</td>\n",
       "      <td>📢 #ViernesDeAntioqueño 🟢 \\n\\nInicia el #FinDeSemana como a ti te gusta en @fulldrinks_sincelejo 🪩 \\n\\nGoza en grande 💯 con tu combo de amigos 🙋‍♂️🙋🏽‍♀️ y por cada 5 amig@s 🌟 , reclama una Panchita 🥛. #AguardienteAntioqueño #PaLasQueSea ✨ https://t.co/MxOZCvV458</td>\n",
       "    </tr>\n",
       "    <tr>\n",
       "      <th>73</th>\n",
       "      <td>[💪🏽]</td>\n",
       "      <td>Escribir, barrer, aprender, trajinar, lo que seaaaaaaaa. 💪🏽 \\n\\n#DELACOJTA #documental #arteencolombia #cartagena #barranquilla #cartagenadeindias #monteria #sincelejo #santamarta #valledupar #riohacha #laguajira  #caribecolombiano #cultura #culturacolombiana #culturacaribe #arte https://t.co/4U6gsy0WRI</td>\n",
       "    </tr>\n",
       "    <tr>\n",
       "      <th>87</th>\n",
       "      <td>[📳]</td>\n",
       "      <td>📳 La Alcaldía de Sincelejo entregó 13 #motocicletas y 13 #bicicletas a la #Policía Nacional, y un #camión NQR de 6 toneladas a la #Armada Nacional, para fortalecer la #seguridad en la capital sucreña https://t.co/1Lmsn6bjBQ</td>\n",
       "    </tr>\n",
       "  </tbody>\n",
       "</table>\n",
       "</div>"
      ],
      "text/plain": [
       "                                emojis  \\\n",
       "1                                  [🙏]   \n",
       "2                         [🫣, 🫣, 🫣, 😂]   \n",
       "9                                  [📳]   \n",
       "15                              [💃, ❤]   \n",
       "17                                 [📢]   \n",
       "18                                 [📳]   \n",
       "21                         [😵‍💫, 🥴, 🤯]   \n",
       "22               [🤦🏽‍♂️, 🤦🏽‍♂️, 🤦🏽‍♂️]   \n",
       "24                                 [📳]   \n",
       "25                                 [📳]   \n",
       "31                                 [📳]   \n",
       "39                                 [📳]   \n",
       "41                                 [📳]   \n",
       "43                                 [📳]   \n",
       "47                                 [📳]   \n",
       "52                                 [😔]   \n",
       "54                                 [😂]   \n",
       "56                                [💪🏽]   \n",
       "57                                 [📳]   \n",
       "62                                 [📳]   \n",
       "68                                 [📳]   \n",
       "69               [📢, 🌟, 👑, 📀, 🔊, 🟢, ✨]   \n",
       "72  [📢, 🟢, 🪩, 💯, 🙋‍♂️, 🙋🏽‍♀️, 🌟, 🥛, ✨]   \n",
       "73                                [💪🏽]   \n",
       "87                                 [📳]   \n",
       "\n",
       "                                                                                                                                                                                                                                                                                                                 tweet  \n",
       "1   CEREVIDI FUE ESCUCHADO.\\n\\nel centro de rehabilitación de vida diferente en el municipio de Sincelejo en el departamento de Sucre fue escuchada por el @ICBFColombia y el gobernador @hectorolimpo, \"todo se puede si no los proponemos, está pelea no acaba aquí\"\\nGracias @EstebanKle  🙏 https://t.co/6Vp0VuUug6  \n",
       "2                                                                                                                                                                                                                                                          Tú me puedes gustar mucho pero yo pa' Sincelejo no voy.🫣🫣🫣😂  \n",
       "9                                                                                                                                                                                     📳 #Programación oficial 37 Encuentro Nacional de #Bandas en #Sincelejo - Del 2 al 6 de noviembre de 2022 https://t.co/WN327IRuAh  \n",
       "15                                                   Mi hija IsabelMaria puede llevar 6 años viviendo en sincelejo, pero ese swing cartagenero no lo pierde, esa sacudida de pelo y lo que le gusta la champeta la identifican💃\\nElla dice que es cartagenera de nacimiento y sincelejana de ❤ https://t.co/V9biR0rmH5  \n",
       "17                                                                                                                                                                       📢 iATENCIÓN! #NACIONAL \\n\\nBorracho estrelló camioneta en Sincelejo\\n\\n#ChicaNoticias #MásContenidos #NuevosProgramas https://t.co/OXt7PwCc6v  \n",
       "18                        📳 Cuerpo de #Bomberos rescató a dos #menores y dos #adultos tras caída de su #vehículo al #abismo del sector “Curva de la Virgen”, zona norte de #Bucaramanga, quienes viajaban desde #Sincelejo a #Santander.\\n\\nAfortunadamente las 4 personas resultaron #ilesas. https://t.co/FSvuv1UwlG  \n",
       "21                                                                                                                                                                                                                          El guayabo hpta que debe tener el que se estrelló en el centro de sincelejo 😵‍💫🥴🤯 ay padre  \n",
       "22                                                                                                                                                                                                                                            En Sincelejo últimamente te mata un carro o un atracador 🤦🏽‍♂️🤦🏽‍♂️🤦🏽‍♂️  \n",
       "24                                                                                                                        📳 La Primera dama de la Nación, Verónica Alcocer García, tramitó y recibió en #Sincelejo la #CédulaDigital, el nuevo documento de identificación de los colombianos. https://t.co/Fl76jDFOXv  \n",
       "25                                                                                                                                                                                                        📳 Reportan #caravanas nocturnas de #motocicletas en distintos sectores de #Sincelejo https://t.co/hwvsFXKqPT  \n",
       "31                     📳 Tras seguirlo a través de las #cámaras de #video #vigilancia, patrullas de la #Policía capturaron en el barrio Villa Mady de #Sincelejo, a alias “Care #Caballo”, presunto #delincuente que se había dado a la #fuga tras hurtar 1 bolso y 1 celular a una ciudadana. https://t.co/l08g4C05TF  \n",
       "39                                                                                                                                                                         📳 #Responsable del múltiple #accidente de #tránsito en el centro de #Sincelejo afirma que tuvo un problema #mental. https://t.co/GDpmACdKtB  \n",
       "41                                                                                 📳 Video 2: En #cámaras de #seguridad quedó registrado múltiple #accidente de #tránsito en el #centro de #Sincelejo.\\n\\nUn #motociclista resultó #herido y fue trasladado a un centro de salud de la ciudad. https://t.co/n9DIY4DEKe  \n",
       "43                                                                                          📳 En #cámaras de #seguridad quedó registrado múltiple #accidente de #tránsito en el #centro de #Sincelejo.\\n\\nUn #motociclista resultó #herido y fue trasladado a un centro de salud de la ciudad. https://t.co/DRb2i1ibtI  \n",
       "47  📳 Estrepitoso #accidente de #tránsito en el centro de #Sincelejo.\\n\\nUn hombre que conducía una #motocicleta resultó herido tras ser arrollado por un vehículo tipo SUV que terminó impactando un poste y bolardos.\\n\\nTestigos afirman que el automóvil no habría respetado el #semáforo. https://t.co/ryeZxUiIn9  \n",
       "52                                                                                                                                                                                                                                                                       @CDarioRodriguez Vengan a sincelejo ustedes 😔  \n",
       "54                                                                                                                                                                                                                                                                                     @EdgarRafaelGa13 Mi Sincelejo 😂  \n",
       "56                                                                                                                                                                                                       Que bien por los jóvenes de Sincelejo, veo muchas personas con ganas de cambio y de que lo vamos a Lograr! 💪🏽  \n",
       "57                                                                                                                                                                  📳 La #Señorita #Sucre 2022-2023 en el @reinadocolombia, Fabiana Caleño, fue presentada ante las autoridades en #Sincelejo. https://t.co/va15DL5Wgl  \n",
       "62                                                                                                                                                                                                    📳 ¿Quieres ser #candidata al #Reinado de las Fiestas del 20 de enero 2023 en #Sincelejo? https://t.co/AFyP3BWnBU  \n",
       "68   📳 En la vía #Corozal - #Sampués, sector Bremen - La Gallera, el joven Deivis Villacob se desplazaba en #motocicleta y fue herido en el rostro con arma de fuego tras ser interceptado por 2 hombres también en motocicleta.\\n\\nLa víctima fue trasladada hasta una clínica de #Sincelejo. https://t.co/FEUG5HuvJ6  \n",
       "69                      📢 Estamos listos para disfrutar al máximo en el #SalónDeLaFama🌟, con  @keyvincelprospecto 👑  interpretando todos sus éxitos  📀\\n\\nY por Sincelejo @pequeno_display con todos sus artistas 🔊\\n\\n¡Vive una noche inolvidable con  #AgurdienteAntioqueño 🟢 #PaLasQueSea ✨ https://t.co/77UrKTEVcS  \n",
       "72                                               📢 #ViernesDeAntioqueño 🟢 \\n\\nInicia el #FinDeSemana como a ti te gusta en @fulldrinks_sincelejo 🪩 \\n\\nGoza en grande 💯 con tu combo de amigos 🙋‍♂️🙋🏽‍♀️ y por cada 5 amig@s 🌟 , reclama una Panchita 🥛. #AguardienteAntioqueño #PaLasQueSea ✨ https://t.co/MxOZCvV458  \n",
       "73    Escribir, barrer, aprender, trajinar, lo que seaaaaaaaa. 💪🏽 \\n\\n#DELACOJTA #documental #arteencolombia #cartagena #barranquilla #cartagenadeindias #monteria #sincelejo #santamarta #valledupar #riohacha #laguajira  #caribecolombiano #cultura #culturacolombiana #culturacaribe #arte https://t.co/4U6gsy0WRI  \n",
       "87                                                                                     📳 La Alcaldía de Sincelejo entregó 13 #motocicletas y 13 #bicicletas a la #Policía Nacional, y un #camión NQR de 6 toneladas a la #Armada Nacional, para fortalecer la #seguridad en la capital sucreña https://t.co/1Lmsn6bjBQ  "
      ]
     },
     "execution_count": 16,
     "metadata": {},
     "output_type": "execute_result"
    }
   ],
   "source": [
    "pd.set_option('display.max_colwidth', None)\n",
    "\n",
    "df['emojis'] = df['tweet'].apply(lambda text: get_emojis(text))\n",
    "df[~df.emojis.isin([[]])][['emojis','tweet']]"
   ]
  },
  {
   "cell_type": "markdown",
   "metadata": {
    "slideshow": {
     "slide_type": "slide"
    }
   },
   "source": [
    "### Misceláneo"
   ]
  },
  {
   "cell_type": "markdown",
   "metadata": {
    "slideshow": {
     "slide_type": "fragment"
    }
   },
   "source": [
    "Y si tuvieramos más tiempo...\n",
    "- [Duckling](https://github.com/FraBle/python-duckling) Libreria creada por Facebook para extraer fechas, temperatura, entre otros\n",
    "- [NameDataset](https://github.com/philipperemy/name-dataset) Libreria para extraer nombres y apellidos\n",
    "- [FuzzyWuzzy](https://github.com/seatgeek/fuzzywuzzy) Libreria para saber que tan parecidas son dos frases\n",
    "- [PySpellChecker](https://pypi.org/project/pyspellchecker/) Corrector de ortografía en inglés\n",
    "- [SpanishSpellingCorrector](https://github.com/rcabg/Spanish-Spelling-Corrector) Corrector de ortografía en español\n",
    "\n",
    "\n",
    "Una libreria muy especial:\n",
    "- [SpaNLP](https://pypi.org/project/spanlp/) Detector de groserías en español creada por [Jhon Freddy Puentes](https://twitter.com/jfreddypuentes), uno de mis antiguos estudiantes."
   ]
  },
  {
   "cell_type": "markdown",
   "metadata": {
    "slideshow": {
     "slide_type": "slide"
    }
   },
   "source": [
    "# Herramientas específicas de \n",
    "# pre-procesamiento de texto en NLP <br><br>\n",
    "\n",
    "<center><img src='../img/clase08/prepro3.png'></center>"
   ]
  },
  {
   "cell_type": "markdown",
   "metadata": {
    "slideshow": {
     "slide_type": "slide"
    }
   },
   "source": [
    "### Tokenización\n",
    "\n",
    "<center><img src='../img/clase08/prepro3_1.png'></center>\n",
    "\n",
    "Tokenización (Analizador léxico) es el proceso de convertir una secuencia de caracteres en una secuencia de tokens (componentes léxicos)"
   ]
  },
  {
   "cell_type": "markdown",
   "metadata": {
    "slideshow": {
     "slide_type": "fragment"
    }
   },
   "source": [
    "Léxico: Conjunto de palabras que conforma un determinado lecto. (Ósea, el vocabulario)"
   ]
  },
  {
   "cell_type": "code",
   "execution_count": 17,
   "metadata": {
    "slideshow": {
     "slide_type": "slide"
    }
   },
   "outputs": [
    {
     "data": {
      "text/plain": [
       "['hola', 'cómo', 'estás', 'este', 'es', 'mi', 'número']"
      ]
     },
     "execution_count": 17,
     "metadata": {},
     "output_type": "execute_result"
    }
   ],
   "source": [
    "import re\n",
    "\n",
    "texto = \"¡Hola! ¿Cómo estás? Este es mi número: 314-314-1592\"\n",
    "texto = texto.lower() # Minúscula \n",
    "texto = re.sub(r\"[\\W\\d]\", \" \", texto) # Dejar sólo letras\n",
    "texto = texto.strip()\n",
    "texto = texto.split() # Tokenizar\n",
    "texto"
   ]
  },
  {
   "cell_type": "markdown",
   "metadata": {
    "slideshow": {
     "slide_type": "fragment"
    }
   },
   "source": [
    "#### Palabras vacías (Stopwords)"
   ]
  },
  {
   "cell_type": "code",
   "execution_count": 18,
   "metadata": {
    "slideshow": {
     "slide_type": "fragment"
    }
   },
   "outputs": [
    {
     "name": "stderr",
     "output_type": "stream",
     "text": [
      "[nltk_data] Downloading package stopwords to\n",
      "[nltk_data]     /Users/vivianamarquez/nltk_data...\n",
      "[nltk_data]   Package stopwords is already up-to-date!\n"
     ]
    }
   ],
   "source": [
    "import nltk\n",
    "nltk.download('stopwords') # Esta línea se corre sólo la primera vez\n",
    "\n",
    "from nltk.corpus import stopwords\n",
    "stopwords_sp = stopwords.words('spanish')"
   ]
  },
  {
   "cell_type": "code",
   "execution_count": 19,
   "metadata": {
    "slideshow": {
     "slide_type": "fragment"
    }
   },
   "outputs": [
    {
     "data": {
      "text/plain": [
       "['hola', 'cómo', 'número']"
      ]
     },
     "execution_count": 19,
     "metadata": {},
     "output_type": "execute_result"
    }
   ],
   "source": [
    "texto = [palabra for palabra in texto if palabra not in stopwords_sp]\n",
    "texto"
   ]
  },
  {
   "cell_type": "markdown",
   "metadata": {
    "slideshow": {
     "slide_type": "slide"
    }
   },
   "source": [
    "### Stemming\n",
    "\n",
    "<center><img src='../img/clase08/prepro3_2.png'></center>\n",
    "\n",
    "Stemming es el proceso de remover los sufijos para reducir una palabra a su raíz para que todas sus variantes sean representadas de la misma manera.\n",
    "\n",
    "Los algoritmos más populares son:\n",
    "- Porter\n",
    "- Snowball"
   ]
  },
  {
   "cell_type": "markdown",
   "metadata": {
    "slideshow": {
     "slide_type": "fragment"
    }
   },
   "source": [
    "Aunque muchas veces el proceso de stemming lingüísticamente no produce la forma correcta base de la palabra, se usa frecuentemente en los motores de busqueda para traer los resultados relevantes. "
   ]
  },
  {
   "cell_type": "code",
   "execution_count": 20,
   "metadata": {
    "slideshow": {
     "slide_type": "slide"
    }
   },
   "outputs": [],
   "source": [
    "from nltk.stem.snowball import SnowballStemmer\n",
    "englishStemmer = SnowballStemmer(\"english\")\n",
    "spanishStemmer = SnowballStemmer(\"spanish\")"
   ]
  },
  {
   "cell_type": "markdown",
   "metadata": {
    "slideshow": {
     "slide_type": "fragment"
    }
   },
   "source": [
    "# 🚗"
   ]
  },
  {
   "cell_type": "code",
   "execution_count": 21,
   "metadata": {
    "slideshow": {
     "slide_type": "fragment"
    }
   },
   "outputs": [
    {
     "data": {
      "text/plain": [
       "'car'"
      ]
     },
     "execution_count": 21,
     "metadata": {},
     "output_type": "execute_result"
    }
   ],
   "source": [
    "englishStemmer.stem(\"car\")"
   ]
  },
  {
   "cell_type": "code",
   "execution_count": 22,
   "metadata": {
    "slideshow": {
     "slide_type": "fragment"
    }
   },
   "outputs": [
    {
     "data": {
      "text/plain": [
       "'car'"
      ]
     },
     "execution_count": 22,
     "metadata": {},
     "output_type": "execute_result"
    }
   ],
   "source": [
    "englishStemmer.stem(\"cars\")"
   ]
  },
  {
   "cell_type": "markdown",
   "metadata": {
    "slideshow": {
     "slide_type": "fragment"
    }
   },
   "source": [
    "# 🎤"
   ]
  },
  {
   "cell_type": "code",
   "execution_count": 23,
   "metadata": {
    "scrolled": true,
    "slideshow": {
     "slide_type": "fragment"
    }
   },
   "outputs": [
    {
     "data": {
      "text/plain": [
       "'cant'"
      ]
     },
     "execution_count": 23,
     "metadata": {},
     "output_type": "execute_result"
    }
   ],
   "source": [
    "spanishStemmer.stem(\"cantar\")"
   ]
  },
  {
   "cell_type": "code",
   "execution_count": 24,
   "metadata": {
    "slideshow": {
     "slide_type": "fragment"
    }
   },
   "outputs": [
    {
     "data": {
      "text/plain": [
       "'cant'"
      ]
     },
     "execution_count": 24,
     "metadata": {},
     "output_type": "execute_result"
    }
   ],
   "source": [
    "spanishStemmer.stem(\"cantamos\")"
   ]
  },
  {
   "cell_type": "markdown",
   "metadata": {
    "slideshow": {
     "slide_type": "slide"
    }
   },
   "source": [
    "Nuestro texto"
   ]
  },
  {
   "cell_type": "code",
   "execution_count": 25,
   "metadata": {
    "slideshow": {
     "slide_type": "fragment"
    }
   },
   "outputs": [
    {
     "data": {
      "text/plain": [
       "['hola', 'cómo', 'número']"
      ]
     },
     "execution_count": 25,
     "metadata": {},
     "output_type": "execute_result"
    }
   ],
   "source": [
    "texto"
   ]
  },
  {
   "cell_type": "code",
   "execution_count": 26,
   "metadata": {
    "slideshow": {
     "slide_type": "fragment"
    }
   },
   "outputs": [
    {
     "data": {
      "text/plain": [
       "['hol', 'com', 'numer']"
      ]
     },
     "execution_count": 26,
     "metadata": {},
     "output_type": "execute_result"
    }
   ],
   "source": [
    "texto_stem = []\n",
    "\n",
    "for palabra in texto:\n",
    "    raiz = spanishStemmer.stem(palabra)\n",
    "    texto_stem.append(raiz)\n",
    "    \n",
    "texto_stem"
   ]
  },
  {
   "cell_type": "markdown",
   "metadata": {
    "slideshow": {
     "slide_type": "slide"
    }
   },
   "source": [
    "### Lematización\n",
    "\n",
    "<center><img src='../img/clase08/prepro3_3.png'></center>\n",
    "\n",
    "Lematización es el proceso de hallar el lema de una palabra (representante de todas las formas de una misma palabra).\n",
    "\n",
    "- ¡No es lo mismo que stemming!"
   ]
  },
  {
   "cell_type": "markdown",
   "metadata": {
    "slideshow": {
     "slide_type": "fragment"
    }
   },
   "source": [
    "En lingüística, el lema es una unidad autónoma constituyente del léxico de un idioma."
   ]
  },
  {
   "cell_type": "code",
   "execution_count": 27,
   "metadata": {
    "slideshow": {
     "slide_type": "slide"
    }
   },
   "outputs": [
    {
     "name": "stderr",
     "output_type": "stream",
     "text": [
      "[nltk_data] Downloading package wordnet to\n",
      "[nltk_data]     /Users/vivianamarquez/nltk_data...\n",
      "[nltk_data]   Package wordnet is already up-to-date!\n",
      "[nltk_data] Downloading package omw-1.4 to\n",
      "[nltk_data]     /Users/vivianamarquez/nltk_data...\n",
      "[nltk_data]   Package omw-1.4 is already up-to-date!\n"
     ]
    },
    {
     "data": {
      "text/plain": [
       "'dance'"
      ]
     },
     "execution_count": 27,
     "metadata": {},
     "output_type": "execute_result"
    }
   ],
   "source": [
    "import nltk \n",
    "from nltk.stem import WordNetLemmatizer\n",
    "nltk.download('wordnet') # Sólo se corre la primera vez\n",
    "nltk.download('omw-1.4') # Sólo se corre la primera vez\n",
    "\n",
    "lemmatizer = WordNetLemmatizer()\n",
    "\n",
    "lemmatizer.lemmatize(\"dancing\", pos='v')"
   ]
  },
  {
   "cell_type": "code",
   "execution_count": 28,
   "metadata": {
    "slideshow": {
     "slide_type": "fragment"
    }
   },
   "outputs": [
    {
     "data": {
      "text/plain": [
       "'danc'"
      ]
     },
     "execution_count": 28,
     "metadata": {},
     "output_type": "execute_result"
    }
   ],
   "source": [
    "englishStemmer.stem('dancing')"
   ]
  },
  {
   "cell_type": "markdown",
   "metadata": {
    "slideshow": {
     "slide_type": "fragment"
    }
   },
   "source": [
    "• El stemming funciona con palabras sin conocer su contexto y es por eso que la raíz tiene una precisión menor, pero, es más rápida que la lematización.\n",
    "\n",
    "• La lematización devuelve una palabra real. \n",
    "\n",
    "• Si no importa el nivel de precisión y todo lo que necesitas es velocidad el stemming es mejor."
   ]
  },
  {
   "cell_type": "markdown",
   "metadata": {
    "slideshow": {
     "slide_type": "slide"
    }
   },
   "source": [
    "# 👮‍♀️ Check Point\n",
    "\n",
    "- ¿Cuál es la diferencia entre stemming y lematización?"
   ]
  },
  {
   "cell_type": "markdown",
   "metadata": {
    "slideshow": {
     "slide_type": "slide"
    }
   },
   "source": [
    "### Etiquetado gramatical\n",
    "\n",
    "<center><img src='../img/clase08/prepro3_4.png'></center>\n",
    "\n",
    "- POST: Part-of-speech tagging\n",
    "- Etiquetar cada palabra según su parte de la oración"
   ]
  },
  {
   "cell_type": "markdown",
   "metadata": {
    "slideshow": {
     "slide_type": "slide"
    }
   },
   "source": [
    "<center><img src='../img/clase08/espanol.png' style='height:100px;'></center>\n",
    "\n",
    "- **Sustantivo**: Jessica \n",
    "\n",
    "- **Adjetivo**: Bella\n",
    "\n",
    "- **Artículo**: La\n",
    "\n",
    "- **Pronombre**: Ella\n",
    "\n",
    "- **Verbo**: Cantar\n",
    "\n",
    "- **Adverbio**: Rápidamente\n",
    "\n",
    "- **Interjección**: ¡Ay!\n",
    "\n",
    "- **Preposición**: Entre\n",
    "\n",
    "- **Conjunción**: y\n",
    "\n"
   ]
  },
  {
   "cell_type": "markdown",
   "metadata": {
    "slideshow": {
     "slide_type": "slide"
    }
   },
   "source": [
    "Instalar librerias:\n",
    "- `pip install spacy`\n",
    "- `python -m spacy download es_core_news_sm`"
   ]
  },
  {
   "cell_type": "code",
   "execution_count": 29,
   "metadata": {
    "slideshow": {
     "slide_type": "fragment"
    }
   },
   "outputs": [
    {
     "name": "stderr",
     "output_type": "stream",
     "text": [
      "/opt/anaconda3/envs/coSIAM2022/lib/python3.9/site-packages/tqdm/auto.py:22: TqdmWarning: IProgress not found. Please update jupyter and ipywidgets. See https://ipywidgets.readthedocs.io/en/stable/user_install.html\n",
      "  from .autonotebook import tqdm as notebook_tqdm\n"
     ]
    },
    {
     "data": {
      "text/plain": [
       "[('¡', 'PROPN'),\n",
       " ('Hola', 'PROPN'),\n",
       " ('!', 'PUNCT'),\n",
       " ('¿', 'PUNCT'),\n",
       " ('Cómo', 'PRON'),\n",
       " ('estás', 'AUX'),\n",
       " ('?', 'PUNCT'),\n",
       " ('Este', 'PRON'),\n",
       " ('es', 'AUX'),\n",
       " ('mi', 'DET'),\n",
       " ('número', 'NOUN'),\n",
       " ('314-1592', 'NUM'),\n",
       " ('.', 'PUNCT'),\n",
       " ('¡', 'PUNCT'),\n",
       " ('Vamos', 'AUX'),\n",
       " ('a', 'ADP'),\n",
       " ('bailar', 'VERB'),\n",
       " ('porque', 'SCONJ'),\n",
       " ('es', 'AUX'),\n",
       " ('juernes', 'NOUN'),\n",
       " ('!', 'PUNCT')]"
      ]
     },
     "execution_count": 29,
     "metadata": {},
     "output_type": "execute_result"
    }
   ],
   "source": [
    "import es_core_news_sm\n",
    "\n",
    "nlp = es_core_news_sm.load()\n",
    "doc = nlp(\"¡Hola! ¿Cómo estás? Este es mi número 314-1592. ¡Vamos a bailar porque es juernes!\")\n",
    "[(palabra.text, palabra.pos_) for palabra in doc]"
   ]
  },
  {
   "cell_type": "code",
   "execution_count": 30,
   "metadata": {
    "slideshow": {
     "slide_type": "slide"
    }
   },
   "outputs": [
    {
     "data": {
      "text/html": [
       "<span class=\"tex2jax_ignore\"><svg xmlns=\"http://www.w3.org/2000/svg\" xmlns:xlink=\"http://www.w3.org/1999/xlink\" xml:lang=\"es\" id=\"c89fc7a71ebb456dae1ef7ab8a9263f6-0\" class=\"displacy\" width=\"3050\" height=\"437.0\" direction=\"ltr\" style=\"max-width: none; height: 437.0px; color: #000000; background: #ffffff; font-family: Arial; direction: ltr\">\n",
       "<text class=\"displacy-token\" fill=\"currentColor\" text-anchor=\"middle\" y=\"347.0\">\n",
       "    <tspan class=\"displacy-word\" fill=\"currentColor\" x=\"50\">¡</tspan>\n",
       "    <tspan class=\"displacy-tag\" dy=\"2em\" fill=\"currentColor\" x=\"50\">PROPN</tspan>\n",
       "</text>\n",
       "\n",
       "<text class=\"displacy-token\" fill=\"currentColor\" text-anchor=\"middle\" y=\"347.0\">\n",
       "    <tspan class=\"displacy-word\" fill=\"currentColor\" x=\"250\">Hola! ¿</tspan>\n",
       "    <tspan class=\"displacy-tag\" dy=\"2em\" fill=\"currentColor\" x=\"250\">PROPN</tspan>\n",
       "</text>\n",
       "\n",
       "<text class=\"displacy-token\" fill=\"currentColor\" text-anchor=\"middle\" y=\"347.0\">\n",
       "    <tspan class=\"displacy-word\" fill=\"currentColor\" x=\"450\">Cómo</tspan>\n",
       "    <tspan class=\"displacy-tag\" dy=\"2em\" fill=\"currentColor\" x=\"450\">PRON</tspan>\n",
       "</text>\n",
       "\n",
       "<text class=\"displacy-token\" fill=\"currentColor\" text-anchor=\"middle\" y=\"347.0\">\n",
       "    <tspan class=\"displacy-word\" fill=\"currentColor\" x=\"650\">estás?</tspan>\n",
       "    <tspan class=\"displacy-tag\" dy=\"2em\" fill=\"currentColor\" x=\"650\">AUX</tspan>\n",
       "</text>\n",
       "\n",
       "<text class=\"displacy-token\" fill=\"currentColor\" text-anchor=\"middle\" y=\"347.0\">\n",
       "    <tspan class=\"displacy-word\" fill=\"currentColor\" x=\"850\">Este</tspan>\n",
       "    <tspan class=\"displacy-tag\" dy=\"2em\" fill=\"currentColor\" x=\"850\">PRON</tspan>\n",
       "</text>\n",
       "\n",
       "<text class=\"displacy-token\" fill=\"currentColor\" text-anchor=\"middle\" y=\"347.0\">\n",
       "    <tspan class=\"displacy-word\" fill=\"currentColor\" x=\"1050\">es</tspan>\n",
       "    <tspan class=\"displacy-tag\" dy=\"2em\" fill=\"currentColor\" x=\"1050\">AUX</tspan>\n",
       "</text>\n",
       "\n",
       "<text class=\"displacy-token\" fill=\"currentColor\" text-anchor=\"middle\" y=\"347.0\">\n",
       "    <tspan class=\"displacy-word\" fill=\"currentColor\" x=\"1250\">mi</tspan>\n",
       "    <tspan class=\"displacy-tag\" dy=\"2em\" fill=\"currentColor\" x=\"1250\">DET</tspan>\n",
       "</text>\n",
       "\n",
       "<text class=\"displacy-token\" fill=\"currentColor\" text-anchor=\"middle\" y=\"347.0\">\n",
       "    <tspan class=\"displacy-word\" fill=\"currentColor\" x=\"1450\">número</tspan>\n",
       "    <tspan class=\"displacy-tag\" dy=\"2em\" fill=\"currentColor\" x=\"1450\">NOUN</tspan>\n",
       "</text>\n",
       "\n",
       "<text class=\"displacy-token\" fill=\"currentColor\" text-anchor=\"middle\" y=\"347.0\">\n",
       "    <tspan class=\"displacy-word\" fill=\"currentColor\" x=\"1650\">314-1592. ¡</tspan>\n",
       "    <tspan class=\"displacy-tag\" dy=\"2em\" fill=\"currentColor\" x=\"1650\">NUM</tspan>\n",
       "</text>\n",
       "\n",
       "<text class=\"displacy-token\" fill=\"currentColor\" text-anchor=\"middle\" y=\"347.0\">\n",
       "    <tspan class=\"displacy-word\" fill=\"currentColor\" x=\"1850\">Vamos</tspan>\n",
       "    <tspan class=\"displacy-tag\" dy=\"2em\" fill=\"currentColor\" x=\"1850\">AUX</tspan>\n",
       "</text>\n",
       "\n",
       "<text class=\"displacy-token\" fill=\"currentColor\" text-anchor=\"middle\" y=\"347.0\">\n",
       "    <tspan class=\"displacy-word\" fill=\"currentColor\" x=\"2050\">a</tspan>\n",
       "    <tspan class=\"displacy-tag\" dy=\"2em\" fill=\"currentColor\" x=\"2050\">ADP</tspan>\n",
       "</text>\n",
       "\n",
       "<text class=\"displacy-token\" fill=\"currentColor\" text-anchor=\"middle\" y=\"347.0\">\n",
       "    <tspan class=\"displacy-word\" fill=\"currentColor\" x=\"2250\">bailar</tspan>\n",
       "    <tspan class=\"displacy-tag\" dy=\"2em\" fill=\"currentColor\" x=\"2250\">VERB</tspan>\n",
       "</text>\n",
       "\n",
       "<text class=\"displacy-token\" fill=\"currentColor\" text-anchor=\"middle\" y=\"347.0\">\n",
       "    <tspan class=\"displacy-word\" fill=\"currentColor\" x=\"2450\">porque</tspan>\n",
       "    <tspan class=\"displacy-tag\" dy=\"2em\" fill=\"currentColor\" x=\"2450\">SCONJ</tspan>\n",
       "</text>\n",
       "\n",
       "<text class=\"displacy-token\" fill=\"currentColor\" text-anchor=\"middle\" y=\"347.0\">\n",
       "    <tspan class=\"displacy-word\" fill=\"currentColor\" x=\"2650\">es</tspan>\n",
       "    <tspan class=\"displacy-tag\" dy=\"2em\" fill=\"currentColor\" x=\"2650\">AUX</tspan>\n",
       "</text>\n",
       "\n",
       "<text class=\"displacy-token\" fill=\"currentColor\" text-anchor=\"middle\" y=\"347.0\">\n",
       "    <tspan class=\"displacy-word\" fill=\"currentColor\" x=\"2850\">juernes!</tspan>\n",
       "    <tspan class=\"displacy-tag\" dy=\"2em\" fill=\"currentColor\" x=\"2850\">NOUN</tspan>\n",
       "</text>\n",
       "\n",
       "<g class=\"displacy-arrow\">\n",
       "    <path class=\"displacy-arc\" id=\"arrow-c89fc7a71ebb456dae1ef7ab8a9263f6-0-0\" stroke-width=\"2px\" d=\"M70,302.0 C70,202.0 240.0,202.0 240.0,302.0\" fill=\"none\" stroke=\"currentColor\"/>\n",
       "    <text dy=\"1.25em\" style=\"font-size: 0.8em; letter-spacing: 1px\">\n",
       "        <textPath xlink:href=\"#arrow-c89fc7a71ebb456dae1ef7ab8a9263f6-0-0\" class=\"displacy-label\" startOffset=\"50%\" side=\"left\" fill=\"currentColor\" text-anchor=\"middle\">punct</textPath>\n",
       "    </text>\n",
       "    <path class=\"displacy-arrowhead\" d=\"M70,304.0 L62,292.0 78,292.0\" fill=\"currentColor\"/>\n",
       "</g>\n",
       "\n",
       "<g class=\"displacy-arrow\">\n",
       "    <path class=\"displacy-arc\" id=\"arrow-c89fc7a71ebb456dae1ef7ab8a9263f6-0-1\" stroke-width=\"2px\" d=\"M470,302.0 C470,202.0 640.0,202.0 640.0,302.0\" fill=\"none\" stroke=\"currentColor\"/>\n",
       "    <text dy=\"1.25em\" style=\"font-size: 0.8em; letter-spacing: 1px\">\n",
       "        <textPath xlink:href=\"#arrow-c89fc7a71ebb456dae1ef7ab8a9263f6-0-1\" class=\"displacy-label\" startOffset=\"50%\" side=\"left\" fill=\"currentColor\" text-anchor=\"middle\">obl</textPath>\n",
       "    </text>\n",
       "    <path class=\"displacy-arrowhead\" d=\"M470,304.0 L462,292.0 478,292.0\" fill=\"currentColor\"/>\n",
       "</g>\n",
       "\n",
       "<g class=\"displacy-arrow\">\n",
       "    <path class=\"displacy-arc\" id=\"arrow-c89fc7a71ebb456dae1ef7ab8a9263f6-0-2\" stroke-width=\"2px\" d=\"M270,302.0 C270,102.0 645.0,102.0 645.0,302.0\" fill=\"none\" stroke=\"currentColor\"/>\n",
       "    <text dy=\"1.25em\" style=\"font-size: 0.8em; letter-spacing: 1px\">\n",
       "        <textPath xlink:href=\"#arrow-c89fc7a71ebb456dae1ef7ab8a9263f6-0-2\" class=\"displacy-label\" startOffset=\"50%\" side=\"left\" fill=\"currentColor\" text-anchor=\"middle\">acl</textPath>\n",
       "    </text>\n",
       "    <path class=\"displacy-arrowhead\" d=\"M645.0,304.0 L653.0,292.0 637.0,292.0\" fill=\"currentColor\"/>\n",
       "</g>\n",
       "\n",
       "<g class=\"displacy-arrow\">\n",
       "    <path class=\"displacy-arc\" id=\"arrow-c89fc7a71ebb456dae1ef7ab8a9263f6-0-3\" stroke-width=\"2px\" d=\"M870,302.0 C870,2.0 1450.0,2.0 1450.0,302.0\" fill=\"none\" stroke=\"currentColor\"/>\n",
       "    <text dy=\"1.25em\" style=\"font-size: 0.8em; letter-spacing: 1px\">\n",
       "        <textPath xlink:href=\"#arrow-c89fc7a71ebb456dae1ef7ab8a9263f6-0-3\" class=\"displacy-label\" startOffset=\"50%\" side=\"left\" fill=\"currentColor\" text-anchor=\"middle\">nsubj</textPath>\n",
       "    </text>\n",
       "    <path class=\"displacy-arrowhead\" d=\"M870,304.0 L862,292.0 878,292.0\" fill=\"currentColor\"/>\n",
       "</g>\n",
       "\n",
       "<g class=\"displacy-arrow\">\n",
       "    <path class=\"displacy-arc\" id=\"arrow-c89fc7a71ebb456dae1ef7ab8a9263f6-0-4\" stroke-width=\"2px\" d=\"M1070,302.0 C1070,102.0 1445.0,102.0 1445.0,302.0\" fill=\"none\" stroke=\"currentColor\"/>\n",
       "    <text dy=\"1.25em\" style=\"font-size: 0.8em; letter-spacing: 1px\">\n",
       "        <textPath xlink:href=\"#arrow-c89fc7a71ebb456dae1ef7ab8a9263f6-0-4\" class=\"displacy-label\" startOffset=\"50%\" side=\"left\" fill=\"currentColor\" text-anchor=\"middle\">cop</textPath>\n",
       "    </text>\n",
       "    <path class=\"displacy-arrowhead\" d=\"M1070,304.0 L1062,292.0 1078,292.0\" fill=\"currentColor\"/>\n",
       "</g>\n",
       "\n",
       "<g class=\"displacy-arrow\">\n",
       "    <path class=\"displacy-arc\" id=\"arrow-c89fc7a71ebb456dae1ef7ab8a9263f6-0-5\" stroke-width=\"2px\" d=\"M1270,302.0 C1270,202.0 1440.0,202.0 1440.0,302.0\" fill=\"none\" stroke=\"currentColor\"/>\n",
       "    <text dy=\"1.25em\" style=\"font-size: 0.8em; letter-spacing: 1px\">\n",
       "        <textPath xlink:href=\"#arrow-c89fc7a71ebb456dae1ef7ab8a9263f6-0-5\" class=\"displacy-label\" startOffset=\"50%\" side=\"left\" fill=\"currentColor\" text-anchor=\"middle\">det</textPath>\n",
       "    </text>\n",
       "    <path class=\"displacy-arrowhead\" d=\"M1270,304.0 L1262,292.0 1278,292.0\" fill=\"currentColor\"/>\n",
       "</g>\n",
       "\n",
       "<g class=\"displacy-arrow\">\n",
       "    <path class=\"displacy-arc\" id=\"arrow-c89fc7a71ebb456dae1ef7ab8a9263f6-0-6\" stroke-width=\"2px\" d=\"M1470,302.0 C1470,202.0 1640.0,202.0 1640.0,302.0\" fill=\"none\" stroke=\"currentColor\"/>\n",
       "    <text dy=\"1.25em\" style=\"font-size: 0.8em; letter-spacing: 1px\">\n",
       "        <textPath xlink:href=\"#arrow-c89fc7a71ebb456dae1ef7ab8a9263f6-0-6\" class=\"displacy-label\" startOffset=\"50%\" side=\"left\" fill=\"currentColor\" text-anchor=\"middle\">appos</textPath>\n",
       "    </text>\n",
       "    <path class=\"displacy-arrowhead\" d=\"M1640.0,304.0 L1648.0,292.0 1632.0,292.0\" fill=\"currentColor\"/>\n",
       "</g>\n",
       "\n",
       "<g class=\"displacy-arrow\">\n",
       "    <path class=\"displacy-arc\" id=\"arrow-c89fc7a71ebb456dae1ef7ab8a9263f6-0-7\" stroke-width=\"2px\" d=\"M1870,302.0 C1870,102.0 2245.0,102.0 2245.0,302.0\" fill=\"none\" stroke=\"currentColor\"/>\n",
       "    <text dy=\"1.25em\" style=\"font-size: 0.8em; letter-spacing: 1px\">\n",
       "        <textPath xlink:href=\"#arrow-c89fc7a71ebb456dae1ef7ab8a9263f6-0-7\" class=\"displacy-label\" startOffset=\"50%\" side=\"left\" fill=\"currentColor\" text-anchor=\"middle\">aux</textPath>\n",
       "    </text>\n",
       "    <path class=\"displacy-arrowhead\" d=\"M1870,304.0 L1862,292.0 1878,292.0\" fill=\"currentColor\"/>\n",
       "</g>\n",
       "\n",
       "<g class=\"displacy-arrow\">\n",
       "    <path class=\"displacy-arc\" id=\"arrow-c89fc7a71ebb456dae1ef7ab8a9263f6-0-8\" stroke-width=\"2px\" d=\"M2070,302.0 C2070,202.0 2240.0,202.0 2240.0,302.0\" fill=\"none\" stroke=\"currentColor\"/>\n",
       "    <text dy=\"1.25em\" style=\"font-size: 0.8em; letter-spacing: 1px\">\n",
       "        <textPath xlink:href=\"#arrow-c89fc7a71ebb456dae1ef7ab8a9263f6-0-8\" class=\"displacy-label\" startOffset=\"50%\" side=\"left\" fill=\"currentColor\" text-anchor=\"middle\">mark</textPath>\n",
       "    </text>\n",
       "    <path class=\"displacy-arrowhead\" d=\"M2070,304.0 L2062,292.0 2078,292.0\" fill=\"currentColor\"/>\n",
       "</g>\n",
       "\n",
       "<g class=\"displacy-arrow\">\n",
       "    <path class=\"displacy-arc\" id=\"arrow-c89fc7a71ebb456dae1ef7ab8a9263f6-0-9\" stroke-width=\"2px\" d=\"M2470,302.0 C2470,102.0 2845.0,102.0 2845.0,302.0\" fill=\"none\" stroke=\"currentColor\"/>\n",
       "    <text dy=\"1.25em\" style=\"font-size: 0.8em; letter-spacing: 1px\">\n",
       "        <textPath xlink:href=\"#arrow-c89fc7a71ebb456dae1ef7ab8a9263f6-0-9\" class=\"displacy-label\" startOffset=\"50%\" side=\"left\" fill=\"currentColor\" text-anchor=\"middle\">mark</textPath>\n",
       "    </text>\n",
       "    <path class=\"displacy-arrowhead\" d=\"M2470,304.0 L2462,292.0 2478,292.0\" fill=\"currentColor\"/>\n",
       "</g>\n",
       "\n",
       "<g class=\"displacy-arrow\">\n",
       "    <path class=\"displacy-arc\" id=\"arrow-c89fc7a71ebb456dae1ef7ab8a9263f6-0-10\" stroke-width=\"2px\" d=\"M2670,302.0 C2670,202.0 2840.0,202.0 2840.0,302.0\" fill=\"none\" stroke=\"currentColor\"/>\n",
       "    <text dy=\"1.25em\" style=\"font-size: 0.8em; letter-spacing: 1px\">\n",
       "        <textPath xlink:href=\"#arrow-c89fc7a71ebb456dae1ef7ab8a9263f6-0-10\" class=\"displacy-label\" startOffset=\"50%\" side=\"left\" fill=\"currentColor\" text-anchor=\"middle\">cop</textPath>\n",
       "    </text>\n",
       "    <path class=\"displacy-arrowhead\" d=\"M2670,304.0 L2662,292.0 2678,292.0\" fill=\"currentColor\"/>\n",
       "</g>\n",
       "\n",
       "<g class=\"displacy-arrow\">\n",
       "    <path class=\"displacy-arc\" id=\"arrow-c89fc7a71ebb456dae1ef7ab8a9263f6-0-11\" stroke-width=\"2px\" d=\"M2270,302.0 C2270,2.0 2850.0,2.0 2850.0,302.0\" fill=\"none\" stroke=\"currentColor\"/>\n",
       "    <text dy=\"1.25em\" style=\"font-size: 0.8em; letter-spacing: 1px\">\n",
       "        <textPath xlink:href=\"#arrow-c89fc7a71ebb456dae1ef7ab8a9263f6-0-11\" class=\"displacy-label\" startOffset=\"50%\" side=\"left\" fill=\"currentColor\" text-anchor=\"middle\">ccomp</textPath>\n",
       "    </text>\n",
       "    <path class=\"displacy-arrowhead\" d=\"M2850.0,304.0 L2858.0,292.0 2842.0,292.0\" fill=\"currentColor\"/>\n",
       "</g>\n",
       "</svg></span>"
      ],
      "text/plain": [
       "<IPython.core.display.HTML object>"
      ]
     },
     "metadata": {},
     "output_type": "display_data"
    }
   ],
   "source": [
    "from spacy import displacy \n",
    "\n",
    "displacy.render(doc, style=\"dep\", jupyter=True, options = {'distance': 200})"
   ]
  },
  {
   "cell_type": "markdown",
   "metadata": {
    "slideshow": {
     "slide_type": "slide"
    }
   },
   "source": [
    "### 🤓 Recapitulando: Hoy aprendímos...\n",
    "\n",
    "- Herramientas generales de limpieza de texto\n",
    "    - Métodos básicos utiles de Python\n",
    "    - RegEx\n",
    "    - Traducción\n",
    "    - Funciones utiles para Twitter\n",
    "    - Emojis\n",
    "\n",
    "- Herramientas específicas de pre-procesamiento de texto en NLP\n",
    "    - Palabras vacías\n",
    "    - Tokenización\n",
    "    - Stemming\n",
    "    - Lematización\n",
    "    - Etiquetado gramatical"
   ]
  },
  {
   "cell_type": "markdown",
   "metadata": {
    "slideshow": {
     "slide_type": "slide"
    }
   },
   "source": [
    "<img src='../img/dragonball/7.jpeg' style='height:600px; float: left; margin: 0px 15px 15px 0px'>\n",
    "\n",
    "• **Módulo 1**: &nbsp;&nbsp;&nbsp;&nbsp; Introducción ✅ <br>\n",
    "• **Módulo 2**: &nbsp;&nbsp;&nbsp;&nbsp; Configuración de ambiente de desarrollo ✅ <br>\n",
    "• **Módulo 3**: &nbsp;&nbsp;&nbsp;&nbsp; Repaso de Python ✅ <br>\n",
    "• **Módulo 4**: &nbsp;&nbsp;&nbsp;&nbsp; Panorama general del Aprendizaje Automático (Machine Learning) ✅ <br>\n",
    "• **Módulo 5**: &nbsp;&nbsp;&nbsp;&nbsp; ¿Cómo adquirir datos? ✅ <br>\n",
    "• **Módulo 6**: &nbsp;&nbsp;&nbsp;&nbsp; Cuenta de desarrollador de Twitter ✅ <br>\n",
    "• **Módulo 7**: &nbsp;&nbsp;&nbsp;&nbsp; Web Scraping ✅<br>\n",
    "• **Módulo 8**: &nbsp;&nbsp;&nbsp;&nbsp; De palabras a vectores <br>"
   ]
  }
 ],
 "metadata": {
  "celltoolbar": "Slideshow",
  "kernelspec": {
   "display_name": "Python 3 (ipykernel)",
   "language": "python",
   "name": "python3"
  },
  "language_info": {
   "codemirror_mode": {
    "name": "ipython",
    "version": 3
   },
   "file_extension": ".py",
   "mimetype": "text/x-python",
   "name": "python",
   "nbconvert_exporter": "python",
   "pygments_lexer": "ipython3",
   "version": "3.9.13"
  }
 },
 "nbformat": 4,
 "nbformat_minor": 2
}
