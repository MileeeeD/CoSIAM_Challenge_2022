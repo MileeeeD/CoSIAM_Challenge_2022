{
 "cells": [
  {
   "cell_type": "markdown",
   "id": "ac3b37c1",
   "metadata": {
    "slideshow": {
     "slide_type": "slide"
    }
   },
   "source": [
    "<center><img src='../img/logo_cosiam/LogoCoSIAM_COL.png' style='height:230px;  margin: 0px 15px 15px 0px'></center>\n",
    "\n",
    "# Módulo 3: Repaso de Python\n"
   ]
  },
  {
   "cell_type": "markdown",
   "id": "6f6782c3",
   "metadata": {
    "slideshow": {
     "slide_type": "slide"
    }
   },
   "source": [
    "# Python\n",
    "\n",
    "<br>\n",
    "<img src='../img/clase03/python.png' style='height:300px; float: left; margin: 0px 15px 15px 0px'> \n",
    "\n",
    "• Lenguaje de programación <br>\n",
    "• Muy popular en el campo de la ciencia de datos <br>\n",
    "• Reconocido por su legibilidad <br>"
   ]
  },
  {
   "cell_type": "markdown",
   "id": "e1010ef7",
   "metadata": {
    "slideshow": {
     "slide_type": "slide"
    }
   },
   "source": [
    "# Tipos de archivo: `.py` vs `.ipynb`\n",
    "\n",
    "• `ipynb`: Jupyter Notebook. Necesitas tener instalado Jupyter para poder ejecutar. Ideal para realizar experimentos e interactuar con ellos.\n",
    "\n",
    "• `py`: Script. Se ejecutan desde la **terminal**. Se pueden crear usando un editor de código (ejemplo: Visual Studio Code). Ideal para escribir código en producción. "
   ]
  },
  {
   "cell_type": "markdown",
   "id": "a5edd8d4",
   "metadata": {
    "slideshow": {
     "slide_type": "slide"
    }
   },
   "source": [
    "# Código"
   ]
  },
  {
   "cell_type": "markdown",
   "id": "fe14fb0c",
   "metadata": {
    "slideshow": {
     "slide_type": "slide"
    }
   },
   "source": [
    "# Variables"
   ]
  },
  {
   "cell_type": "code",
   "execution_count": 7,
   "id": "8b88dd83",
   "metadata": {},
   "outputs": [],
   "source": [
    "mi_variable = 23"
   ]
  },
  {
   "cell_type": "code",
   "execution_count": 8,
   "id": "a8c5a0e7",
   "metadata": {},
   "outputs": [
    {
     "name": "stdout",
     "output_type": "stream",
     "text": [
      "23\n"
     ]
    }
   ],
   "source": [
    "print(mi_variable)"
   ]
  },
  {
   "cell_type": "code",
   "execution_count": 9,
   "id": "64cce369",
   "metadata": {},
   "outputs": [
    {
     "data": {
      "text/plain": [
       "26"
      ]
     },
     "execution_count": 9,
     "metadata": {},
     "output_type": "execute_result"
    }
   ],
   "source": [
    "mi_variable + 3"
   ]
  },
  {
   "cell_type": "code",
   "execution_count": 10,
   "id": "0c4de63c",
   "metadata": {},
   "outputs": [
    {
     "name": "stdout",
     "output_type": "stream",
     "text": [
      "Hola, mi número favorito es 23\n"
     ]
    }
   ],
   "source": [
    "print(f\"Hola, mi número favorito es {mi_variable}\")"
   ]
  },
  {
   "cell_type": "code",
   "execution_count": 11,
   "id": "588b27a6",
   "metadata": {},
   "outputs": [
    {
     "data": {
      "text/plain": [
       "int"
      ]
     },
     "execution_count": 11,
     "metadata": {},
     "output_type": "execute_result"
    }
   ],
   "source": [
    "type(mi_variable)"
   ]
  },
  {
   "cell_type": "code",
   "execution_count": 12,
   "id": "0ec5f1ee",
   "metadata": {},
   "outputs": [],
   "source": [
    "mi_cadena = \"Vamos a buscar las esferas del dragon\""
   ]
  },
  {
   "cell_type": "code",
   "execution_count": 14,
   "id": "27554452",
   "metadata": {},
   "outputs": [
    {
     "name": "stdout",
     "output_type": "stream",
     "text": [
      "Vamos a buscar las esferas del dragon\n"
     ]
    }
   ],
   "source": [
    "print(mi_cadena)"
   ]
  },
  {
   "cell_type": "code",
   "execution_count": 15,
   "id": "e99217d1",
   "metadata": {},
   "outputs": [
    {
     "data": {
      "text/plain": [
       "str"
      ]
     },
     "execution_count": 15,
     "metadata": {},
     "output_type": "execute_result"
    }
   ],
   "source": [
    "type(mi_cadena)"
   ]
  },
  {
   "cell_type": "code",
   "execution_count": 17,
   "id": "57bce8af",
   "metadata": {},
   "outputs": [],
   "source": [
    "cadena = mi_cadena"
   ]
  },
  {
   "cell_type": "code",
   "execution_count": 19,
   "id": "48cb0aa1",
   "metadata": {},
   "outputs": [
    {
     "data": {
      "text/plain": [
       "['Vamos', 'a', 'buscar', 'las', 'esferas', 'del', 'dragon']"
      ]
     },
     "execution_count": 19,
     "metadata": {},
     "output_type": "execute_result"
    }
   ],
   "source": [
    "cadena.split()"
   ]
  },
  {
   "cell_type": "code",
   "execution_count": 20,
   "id": "0a319161",
   "metadata": {},
   "outputs": [
    {
     "data": {
      "text/plain": [
       "['V', 'mos ', ' busc', 'r l', 's esfer', 's del dr', 'gon']"
      ]
     },
     "execution_count": 20,
     "metadata": {},
     "output_type": "execute_result"
    }
   ],
   "source": [
    "cadena.split(\"a\")"
   ]
  },
  {
   "cell_type": "code",
   "execution_count": 22,
   "id": "2951e87b",
   "metadata": {},
   "outputs": [],
   "source": [
    "palabras = cadena.split()"
   ]
  },
  {
   "cell_type": "code",
   "execution_count": 23,
   "id": "d826e9f2",
   "metadata": {},
   "outputs": [
    {
     "data": {
      "text/plain": [
       "['Vamos', 'a', 'buscar', 'las', 'esferas', 'del', 'dragon']"
      ]
     },
     "execution_count": 23,
     "metadata": {},
     "output_type": "execute_result"
    }
   ],
   "source": [
    "palabras"
   ]
  },
  {
   "cell_type": "code",
   "execution_count": 24,
   "id": "c28cb58b",
   "metadata": {},
   "outputs": [
    {
     "data": {
      "text/plain": [
       "list"
      ]
     },
     "execution_count": 24,
     "metadata": {},
     "output_type": "execute_result"
    }
   ],
   "source": [
    "type(palabras)"
   ]
  },
  {
   "cell_type": "code",
   "execution_count": 26,
   "id": "dec2fa13",
   "metadata": {},
   "outputs": [
    {
     "data": {
      "text/plain": [
       "6"
      ]
     },
     "execution_count": 26,
     "metadata": {},
     "output_type": "execute_result"
    }
   ],
   "source": [
    "3 * 2"
   ]
  },
  {
   "cell_type": "code",
   "execution_count": 28,
   "id": "3f6a58a0",
   "metadata": {},
   "outputs": [
    {
     "data": {
      "text/plain": [
       "'3hola3hola'"
      ]
     },
     "execution_count": 28,
     "metadata": {},
     "output_type": "execute_result"
    }
   ],
   "source": [
    "\"3hola\" * 2 "
   ]
  },
  {
   "cell_type": "code",
   "execution_count": 29,
   "id": "24e926a5",
   "metadata": {},
   "outputs": [
    {
     "data": {
      "text/plain": [
       "6"
      ]
     },
     "execution_count": 29,
     "metadata": {},
     "output_type": "execute_result"
    }
   ],
   "source": [
    "int(\"3\") * 2"
   ]
  },
  {
   "cell_type": "markdown",
   "id": "95c8d5a7",
   "metadata": {
    "slideshow": {
     "slide_type": "slide"
    }
   },
   "source": [
    "# Listas"
   ]
  },
  {
   "cell_type": "code",
   "execution_count": 30,
   "id": "5c08505a",
   "metadata": {},
   "outputs": [
    {
     "data": {
      "text/plain": [
       "['Vamos', 'a', 'buscar', 'las', 'esferas', 'del', 'dragon']"
      ]
     },
     "execution_count": 30,
     "metadata": {},
     "output_type": "execute_result"
    }
   ],
   "source": [
    "palabras"
   ]
  },
  {
   "cell_type": "code",
   "execution_count": 31,
   "id": "ae28eb0f",
   "metadata": {},
   "outputs": [
    {
     "data": {
      "text/plain": [
       "'a'"
      ]
     },
     "execution_count": 31,
     "metadata": {},
     "output_type": "execute_result"
    }
   ],
   "source": [
    "palabras[1]"
   ]
  },
  {
   "cell_type": "code",
   "execution_count": 32,
   "id": "1c9ae33b",
   "metadata": {},
   "outputs": [
    {
     "data": {
      "text/plain": [
       "'Vamos'"
      ]
     },
     "execution_count": 32,
     "metadata": {},
     "output_type": "execute_result"
    }
   ],
   "source": [
    "palabras[0]"
   ]
  },
  {
   "cell_type": "code",
   "execution_count": 34,
   "id": "eacc6711",
   "metadata": {},
   "outputs": [
    {
     "data": {
      "text/plain": [
       "'dragon'"
      ]
     },
     "execution_count": 34,
     "metadata": {},
     "output_type": "execute_result"
    }
   ],
   "source": [
    "palabras[-1]"
   ]
  },
  {
   "cell_type": "code",
   "execution_count": 35,
   "id": "a8c7f2a4",
   "metadata": {},
   "outputs": [
    {
     "data": {
      "text/plain": [
       "['buscar', 'las', 'esferas']"
      ]
     },
     "execution_count": 35,
     "metadata": {},
     "output_type": "execute_result"
    }
   ],
   "source": [
    "palabras[2:5]"
   ]
  },
  {
   "cell_type": "code",
   "execution_count": 36,
   "id": "5655dbbe",
   "metadata": {},
   "outputs": [
    {
     "data": {
      "text/plain": [
       "['buscar', 'las', 'esferas', 'del']"
      ]
     },
     "execution_count": 36,
     "metadata": {},
     "output_type": "execute_result"
    }
   ],
   "source": [
    "n = 6\n",
    "\n",
    "palabras[2:n]"
   ]
  },
  {
   "cell_type": "markdown",
   "id": "d05419b4",
   "metadata": {
    "slideshow": {
     "slide_type": "slide"
    }
   },
   "source": [
    "# Condicionales"
   ]
  },
  {
   "cell_type": "code",
   "execution_count": 37,
   "id": "5ff2b996",
   "metadata": {},
   "outputs": [],
   "source": [
    "if 3 > 5:\n",
    "    print(\"Tres es mayor a cinco\")"
   ]
  },
  {
   "cell_type": "code",
   "execution_count": 38,
   "id": "9d857f4a",
   "metadata": {},
   "outputs": [
    {
     "name": "stdout",
     "output_type": "stream",
     "text": [
      "Tres es menor a cinco\n"
     ]
    }
   ],
   "source": [
    "if 3 < 5:\n",
    "    print(\"Tres es menor a cinco\")"
   ]
  },
  {
   "cell_type": "code",
   "execution_count": 39,
   "id": "ef45ac8e",
   "metadata": {},
   "outputs": [
    {
     "name": "stdout",
     "output_type": "stream",
     "text": [
      "Tres es menor a cinco\n"
     ]
    }
   ],
   "source": [
    "if 3 > 5:\n",
    "    print(\"Tres es mayor a cinco\")\n",
    "else:\n",
    "    print(\"Tres es menor a cinco\")"
   ]
  },
  {
   "cell_type": "code",
   "execution_count": 40,
   "id": "0e6cebc2",
   "metadata": {},
   "outputs": [
    {
     "data": {
      "text/plain": [
       "['Vamos', 'a', 'buscar', 'las', 'esferas', 'del', 'dragon']"
      ]
     },
     "execution_count": 40,
     "metadata": {},
     "output_type": "execute_result"
    }
   ],
   "source": [
    "palabras"
   ]
  },
  {
   "cell_type": "code",
   "execution_count": 43,
   "id": "b5e1a9ad",
   "metadata": {},
   "outputs": [],
   "source": [
    "para_buscar = 'gokú'"
   ]
  },
  {
   "cell_type": "code",
   "execution_count": 44,
   "id": "79b209a5",
   "metadata": {},
   "outputs": [
    {
     "name": "stdout",
     "output_type": "stream",
     "text": [
      "gokú NO está en palabras\n"
     ]
    }
   ],
   "source": [
    "if para_buscar in palabras:\n",
    "    print(f\"{para_buscar} está en palabras\")\n",
    "else:\n",
    "    print(f\"{para_buscar} NO está en palabras\")"
   ]
  },
  {
   "cell_type": "markdown",
   "id": "099250b3",
   "metadata": {
    "slideshow": {
     "slide_type": "slide"
    }
   },
   "source": [
    "# Bucles"
   ]
  },
  {
   "cell_type": "code",
   "execution_count": 48,
   "id": "f718c74f",
   "metadata": {},
   "outputs": [
    {
     "name": "stdout",
     "output_type": "stream",
     "text": [
      "Vamos\n",
      "a\n",
      "buscar\n",
      "las\n",
      "esferas\n",
      "del\n",
      "dragon\n"
     ]
    }
   ],
   "source": [
    "for palabra in palabras:\n",
    "    print(palabra)"
   ]
  },
  {
   "cell_type": "code",
   "execution_count": 49,
   "id": "f445f5c0",
   "metadata": {},
   "outputs": [
    {
     "name": "stdout",
     "output_type": "stream",
     "text": [
      "La palabra es: Vamos\n",
      "La palabra es: a\n",
      "La palabra es: buscar\n",
      "La palabra es: las\n",
      "La palabra es: esferas\n",
      "La palabra es: del\n",
      "La palabra es: dragon\n"
     ]
    }
   ],
   "source": [
    "for palabra in palabras:\n",
    "    print(f\"La palabra es: {palabra}\")"
   ]
  },
  {
   "cell_type": "code",
   "execution_count": 50,
   "id": "e1686f10",
   "metadata": {},
   "outputs": [
    {
     "name": "stdout",
     "output_type": "stream",
     "text": [
      "La palabra es: Vamos y su número es 0\n",
      "La palabra es: a y su número es 1\n",
      "La palabra es: buscar y su número es 2\n",
      "La palabra es: las y su número es 3\n",
      "La palabra es: esferas y su número es 4\n",
      "La palabra es: del y su número es 5\n",
      "La palabra es: dragon y su número es 6\n"
     ]
    }
   ],
   "source": [
    "for i,palabra in enumerate(palabras):\n",
    "    print(f\"La palabra es: {palabra} y su número es {i}\")"
   ]
  },
  {
   "cell_type": "code",
   "execution_count": 55,
   "id": "37ed9b53",
   "metadata": {},
   "outputs": [
    {
     "name": "stdout",
     "output_type": "stream",
     "text": [
      "5\n",
      "6\n",
      "7\n",
      "8\n",
      "9\n",
      "10\n",
      "11\n",
      "12\n",
      "13\n",
      "14\n",
      "15\n",
      ":)\n"
     ]
    }
   ],
   "source": [
    "for numero in range(5,16):\n",
    "    print(numero)\n",
    "    \n",
    "print(\":)\")"
   ]
  },
  {
   "cell_type": "code",
   "execution_count": 58,
   "id": "0b472d83",
   "metadata": {},
   "outputs": [
    {
     "name": "stdout",
     "output_type": "stream",
     "text": [
      "El número 5 es impar\n",
      "El número 6 es par\n",
      "El número 7 es impar\n",
      "El número 8 es par\n",
      "El número 9 es impar\n",
      "El número 10 es par\n",
      "El número 11 es impar\n",
      "El número 12 es par\n",
      "El número 13 es impar\n",
      "El número 14 es par\n",
      "El número 15 es impar\n"
     ]
    }
   ],
   "source": [
    "for numero in range(5,16):\n",
    "    if numero % 2 == 0:\n",
    "        print(f\"El número {numero} es par\")\n",
    "    else:\n",
    "        print(f\"El número {numero} es impar\")"
   ]
  },
  {
   "cell_type": "markdown",
   "id": "38843707",
   "metadata": {
    "slideshow": {
     "slide_type": "slide"
    }
   },
   "source": [
    "# Listas de comprensión"
   ]
  },
  {
   "cell_type": "code",
   "execution_count": 64,
   "id": "405873c6",
   "metadata": {},
   "outputs": [
    {
     "name": "stdout",
     "output_type": "stream",
     "text": [
      "['VAMOS', 'A', 'BUSCAR', 'LAS', 'ESFERAS', 'DEL', 'DRAGON']\n"
     ]
    }
   ],
   "source": [
    "mi_nueva_lista = []\n",
    "\n",
    "for palabra in palabras:\n",
    "    mi_nueva_lista.append(palabra.upper())\n",
    "    \n",
    "print(mi_nueva_lista)"
   ]
  },
  {
   "cell_type": "code",
   "execution_count": 63,
   "id": "c702d347",
   "metadata": {},
   "outputs": [
    {
     "data": {
      "text/plain": [
       "['VAMOS', 'A', 'BUSCAR', 'LAS', 'ESFERAS', 'DEL', 'DRAGON']"
      ]
     },
     "execution_count": 63,
     "metadata": {},
     "output_type": "execute_result"
    }
   ],
   "source": [
    "[palabra.upper() for palabra in palabras]"
   ]
  },
  {
   "cell_type": "code",
   "execution_count": 69,
   "id": "90991862",
   "metadata": {},
   "outputs": [
    {
     "data": {
      "text/plain": [
       "[25, 49, 81, 121, 169, 225, 289, 361, 441]"
      ]
     },
     "execution_count": 69,
     "metadata": {},
     "output_type": "execute_result"
    }
   ],
   "source": [
    "[n**2 for n in range(5,23) if n % 2 == 1]"
   ]
  },
  {
   "cell_type": "code",
   "execution_count": 68,
   "id": "d129632a",
   "metadata": {
    "scrolled": true
   },
   "outputs": [
    {
     "data": {
      "text/plain": [
       "[36, 64, 100, 144, 196, 256, 324, 400, 484]"
      ]
     },
     "execution_count": 68,
     "metadata": {},
     "output_type": "execute_result"
    }
   ],
   "source": [
    "[n**2 for n in range(5,23) if n % 2 == 0]"
   ]
  },
  {
   "cell_type": "markdown",
   "id": "898c83a3",
   "metadata": {
    "slideshow": {
     "slide_type": "slide"
    }
   },
   "source": [
    "# Diccionarios\n",
    "\n",
    "- `keys` (llaves): únicas\n",
    "- `values` (valores): no necesariamente únicos "
   ]
  },
  {
   "cell_type": "code",
   "execution_count": 70,
   "id": "d3475745",
   "metadata": {},
   "outputs": [],
   "source": [
    "mi_dic = {}"
   ]
  },
  {
   "cell_type": "code",
   "execution_count": 71,
   "id": "706593f7",
   "metadata": {},
   "outputs": [],
   "source": [
    "mi_dic['verde'] = 'green'"
   ]
  },
  {
   "cell_type": "code",
   "execution_count": 72,
   "id": "18125a5b",
   "metadata": {},
   "outputs": [
    {
     "data": {
      "text/plain": [
       "{'verde': 'green'}"
      ]
     },
     "execution_count": 72,
     "metadata": {},
     "output_type": "execute_result"
    }
   ],
   "source": [
    "mi_dic"
   ]
  },
  {
   "cell_type": "code",
   "execution_count": 73,
   "id": "a0518b32",
   "metadata": {},
   "outputs": [],
   "source": [
    "mi_dic['azul'] = 'blue'"
   ]
  },
  {
   "cell_type": "code",
   "execution_count": 74,
   "id": "5aad5c62",
   "metadata": {},
   "outputs": [
    {
     "data": {
      "text/plain": [
       "{'verde': 'green', 'azul': 'blue'}"
      ]
     },
     "execution_count": 74,
     "metadata": {},
     "output_type": "execute_result"
    }
   ],
   "source": [
    "mi_dic"
   ]
  },
  {
   "cell_type": "code",
   "execution_count": 75,
   "id": "59454ca6",
   "metadata": {},
   "outputs": [],
   "source": [
    "mi_dic['verde2'] = 'green'"
   ]
  },
  {
   "cell_type": "code",
   "execution_count": 76,
   "id": "c40b7368",
   "metadata": {},
   "outputs": [
    {
     "data": {
      "text/plain": [
       "{'verde': 'green', 'azul': 'blue', 'verde2': 'green'}"
      ]
     },
     "execution_count": 76,
     "metadata": {},
     "output_type": "execute_result"
    }
   ],
   "source": [
    "mi_dic"
   ]
  },
  {
   "cell_type": "code",
   "execution_count": 77,
   "id": "aafa59b1",
   "metadata": {},
   "outputs": [],
   "source": [
    "mi_dic['verde'] = 'GREEN'"
   ]
  },
  {
   "cell_type": "code",
   "execution_count": 78,
   "id": "083def04",
   "metadata": {},
   "outputs": [
    {
     "data": {
      "text/plain": [
       "{'verde': 'GREEN', 'azul': 'blue', 'verde2': 'green'}"
      ]
     },
     "execution_count": 78,
     "metadata": {},
     "output_type": "execute_result"
    }
   ],
   "source": [
    "mi_dic"
   ]
  },
  {
   "cell_type": "markdown",
   "id": "92be057b",
   "metadata": {
    "slideshow": {
     "slide_type": "slide"
    }
   },
   "source": [
    "# Funciones"
   ]
  },
  {
   "cell_type": "code",
   "execution_count": 91,
   "id": "31f5edd5",
   "metadata": {},
   "outputs": [],
   "source": [
    "def mi_funcion(nombre):\n",
    "    nombre = nombre * 2\n",
    "    nombre = nombre.lower()\n",
    "    nombre = nombre.split(\"A\")\n",
    "    return (f\"Hola {nombre}\")"
   ]
  },
  {
   "cell_type": "code",
   "execution_count": 92,
   "id": "285394ea",
   "metadata": {},
   "outputs": [
    {
     "data": {
      "text/plain": [
       "\"Hola ['vivianaviviana']\""
      ]
     },
     "execution_count": 92,
     "metadata": {},
     "output_type": "execute_result"
    }
   ],
   "source": [
    "mi_funcion(\"Viviana\")"
   ]
  },
  {
   "cell_type": "code",
   "execution_count": 93,
   "id": "a8cd181e",
   "metadata": {},
   "outputs": [
    {
     "data": {
      "text/plain": [
       "\"Hola ['robertaroberta']\""
      ]
     },
     "execution_count": 93,
     "metadata": {},
     "output_type": "execute_result"
    }
   ],
   "source": [
    "mi_funcion(\"Roberta\")"
   ]
  },
  {
   "cell_type": "code",
   "execution_count": 94,
   "id": "d3d4aa41",
   "metadata": {},
   "outputs": [],
   "source": [
    "nombres = [\"Vegeta\", \"Piccolo\", \"Bulma\", \"Krillin\"]"
   ]
  },
  {
   "cell_type": "code",
   "execution_count": 96,
   "id": "4285b96d",
   "metadata": {},
   "outputs": [
    {
     "name": "stdout",
     "output_type": "stream",
     "text": [
      "Hola ['vegetavegeta']\n",
      "Hola ['piccolopiccolo']\n",
      "Hola ['bulmabulma']\n",
      "Hola ['krillinkrillin']\n"
     ]
    }
   ],
   "source": [
    "for nombre in nombres:\n",
    "    print(mi_funcion(nombre))"
   ]
  },
  {
   "cell_type": "code",
   "execution_count": 98,
   "id": "6e1999bc",
   "metadata": {},
   "outputs": [
    {
     "data": {
      "text/plain": [
       "[\"Hola ['vegetavegeta']\",\n",
       " \"Hola ['piccolopiccolo']\",\n",
       " \"Hola ['bulmabulma']\",\n",
       " \"Hola ['krillinkrillin']\"]"
      ]
     },
     "execution_count": 98,
     "metadata": {},
     "output_type": "execute_result"
    }
   ],
   "source": [
    "[mi_funcion(nombre) for nombre in nombres]"
   ]
  },
  {
   "cell_type": "markdown",
   "id": "2a4bf034",
   "metadata": {
    "slideshow": {
     "slide_type": "slide"
    }
   },
   "source": [
    "# Importar librerias"
   ]
  },
  {
   "cell_type": "markdown",
   "id": "8a764b7d",
   "metadata": {},
   "source": [
    "• Se pueden instalar librerias desde la terminal o desde el notebook"
   ]
  },
  {
   "cell_type": "code",
   "execution_count": 99,
   "id": "cc1af262",
   "metadata": {},
   "outputs": [
    {
     "name": "stdout",
     "output_type": "stream",
     "text": [
      "/Users/vivianamarquez/Desktop/CoSIAM_Challenge_2022/jupyter_notebooks/por_resolver\r\n"
     ]
    }
   ],
   "source": [
    "! pwd"
   ]
  },
  {
   "cell_type": "code",
   "execution_count": 50,
   "id": "d8a35c6c",
   "metadata": {},
   "outputs": [
    {
     "name": "stdout",
     "output_type": "stream",
     "text": [
      "Requirement already satisfied: pandas in /opt/anaconda3/envs/coSIAM2022/lib/python3.9/site-packages (1.5.0)\r\n",
      "Requirement already satisfied: python-dateutil>=2.8.1 in /opt/anaconda3/envs/coSIAM2022/lib/python3.9/site-packages (from pandas) (2.8.2)\r\n",
      "Requirement already satisfied: numpy>=1.20.3 in /opt/anaconda3/envs/coSIAM2022/lib/python3.9/site-packages (from pandas) (1.23.3)\r\n",
      "Requirement already satisfied: pytz>=2020.1 in /opt/anaconda3/envs/coSIAM2022/lib/python3.9/site-packages (from pandas) (2022.4)\r\n",
      "Requirement already satisfied: six>=1.5 in /opt/anaconda3/envs/coSIAM2022/lib/python3.9/site-packages (from python-dateutil>=2.8.1->pandas) (1.16.0)\r\n"
     ]
    }
   ],
   "source": [
    "! pip install pandas"
   ]
  },
  {
   "cell_type": "code",
   "execution_count": 101,
   "id": "098f1377",
   "metadata": {},
   "outputs": [],
   "source": [
    "import pandas as pd\n",
    "import seaborn as sns"
   ]
  },
  {
   "cell_type": "code",
   "execution_count": 102,
   "id": "6e5374d9",
   "metadata": {},
   "outputs": [],
   "source": [
    "sns.load_dataset?"
   ]
  },
  {
   "cell_type": "code",
   "execution_count": 103,
   "id": "d1694db6",
   "metadata": {},
   "outputs": [],
   "source": [
    "iris = sns.load_dataset('iris')"
   ]
  },
  {
   "cell_type": "code",
   "execution_count": 105,
   "id": "0fbed2d1",
   "metadata": {},
   "outputs": [
    {
     "data": {
      "text/html": [
       "<div>\n",
       "<style scoped>\n",
       "    .dataframe tbody tr th:only-of-type {\n",
       "        vertical-align: middle;\n",
       "    }\n",
       "\n",
       "    .dataframe tbody tr th {\n",
       "        vertical-align: top;\n",
       "    }\n",
       "\n",
       "    .dataframe thead th {\n",
       "        text-align: right;\n",
       "    }\n",
       "</style>\n",
       "<table border=\"1\" class=\"dataframe\">\n",
       "  <thead>\n",
       "    <tr style=\"text-align: right;\">\n",
       "      <th></th>\n",
       "      <th>sepal_length</th>\n",
       "      <th>sepal_width</th>\n",
       "      <th>petal_length</th>\n",
       "      <th>petal_width</th>\n",
       "      <th>species</th>\n",
       "    </tr>\n",
       "  </thead>\n",
       "  <tbody>\n",
       "    <tr>\n",
       "      <th>0</th>\n",
       "      <td>5.1</td>\n",
       "      <td>3.5</td>\n",
       "      <td>1.4</td>\n",
       "      <td>0.2</td>\n",
       "      <td>setosa</td>\n",
       "    </tr>\n",
       "    <tr>\n",
       "      <th>1</th>\n",
       "      <td>4.9</td>\n",
       "      <td>3.0</td>\n",
       "      <td>1.4</td>\n",
       "      <td>0.2</td>\n",
       "      <td>setosa</td>\n",
       "    </tr>\n",
       "    <tr>\n",
       "      <th>2</th>\n",
       "      <td>4.7</td>\n",
       "      <td>3.2</td>\n",
       "      <td>1.3</td>\n",
       "      <td>0.2</td>\n",
       "      <td>setosa</td>\n",
       "    </tr>\n",
       "    <tr>\n",
       "      <th>3</th>\n",
       "      <td>4.6</td>\n",
       "      <td>3.1</td>\n",
       "      <td>1.5</td>\n",
       "      <td>0.2</td>\n",
       "      <td>setosa</td>\n",
       "    </tr>\n",
       "    <tr>\n",
       "      <th>4</th>\n",
       "      <td>5.0</td>\n",
       "      <td>3.6</td>\n",
       "      <td>1.4</td>\n",
       "      <td>0.2</td>\n",
       "      <td>setosa</td>\n",
       "    </tr>\n",
       "  </tbody>\n",
       "</table>\n",
       "</div>"
      ],
      "text/plain": [
       "   sepal_length  sepal_width  petal_length  petal_width species\n",
       "0           5.1          3.5           1.4          0.2  setosa\n",
       "1           4.9          3.0           1.4          0.2  setosa\n",
       "2           4.7          3.2           1.3          0.2  setosa\n",
       "3           4.6          3.1           1.5          0.2  setosa\n",
       "4           5.0          3.6           1.4          0.2  setosa"
      ]
     },
     "execution_count": 105,
     "metadata": {},
     "output_type": "execute_result"
    }
   ],
   "source": [
    "iris.head(5)"
   ]
  },
  {
   "cell_type": "markdown",
   "id": "0cf3c1f6",
   "metadata": {
    "slideshow": {
     "slide_type": "slide"
    }
   },
   "source": [
    "# Funciones lambda"
   ]
  },
  {
   "cell_type": "code",
   "execution_count": 107,
   "id": "d3e9b2b4",
   "metadata": {},
   "outputs": [
    {
     "data": {
      "text/plain": [
       "0      0.04\n",
       "1      0.04\n",
       "2      0.04\n",
       "3      0.04\n",
       "4      0.04\n",
       "       ... \n",
       "145    5.29\n",
       "146    3.61\n",
       "147    4.00\n",
       "148    5.29\n",
       "149    3.24\n",
       "Name: petal_width, Length: 150, dtype: float64"
      ]
     },
     "execution_count": 107,
     "metadata": {},
     "output_type": "execute_result"
    }
   ],
   "source": [
    "iris['petal_width'].apply(lambda x: x**2)"
   ]
  },
  {
   "cell_type": "code",
   "execution_count": 109,
   "id": "4668177b",
   "metadata": {},
   "outputs": [],
   "source": [
    "iris['nueva_col'] = iris['petal_width'].apply(lambda x: x**2)"
   ]
  },
  {
   "cell_type": "code",
   "execution_count": 110,
   "id": "9713947a",
   "metadata": {},
   "outputs": [
    {
     "data": {
      "text/html": [
       "<div>\n",
       "<style scoped>\n",
       "    .dataframe tbody tr th:only-of-type {\n",
       "        vertical-align: middle;\n",
       "    }\n",
       "\n",
       "    .dataframe tbody tr th {\n",
       "        vertical-align: top;\n",
       "    }\n",
       "\n",
       "    .dataframe thead th {\n",
       "        text-align: right;\n",
       "    }\n",
       "</style>\n",
       "<table border=\"1\" class=\"dataframe\">\n",
       "  <thead>\n",
       "    <tr style=\"text-align: right;\">\n",
       "      <th></th>\n",
       "      <th>sepal_length</th>\n",
       "      <th>sepal_width</th>\n",
       "      <th>petal_length</th>\n",
       "      <th>petal_width</th>\n",
       "      <th>species</th>\n",
       "      <th>nueva_col</th>\n",
       "    </tr>\n",
       "  </thead>\n",
       "  <tbody>\n",
       "    <tr>\n",
       "      <th>0</th>\n",
       "      <td>5.1</td>\n",
       "      <td>3.5</td>\n",
       "      <td>1.4</td>\n",
       "      <td>0.2</td>\n",
       "      <td>setosa</td>\n",
       "      <td>0.04</td>\n",
       "    </tr>\n",
       "    <tr>\n",
       "      <th>1</th>\n",
       "      <td>4.9</td>\n",
       "      <td>3.0</td>\n",
       "      <td>1.4</td>\n",
       "      <td>0.2</td>\n",
       "      <td>setosa</td>\n",
       "      <td>0.04</td>\n",
       "    </tr>\n",
       "    <tr>\n",
       "      <th>2</th>\n",
       "      <td>4.7</td>\n",
       "      <td>3.2</td>\n",
       "      <td>1.3</td>\n",
       "      <td>0.2</td>\n",
       "      <td>setosa</td>\n",
       "      <td>0.04</td>\n",
       "    </tr>\n",
       "    <tr>\n",
       "      <th>3</th>\n",
       "      <td>4.6</td>\n",
       "      <td>3.1</td>\n",
       "      <td>1.5</td>\n",
       "      <td>0.2</td>\n",
       "      <td>setosa</td>\n",
       "      <td>0.04</td>\n",
       "    </tr>\n",
       "    <tr>\n",
       "      <th>4</th>\n",
       "      <td>5.0</td>\n",
       "      <td>3.6</td>\n",
       "      <td>1.4</td>\n",
       "      <td>0.2</td>\n",
       "      <td>setosa</td>\n",
       "      <td>0.04</td>\n",
       "    </tr>\n",
       "  </tbody>\n",
       "</table>\n",
       "</div>"
      ],
      "text/plain": [
       "   sepal_length  sepal_width  petal_length  petal_width species  nueva_col\n",
       "0           5.1          3.5           1.4          0.2  setosa       0.04\n",
       "1           4.9          3.0           1.4          0.2  setosa       0.04\n",
       "2           4.7          3.2           1.3          0.2  setosa       0.04\n",
       "3           4.6          3.1           1.5          0.2  setosa       0.04\n",
       "4           5.0          3.6           1.4          0.2  setosa       0.04"
      ]
     },
     "execution_count": 110,
     "metadata": {},
     "output_type": "execute_result"
    }
   ],
   "source": [
    "iris.head(5)"
   ]
  },
  {
   "cell_type": "code",
   "execution_count": 111,
   "id": "62e25830",
   "metadata": {},
   "outputs": [],
   "source": [
    "iris['nueva_col2'] = iris['species'].apply(lambda x: mi_funcion(x))"
   ]
  },
  {
   "cell_type": "code",
   "execution_count": 112,
   "id": "baaa9073",
   "metadata": {},
   "outputs": [
    {
     "data": {
      "text/html": [
       "<div>\n",
       "<style scoped>\n",
       "    .dataframe tbody tr th:only-of-type {\n",
       "        vertical-align: middle;\n",
       "    }\n",
       "\n",
       "    .dataframe tbody tr th {\n",
       "        vertical-align: top;\n",
       "    }\n",
       "\n",
       "    .dataframe thead th {\n",
       "        text-align: right;\n",
       "    }\n",
       "</style>\n",
       "<table border=\"1\" class=\"dataframe\">\n",
       "  <thead>\n",
       "    <tr style=\"text-align: right;\">\n",
       "      <th></th>\n",
       "      <th>sepal_length</th>\n",
       "      <th>sepal_width</th>\n",
       "      <th>petal_length</th>\n",
       "      <th>petal_width</th>\n",
       "      <th>species</th>\n",
       "      <th>nueva_col</th>\n",
       "      <th>nueva_col2</th>\n",
       "    </tr>\n",
       "  </thead>\n",
       "  <tbody>\n",
       "    <tr>\n",
       "      <th>0</th>\n",
       "      <td>5.1</td>\n",
       "      <td>3.5</td>\n",
       "      <td>1.4</td>\n",
       "      <td>0.2</td>\n",
       "      <td>setosa</td>\n",
       "      <td>0.04</td>\n",
       "      <td>Hola ['setosasetosa']</td>\n",
       "    </tr>\n",
       "    <tr>\n",
       "      <th>1</th>\n",
       "      <td>4.9</td>\n",
       "      <td>3.0</td>\n",
       "      <td>1.4</td>\n",
       "      <td>0.2</td>\n",
       "      <td>setosa</td>\n",
       "      <td>0.04</td>\n",
       "      <td>Hola ['setosasetosa']</td>\n",
       "    </tr>\n",
       "    <tr>\n",
       "      <th>2</th>\n",
       "      <td>4.7</td>\n",
       "      <td>3.2</td>\n",
       "      <td>1.3</td>\n",
       "      <td>0.2</td>\n",
       "      <td>setosa</td>\n",
       "      <td>0.04</td>\n",
       "      <td>Hola ['setosasetosa']</td>\n",
       "    </tr>\n",
       "    <tr>\n",
       "      <th>3</th>\n",
       "      <td>4.6</td>\n",
       "      <td>3.1</td>\n",
       "      <td>1.5</td>\n",
       "      <td>0.2</td>\n",
       "      <td>setosa</td>\n",
       "      <td>0.04</td>\n",
       "      <td>Hola ['setosasetosa']</td>\n",
       "    </tr>\n",
       "    <tr>\n",
       "      <th>4</th>\n",
       "      <td>5.0</td>\n",
       "      <td>3.6</td>\n",
       "      <td>1.4</td>\n",
       "      <td>0.2</td>\n",
       "      <td>setosa</td>\n",
       "      <td>0.04</td>\n",
       "      <td>Hola ['setosasetosa']</td>\n",
       "    </tr>\n",
       "  </tbody>\n",
       "</table>\n",
       "</div>"
      ],
      "text/plain": [
       "   sepal_length  sepal_width  petal_length  petal_width species  nueva_col  \\\n",
       "0           5.1          3.5           1.4          0.2  setosa       0.04   \n",
       "1           4.9          3.0           1.4          0.2  setosa       0.04   \n",
       "2           4.7          3.2           1.3          0.2  setosa       0.04   \n",
       "3           4.6          3.1           1.5          0.2  setosa       0.04   \n",
       "4           5.0          3.6           1.4          0.2  setosa       0.04   \n",
       "\n",
       "              nueva_col2  \n",
       "0  Hola ['setosasetosa']  \n",
       "1  Hola ['setosasetosa']  \n",
       "2  Hola ['setosasetosa']  \n",
       "3  Hola ['setosasetosa']  \n",
       "4  Hola ['setosasetosa']  "
      ]
     },
     "execution_count": 112,
     "metadata": {},
     "output_type": "execute_result"
    }
   ],
   "source": [
    "iris.head(5)"
   ]
  },
  {
   "cell_type": "markdown",
   "id": "6a6889c8",
   "metadata": {
    "slideshow": {
     "slide_type": "slide"
    }
   },
   "source": [
    "### 🤓 Recapitulando: Hoy aprendímos...\n",
    "- Básicos de Python"
   ]
  },
  {
   "cell_type": "markdown",
   "id": "57cbb280",
   "metadata": {
    "slideshow": {
     "slide_type": "slide"
    }
   },
   "source": [
    "<img src='../img/dragonball/3.jpeg' style='height:600px; float: left; margin: 0px 15px 15px 0px'>\n",
    "\n",
    "• **Módulo 1**: &nbsp;&nbsp;&nbsp;&nbsp; Introducción ✅ <br>\n",
    "• **Módulo 2**: &nbsp;&nbsp;&nbsp;&nbsp; Configuración de ambiente de desarrollo ✅ <br>\n",
    "• **Módulo 3**: &nbsp;&nbsp;&nbsp;&nbsp; Repaso de Python ✅ <br>"
   ]
  }
 ],
 "metadata": {
  "kernelspec": {
   "display_name": "Python 3 (ipykernel)",
   "language": "python",
   "name": "python3"
  },
  "language_info": {
   "codemirror_mode": {
    "name": "ipython",
    "version": 3
   },
   "file_extension": ".py",
   "mimetype": "text/x-python",
   "name": "python",
   "nbconvert_exporter": "python",
   "pygments_lexer": "ipython3",
   "version": "3.9.13"
  }
 },
 "nbformat": 4,
 "nbformat_minor": 5
}
