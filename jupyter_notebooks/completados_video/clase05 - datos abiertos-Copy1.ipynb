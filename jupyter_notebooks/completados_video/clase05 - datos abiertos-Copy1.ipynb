{
 "cells": [
  {
   "cell_type": "markdown",
   "metadata": {
    "slideshow": {
     "slide_type": "slide"
    }
   },
   "source": [
    "<center><img src='../img/logo_cosiam/LogoCoSIAM_COL.png' style='height:230px;  margin: 0px 15px 15px 0px'></center>\n",
    "\n",
    "# Módulo 5: ¿Cómo adquirir datos?\n",
    "\n",
    "- Adquisición de datos, parte I: Cómo leer datos en diferentes formatos usando Python\n",
    "- Adquisición de datos, parte II: Datos abiertos"
   ]
  },
  {
   "cell_type": "markdown",
   "metadata": {
    "slideshow": {
     "slide_type": "slide"
    }
   },
   "source": [
    "# En capítulos anteriores...\n",
    "\n",
    "<br>\n",
    "<center><img src='../img/pipeline/pipeline1.png' style='height:600px;'> </centeR>\n"
   ]
  },
  {
   "cell_type": "markdown",
   "metadata": {
    "slideshow": {
     "slide_type": "slide"
    }
   },
   "source": [
    "### 👷🏽‍♀️ Adquisición de datos: Un caso ideal\n",
    "\n",
    "<br>\n",
    "\n",
    "<center><img src='../img/clase05/callcenter.jpg' style='height:300px; float: center; margin: 0px 15px 15px 0px'><center>\n",
    "\n",
    "• Tenemos que identificar si es una **consulta de servicio al cliente** vs una **consulta de venta**\n",
    "    \n",
    "• Para esta tarea, nuestra empresa tiene miles (incluso millones) de datos\n",
    "\n",
    "• Adicionalmente, cada uno de los datos están etiquetados\n",
    "\n",
    "• Sin embargo, la mayoría de proyectos no tienen tanta suerte 🙁"
   ]
  },
  {
   "cell_type": "markdown",
   "metadata": {
    "slideshow": {
     "slide_type": "slide"
    }
   },
   "source": [
    "# 👷🏽‍♀️ Cómo leer datos en diferentes formatos usando Python\n",
    "\n",
    "¿Cuáles son los tipos de archivos de texto más comunes? "
   ]
  },
  {
   "cell_type": "markdown",
   "metadata": {
    "slideshow": {
     "slide_type": "notes"
    }
   },
   "source": [
    "    - Datos abiertos\n",
    "    - txt, csv, json, zip\n",
    "    - Excel, Word\n",
    "    - (HTML) Web Scraping \n",
    "    - PDFs e imágenes\n",
    "    - Aumento de datos"
   ]
  },
  {
   "cell_type": "markdown",
   "metadata": {
    "slideshow": {
     "slide_type": "slide"
    }
   },
   "source": [
    "### 👷🏽‍♀️ 3. Archivos más comunes\n",
    "\n",
    "#### Archivos tipo `.csv` (Comma Separated Value)"
   ]
  },
  {
   "cell_type": "code",
   "execution_count": 1,
   "metadata": {
    "slideshow": {
     "slide_type": "fragment"
    }
   },
   "outputs": [],
   "source": [
    "import pandas as pd"
   ]
  },
  {
   "cell_type": "code",
   "execution_count": 2,
   "metadata": {
    "slideshow": {
     "slide_type": "fragment"
    }
   },
   "outputs": [],
   "source": [
    "df = pd.read_csv('../archivos/basura.csv', sep=',')"
   ]
  },
  {
   "cell_type": "code",
   "execution_count": 3,
   "metadata": {},
   "outputs": [
    {
     "data": {
      "text/html": [
       "<div>\n",
       "<style scoped>\n",
       "    .dataframe tbody tr th:only-of-type {\n",
       "        vertical-align: middle;\n",
       "    }\n",
       "\n",
       "    .dataframe tbody tr th {\n",
       "        vertical-align: top;\n",
       "    }\n",
       "\n",
       "    .dataframe thead th {\n",
       "        text-align: right;\n",
       "    }\n",
       "</style>\n",
       "<table border=\"1\" class=\"dataframe\">\n",
       "  <thead>\n",
       "    <tr style=\"text-align: right;\">\n",
       "      <th></th>\n",
       "      <th>mensaje</th>\n",
       "      <th>etiqueta</th>\n",
       "    </tr>\n",
       "  </thead>\n",
       "  <tbody>\n",
       "    <tr>\n",
       "      <th>0</th>\n",
       "      <td>¡3 TEXTOS DEL TAROT GRATIS! ¡Descubre ahora tu...</td>\n",
       "      <td>basura</td>\n",
       "    </tr>\n",
       "    <tr>\n",
       "      <th>1</th>\n",
       "      <td>¡No 1 tono POLIFÓNICO 4 ur mob cada semana! Si...</td>\n",
       "      <td>basura</td>\n",
       "    </tr>\n",
       "    <tr>\n",
       "      <th>2</th>\n",
       "      <td>Bienvenido a Select, un servicio O2 con benefi...</td>\n",
       "      <td>basura</td>\n",
       "    </tr>\n",
       "    <tr>\n",
       "      <th>3</th>\n",
       "      <td>Última oportunidad 2 reclame su valor de £ 150...</td>\n",
       "      <td>basura</td>\n",
       "    </tr>\n",
       "    <tr>\n",
       "      <th>4</th>\n",
       "      <td>Dorothy@kiefer.com (Bank of Granite emite Stro...</td>\n",
       "      <td>basura</td>\n",
       "    </tr>\n",
       "  </tbody>\n",
       "</table>\n",
       "</div>"
      ],
      "text/plain": [
       "                                             mensaje etiqueta\n",
       "0  ¡3 TEXTOS DEL TAROT GRATIS! ¡Descubre ahora tu...   basura\n",
       "1  ¡No 1 tono POLIFÓNICO 4 ur mob cada semana! Si...   basura\n",
       "2  Bienvenido a Select, un servicio O2 con benefi...   basura\n",
       "3  Última oportunidad 2 reclame su valor de £ 150...   basura\n",
       "4  Dorothy@kiefer.com (Bank of Granite emite Stro...   basura"
      ]
     },
     "execution_count": 3,
     "metadata": {},
     "output_type": "execute_result"
    }
   ],
   "source": [
    "df.head(5)"
   ]
  },
  {
   "cell_type": "code",
   "execution_count": 4,
   "metadata": {},
   "outputs": [],
   "source": [
    "pd.read_csv?"
   ]
  },
  {
   "cell_type": "code",
   "execution_count": 11,
   "metadata": {
    "slideshow": {
     "slide_type": "fragment"
    }
   },
   "outputs": [
    {
     "data": {
      "text/plain": [
       "'¡3 TEXTOS DEL TAROT GRATIS! ¡Descubre ahora tu vida amorosa! PRUEBA 3 GRATIS! Envía CHANCE al 85555 16 solamente. Después de 3 mensajes gratis, 1,50 € cada uno ¡No 1 tono POLIFÓNICO 4 ur mob cada semana! Simplemente envíe PT2 al 87575. ¡1er tono GRATIS! así que consigue txtin ahora y cuéntaselo a tus amigos. 150p / tono. 16 respuestas HL 4info Bienvenido a Select, un servicio O2 con beneficios adicionales. Ahora puede llamar GRATIS a nuestros asesores especialmente capacitados desde su teléfono móvil marcando 402. Última oportunidad 2 reclame su valor de £ 150 en vales de descuento: envíe un mensaje de texto SÍ al 85023 ahora. El miembro de SavaMob ofrece T Cs móviles 08717898035. £ 3.00 Sub. dieciséis . Eliminar txt X o DETENER Dorothy@kiefer.com (Bank of Granite emite Strong-Buy) SELECCIÓN EXPLOSIVA PARA NUESTROS MIEMBROS ***** HASTA MÁS DEL 300% *********** Símbolo del Nasdaq CDGT Eso es $ 5.00 por .. Cámara: ¡se le otorga una cámara digital SiPix! llama al 09061221066 fromm fijo. Entrega en 28 días. MENSAJE GRATUITO: Facturamos su número de móvil por error del código corto 83332. Llame al 08081263000 para que le reembolsen los cargos. Esta llamada será gratuita desde un teléfono fijo de BT ¡Felicidades! El teléfono con cámara de video Nokia 3650 es su llamada 09066382422 Las llamadas cuestan 150ppm Ave llamada 3mins varían desde móviles 16+ Cerrar 300603 post BCM4284 Ldn WC1N3XX Compre hasta caer, ¿ES USTED? 10K, 5K, £ 500 en efectivo o £ 100 en un vale de viaje, llame ahora al 09064011000. NTT PO Box CR01327BT línea fija Costo 150ppm móvil varía ESPECIAL DE BONIFICACIÓN DE HMV Se pueden ganar 500 libras de vales HMV genuinos. Solo responde 4 preguntas sencillas. ¡Reproducir ahora! Envíe HMV al 86688 Más información: www.100percent-real.com ¡CABALLERO! Estamos intentando ponernos en contacto contigo. El sorteo de los últimos fines de semana muestra que ganó un premio de £ 1000 GARANTIZADO. Llame al 09064012160. Código de reclamo K52. Válido solo por 12 horas. 150 ppm ¡El premio urgente garantizado de £ 500 aún no ha sido reclamado! Llame al 09066368327 AHORA fecha de cierre04 / 09/02 código de reclamación M39M51 £ 1.50pmmás demobile2Bremoved-MobyPOBox734LS27YF ¡USTED ES ELEGIDO PARA RECIBIR UN PREMIO DE £ 350! Por favor llame al número de reclamo 09066364311 para cobrar su premio, que está seleccionado para recibir como un valioso cliente móvil. Obtenga una película GRATUITA con un reproductor de video móvil GRATIS. Para recopilar el texto VAYA al 89105. ¡Es gratis! Se pueden solicitar películas adicionales. Se aplican las t y las c. 18 años solamente Esta es la segunda vez que intentamos 2 contactarnos. Has ganado el premio de 750 libras. 2 es fácil, llame al 08718726970 AHORA! Solo 10p por min. BT-tarifa-nacional <Reenviado desde 21870000> Hola: esta es la alerta SMS de mensajería de su buzón. Tienes 4 mensajes. Tienes 21 partidos. Vuelva a llamar al 09056242159 para recuperar sus mensajes y coincidencias ¡URGENTE! Estamos tratando de ponernos en contacto con U. El sorteo de hoy muestra que ha ganado un premio de £ 800 GARANTIZADO. Llame al 09050001808 desde su teléfono fijo. Reclamación M95. Válido solo 12 horas ¡Sorteos de premios de Navidad! Estamos intentando ponernos en contacto con U. El sorteo de hoy muestra que has ganado un premio de 2000 £ GARANTIZADO. Llame al 09058094565 desde el teléfono fijo. Válido solo 12 horas URGENTE Este es nuestro segundo intento de ponernos en contacto con U. Su premio de £ 900 de AYER aún está pendiente de ser recogido. Para reclamar LLAME AHORA 09061702893 ¡HAS GANADO! Sus vacaciones de 4 * en la Costa del Sol o £ 5000 aguardan la recogida. Llame al 09050090044 ahora para reclamar. SAE, TC s, POBox334, Stockport, SK38xh, costo £ 1.50 / pm, Max10mins ¡USTED HA GANADO! Como cliente valioso de Vodafone, nuestra computadora lo ha elegido a USTED para ganar un premio de £ 150. Coleccionar es fácil. Solo llame al 09061743386 ¡Última oportunidad! ¡Reclame hoy mismo cupones de descuento por valor de 150 €! Envíe el mensaje de texto SHOP al 85023 ahora. ¡SavaMob, ofrece móvil! T Cs SavaMob POBOX84, M263UZ. £ 3.00 Sub. dieciséis Urgente Llame al 09066612661 desde el teléfono fijo. 5000 libras esterlinas en efectivo o un lujoso 4 * en las Islas Canarias. Premio SAE de los términos y condiciones. 20M12AQ. 150ppm. 16+ \" ¡URGENTE! ¡Tu número de móvil 077xxx GANÓ un premio de bonificación de llamada de 2.000 £ el 06/02/03! ¡Este es el segundo intento de llegar a USTED! ¡Llame al 09066362206 lo antes posible! BOX97N7QP, 150 ppm Entrada gratuita para la primera semana 2 TEXTPOD 4 una oportunidad 2 de ganar un iPod de 40GB o £ 250 en efectivo cada semana. Envíe un mensaje de texto con POD a 84128 Ts & Cs www.textpod.net custcare 08712405020. 500 nuevos móviles de 2004, ¡DEBEN IR! Envía un mensaje de texto: NOKIA al número: 89545 y recoge el tuyo hoy. Desde SOLO £ 1 www.4-tc.biz 2optout 087187262701.50gbp / mtmsg18 ¿Quieres un nuevo teléfono de video? 750 en cualquier momento cualquier minuto de red? TEXTO ILIMITADO? Videocámara? Responde o llama ahora 08000930705 para del Sat AM Tienes 1 mensaje de voz nuevo. Llame al 08719181513. ¡Objetivo! Arsenal 4 (Henry, 7 v Liverpool 2 Henry anota con un simple disparo desde 6 yardas desde un pase de Bergkamp para darle al Arsenal un margen de 2 goles después de 78 minutos. Préstamo para cualquier propósito entre £ 500 y £ 75,000. Propietarios + Inquilinos bienvenidos. ¿Ha sido rechazado anteriormente? Todavía podemos ayudar. Llame gratis al 0800 1956669 o envíe un mensaje de texto con \\'ayuda\\' ¿Eres lo suficientemente único? Infórmate a partir del 30 de agosto. www.areyouunique.co.uk Ha ganado un premio garantizado de 32000 o tal vez incluso £ 1000 en efectivo para reclamar su premio llame gratis al 0800 ..... (18+). Es un número legítimo de efreefone, ¿crees que? Reclame una juerga de compras de 200, ¡solo llame al 08717895698 ahora! ¡Has ganado! MobStoreQuiz10ppm Puede GANAR £ 100 en vales de regalo de música cada semana a partir de AHORA Envíe la palabra DRAW al 87066 TsCs www.Idew.com SkillGame, 1Winaweek, 16 años. 150ppermessSuscripción HOT LIVE FANTASIES llame ahora 08707509020 Solo 20p por minuto NTT Ltd, PO Box 1327 Croydon CR9 5WB 0870 es una llamada con tarifa nacional FreeMsg ¿Por qué no ha respondido a mi mensaje de texto? Soy Randy, sexy, mujer y vivo local. Me encanta saber de ti. Netcollex Ltd 08700621170150p por respuesta de mensaje Detener hasta finalizar Para tener la oportunidad de ganar £ 250 en efectivo cada semana, TEXTO: ACCIÓN al 80608. T & C\\'s www.movietrivia.tv cust care 08712405022, 1x150p / wk. Sunshine Hols. Para reclamar sus vacaciones médicas, envíe un sobre sellado con su dirección personal a Drinks on Us UK, PO Box 113, Bray, Wicklow, Eire. ¡La prueba comienza el sábado! Unsub Stop Su saldo en efectivo es actualmente de 500 libras; para maximizar su ingreso en efectivo, envíe COLLECT al 83600 solo 150p / msg. CC: 08718720201 PO BOX 114/14 TCR / W1 ¿Tu contrato de móvil tenía 11 Mnths? ¡Lo último de Motorola, Nokia, etc., todo GRATIS! Double Mins & Text sobre tarifas de Orange. TEXT YES para devolución de llamada, no para eliminar de los registros. No te conozco y tú no me conoces. ¡Envía CHAT al 86688 ahora y encontrémonos! Sólo rcvd 150p / Msg. HG / Suite342 / 2Lands / Row / W1J6HL LDN. 18 años o más. Gana el más nuevo “Harry Potter y la Orden del Fénix (Libro 5) responde a HARRY, responde 5 preguntas - ¡oportunidad de ser el primero entre los lectores! ¿Te das cuenta de que en unos 40 años tendremos miles de ancianas corriendo con tatuajes? NOKIA GRATIS o Motorola con hasta 12 meses 1/2 precio de alquiler por línea, 500 minutos x-net GRATIS y 100 txt / mes B\\'tooth * GRATIS. Llame a Mobileupd8 al 08001950382 o llame a 2optout / D3WV Hola nena, es Jordan, ¿cómo estás? Estoy en casa desde el extranjero y me siento solo, envíame un mensaje de texto si quieres chatear xxSP visionsms.com Envía un mensaje de texto para detener para detener Costo 150p 08712400603 ¡Una gran noticia! Llame a FREEFONE 08006344447 para reclamar su regalo garantizado de £ 1000 en EFECTIVO o £ 2000. ¡Habla con un operador en vivo AHORA! Entrada GRATUITA a nuestra competencia semanal de £ 250, simplemente envíe un mensaje de texto con la palabra GANAR al 80086 AHORA. 18 T&C www.txttowin.co.uk ¡Alguien que conoces ha pedido a nuestro servicio de citas 2 que te contacte! ¿No puedo adivinar quién? LLAME AL 09058097189 AHORA todo será revelado. POBox 6, LS15HB 150p GRATIS> Tono de llamada! Responde REAL o POLY, por ejemplo, REAL1 1. PushButton 2. DontCha 3. BabyGoodbye 4. GoldDigger 5. WeBeBurnin 1er tono GRATIS y 6 más cuando te unes por £ 3 / semana Oferta de hoy! ¡Reclame sus cupones de descuento por valor de 150 €! Envía SÍ al 85023 ahora. ¡SavaMob, ofertas para miembros móviles! T Cs 08717898035. £ 3.00 Sub. dieciséis . Respuesta de Unsub X ¡URGENTE! Estamos intentando ponernos en contacto con U. El sorteo de hoy muestra que has ganado un premio de 2000 £ GARANTIZADO. Llame al 09058094507 desde el teléfono fijo. Reclamación 3030. Válido solo por 12 horas ¡Venta masculina de enero! Hot Gay chat ahora más barato, llame al 08709222922. ¡Tarifa nacional de 1.5p / min barato a 7.8p / min pico! Para detener los mensajes de texto, llame al 08712460324 (10p / min) ¡UNA RECOMPENSA DE NAVIDAD DE £ 400 LE ESPERA! Nuestra computadora lo ha elegido al azar entre nuestros leales clientes móviles para recibir una recompensa de £ 400. Solo llame al 09066380611 Enhorabuena, recibió 500 £ de vales de regalo de CD y la entrada gratuita 2 a nuestro sorteo semanal de £ 100 envíe MÚSICA a 87066 TnCs www.Ldew.com1win150ppmx3age16 ¡URGENTE! Su número de teléfono móvil ha sido galardonado con un premio de 2000 £ GARANTIZADO. Llame al 09058094454 desde el teléfono fijo. Reclamación 3030. Válido solo por 12 horas Anuncio de servicio al cliente. Recientemente intentamos hacerle una entrega, pero no pudimos hacerlo, llame al 07090298926 para reprogramarla. Ref: 9307622 Intentamos ponernos en contacto con usted en relación con nuestra oferta de un nuevo videoteléfono 750 en cualquier momento y en cualquier momento de la red. MITAD DE PRECIO. Gracias, ganador notificado por sms. ¡Buena suerte! No hay respuesta de marketing en el futuro DETÉNGASE a 84122 servicio al cliente 08450542832 le dice que llame al 09066358152 para reclamar un premio de 5000 £. Debes ingresar todos los datos personales y móviles de tu teléfono en las indicaciones. ¡Cuidado! Cámara: ¡se le otorga una cámara digital SiPix! llama al 09061221066 fromm fijo. Entrega en 28 días. Oferta de Navidad! ¡Lo último de Motorola, SonyEricsson y Nokia y Bluetooth o DVD GRATIS! Double Mins y 1000 Txt en naranja. Llame a MobileUpd8 al 08000839402 o llame a 2optout / 4QF2 SUBASTA DE SMS: ¡UN NUEVO Nokia 7250 se subasta 4 hoy! La subasta es GRATIS 2 ¡únete y participa! ¡Envía NOKIA al 86021 ahora! FREE2DAY ¡foto sexy del Día de San Jorge de Jordan! Envía PIC al 89080 ¡no te la pierdas, y luego cada semana una celebridad descarada! 4 fotos más c PocketBabe.co.uk 0870241182716 £ 3 / sem 74355 XMAS iscoming y recibiste cupones de regalo de £ 500 en CD y entrada gratuita 2 r £ 100 sorteo semanal txt MUSIC al 87066 TnC Envía BANNEDUK al 89555 para verlo. costo 150p textoperator g696ga 18+ XXX Gana un premio en efectivo de £ 1000 o un premio por valor de £ 5000 ¡Alguien que conoces ha pedido a nuestro servicio de citas 2 que te contacte! ¿No puedo adivinar quién? LLAME AL 09058091854 AHORA, todo será revelado. PO BOX385 M6 6WU 44 7732584351, ¿Desea recibir un nuevo teléfono en color Nokia 3510i mañana? Con 300 minutos gratis para cualquier móvil + 100 mensajes de texto gratis + Videocámara gratis, responde o llama al 08000930705. Compré un tono de llamada y ahora recibo mensajes de texto que cuestan 3 libras y ofrecen más tonos, etc. Txt: LLAME al No: 86888 y reclame su recompensa de 3 horas de tiempo de conversación para usar desde su teléfono ahora. Suscríbete6GBP / mnth inc 3hrs 16 stop? TxtStop www.gamb.tv No. 1 Nokia Tone 4 ur mob cada semana! Simplemente envíe NOK al 87021. ¡1er tono GRATIS! así que consigue txtin ahora y cuéntaselo a tus amigos. 150p / tono. 16 respuestas HL 4info ¡Alguien tímido le pidió a nuestro servicio de citas 2 que contacte con U! LLAME AL 09058091870 AHORA todo será revelado. POBox84, M26 3UZ 150p Tienes un Admirador Secreto que está buscando 2 contacta con U-averigua a quién R * revelan quién piensa que UR es tan especial-llama al 09065171142-stopsms-08718727870150ppm ¡URGENTE! Este es el segundo intento de contactar con U! U ha GANADO £ 1000 LLAME 09071512432 b4 300603t & csBCM4235WC1N3XX.callcost150ppmmobilesvary. máximo £ 7. 50 MENSAJE GRATUITO Active sus 500 mensajes de texto GRATUITOS respondiendo a este mensaje con la palabra GRATUITO Para conocer los términos y condiciones, visite www.07781482378.com ¡Se le otorga una cámara digital SiPix! llama al 09061221061 desde fijo. Entrega en 28 días. Caja T Cs177. M221BP. 2 años de garantía. 150ppm. dieciséis . p p £ 3.99 Préstamo para cualquier propósito entre £ 500 y £ 75,000. Propietarios + Inquilinos bienvenidos. ¿Ha sido rechazado anteriormente? Todavía podemos ayudar. Llame gratis al 0800 1956669 o envíe un mensaje de texto con \\'ayuda\\' Puede GANAR £ 100 en vales de regalo de música cada semana a partir de AHORA Envíe la palabra DRAW al 87066 TsCs www.Idew.com SkillGame, 1Winaweek, 16 años. 150ppermessSuscripción ¡Ha ganado 1.000 euros en efectivo o un premio de 2.000 euros! Para reclamar, llame al 09050000327. Términos y condiciones: RSTM, SW7 3SS. 150 ppm Teléfonos con cámara GRATIS con alquiler de línea a partir de 4.49 / mes con 750 minutos cruzados ntwk. Ofertas de paquetes txt de 1/2 precio también disponibles. Llame al 08001950382 o llame2optout / J MF Prepare su jardín para el verano con una selección GRATUITA de bulbos y semillas de verano por valor de £ 33: 50 solo con The Scotsman este sábado. Para detener go2 notxt.co.uk No lo creerás, pero es verdad. ¡Son Txts increíbles! Responde G ahora para aprender cosas realmente asombrosas que te dejarán boquiabierto. Desde O2FWD solo 18p / txt ¡¡URGENTE!! Sus vacaciones de 4 * en la Costa del Sol o £ 5000 aguardan la recogida. Llame al 09050090044 ahora para reclamar. SAE, TC s, POBox334, Stockport, SK38xh, costo £ 1.50 / pm, Max10mins Contraseña mensual para wap. mobsi.com es 391784. Utilice su teléfono wap, no su PC. No b floppy ... b rápido y feliz! Solo servicio de chat gay con carga de fotos llame al 08718730666 (10p / min). 2 detenga nuestros mensajes de texto llame al 08712460324 Recibirá el tono de llamada Triple Echo de esta semana en breve. ¡Disfrútala! FREEMSG: Nuestros registros indican que puede tener derecho a 3750 libras por el Accidente que tuvo. Para reclamar una respuesta gratuita con SÍ a este mensaje. Para optar por no recibir mensajes de texto STOP ¡Últimas noticias! Roban el inodoro de la estación de policía, ¡los policías no tienen nada que hacer! Aquí está su código de descuento RP176781. Para detener más mensajes, responda detener. www.regalportfolio.co.uk. Atención al cliente 08717205546 ¿Wan2 gana un Meet + Greet con Westlife 4 U o un m8? ¿En qué gira están actualmente? 1) Irrompible, 2) Indomable, 3) Descuidado. Envía 1, 2 o 3 al 83049. Costo 50p + texto estándar ¿Quieres un nuevo teléfono de video? 750 en cualquier momento cualquier minuto de red? Alquiler de línea a mitad de precio? Videocámara? Responde o llama al 08000930705 para recibir la entrega mañana Intentamos ponernos en contacto con usted como respuesta a nuestra oferta de un nuevo fone y videocámara de Nokia. Pulse responder o llame al 08000930705 para recibir la entrega. Estimado titular del cupón: Para reclamar la oferta de esta semana, en su PC, visite http://www.e-tlp.co.uk/reward. Se aplican los términos y condiciones. Premio falso de £ 350: los números de Voda de hoy que terminan en XXXX se seleccionan para recibir un premio de £ 350. Si tiene una coincidencia, llame al 08712300220 citando el código de reclamo 3100 aplicación de tarifas estándar Cuestionario de televisión EASTENDERS. ¿Con qué FLOR se compara DOT? D = VIOLETA E = TULIPÁN F = LILY txt D E o F a 84025 AHORA 4 posibilidades 2 GANA £ 100 Efectivo WKENT / 150P16 + ¿Crees que eres inteligente? Gane £ 200 esta semana en nuestro cuestionario semanal, envíe el mensaje de texto PLAY al 85222 ahora! T & Cs WinnersClub PO BOX 84, M26 3UZ. 16+. GBP1.50 / semana U está suscrito al mejor servicio de contenido móvil en el Reino Unido por £ 3 por diez días hasta que envíe STOP al 83435. Línea de ayuda 08706091795. ¡Se le otorga una cámara digital SiPix! llama al 09061221061 desde fijo. Entrega en 28 días. Caja T Cs177. M221BP. 2 años de garantía. 150ppm. dieciséis . p p £ 3.99 ¿Quieres echar un polvo 2 noches? ¿Quieres que se envíen ubicaciones reales de Dogging directamente a tu móvil? Únase a la red Dogging más grande del Reino Unido. ¡Envía PARK al 69696 ahora! Nyt. ec2a. 3lp 1,50 € / mensaje Obtenga el tono 3 Lions England, responda lionm 4 mono o lionp 4 poly. 4 más, vaya a 2 www.ringtones.co.uk, el original y el mejor. Se aplican tarifas de operador de red de tonos 3GBP. ¿Has notado alguna vez que cuando conduces, cualquiera que vaya más lento que tú es un idiota y todo el que conduce más rápido que tú es un maníaco? Tienes 1 mensaje nuevo. Llame al 08712400200. Tone Club: Tus suscripciones han expirado 2 re-respuesta MONOC 4 monos o POLYC 4 polys 1 semanal @ 150p por semana Txt STOP 2 stop Este mensaje gratuito Stream 0871212025016 Urgent UR otorgó un viaje de cortesía a EuroDisinc Trav, Aco & Entry41 o £ 1000. Para reclamar txt DIS al 87121 18 + 6 * £ 1.50 (moreFrmMob. ShrAcomOrSglSuplt) 10, LS1 3AJ Puede donar 2,50 libras esterlinas al fondo de apoyo para desastres del tsunami asiático de UNICEF enviando un mensaje de texto con DONATE al 864233. Se añadirán 2,50 libras esterlinas a su próxima factura. ¡URGENTE! Estamos tratando de ponernos en contacto con U. El sorteo de hoy muestra que ha ganado un premio de £ 800 GARANTIZADO. Llame al 09050001808 desde su teléfono fijo. Reclamación M95. Válido solo 12 horas Su ID de usuario único es 1172. Para eliminarlo, envíe STOP al 87239 servicio al cliente 08708034412 Quieres mejorar tu fone con un tono nuevo semanal, responde TONES2U 2 a este texto. www.ringtones.co.uk, el mejor original. Se aplican tarifas de operador de red de tonos 3GBP 08714712388 entre las 10 am y las 7 pm Costo 10p Llame a nuestro representante de servicio al cliente en el TELÉFONO GRATUITO 0808 145 4742 entre las 9 am y las 11 pm ya que ha GANADO un premio garantizado de £ 1000 en efectivo o £ 5000 Ibiza Holiday 4 ESTRELLAS de cortesía o £ 10,000 en efectivo necesita su colección URGENTE. 09066364349 AHORA de Landline para no perder! Caja434SK38WP150PPM18 + GRATIS durante la 1ª semana! No1 Nokia tone 4 ur mob cada semana, simplemente envíe NOKIA al 8007 Reciba mensajes de texto y dígaselo a tus amigos www.getzed.co.uk POBox 36504 W45WQ norm150p / tone 16+ SUBASTA DE SMS Has ganado un Nokia 7250i. Esto es lo que obtiene cuando gana nuestra subasta GRATUITA. Para participar, envía Nokia al 86021 ahora. HG / Suite342 / 2Lands Row / W1JHL 16+ Entrada gratuita a gr8prizes wkly comp 4 y la oportunidad de ganar el último Nokia 8800, PSP o £ 250 en efectivo cada semana.TXT GREAT al 80878 http // www.gr8prizes.com 08715705022 2 peniques por minuto para llamar a Alemania 08448350055 desde su línea BT. Solo 2 peniques por minuto. Visite PlanetTalkInstant.com para obtener información y términos y condiciones. Deténgase para cancelar la suscripción ¿Quieres reír? ¡Prueba CHIT-CHAT en tu móvil ahora! Inicie sesión enviando un mensaje de texto con la palabra: CHAT y envíelo al número: 8883 CM PO Box 4217 London W1A 6ZF 16+ 118p / msg rcvd ¿Te apetece una pelusa? Yo lo hago ¿Interesado? sextextuk.com txt XXUK SUZY al 69876. Los txts cuestan 1,50 por mensaje. TnC en el sitio web. X ¿Quiere un nuevo teléfono color Nokia 3510i entregado mañana? Con 200 minutos GRATIS para cualquier móvil + 100 mensajes de texto GRATIS + videocámara GRATIS Responde o llama al 08000930705 Has ganado un Nokia 7250i. Esto es lo que obtiene cuando gana nuestra subasta GRATUITA. Para participar, envía Nokia al 86021 ahora. HG / Suite342 / 2Lands Row / W1JHL 16+ ¡Lo siento! No puedes darte de baja todavía. El paquete de oferta MOB tiene un plazo mínimo de 54 semanas> vuelva a enviar la solicitud después de la expiración. Responder THEMOB HELP 4 más información Intentamos ponernos en contacto con usted para responder a nuestra oferta de un teléfono con video 750 en cualquier momento y en cualquier momento de la red. Oferta de hoy! ¡Reclame sus cupones de descuento por valor de 150 €! Envía SÍ al 85023 ahora. ¡SavaMob, ofertas para miembros móviles! T Cs 08717898035. £ 3.00 Sub. dieciséis . Respuesta de Unsub X Tienes un admirador secreto que está buscando 2 contactar con U-averigua a quién R * revelan quién piensa que UR es tan especial-llama al 09058094565 Felicitaciones, recibió un suministro de CD de Virgin Records o un regalo misterioso GARANTIZADO Llame al 09061104283 Ts & Cs www.smsco.net £ 1.50pm aproximadamente 3mins ¿Quieres echar un polvo esta noche? ¿Quieres ubicaciones reales de Dogging enviadas directamente a 2 ur mob? ¡Únase a la red Dogging más grande del Reino Unido bt Txting GRAVEL al 69888! Nuevo Testamento. ec2a. 31p.msg@150p <Reenviado desde 448712404000> LLAME al 08712404000 inmediatamente ya que hay un mensaje urgente esperándolo. URGENTE. Información importante para 02 usuario. ¡Hoy es tu dia de suerte! 2 averigüe por qué, inicie sesión en http://www.urawinner.com, ¡le espera una sorpresa fantástica! Double Mins & Double Txt & 1/2 precio Linerental en los últimos móviles Orange Bluetooth. Llame a MobileUpd8 para conocer las últimas ofertas. 08000839402 o call2optout / LF56 U está suscrito al mejor servicio de contenido móvil en el Reino Unido por £ 3 por 10 días hasta que envíe STOP al 82324. Línea de ayuda 08706091795 Panasonic y BluetoothHdset GRATIS. Nokia GRATIS. Motorola FREE y DoubleMins y DoubleTxt con contrato naranja. Llame a MobileUpd8 al 08000839402 o llame a 2optout Gracias por su suscripción a Ringtone UK, se le cobrará a su teléfono móvil £ 5 / mes. Confirme respondiendo SÍ o NO. Si responde NO, no se le cobrará ¡Llame a nuestro representante de servicio al cliente al 0800 169 6031 entre las 10 am y las 9 pm ya que ha GANADO un premio garantizado de £ 1000 en efectivo o £ 5000! Esta es la segunda vez que intentamos 2 contactarnos. Has ganado el premio de 750 libras. 2 es fácil, llame al 08712101358 AHORA! Solo 10p por min. BT-tarifa-nacional Para tener la oportunidad de ganar £ 250 en efectivo cada semana TEXTO: ACCIÓN al 80608. T & C\\'s www.movietrivia.tv cust care 08712405022, 1x150p / wk Estoy caliente y cachonda y estoy dispuesta a vivir localmente para ti: envía un mensaje de texto para recibir una respuesta mía 150p por msg Netcollex Ltd HelpDesk: 02085076972 respuesta Detener hasta el final ¡Usted ha sido especialmente seleccionado para recibir un premio \"3000! Llame al 08712402050 ANTES de que cierren las líneas. Cuesta 10 ppm. 16+. Se aplican los términos y condiciones. AG Promo Freemsg: ¡llamadas gratuitas ilimitadas durante 1 mes! Activar SmartCall Txt: LLAME al número: 68866. Subscriptn3gbp / wk llamadas ilimitadas Ayuda: 08448714184 Stop? Txt stop landlineonly Nuevo TEXTBUDDY Chat 2 chicos cachondos en ur area 4 solo 25p Gratis 2 reciben Buscar código postal o en gaytextbuddy.com. TXT UN nombre al 89693 ¿Tu móvil tenía 11 meses? Actualice GRATIS a los últimos móviles con cámara a color de Oranges y llamadas ilimitadas los fines de semana. Llame a Mobile Upd8 en freefone 08000839402 o 2StopTx Hola nena, soy Chloe, ¿cómo estás? Me destrozaron el sábado por la noche, ¡fue genial! ¿Cómo estuvo tu fin de semana? ¿Me has estado extrañando? SP visionsms.com Texto detener para detener 150p / texto TBS / PERSOLVO. Nos ha estado persiguiendo desde septiembre por £ 38 definitivamente no pagando ahora gracias a su información. Los ignoraremos. Kath. Manchester. Entrada GRATUITA a nuestra compensación semanal de £ 250, simplemente envíe la palabra WIN al 80086 AHORA. 18 T&C www.txttowin.co.uk FreeMsg: Reclame sus 250 mensajes SMS - Envíe un mensaje de texto OK al 84025 ahora Use web2mobile 2 ur mates, etc. Únase a Txt250.com por 1.50p / wk. T&C BOX139, LA32WU. dieciséis . Eliminar txtX o detener Tonos Boltblue para 150p Responder POLY # o MONO #, por ejemplo, POLY3 1. Cha Cha Slide 2. Sí 3. Slow Jamz 6. Tóxico 8. Ven conmigo o PARE 4 tonos más txt MÁS Estimado poseedor del bono, tenga su próxima comida por nuestra cuenta. Utilice el siguiente enlace en su pc 2 disfrute de una experiencia gastronómica 2 4 1http: //www.vouch4me.com/etlp/dining.asp tddnewsletter@emc1.co.uk (Más juegos de TheDailyDraw) Querida Helen, Docenas de juegos gratis, con grandes premios Con .. ¡Urgente! llama al 09066350750 desde tu teléfono fijo. Sus vacaciones en Ibiza 4 * de cortesía o 10,000 en efectivo en espera de recolección SAE T & Cs PO BOX 434 SK3 8WP 150 ppm 18+ No. 1 Nokia Tone 4 ur mob cada semana! Simplemente envíe NOK al 87021. ¡1er tono GRATIS! así que consigue txtin ahora y cuéntaselo a tus amigos. 150p / tono. 16 respuestas HL 4info Enhorabuena, recibió 500 cupones de CD o 125 obsequio garantizado y entrada gratuita 2100 semanas de sorteo txt MUSIC a 87066 TnCs www.Ldew.com1win150ppmx3age16 ¡URGENTE! Estamos intentando ponernos en contacto con U. El sorteo de hoy muestra que has ganado un premio de 2000 £ GARANTIZADO. Llame al 09066358361 desde el teléfono fijo. Reclamación Y87. Válido solo 12 horas en consecuencia. Repito, solo envía un mensaje de texto con la palabra ok en tu teléfono móvil y envía ¡Bien hecho INGLATERRA! ¡Obtén el tono de llamada oficial de poli o la bandera de color en tu móvil! envíe un mensaje de texto con TONE o FLAG al 84199 AHORA! Opt-out txt ENG STOP. Caja39822 W111WX 1,50 € ¡SI! El único lugar de la ciudad para conocer a solteros adultos emocionantes es ahora el Reino Unido. ¡Envía CHAT al 86688 ahora! 150p / Msg. Asuste a su mafia con una colección de Halloween de un logotipo y un mensaje con foto, además de un tono espeluznante gratuito, txt CARD SPOOK al 8007 zed 08701417012150p por logotipo / foto FreeMsg: Txt: LLAME al No: 86888 y reclame su recompensa de 3 horas de tiempo de conversación para usar desde su teléfono ahora. Suscríbete6GBP / mnth inc 3hrs 16 stop? TxtStop Lo siento, perdí tu llamada, hablemos cuando tengas tiempo. Estoy en 07090201529 ¡UNA RECOMPENSA DE NAVIDAD DE £ 400 LE ESPERA! Nuestra computadora lo ha elegido al azar entre nuestros leales clientes móviles para recibir una recompensa de £ 400. Solo llame al 09066380611 Recibirá su tono en las próximas 24 horas. Para conocer los términos y condiciones, consulte Teletexto del Canal U, pág. 750 Su tono de llamada gratuito está esperando a ser recogido. Simplemente envíe un mensaje de texto con la contraseña \"MIX\" al 85069 para verificar. Consigue a Usher y Britney. FML, Apartado de correos 5249, MK17 92H. 450Ppw 16 Duplique sus minutos y txts en Orange o alquiler de línea de precio 1/2 - Motorola y SonyEricsson con B / Tooth FREE-Nokia FREE Call MobileUpd8 en 08000839402 or2optout / HV9D Tienes 1 mensaje nuevo. Llame al 08718738034. ¡Solo diciembre! ¿Tu móvil tenía más de 11 meses? ¡Tiene derecho a actualizar a la última cámara móvil a color gratis! Llame GRATIS a Mobile Update Co al 08002986906 ¡22 días para empezar! Para Euro2004 U se mantendrá al día con las últimas noticias y resultados diariamente. Para eliminarlo, envíe GET TXT STOP al 83222 Espero que hayas disfrutado de tu nuevo contenido. envíe un mensaje de texto al 61610 para cancelar la suscripción. ayuda: 08712400602450p Proporcionado por tones2you.co.uk Como suscriptor registrado en el sorteo 4, se ingresará un vale de regalo de £ 100 al recibir una respuesta correcta. ¿Cuándo son las próximas olimpiadas? Txt ans al 80062 Habla sexy !! Haz nuevos amigos o enamórate en el servicio de citas por texto más discreto del mundo. Simplemente envíe un mensaje de texto con VIP al 83110 y vea a quién puede conocer. ¡Responde para ganar £ 100 semanales! ¿Dónde se celebrará la Copa Mundial de la FIFA 2006? Envíe STOP al 87239 para finalizar el servicio ¡Llame a Alemania por solo 1 centavo el minuto! Llame desde una línea fija a través del número de acceso 0844 861 85 85. Sin prepago. ¡Acceso directo! www.telediscount.co.uk ¿Quieres echar un polvo esta noche? ¿Quieres que las ubicaciones reales de Dogging se envíen directamente a 2 ur Mob? Únase a la red Dogging más grande del Reino Unido enviando un mensaje de texto con MEAN al 69888 Nyt. ec2a. 31p.msg@150p ¡Urgente! Llame al 09061213237 desde un teléfono fijo. 5000 £ en efectivo o un día festivo de 4 * aguardan la recogida. T&C SAE PO Box 177 M227XY. 16+ Su suscripción a TONEXS ha sido renovada y se le ha cobrado £ 4.50. Puedes elegir 10 polys más este mes. www.clubzed.co.uk * FACTURACIÓN MSG * En La película de Los Simpson estrenada en julio de 2007, ¿nombre la banda que murió al comienzo de la película? A-Día verde, B-Día azul, C-Día rojo. (Enviar A, B o C) Ha GANADO un premio garantizado de £ 1000 en efectivo o un premio de £ 2000. Para reclamar su premio, llame a nuestro representante de servicio al cliente en ¡SEIS oportunidades de ganar EFECTIVO! De 100 a 20,000 libras txt> CSH11 y enviar al 87575. Costo 150p / día, 6 días, se aplican 16+ TsandCs Responder HL 4 info Cliente de Orange, ahora puede reclamar su actualización GRATUITA de TELÉFONO CON CÁMARA por su lealtad. Llame ahora al 0207 153 9996. La oferta finaliza el 14 de marzo. Se aplican los términos y condiciones. Exclusión disponible Gracias por su pedido de tonos de llamada, número de referencia X49. Su móvil se cargará 4.50. Si su tono no llega, llame al servicio de atención al cliente 09065989182. De: [color = rojo] texto [/ color] TXTstar ¡Alguien que conoces ha pedido a nuestro servicio de citas 2 que te contacte! ¿No puedo adivinar quién? LLAME AL 09058091854 AHORA, todo será revelado. PO BOX385 M6 6WU información importante 4 usuario naranja. ¡Hoy es tu día de suerte! 2Descubre por qué ingresa a http://www.urawinner.com ¡HAY UNA FANTÁSTICA SORPRESA ESPERANDO! ¡PRIVADO! Su estado de cuenta de 2004 para 078498 **** 7 muestra 786 puntos de bonificación no canjeados. Para reclamar llamar al 08719180219 Código de identificación: 45239 Vence el 06.05.05 <Reenviado desde 21870000> Hola: esta es la alerta SMS de mensajería de su buzón. Tienes 40 coincidencias. Vuelva a llamar al 09056242159 para recuperar sus mensajes y coincidencias cc100p / min Gracias por su pedido de tono de llamada, número de referencia R836. Se le cobrará a su móvil £ 4.50. Si su tono no llega, llame al servicio de atención al cliente al 09065069154 Envía mensajes de texto y conoce a alguien sexy hoy. U puede encontrar una cita o incluso coquetear, depende de U. Únase a 4 a solo 10p. RESPONDA con NOMBRE Y EDAD, por ejemplo, Sam 25. 18 -msg recd @ thirtyeight pence París romántico. 2 noches, 2 vuelos desde £ 79 Reserve ahora 4 el próximo año. Llame al 08704439680 Se aplican los términos y condiciones. MENSAJE IMPORTANTE. Este es un intento de contacto final. Tiene mensajes importantes esperando a nuestro departamento de reclamos de clientes. Caduca el 13/4/04. Llame al 08717507382 AHORA! 4 meses a mitad de precio Alquiler de línea naranja y los últimos teléfonos con cámara 4 GRATIS. ¿Tu teléfono tenía 11 meses? ¡Llame a Mobile Direct gratis al 08000938767 para actualizar ahora! o detener txt ¡todo lo último de Stereophonics, Marley, Dizzee Racal, Libertines y The Strokes! ¡Gana juegos de Nookii con Flirt! Haga clic en TheMob WAP Bookmark o envíe un mensaje de texto WAP al 82468 ¡18 días para el inicio de la Euro2004! Se le mantendrá informado de las últimas noticias y resultados diariamente. Darse de baja envíe GET EURO STOP al 83222. Recoja su fin de semana de San Valentín en PARIS incluido Vuelo y hotel + ¡Premio de 200 £ garantizado! Envíe un mensaje de texto: PARIS al número: 69101. www.rtf.sphosting.com Hola, 07734396839 IBH Oferta de lealtad del cliente: ¡El NUEVO NOKIA6600 Mobile desde SOLO £ 10 en TXTAUCTION! Txt word: START al No: 81151 y obtén el tuyo ahora! 4T & TONO POLIFÓNICO * GRATIS * ¡Envía SUPER al 87131 para obtener tu TONO POLY GRATIS de la semana ahora! Suscripción 16 SN PoBox202 NR31 7ZS 450pw Estimado titular del cupón: Para reclamar la oferta de esta semana, en su PC, vaya a http://www.wtlp.co.uk/text. Se aplican los términos y condiciones. al 80488. Sus 500 mensajes de texto gratuitos son válidos hasta el 31 de diciembre de 2005. ¿Qué tal ponerse en contacto con personas que esperan compañía? ¡Simplemente envíe su NOMBRE y EDAD para inscribirse! Disfruta de la comunidad (150p / SMS) 87077: ¡Comienza una nueva temporada con 2 semanas GRATIS de goles y noticias para tu móvil! Envíe el nombre de su club al 87077, por ejemplo, VILLA al 87077 Conocemos a alguien a quien conoces que te gusta. Llame al 09058097218 para averiguar quién. POBox 6, LS15HB 150p 100 servicio de citas cal; l 09064012103 box334sk38ch ¡Nuestro servicio de citas te está contactando alguien que conoces! Para averiguar quién es, llame desde un teléfono fijo 09050000878. PoBox45W2TG150P citas: he tenido dos de estos. Solo comenzó después de que envié un mensaje de texto a la radio deportiva la semana pasada. ¿Alguna conexión crees o coincidencia? Urgente -llama 09066649731 desde teléfono fijo. Sus vacaciones gratuitas de 4 * en Ibiza o £ 10,000 en efectivo a la espera de recolección SAE T & Cs PO BOX 434 SK3 8WP 150ppm 18+ Estimado 0776xxxxxxx, U ha sido invitado a XCHAT. ¡Este es nuestro último intento de contactarnos! Txt CHAT al 86688 150p / MsgrcvdHG / Suite342 / 2Lands / Row / W1J6HL LDN 18 años Tienes un admirador secreto. REVELA quién piensa que U R es tan especial. Llame al 09065174042. Para excluirse, responda REVEAL STOP. 1,50 por registro de mensaje. Atención personalizada 07821230901 Tienes un Admirador Secreto que está buscando 2 contacta con U-averigua a quién R * revelan quién piensa que UR es tan especial-llama al 09065171142-stopsms-08 XCLUSIVE @ CLUBSAISAI 2MOROW 28/5 SOIREE SPECIALE ZOUK CON NICHOLS DE PARIS.FREE ROSES 2 TODAS LAS DAMAS !!! información: 07946746291/07880867867 GANE un suministro anual de CD 4 en una tienda de su elección por valor de £ 500 e ingrese a nuestro sorteo semanal de £ 100 txt MUSIC a 87066 Ts & Cs www.Ldew.com.subs16 + 1win150ppmx3 ¡PRIVADO! Su estado de cuenta de 2003 muestra 800 puntos S. I. M. no canjeados. Llame al 08718738002 Código de identificación: 48922 Vence el 21/11/04 Jamster! ¡Para obtener tu fondo de pantalla gratis, envía HEART al 88888 ahora! Se aplican los términos y condiciones. 16 solamente. ¿Necesitas ayuda? Llame al 08701213186. Nuestros registros indican que quizás tenga derecho a recibir 5000 libras como compensación por el accidente que tuvo. Para reclamar 4 respuesta gratuita con CLAIM a este mensaje. 2 parada txt STOP Mensaje gratis: ¡Jamster! ¡Obtén el sonido de la rana loca ahora! Para texto poligonal MAD1, para texto real MAD2 al 88888. ¡6 sonidos locos por solo 3 GBP / semana! ¡Solo 16 +! Se aplican los términos y condiciones Hola, nena, ¿has hablado de mí? los estafadores se están volviendo inteligentes ... Aunque este es un vodafone regular no, si respondes, obtienes más mensajes / suscripción de tarifa premium. También se utilizan otros nos. ¡Tener cuidado! Burger King - ¿Quieres jugar al fútbol en un estadio superior? Obtén 2 Burger King antes del 1 de septiembre y hazte Grande o Súper con Coca-Cola y gana Cashbin.co.uk (¡Consiga mucho dinero en efectivo este fin de semana!) Www.cashbin.co.uk Estimado Bienvenido al fin de semana ¡Tenemos nuestro mejor y más grande obsequio en efectivo! Estas.. Hola. Oferta de fidelización del cliente: ¡El NUEVO móvil Nokia6650 desde SÓLO £ 10 en TXTAUCTION! Txt word: START to No: 81151 y obtén el tuyo ahora! 4T y Ctxt TC 150p / MTmsg ¡URGENTE! Su número de teléfono móvil ha sido galardonado con un premio de 2000 £ GARANTIZADO. Llame al 09061790121 desde el teléfono fijo. Reclamación 3030. Válido por 12 horas solo 150 ppm Si no lo hace, su premio será para otro cliente. T&C en www.t-c.biz 18+ 150p / min Polo Ltd Suite 373 London W1J 6HL Por favor, llame si está ocupado ¡PRIVADO! Su estado de cuenta de 2003 para 07808247860 muestra 800 puntos S. I. M. no canjeados. Llame al 08719899229 Código de identificación: 40411 Vence el 06/11/04 Ha ganado un premio garantizado de £ 200 o incluso £ 1000 en efectivo para reclamar el premio UR, llame gratis al 08000407165 (18+) 2 paradas para hacer una parada en 88222 PHP Anuncio de servicio al cliente. Tienes una entrega de Año Nuevo esperándote. Llame al 07046744435 ahora para organizar la entrega Hackear chat. Obtenga acceso por la puerta trasera a 121 salas de chat a una fracción del costo. Responda NEO69 o llame al 09050280520, para suscribirse a las 25 p. M. DPS, caja Bcm 8027 Ldn, wc1n3xx Préstamo para cualquier propósito entre £ 500 y £ 75,000. Propietarios + Inquilinos bienvenidos. ¿Ha sido rechazado anteriormente? Todavía podemos ayudar. Llame gratis al 0800 1956669 o envíe un mensaje de texto con \\'ayuda\\' SMS. ac Blind Date 4U !: Rodds1 está a 21 / m de Aberdeen, Reino Unido. Échale un vistazo a http: // img. SMS. ac / W / icmb3cktz8r7! -4 sin fechas a ciegas enviar OCULTAR U’ve Bin recibió £ 50 para jugar 4 Instant Cash. Llame al 08715203028 para reclamar. CADA 9.º jugador gana como mínimo 50 £ - 500 £. Optar 08718727870 Los números actuales de Vodafone que terminan en 4882 se seleccionan para recibir un premio de £ 350. Si su número coincide, llame al 09064019014 para recibir su premio de £ 350. Este mensaje lo recibe GMW Ltd. y no está conectado a la Tonos libres Espero que hayas disfrutado de tu nuevo contenido. envíe un mensaje de texto al 61610 para cancelar la suscripción. ayuda: 08712400602450p Proporcionado por tones2you.co.uk Hard LIVE 121 chat a solo 60p / min. Elige tu chica y conéctate EN VIVO. ¡Llama al 09094646899 ahora! El servicio en vivo más grande de Cheap Chat UK. VU BCM1896WC1N3XX ¡Ha ganado 1.000 euros en efectivo o un premio de 2.000 euros! Para reclamar, llame al 09050000327 Esta es la segunda vez que intentamos comunicarnos con usted. Has ganado el premio de £ 1450 para reclamarlo, solo llama al 09053750005 b4 310303. Términos y condiciones / SMS de parada 08718725756. 140ppm ¡PRIVADO! Su estado de cuenta de 2003 muestra 800 puntos S. I. M. no canjeados. Llame al 08715203694 Código de identificación: 40533 Vence el 31/10/04 500 mensajes de texto gratis. Solo envíe un mensaje de texto con la palabra ok al 80488 y acreditaremos su cuenta LLAME al 08712402779 de inmediato ya que hay un mensaje urgente esperándolo ¡¡¡dinero!!! ¡Eres un afortunado ganador! 2 reclame su premio envíe un mensaje de texto en dinero 2 88600 con más de £ 1 millón para regalar. ppt150x3 + cuadro de velocidad de texto normal403 w1t1jy Los números de Voda de hoy que terminan en 7634 se seleccionan para recibir una recompensa de £ 350. Si tiene una coincidencia, llame al 08712300220 citando el código de reclamo 7684, se aplican tarifas estándar. ¡Felicidades! El teléfono con cámara de video Nokia 3650 es su llamada 09066382422 Las llamadas cuestan 150ppm Ave llamada 3mins varían desde móviles 16+ Cerrar 300603 post BCM4284 Ldn WC1N3XX ¡Tiene garantizado el último teléfono Nokia, un reproductor de MP3 iPod de 40GB o un premio de £ 500! Txt word: COLLECT to No: 83355! IBHltd LdnW15H 150p / Mtmsgrcvd18 Tiene un importante anuncio de servicio al cliente. ¡Llame al FREEPHONE 0800 542 0825 ahora! ¡Quiero polla! Mi esposo no está, necesito un hombre de verdad 2 que me satisfaga. Envíe WIFE al 89938 para una acción sin cadenas. (Txt STOP 2 final, txt rec £ 1.50ea. OTBox 731 LA1 7WS.) Estimado suscriptor, su vale de regalo de 4 £ 100 se ingresará al recibir una respuesta correcta. ¿Cuándo fue el cumpleaños de Elvis Presley? TXT respuesta al 80062 XXXMobileMovieClub: Para usar su crédito, haga clic en el enlace WAP en el siguiente mensaje de texto o haga clic aquí >> http: // wap. xxxmobilemovieclub.com?n=QJKGIGHJJGCBL ¿Te gustaría ver mis fotos XXX, son tan calientes que casi fueron prohibidas en el Reino Unido? Has ganado un Nokia 6230 y una cámara digital gratuita. Esto es lo que obtiene cuando gana nuestra subasta GRATUITA. Para participar envía NOKIA al 83383 ahora. POBOX114 / 14TCR / W1 16 Enhorabuena, recibió 500 £ de vales de regalo de CD y Entrada gratuita 2 a nuestro sorteo semanal de £ 100 Envíe MÚSICA a 87066 TnCs www.Ldew.com 1 win150ppmx3age16 Tono de llamada superior gratuito -sub a tono de llamada semanal-obtenga la primera semana gratis-envíe SUBPOLY al 81618-? 3 por semana-pare sms-08718727870 ¡Tiene garantizado el último teléfono Nokia, un reproductor de MP3 iPod de 40GB o un premio de £ 500! Txt word: COLLECT to No: 83355! IBHltd LdnW15H 150p / Mtmsgrcvd18 + Cliente de UpgrdCentre Orange, ahora puede reclamar su actualización GRATUITA de TELÉFONO CON CÁMARA por su lealtad. Llame ahora al 0207 153 9153. La oferta finaliza el 26 de julio. Se aplican los términos y condiciones. Exclusión disponible Entrada GRATUITA a nuestra compensación semanal de £ 250, simplemente envíe la palabra ENTRAR al 84128 AHORA. 18 T&C www.textcomp.com cust care 08712405020. Reentrese en 2 competiciones semanales para tener la oportunidad de ganar un ipod. Envíe un mensaje de texto con el POD al 80182 para obtener la entrada (tarifa de texto estándar) Se aplican los términos y condiciones 08452810073 para obtener más detalles 18+ Su saldo en efectivo es actualmente de 500 libras. Para maximizar su ingreso en efectivo, envíe GO al 86688 solo 150p / meg. CC: 08718720201 HG / Suite342 / 2lands Row / W1j6HL Estimado 0776xxxxxxx, U ha sido invitado a XCHAT. ¡Este es nuestro último intento de contactarnos! Txt CHAT al 86688 150p / MsgrcvdHG / Suite342 / 2Lands / Row / W1J6HL LDN 18 años +123 Felicitaciones: en el sorteo de la competencia de esta semana, usted ganó el premio de £ 1450 para reclamarlo. Simplemente llame al 09050002311 b4280703. T & Cs / stop SMS 08718727868. Mayores de 18 solo 150ppm Usted es un ganador, ha sido especialmente seleccionado para recibir £ 1000 en efectivo o un premio de £ 2000. Hable con un operador en vivo para reclamar, llame al 087147123779 a.m.-7 p.m. Costo 10p u un ganador U ha sido especialmente seleccionado 2 recibe £ 1000 en efectivo o un día festivo de 4 * (vuelos incluidos) hable con un operador en vivo 2 reclame 0871277810710p / min (18) Bienvenido a UK-mobile-date, este mensaje es GRATUITO y te da llamadas gratuitas al 08719839835. Los futuros mensajes se facturan a 150p diariamente. Para cancelar, envíe \"ir a detener\" al 89123 ¿Quiere un nuevo teléfono color Nokia 3510i entregado mañana? Con 300 minutos gratis para cualquier móvil + 100 mensajes de texto gratis + Videocámara gratis, responde o llama al 08000930705 LookAtMe !: Gracias por la compra de un videoclip de LookAtMe !, le han cobrado 35p. ¿Crees poder hacerlo mejor? ¿Por qué no enviar un video en un MMS a 32323? Para tener la oportunidad de GANAR un auricular Bluetooth GRATIS, simplemente responda con \"ADP\" ¿Qué quieres para Navidad? ¿Qué tal 100 mensajes de texto gratis y un nuevo teléfono de video con alquiler de línea a mitad de precio? ¡Llame gratis ahora al 0800 0721072 para obtener más información! Como cliente valioso, me complace informarle que después de una revisión reciente de su número de Mob, se le otorgará un premio de bonificación de £ 1500, llame al 09066368470 U 447801259231 tiene un admirador secreto que está buscando 2 ponerse en contacto con U-averiguar a quién R * revelar quién piensa que UR es tan especial-llame al 09058094597 SERVICIOS SMS. para sus créditos de texto inclusivos, vaya a www.comuk.net login = 3qxj9 cancele la suscripción con STOP, sin cargo adicional. ayuda 08702840625.COMUK. 220-CM2 9AE +449071512431 ¡URGENTE! Este es el segundo intento de ponerse en contacto con U! U ha GANADO £ 1250 LLAME 09071512433 b4 050703 T & CsBCM4235WC1N3XX. callcost 150ppm móviles varían. máximo £ 7. 50 Update_Now - 12 meses a mitad de precio Alquiler de línea naranja: 400 minutos ... Llame a MobileUpd8 al 08000839402 o llame2optout = J5Q ¡URGENTE! ¡Su número de teléfono móvil 07808726822 recibió un premio de bonificación de llamada de £ 2,000 el 02/09/03! ¡Este es nuestro segundo intento de ponernos en contacto con USTED! Llame al 0871-872-9758 BOX95QU ¡HAS GANADO! Sus vacaciones de 4 * en la Costa del Sol o £ 5000 aguardan la recogida. Llame al 09050090044 ahora para reclamar. SAE, TC s, POBox334, Stockport, SK38xh, costo £ 1.50 / pm, Max10mins SU OPORTUNIDAD DE ESTAR EN UN REALITY FANTASY SHOW llame ahora = 08707509020 Solo 20p por minuto NTT Ltd, PO Box 1327 Croydon CR9 5WB 0870 es una llamada de tarifa nacional LIFE nunca había sido tan divertido y genial hasta que tú entraste. Lo hiciste realmente especial para mí. ¡No te olvidaré! disfruta @ one gbp / sms Envía PASS al 69669 para recopilar tus tonos polifónicos. Solo se aplican los cargos normales de gprs. Disfruta tus tonos Has ganado un Nokia 7250i. Esto es lo que obtiene cuando gana nuestra subasta GRATUITA. Para participar, envía Nokia al 86021 ahora. HG / Suite342 / 2Lands Row / W1JHL 16+ Hola desde Orange. Por 1 mes de acceso gratuito a juegos, noticias y deportes, además de 10 mensajes de texto gratuitos y 20 mensajes con fotos, responde SÍ. Se aplican términos: www.orange.co.uk/ow Back 2 work 2morro medio trimestre terminado! ¿Puedes U C me 2nite 4 un poco de pasión sexy B4 tengo 2 volver? Chatea AHORA 09099726481 Luv DENA Llamadas £ 1 / minMobsmoreLKPOBOX177HP51FL FREE2DAY ¡foto sexy del Día de San Jorge de Jordan! Envía PIC al 89080 ¡no te la pierdas, y luego cada semana una celebridad descarada! 4 fotos más c PocketBabe.co.uk 0870241182716 £ 3 / sem Los números actuales de Vodafone que terminan en 4882 se seleccionan para recibir un premio de £ 350. Si su número coincide, llame al 09064019014 para recibir su premio de £ 350. MENSAJE GRATUITO Active sus 500 mensajes de texto GRATUITOS respondiendo a este mensaje con la palabra GRATUITO Para conocer los términos y condiciones, visite www.07781482378.com ¡Urgente! Llame al 09066612661 desde su teléfono fijo, sus vacaciones de cortesía 4 * Lux Costa Del Sol o £ 1000 EFECTIVO en espera de recolección. ppm 150 T & C SAE James 28, EH74RR The Mob> Yo yo yo-¡Aquí viene una nueva selección de descargas calientes para que nuestros miembros las obtengan GRATIS! Simplemente haga clic y abra el siguiente enlace enviado a su teléfono ... ¡Bien hecho INGLATERRA! ¡Obtén el tono de llamada oficial de poli o la bandera de color en tu móvil! envíe un mensaje de texto con TONE o FLAG al 84199 AHORA! Opt-out txt ENG STOP. Caja39822 W111WX 1,50 € ¡URGENTE !: ¡Su número de teléfono móvil recibió un premio de llamador de bonificación de £ 2,000 el 02/09/03! ¡Este es nuestro segundo intento de ponernos en contacto con USTED! Llame al 0871-872-9755 BOX95QU ¡Especial de San Valentín! ¡Gane más de £ 1000 en nuestro cuestionario y lleve a su pareja al viaje de su vida! Envíe GO al 83600 ahora. 150p / msg rcvd. CustCare: 08718720201 ¡Llame al 09094100151 para usar sus minutos! Las llamadas se emiten a 10p / min (la mafia varía). Servicio proporcionado por AOM, solo GBP5 / mes. AOM Box61, M60 1ER hasta que pare. ¡Solo mayores de 18 años! Su cuenta de 2004 para 07XXXXXXXXX muestra 786 puntos no canjeados. Para reclamar llamar al 08719181259 Código identificador: XXXXX Vence el 26.03.05 Update_Now - ¡Oferta de Navidad! ¡Lo último de Motorola, SonyEricsson y Nokia y Bluetooth GRATIS! Double Mins y 1000 Txt en naranja. Llame a MobileUpd8 al 08000839402 o llame2optout / F4Q = u r suscrito 2 TEXTCOMP 250 wkly comp. La pregunta gratuita de la 1ra semana sigue, las semanas siguientes charge@150p/msg.2 cancelar la suscripción txt STOP 2 84128, custcare 08712405020 UR otorgó un City Break y podría GANAR una juerga de compras de verano de £ 200 cada SEMANA. Txt STORE al 88039.SkilGme.TsCs087147403231Winawk! Age16 + £ 1,50 por sub Gracias por su pedido de tono de llamada, número de referencia K718. Se le cobrará a su móvil £ 4.50. Si su tono no llega, llame al servicio de atención al cliente al 09065069120 ¿Conocerás pronto a la pareja de tus sueños? ¿Tu carrera desde 2 es un buen comienzo? 2 averigüe gratis, envíe HORO seguido de su signo de estrella, e. gramo. HORO ARIES ¿Tu móvil tenía 11 meses o más? ¡U R tiene derecho a actualizar a los últimos móviles en color con cámara gratis! Llame GRATIS a Mobile Update Co al 08002986030 URGENTE Este es nuestro segundo intento de ponernos en contacto con U. Su premio de £ 900 de AYER aún está pendiente de ser recogido. Para reclamar LLAME AHORA 09061702893. ACL03530150PM Enviar un logo 2 ur lover - 2 nombres unidos por un corazón. Txt LOVE NAME1 NAME2 MOBNO, por ejemplo, LOVE ADAM EVE 07123456789 a 87077 Yahoo! POBox36504W45WQ TxtNO 4 sin anuncios 150p FreeMsg ¡Hoy es el día si está listo! Estoy cachonda y vivo en tu ciudad. ¡Me encantan los juegos y la diversión sexual! Netcollex Ltd 08700621170150p por respuesta de mensaje Detener hasta finalizar Has GANADO un premio garantizado de £ 1000 en efectivo o £ 2000. Para reclamar su premio, llame a nuestro representante de servicio al cliente al 08714712379 entre las 10 am y las 7 pm Costo 10p Tienes 1 mensaje de voz nuevo. Llame al 08719181513. USTED 07801543489 tiene garantizados los últimos teléfonos Nokia, un reproductor de MP3 iPod de 40GB o un premio de £ 500. Txt word: COLLECT to No: 83355! TC-LLC NY-EE. UU. 150p / Mt msgrcvd18 + ¡Oportunidad final! ¡Reclame hoy mismo cupones de descuento por valor de 150 €! Envía SÍ al 85023 ahora. ¡SavaMob, ofertas para miembros móviles! T Cs SavaMob POBOX84, M263UZ. 3,00 € Suscripción 16 Miles de chicas muchas locales 2 u que r vírgenes 2 esto & r listo 2 4fil ur cada necesidad sexual. ¿Puedes filmar el suyo? envía CUTE al 69911 (£ 1.50p. m) Quieres mejorar tu fone con un tono nuevo semanal, responde TONES2U 2 a este texto. www.ringtones.co.uk, el mejor original. Se aplican tarifas de operador de red de tonos 3GBP ¡Adivina qué! ¡Alguien que conoces secretamente te gusta! ¿Quieres saber quién es? Llámanos al 09065394514 Desde fijo DATEBox1282EssexCM61XN 150p / min 18 Estimado titular del cupón 2, solicite sus pases de sala VIP del aeropuerto de 1ra clase cuando utilice su cupón de vacaciones, llame al 08704439680. Al reservar, cotice 1ra clase x 2 Este es el segundo intento de contratar a U, has ganado el premio mayor de esta semana de £ 1000 en efectivo o £ 200 premios. Solo llame al 09066361921 nuestro número de teléfono móvil ha ganado £ 5000, para reclamar nos devuelva la llamada o llame a la línea directa de reclamos en 09050005321. ¡Urgente! llama 09066612661 desde fijo. Sus vacaciones complementarias de 4 * en Tenerife o £ 10,000 en efectivo a la espera de recolección SAE T & Cs PO Box 3 WA14 2PX 150ppm 18+ Remitente: Oferta Hol RECORDATORIO DE O2: Para obtener 2.50 libras de crédito para llamadas gratis y detalles de excelentes ofertas, por favor responda 2 este texto con su nombre válido, número de casa y código postal ¿Quiere un nuevo teléfono color Nokia 3510i entregado mañana? Con 200 minutos GRATIS para cualquier móvil + 100 mensajes de texto GRATIS + videocámara GRATIS Responde o llama al 8000930705 ¡Disfruta de tu móvil con una foto sexy GRATIS de Jordan! Solo envía un mensaje de texto con BABE al 88600. ¡Luego, cada semana, obtén una celebridad sexy! PocketBabe.co.uk 4 fotos más. 16 £ 3 / semana 087016248 Cámara: ¡se le otorga una cámara digital SiPix! llama al 09061221066 fromm fijo. Entrega en 28 días Ahorre dinero en lencería de boda en www.bridal.petticoatdreams.co.uk Elija entre una excelente selección con entrega nacional. Presentado por WeddingFriend ¡Urgente! Llame al 09061743810 desde el teléfono fijo. Sus vacaciones en Tenerife 4 * de cortesía de ABTA o efectivo n. ° 5000 en espera de recolección SAE T & Cs Box 326 CW25WX 150 ppm Warner Village 83118 C Colin Farrell en SWAT este fin de semana en Warner Village y obtenga 1 medicamento gratis. ¡Palomitas de maíz! Solo muestre msg+ticket@kiosk. Válido 4-7 / 12. C t & c @kiosco. Responder SONY 4 mre ofertas de películas LLAME AL 08712402578 inmediatamente ya que hay un mensaje urgente esperándolo ¿Quieres un nuevo teléfono de video? 750 en cualquier momento cualquier minuto de red? ¿Texto gratis de alquiler de línea a mitad de precio durante 3 meses? Responde o llama al 08000930705 para envío gratuito Tiene un importante anuncio de servicio al cliente de PREMIER. ¡Llame a FREEPHONE 0800 542 0578 ahora! 4 meses a mitad de precio Alquiler de línea naranja y los últimos teléfonos con cámara 4 GRATIS. ¿Tu teléfono tenía más de 11 meses? ¡Llame a Mobile Direct gratis al 08000938767 para actualizar ahora! o2 detener los términos y condiciones del texto Oferta de fidelización del cliente: ¡El NUEVO móvil Nokia6650 desde SÓLO £ 10 en TXTAUCTION! Txt word: START to No: 81151 y obtén el tuyo ahora! 4T y Ctxt TC 150p / MTmsg GRATIS durante la 1ª semana! No1 Nokia tone 4 ur mob cada semana, simplemente envíe NOKIA al 8007 Reciba mensajes de texto y dígaselo a tus amigos www.getzed.co.uk POBox 36504 W45WQ norm150p / tone 16+ No tengo noticias de U4 por un tiempo. Llame a 4 línea privada de chat grosero 01223585334 para correrse. Wan 2C fotos de mí siendo follada y luego envía PIX al 8552. 2End envía STOP 8552 SAM xxx Usted es un ganador U ha sido especialmente seleccionado 2 recibe £ 1000 en efectivo o 4 * vacaciones (vuelos incluidos) hable con un operador en vivo 2 reclamo 0871277810810 4 meses a mitad de precio Alquiler de línea naranja y los últimos teléfonos con cámara 4 GRATIS. ¿Tu teléfono tenía 11 meses? ¡Llame a Mobile Direct gratis al 08000938767 para actualizar ahora! o detener txt ¡PRIVADO! Su estado de cuenta de 2003 para 07815296484 muestra 800 S.I.M. no canjeados puntos. Llame al 08718738001 Código de identificación 41782 Vence el 18/11/04 ¡Amas de casa aburridas! Chat n date ahora! 0871750.77.11! BT-tarifa nacional 10p / min solo desde teléfonos fijos! ¡Felicidades! El pase de cine especial de 1 año para 2 es suyo. llame al 09061209465 ahora! C Superman V, Matrix 3, Star Wars 3, etc. ¡los 4 GRATIS! bx420-ip4-5we. 150pm. ¡No te lo pierdas! ¡PRIVADO! Su estado de cuenta de 2003 muestra 800 puntos S. I. M. no canjeados. Llame al 08719899230 Código de identificación: 41685 Vence el 07/11/04 ¡Nuestro servicio de citas te está contactando alguien que conoces! Para saber quién es, llame desde un teléfono fijo 09050000928. PoBox45W2TG150P Felicitaciones 2 videoteléfonos 3G móviles R el suyo. llama al 09063458130 ahora! Videochat con tus amigos, jugar juegos java, descargar música polypH, noline rentl. bx420. ip4. 5we. 150p Tiene un importante anuncio de servicio al cliente de PREMIER. Su cuenta ha sido acreditada con 500 mensajes de texto GRATIS. Para activar, simplemente envíe la palabra: CREDIT al No: 80488 T & Cs www.80488.biz ¿Quieres echar un polvo? ¿Quieres que se envíen ubicaciones reales de perros directamente a tu móvil? únete a la red de perros más grande del Reino Unido. txt perros al 69696 ahora! nyt. ec2a. 3lp 1,50 € / mensaje. Compre Space Invaders 4 con una oportunidad de 2 victorias en la consola de juegos Arcade original. Presiona 0 para Games Arcade (carga estándar WAP). Consulta los 4 términos y configuración de o2.co.uk/games. Sin compra Este mensaje es para su pedido de contenido móvil. Se ha reenviado porque el intento anterior falló debido a un error de red. Consultas a customersqueries@netvision.uk.com Usted ha sido seleccionado para hospedarse en uno de los 250 mejores hoteles británicos, ¡POR NADA! ¡Vacaciones valoradas en £ 350! Marque 08712300220 para reclamar - Llamada con tarifa nacional. Bx526, SW73SS Hola, 07734396839 IBH Oferta de lealtad del cliente: ¡El NUEVO NOKIA6600 Mobile desde SOLO £ 10 en TXTAUCTION! Txt word: START al No: 81151 y obtén el tuyo ahora! 4T & ¡URGENTE! Estamos tratando de ponernos en contacto con U El sorteo de hoy muestra que ha ganado un premio de £ 800 GARANTIZADO. Llame al 09050000460 desde el teléfono fijo. Reclamación J89. po box245c2150pm TheMob> Echa un vistazo a nuestra selección más reciente de contenido, juegos, tonos, chismes, chicas y deporte, mantén tu móvil en forma y envía un mensaje de texto original WAP al 82468 No tengo noticias de U4 por un tiempo. Llame a 4 línea privada de chat grosero 01223585334 para correrse. Wan 2C fotos de mí siendo follada y luego envía PIX al 8552. 2End envía STOP 8552 SAM xxx Bloomberg -Centro de mensajes +447797706009 ¿Por qué esperar? Solicite sus futuras carreras http: //. bloomberg.com ¡GUAUU! Los chicos R Back. HAGA ESE Gira 2007 por el Reino Unido. Gane boletos VIP y reserve con anticipación con VIP Club. Envíe un mensaje de texto a CLUB al 81303. Trackmarque Ltd info @ vipclub4u. Cámara: ¡se le otorga una cámara digital SiPix! llama al 09061221066 fromm fijo. Entrega en 28 días. RECPT 1/3. Ha pedido un tono de llamada. Tu pedido está siendo procesado... Para revisar y MANTENER la fantástica consola de juegos Nokia N-Gage con Club Nokia, visite www.cnupdates.com/newsletter. darse de baja de las alertas responder con la palabra OUT SERVICIOS SMS. para sus créditos de texto inclusivos, vaya a www.comuk.net login = 3qxj9 cancele la suscripción con STOP, sin cargo adicional. ayuda 08702840625.COMUK. 220-CM2 9AE ¡CABALLERO! Estamos intentando ponernos en contacto contigo. El sorteo de los últimos fines de semana muestra que ganó un premio de £ 1000 GARANTIZADO. Llame al 09064012160. Código de reclamo K52. Válido solo por 12 horas. 150 ppm WIN: ¡Tenemos un ganador! ¡El Sr. T. Foley ganó un iPod! Próximamente más premios emocionantes, así que esté atento a su teléfono móvil o visite www.win-82050.co.uk ¡18 días para el inicio de la Euro2004! Se le mantendrá informado de las últimas noticias y resultados diariamente. Darse de baja envíe GET EURO STOP al 83222. Su saldo en efectivo es actualmente de 500 libras; para maximizar su ingreso en efectivo, envíe GO al 86688 solo 150p / msg. CC: 08718720201 PO BOX 114/14 TCR / W1 ¡URGENTE! Estamos intentando ponernos en contacto contigo. El sorteo de los últimos fines de semana muestra que ha ganado un premio de £ 900 GARANTIZADO. Llame al 09061701851. Reclame el código K61. Válido solo 12 horas ¡VAMOS A 2 BAHAMAS! Llame a FREEFONE 08081560665 y hable con un operador en vivo para reclamar cualquiera de los cruceros de Bahamas de £ 2000 CASH 18+ solamente. Para darse de baja txt X al 07786200117 Osos Pic Nick, y Tom, Pete y ... Dick. De hecho, todos los tipos prueban el chat gay con carga de fotos, llame al 08718730666 (10p / min). 2 textos de parada llame al 08712460324 información importante 4 usuario naranja 0789xxxxxxx. ¡Hoy es tu día de suerte! 2Descubre por qué ingresa a http://www.urawinner.com ¡HAY UNA FANTÁSTICA SORPRESA ESPERANDO! ¿Tu móvil tenía 10 meses? Actualice GRATIS a los últimos teléfonos con cámara / video de Orange. Ahorre £ s con mensajes de texto gratuitos / llamadas de fin de semana. Envía SÍ para recibir una devolución de llamada o no para cancelar la suscripción. SPEnero Masculino ¡Oferta! Hot Gay chat ahora más barato, llame al 08709222922. ¡Tarifa nacional de 1.5p / min barato a 7.8p / min pico! Para detener los mensajes de texto, llame al 08712460324 (10p / min) ¡Felicidades! Gracias a un buen amigo, HAS GANADO el premio de Navidad de £ 2,000. 2 es fácil, solo llame al 08718726978 AHORA! Sólo 10 peniques por minuto. BT-tarifa-nacional ¡Adivina qué! ¡Alguien que conoces secretamente te gusta! ¿Quieres saber quién es? Llámanos al 09065394973 desde el teléfono fijo DATEBox1282EssexCM61XN 150p / min 18 Los números de Vodafone de hoy que terminan en 0089 (mis últimos cuatro dígitos) están seleccionados para recibir un premio de £ 350. Si su número coincide, llame al 09063442151 para reclamar su premio de £ 350 Actualmente tenemos un mensaje esperando su colección. Para recoger su mensaje simplemente llame al 08718723815. FreeMsg: ¿Quieres coquetear? Responda DATE ahora y únase al servicio de citas móviles de más rápido crecimiento del Reino Unido. Msgs rcvd solo 25p para optar por no enviar txt al 83021. ¡Responda FECHA ahora! 83039 62735 = £ 450 UK Se aplican los términos y condiciones de los cupones de alojamiento para escapadas. 2 reclamo debe proporcionar su número de reclamo que es 15541 Moby Pub Quiz. ¿Gana un premio de £ 100 en High Street si sabes quién será la nueva duquesa de Cornwall? Envíe su nombre de pila al 82277.unsub DETENGA 1,50 € 008704050406 SP Arrow GRATIS durante la 1ª semana! No1 Nokia tone 4 tu móvil todas las semanas, simplemente envía NOKIA al 8077 Recibe mensajes y cuéntaselo a tus amigos. www.getzed.co.uk POBox 36504 W45WQ 16+ norm150p / tono Free Msj: obtén el tono de llamada \"Crazy\" de Gnarls Barkley TOTALMENTE GRATIS, solo responde IR a este mensaje ahora mismo! Asuste su móvil con una colección de Halloween de mensajes con imágenes del logotipo de nokia más un tono espeluznante GRATIS, txt CARD SPOOK al 8007 Gays hambrientos sintiendo hambre y hasta 4, ahora. Llame al 08718730555 solo 10p / min. Para detener los mensajes de texto, llame al 08712460324 (10p / min) CD 4u: Enhorabuena, recibió £ 500 de vales de regalo de CD o £ 125 de regalo garantizado y Freeentry 2 £ 100 por semana sortee xt MUSIC a 87066 TnCs www.ldew.com1win150ppmx3age16 Ringtone Club: ¡Gr8 nuevos polys directamente a tu móvil cada semana! Su bono B4U w / c 27/03 es MARSMS. Inicie sesión en www.B4Utele.com para obtener un crédito de descuento. Para cancelar la respuesta, deténgase. Atención al cliente llamar al 08717168528 La oferta principal actual es 151. Para pausar esta subasta, envíe OUT. Atención al cliente: 08718726270 ¡Felicidades! 2 videoteléfonos 3G móviles R el suyo. llame al 09061744553 ahora! videochat con tus amigos, jugar juegos java, descargar música polyH, noline rentl. bx420. ip4. 5we. 150pm Has GANADO un premio garantizado de £ 1000 en efectivo o £ 2000. Para reclamar su premio, llame a nuestro representante de servicio al cliente al 08714712412 entre las 10 am y las 7 pm Costo 10p Para las compras más chispeantes, salga de 45 por persona; llame al 0121 2025050 o visite www.shortbreaks.org.uk ¡URGENTE! Su número de teléfono móvil ha sido galardonado con un premio de 2000 £ GARANTIZADO. Llame al 09058094455 desde el teléfono fijo. Reclamación 3030. Válido solo por 12 horas Su saldo es ahora de £ 500. Tu siguiente pregunta es: ¿Quién cantó \\'Uptown Girl\\' en los 80? 2 responda txt ur RESWER al 83600. ¡Buena suerte! ¡Únete al servicio Dogging más cachondo del Reino Unido y podrás tener sexo 2nite !. Simplemente regístrese y siga las instrucciones. Envíe ENTRY al 69888 ahora! Nyt.EC2A.3LP.msg@150p ¡URGENTE! ¡Su número de móvil recibió un premio de bonificación de llamada de £ 2,000 el 1/08/03! ¡Este es nuestro segundo intento de ponernos en contacto con USTED! Llame al 0871-4719-523 BOX95QU BT Tarifa nacional Llame a nuestro representante de servicio al cliente en el TELÉFONO GRATUITO 0808 145 4742 entre las 9 am y las 11 pm ya que ha GANADO un premio garantizado de £ 1000 en efectivo o £ 5000 Mensaje gratuito: ¿Soltero? ¡Encuentre un socio en su área! ¡Miles de personas reales están esperando para chatear ahora! Enviar CHAT a 62220Cncl enviar STOPCS 08717890890 £ 1.50 por mensaje ¡Ha sido especialmente seleccionado para recibir un premio de 2000 libras! Llame al 08712402050 ANTES de que cierren las líneas. Cuesta 10 ppm. 16+. Se aplican los términos y condiciones. Promoción AG ¡Oportunidad final! ¡Reclame hoy mismo cupones de descuento por valor de 150 €! Envía SÍ al 85023 ahora. ¡SavaMob, ofertas para miembros móviles! T Cs SavaMob POBOX84, M263UZ. 3,00 € Suscripción 16 Felicitaciones HAS GANADO. Usted es un ganador en nuestro sorteo de premios de £ 1000 de agosto. Llame al 09066660100 AHORA. Código de premio 2309. SMS. ac JSco: La energía es alta, pero es posible que no sepa dónde 2 canalizarla. 2día sus habilidades de liderazgo son fuertes. ¿Psíquico? Responda ANS con pregunta. ¿Fin? Responder END JSCO Doble minutos y mensajes de texto 4 6 meses GRATIS Bluetooth en naranja. Disponible en teléfonos Sony, Nokia Motorola. Llame a MobileUpd8 al 08000839402 o llame a 2optout / N9DX ¡URGENTE! ¡Ha ganado una membresía GRATUITA de 1 semana en nuestro premio mayor de £ 100,000! Envíe por mensaje de texto la palabra: CLAIM to No: 81010 T&C www.dbuk.net LCCLTD POBOX 4403LDNW1A7RW18 SU OPORTUNIDAD DE ESTAR EN UN REALITY FANTASY SHOW llame ahora = 08707509020 Solo 20p por minuto NTT Ltd, PO Box 1327 Croydon CR9 5WB 0870 es una llamada de tarifa nacional. Los nuevos tonos de esta semana incluyen: 1) McFly-All Ab .., 2) Sara Jorge-Shock .. 3) Will Smith-Switch .. Para ordenar, siga las instrucciones en el siguiente mensaje Usted es un ganador U ha sido especialmente seleccionado 2 recibe £ 1000 en efectivo o 4 * vacaciones (vuelos incluidos) hable con un operador en vivo 2 reclamo 0871277810810 ¡Especial de San Valentín! ¡Gane más de £ 1000 en nuestro cuestionario y lleve a su pareja al viaje de su vida! Envíe GO al 83600 ahora. 150p / msg rcvd. CustCare: 08718720201. Prepare su jardín para el verano con una selección GRATUITA de bulbos y semillas de verano por valor de £ 33: 50 solo con The Scotsman este sábado. Para detener go2 notxt.co.uk Sunshine Quiz Wkly Q! ¿Gana uno de los mejores reproductores de DVD de Sony si sabes en qué país jugó el Liverpool a mediados de semana? Txt ansr al 82277. £ 1.50 SP: Tyrone SERVICIOS SMS. para sus créditos de texto incluidos, por favor vaya a www.comuk.net login = ***** anule la suscripción con STOP. sin cargo adicional. ayuda: 08700469649. PO BOX420. IP4 5WE ¡¡GANADOR!! Como un valioso cliente de la red, ¡ha sido seleccionado para recibir un premio de recompensa de £ 900! Para reclamar llame al 09061701461. Código de reclamo KL341. Válido solo 12 horas. Se acerca XMAS y recibiste cupones de regalo de £ 500 en CD y entrada gratuita 2 r £ 100 sorteo semanal txt MUSIC al 87066 TnC www.Ldew.com1win150ppmx3age16subscription ¡Última oportunidad! ¡Reclame hoy mismo cupones de descuento por valor de 150 €! Envíe el mensaje de texto SHOP al 85023 ahora. ¡SavaMob, ofrece móvil! T Cs SavaMob POBOX84, M263UZ. £ 3.00 Sub. dieciséis Cliente de T-Mobile, ahora puede reclamar su actualización GRATUITA de TELÉFONO CON CÁMARA y una tarjeta SIM pay & go por su lealtad. Llame al 0845021 3680 La oferta termina el 28 de febrero Se aplican términos y condiciones Ringtone Club: Obtén la lista de singles del Reino Unido en tu móvil cada semana y elige cualquier tono de llamada de alta calidad. Este mensaje es gratuito. SERVICIOS SMS. para sus créditos de texto incluidos, vaya a www.comuk.net login = 3qxj9 cancele la suscripción con STOP, sin cargo adicional. ayuda 08702840625.COMUK. 220-CM2 9AE Su tono de llamada gratuito está esperando a ser recogido. Simplemente envíe un mensaje de texto con la contraseña \"MIX\" al 85069 para verificar. Consigue a Usher y Britney. FML, Apartado de correos 5249, MK17 92H. 450Ppw 16 Contenido para adultos 18 Tu video estará contigo en breve ¡SEIS oportunidades de ganar EFECTIVO! De 100 a 20,000 libras txt> CSH11 y enviar al 87575. Costo 150p / día, 6 días, se aplican 16+ TsandCs Responder HL 4 info Sus créditos se han recargado para http://www.bubbletext.com Su PIN de renovación es tgxxrz Hola, soy Amy, te enviaremos un número de teléfono gratuito en un par de días, que te dará acceso a todas las fiestas de adultos ... ¿Hola, cariño. Cómo estás hoy? Me encantaría tener una charla, ¿por qué no me dices cómo te ves y qué te gusta de sexy? operador de red. El servicio es gratuito. Para consultar los términos y condiciones, visite 80488.biz 85233 GRATIS> Tono de llamada! Responder REAL ¡PRIVADO! Su estado de cuenta de 2004 para el número 07742676969 muestra 786 puntos de bonificación no canjeados. Para reclamar llamar al 08719180248 Código de identificación: 45239 Caduca ¡PRIVADO! Su estado de cuenta de 2003 para <fone no> muestra 800 puntos S. I. M. no canjeados. Llame al 08715203656 Código de identificación: 42049 Vence el 26/10/04 Estimado titular del cupón, 2 reclame la oferta de esta semana, en su PC vaya a http://www.e-tlp.co.uk/expressoffer Se aplican los términos y condiciones. 2 mensajes de texto de parada txt STOP al 80062. Tampoco recibiste na hola hola hola hola Lo siento, llamaré más tarde Finalmente, el partido se dirige hacia el empate como su predicción. Es genial, podemos durar un poco. ¿Conseguirás más pronto? Si no respondes, supongo que todavía estás dormido y empezaré a llamar a una mierda ¡Felicidades! Tratar pendiente. No estoy en el correo por 2 días. Lo enviaré una vez. Respete a la madre en casa. Revise los correos. De acuerdo, también tomaré algo de comer, envíame un mensaje de texto cuando vuelvas a mu La pureza de la amistad entre dos no se trata de sonreír después de leer el mensaje reenviado, sino de sonreír con solo ver el nombre. Gud evng Principalmente deportes típicos de fútbol americano, cricket. Lo que quiero decir es que me fui demasiado temprano para comprobarlo, porque estoy trabajando de 9 a 6. Lo siento, llamaré más tarde ¿Cuánto es antorcha en 9ja? Mi fri ah ... Okie lor, voy a conducir y luego voy de compras después de tt ... Estaba jugando al juego de 9 puertas y gt racing en el teléfono lol LMAO, ¿dónde está tu recuerdo de pescado cuando lo necesito? Si le preguntas a ella o ella dice algún mensaje por favor. Igual que tú ... Dun wan ... Ya eres como yo, ah ... ¿Qué estás haciendo ahora? ¿Todavía comiendo? Diles que tienes dolor de cabeza y que solo quieres usar 1 hora de tiempo por enfermedad. ¿Todavía tienes cinta de fontanero y una llave que podríamos pedir prestada? ¿Grave? ¿Qué la lengua adecuada? Yar lor ... Sigue lloviendo sin parar ... ¿O quieres irte a otro lado? De lo contrario, tenía una matrícula de trabajo a tiempo parcial. Voy a venir quiero ir a su 2morrow. Después de eso iré. Esto es lo que obtuve de ella, querida, qué hacer. Ella no dijo en ningún momento Espero que estés teniendo un excelente semestre nuevo. Te deseo lo mejor. Estás hecho para la grandeza. Estoy en el trabajo. Por favor llama Oh ho. ¿Es la primera vez que usas este tipo de palabras? Lol wtf al azar. Por cierto, es tu hora de almuerzo Sólo una vez, después de todo, obedeceré a todos los tuyos Mi hermana va a ver el programa en la tarde, así que no la estoy viendo. Así que puedes verlo hoy o tmr lor. U wan 2 haf lunch estoy en la cantina ahora. Solo ven a casa. No quiero que seas miserable Dulce, podemos o no ir a 4U para encontrarnos con carlos, así que evalúa el interés de Patty en eso. Espero que sea el resultado de ser siempre inteligente y amable. Empiece a preguntarle sobre los enlaces de prácticas y mantén los oídos abiertos y todo lo mejor. Hablaré contigo más s tarde ¿Qué tal agrandar algunas de las fotos? Por favor reserve el boleto el sábado en la víspera de chennai a thirunelvali y nuevamente de tirunelvali a chennai el domingo por la noche ... ya veo en la red ... ¿Has estado practicando tu reverencia? Si no cumplo con todos los ritos, me iré a casa. Si no tengo ganas de venir, está bien. El signo de madurez no es cuando empezamos a decir grandes cosas ... Pero en realidad lo es, cuando empezamos a entender las pequeñas cosas ... * QUE TENGAS UNA BONITA TARDE * BSLVYL Mi hermana fue colocada en birla soft da :-) Generalmente no hay uno. Es un sustantivo incontable, u en el diccionario. piezas de investigación? No Desde que viajó ayo se ha olvidado de su chico ¿Hay algún entrenamiento mañana? Solo termine de soplarme el pelo. ¿Ya terminaste de cenar? Está bien, llámame una vez que estés cerca ¿Cuál será el horario de apertura el domingo? Aiyo ... Siempre eres nuestra ex ... No sé qué mei, ella no ha respondido ... La primera vez que respondes tan rápido ... Qué suerte que no trabajes eh, tengo un bao por tu sugardad ah ... gee .. Me estoy poniendo un poco artístico con mis collages en el mes, ¡bueno, intentándolo de 2 maneras! Conseguí un asado en un minuto encantador ¡Lo disfrutaré! Gracias da thangam, me siento muy, muy feliz querida. También te extraño da. Reverse es hacer trampa. Eso no es matemática. Lol bueno no lo hagas sin mí. Podríamos tener una gran venta juntos. K, tiene sentido, por cierto, Carlos está siendo difícil, así que ustedes fumarán mientras yo recojo el segundo lote y tomo gasolina. Oye, un tipo que conozco está respirando en mi cuello para conseguirle un poco de brote, de todos modos, ¿podrías conseguir un medio camino hasta nosotros esta noche? Amigo, ya no soy piscis. Ahora soy acuario. No, hacemos fiestas los 7 días de la semana y estudiamos a la ligera, creo que tenemos que marcar algunas casillas de verificación personalizadas para que sepan que somos incondicionales. ¡Finalmente ha sucedido ..! ¡Después de décadas ..! ¡LA CERVEZA ahora es más barata que la GASOLINA! El gobierno espera que \"BEBEMOS\". . . Pero no \"CONDUZCA\" Okay. No wahala. Solo recuerda que un amigo necesitado ... Cita siempre verde jamás contada por Jerry en la caricatura \"Una persona que te irrita siempre es la que te ama mucho pero no logra expresarlo ...! .. !! :-) :-) gud nyt Sí, estuvimos afuera durante 2 horas. Y llamé a toda mi familia para despertarlos porque comenzó a la 1 am ¡Hurra! Será mejor que tampoco le hayas dicho eso a otras 5 chicas. Lo siento, no puedo ayudarte con esto. Wow ... te quiero muchísimo, ¿sabes? ¡Apenas puedo soportarlo! Me pregunto como va tu dia y si estas bien mi amor ... pienso en ti y te extraño ¿Ya llegaste al huerto? ¿Quieres comprar entradas primero? Buenas tardes sol! ¿Cómo amanece ese día? ¿Estamos renovados y felices de estar vivos? ¿Respiramos el aire y sonreímos? Pienso en ti mi amor ... como siempre Lo siento, llamaré más tarde ¿Cómo? Izzit sigue lloviendo? Si india gana o nivela la serie significa que este es un récord :) ¿Qué pasa con mi propia oga? Dejé mi teléfono en casa y acabo de ver tus mensajes. Espero que estés bien. Ten un excelente fin de semana. No da si lo ejecutas activa la versión completa da. No sé. Sigues diciendo que no lo eres, pero desde que él se mudó, seguimos chocando con la libertad y la responsabilidad. Y estoy cansado. Tengo tantas otras cosas con las que lidiar que apenas me mantengo unido una vez que esto se agrega. Boooo, siempre trabajas. Solo retírese. Multiplique los números de forma independiente y cuente los puntos decimales y luego, para la división, presione los lugares decimales como le mostré. Sí, consigue lo ilimitado ¿Qué pasó con nuestra cita yo? ¿Sigues asistiendo a las charlas? Autocorrección de Audrie pésimo Perdón por lo de antes. Apagando incendios, ¿estás ahí para hablar después de las 9? ¿O realmente tienes una vida, jajaja! Perdí tu número y estaba enviando mensajes de texto a tu número anterior. Me pregunto por qué no he tenido noticias tuyas este año. Todo lo mejor en tu mcat. Obtuve este número de mis amigos de Atlanta Tienes que tomar nota de todo lo que está expuesto. También averigüe en su escuela si alguien más estaba vomitando. ¿Hay un perro o un gato en la casa? Házmelo saber más tarde. Desde cuándo, de qué lado, fiebre y vómitos. Sí, eso creo. Estoy en la oficina, pero mi regazo está en la habitación, creo que eso está en los últimos días. No cerré eso Miss call miss call khelate kintu oponente miss call dhorte lage. Esa es la regla. Uno con una gran calidad de recepción de teléfonos gana. Nos pasamos los días esperando que el camino ideal aparezca frente a nosotros .. Pero lo que olvidamos es .. \"los caminos se hacen caminando .. no esperando ..\" ¡Buenas noches! Eres muy agradable. . .prepárate el jueves De aquí en adelante El premio por desempeño se calcula cada dos meses, no para el período actual de un mes. Déjame saber cuándo puedo pasar y recoger, básicamente soy libre en cualquier momento después de todo este semestre Dije que está bien. Lo siento Hola gente ... $ 700 o $ 900 por 5 noches ... Excelente ubicación con cesta de desayuno! Yunny, estoy caminando en Citylink ahora ü más rápido baja ... Tengo mucha hambre ... Maldita sea, el pobre Zac no tiene ninguna posibilidad Oye, llámame cuando tengas la oportunidad, un amigo mío quería que te preguntara sobre un pedido importante En el trabajo ahora. Voy a tener en pocos minutos. Si pero que es peor para mi Todavía estoy bastante débil hoy .. ¿Mal día? Pobre chica no puede ir un día lmao La celda de Dip está muerta. Así que voy con él. Será mejor que respondas si no, volveremos. ¿Puede llamarme a las 10:10 para asegurarse de que me he despertado ... Jaja impresionante, ahora entonces Mi viaje estuvo bien pero bastante agotador. La Uni comienza hoy, pero está bien porque no estoy tomando ningún módulo, solo me estoy concentrando en mi proyecto del año final. Actualización de Wylie: mi traficante de marihuana carlos fue a la libertad y tuvo una clase con lunsford Me voy a dormir. Estoy cansado de viajar. ¿Estás conduciendo o entrenando? Prepárate para ser complacido :) Mucho después de que lo dejé. Sigo adelante solo como 5 minutos al día. Estaba a punto de preguntar. Conservaré este. Tal vez por eso no recibiste todos los mensajes que te enviamos en glo Quiero lamer tu coño ahora ... Ya están bien y bien., BBD (pooja) granos llenos ... incluso ella se vuelve bastante negra ... y tu rito aquí es demasiado frío, vistiendo sudadera ... Como esta mi chico No me quedan palabras dulces esta mañana ... * suspiros * ... ¿Cómo va tu día, mi amor? ¿Empezaste a estudiar? Oye, estás enojado conmigo. Respondeme dr. Hola, hola, hola, lo siento, me tomó tanto tiempo. 2 respuesta. Dejé el móvil en amigos en Lancaster, lo acabo de recibir. Neway, lo siento, no pude hacer tu cumpleaños 2 ¡cariño! Cuál canal:-):-):):-). K..k..yo también estoy bien :) ¿Cuándo completarás el curso? Está bien, si estás seguro, avísame cuando te vayas ¿¿Oh enserio?? ¿Lo hiciste al aire? Cual es tu talento? Sí, confirmado para que te quedes ese fin de semana ¿Quizás deberías encontrar algo más que hacer en su lugar? Msgs r not time pass. Dicen en silencio que estoy pensando en U ahora mismo y también hacen que U piense en mí al menos 4 por un momento. Gd nt.swt drms @Shesil Envíale un mensaje de texto. Si no responde, avíseme para que pueda iniciar sesión Estoy en bus camino a calicut ¿Quizás Westhore o Hyde Park Village, el lugar cerca de mi casa? Acabo de salir, salgo a dejar mis cosas ahora Mmm, entonces me pediste que no llamara a la radio Jaja increíble, he estado en 4u un par de veces. ¿Quién viene? Oh, el gran está teniendo una pequeña fiesta, pero no menciona ningún cargo de cobertura, por lo que probablemente sea por orden de llegada. He intentado llegar a él sin éxito Por favor llámame cualquier error de mi parte lo siento pa. Por favor, vaya al doctor. Gracias por enviar esta pregunta sobre habilidades mentales. Esperamos escaparnos a las 7, de Langport. ¿Todavía estás en la ciudad esta noche? Puedo ... soy libre ... Hoy no estoy libre.Hice que recoja a mis padres esta noche ... Como en, quiero descuento de oficial de aduanas oh. Ok, entonces vamos juntos a ... Regreso el jueves. Hurra. ¿Va a estar bien conseguir el dinero? Salud. Oh si y como estas Todo bien. Qué tal la escuela. ¿O lo llamas trabajo ahora? No estoy seguro de tener el estómago para eso ... Te había hecho una pregunta unas horas antes. Su respuesta De camino a la oficina da .. ¿Estás solo en la ciudad? La tía huai juan nunca contesta su teléfono ... nos quedaremos aquí una semana más, el próximo miércoles. ¿Cómo nos fue en el rugby este fin de semana? Hola a y y, pronto \" ¿A qué hora crees que lo tendrás? Necesito saber cuándo debería estar cerca del campus ¿Dónde en abj estás sirviendo? ¿Te quedas con papá o solo? Wah afortunado ... Entonces puede ahorrar dinero ... Je ... Lo siento, llamaré más tarde Te agradezco mucho por todo lo que haces con altruismo. Te amo mucho Dígale que le dije que coma mierda. Erm ... te recogeré a eso de las 6.45 pm. Eso le dará suficiente tiempo para llegar, estacionar y eso. Está bien, te golpearé cuando tenga algo de efectivo Irás a Walmart. Me quedaré. Eh den sat u libro e kb liao eh ... K, para su información, estoy de vuelta en el lugar de mis padres en el sur de tampa, así que podría necesitar hacer el trato en otro lugar. Lo siento, envió un mensaje en blanco de nuevo. Sí, pero intentando 2 estudiar seriamente ahora. ¿Puedes recibir mensajes con imágenes en tu teléfono? No creo que pueda escaparme para una caminata tan larga con mi familia en la ciudad, lo siento Jaja, escuché eso, envíame un mensaje de texto cuando estés cerca Brazos bien, ¿cómo está Cardiff y la universidad? Corto pero lindo: \"Sé una buena persona, pero no trates de demostrarlo ...\". Mediodía bueno ... ¿Pueden enviarme un correo electrónico con todo lo que saben sobre los familiares que vienen a entregar aquí? Todo lo que sabe sobre costos, riesgos, beneficios y cualquier otra cosa. Gracias. ¿Papá tiene un bb ahora? Lol, ¿de dónde se te ocurren estas ideas? Okay . . ahora estoy en el bus. . Si vengo pronto, vendré mañana. ¡Creo que estoy esperando el mismo autobús! Avísame cuando llegues allí, si alguna vez llegas. ¿El tío Timi ayuda a limpiar autos? No sé si todos lo deciden. ¿Qué tal leona? Vaya, tot Ben le va a enviar un mensaje. Ahora estoy, pero tengo que esperar hasta las 2 para que el autobús me recoja. De nada ... Te sorprendí usando un inglés roto de nuevo ... Lo haré. Estaba agotado en el tren esta mañana. Demasiado vino y empanada. Tu duermes bien tambien Perdon por ser un dolor. ¿Está bien si nos vemos otra noche? Pasé la tarde en urgencias y eso significa que no he hecho nada de y eso 42moro y eso incluye todas mis hojas de tiempo y eso. Lo siento. Yo sí que te reiré. Mientras tanto, ¿cómo está mi querida Anjie? Un pensamiento excelente de un amigo malinterpretado: Sé que me odias, pero el día que sepas la verdad, te odiarás a ti mismo :-( Gn :-) Compras lor. Les llueve mucho mah 2 dejan huerto. Okay . . ahora estoy en el bus. . Si vengo pronto, vendré mañana. Erm ... Woodland Avenue en alguna parte. ¿Obtienes la revista parroquial? Su número de teléfono estará allí. Veré si puedo pasar un poco, tengo algunas cosas de las que ocuparme aquí primero Sin mensaje ... sin respuesta ... ¿qué sucede? Lo siento, llamaré más tarde Estoy leyendo el texto que te acabo de enviar. Está destinado a ser una broma. Así que léelo en esa luz Sé solo el número de queja ... mejor, vaya directamente a la oficina de BSNL y solicítelo ... sucedió aquí mientras estabas de aventuras Mi doloroso pensamiento personal: \"Siempre trato de que todos estén contentos todo el tiempo. Pero nadie me reconoce cuando estoy solo\". También rastrea cualquier encendedor que puedas encontrar No, lo estuve probando todo el fin de semana; V Pasar por un sentimiento muy diferente. Las decisiones vacilantes y hacer frente a las mismas es el mismo individuo. El tiempo curará todo lo que creo. Cariño, ¡espero que no estés teniendo ese tipo de día! Tenga uno con muchas razones para sonreír. Biola De lo contrario, tenía una matrícula de trabajo a tiempo parcial. Sí :) aquí la televisión siempre está disponible en el lugar de trabajo. Eso es lo que me encanta escuchar: Te veo el domingo, entonces Oh k. Creo que la mayoría de los jugadores de wi y nz no se venden. ¿Cogiste el autobús? ¿Estás friendo un huevo? ¿Hiciste un té? ¿Estás comiendo lo que sobró de tu mamá durante la cena? Sientes mi amor ? Hola cariño, estoy en helens fone, voy a estar con los príncipes 2 noches, por favor, ven, amor, Kate. De Verdad? Me estrellé acurrucado en mi sofá. U tan piojoso, corre ya regresa luego medio muerto ... Je ... Tantas personas parecen ser especiales a primera vista, pero solo muy pocas seguirán siendo especiales para ti hasta la última vez que las veas. Mantenlas hasta el final de la vida. Sh! Jas Ella acaba de desglosar una lista de razones por las que no hay nadie en la ciudad y no puedo decir si está siendo sarcástica o simplemente maricona. Nice.nice.cómo está funcionando? Huh tan lento que llegué hace mucho tiempo liao ... U 2 días más solo i 4 más leh ... dijo beso, beso, ¡no puedo hacer los efectos de sonido! Es un hombre hermoso, ¿no es así? ¡Tipo de persona que necesita una sonrisa para alegrar su día! Mi hermana aclaró dos balas en birla suave ayer. Compraré cosas hoy y te lo enviaré por correo. ¿Tiene un número de apartado postal? Tmrw. Estoy terminando 9 puertas :-( ¡eso no es muy romántico! Sé que me faltan la mayoría de los detalles de esta tormenta de drama en particular, pero en general no me preocupa eso. Soy un actor. Cuando trabajo, trabajo por la noche y duermo hasta tarde. Como estoy desempleado en este momento, SIEMPRE duermo hasta tarde. Cuando estás desempleado, todos los días son sábados. Llévanos de compras y Mark distraerá a Isaías. = D Lo siento, no puedo ayudarte con esto. Yun ah. El ubi uno dice si quiero llamar para mañana. Llamar al 67441233 buscar a irene. Solo tenemos el bus8,22,65,61,66,382. Ubi cres, ubi tech park.6ph durante los primeros días de 5wkg. Nada me viene a la mente. Ayúdame a comprar la percha. ¿Tu computadora portátil no pesa? Señor, estoy esperando su correo. No, solo llegará a las 9. Ella dice que estará allí. no lo sé Sir Goodmorning, una vez libre llámame. 10 min despues k ... Sí :) de la semana pasada estoy tomando una llamada en vivo. No lo he enviado. Él puede enviarme. ¿Debería haber recogido un recibo o algo antes? ¿Eh? 6 también no puede? Entonces, ¿cuántos errores? ¡Deja de conocerme tan bien! Oh caramba. Eso me pasó en tron. Tal vez lo dl en 3d cuando salga Sí, lo creo hasta que la tienda cierre. ¡Sí, hazlo! No te quedes parado para cerrar, ¡atraparás algo! No es lo mismo aquí. Sigo buscando trabajo. ¿Cuánto gana Ta allí? Oh. Debes haber sacado tu VERDADERO San Valentín de compras primero. Si aún no has recogido la masa, avísame para que pueda ir al lugar donde la envié para obtener el número de control. Pete, ¿este sigue siendo tu teléfono? Es Jenny de la universidad y Leanne. ¿Qué estás haciendo ahora? :) La mesa está ocupada, estoy esperando junto al árbol Disfruto viendo y jugando al fútbol y al baloncesto. Cualquier cosa al aire libre. ¿Y tu? Estoy en la película, te llamaré más tarde. 7 maravillas en Mi MUNDO 7mo Tú 6º Estilo Ur 5º Sonrisa Ur 4º Ur Personalidad 3º Ur Naturaleza 2º Ur SMS y 1º \"Ur Lovely Friendship\" ... buenos días querida No hay problema. Pasaremos mucho tiempo de calidad juntos ... Mi vida significa mucho para mí, no porque ame mi vida, sino porque amo a las personas en mi vida, el mundo los llama amigos, yo los llamo mi mundo :-) .. Ge :-) .. Hola di is yijue, nos reuniremos a las 7 pm en esaplanade esta noche. Sí, pero no me está dando problemas ahora, así que tal vez lo dejo ... Lo siento, no he ido a ese lugar. Lo haré mañana. Lo siento mucho. Proverbio japonés: Si uno puede hacerlo, U también puede hacerlo, si nadie puede hacerlo, U debe hacerlo. Versión india: Si uno puede hacerlo, DEJÉLELO. Si ninguno puede hacerlo, ¡¡DEJARLO !! Y finalmente la versión de Kerala: Si uno puede hacerlo, deje de hacerlo ... Si nadie puede hacerlo, haga un ataque contra él ... ¿Tienes dinero para gas hella, quieres emprender una gran aventura en la naturaleza con Galileo en un rato? oye, parece que me equivoqué y uno de los números de los chicos de kappa todavía está en mi teléfono, si quieres puedo enviarle un mensaje de texto y ver si está cerca Probablemente no, todavía estoy repasando algunas cosas aquí Conocerte es mi trabajo. . . Dime cuando haré mi trabajo mañana ¿Quise decir en el medio a la izquierda o a la derecha? ¿Debo enviarte fotos traviesas? :) lanzaron otro italiano hoy y tiene una opción de cosignar O no estaba en fps entonces. K. ¿Me llamaste hace un momento, ah? Oh Dios, estoy feliz de ver tu mensaje después de 3 días. Cada momento en un día tiene su propio valor: la mañana trae esperanza, la tarde trae fe, la tarde trae amor, la noche trae descanso, deseo que los encuentres a todos hoy. Acabo de ver su mensaje. K da :) Revisar y corregir la ortografía, es decir, sarcasmo Debajo del mar, hay una roca. En la roca hay un sobre. En el sobre hay un papel. En el papel, hay 3 palabras ... \\' Quiero estar ahí para poder besarte y sentirte a mi lado ¿Cuándo vas a montar en bicicleta? Nite nite pocay wocay luv u más que nada 4eva te prometo que suena 2morrowxxxx Ü listo entonces llámame ... Todo lo mejor para el examen de 4 años después. Ummmmmaah Muchos muchos retornos felices del d día mi querido y dulce corazón .. FELIZ CUMPLEAÑOS querido ¿Cuánto costaría contratar a un sicario? Qué pasa, cariño. Por qué callas. Estoy tenso Lo siento, llamaré más tarde No, no tengo ninguna película en mi computadora portátil Costa este Creo que es como ese juego de hotel al anochecer. Resuelves acertijos en un área Nice.nice.cómo está funcionando? Oh, genial. Lo molestaré más para que podamos hablar. Bueno, bueno, todos los amigos se fueron. ¡Acabo de correr otra vez! ¿Disfrutaste el concierto? Honestamente, acabo de hacer una taza de té encantadora y de inmediato dejé caer mis llaves y luego me quemé los dedos al sacarlas. Okay. Pero termino a las 6. ¿Puedo llamarte más tarde por favor? Llegué a grabar un video que la gente mecanografió el mensaje para. Eres tan libre, ¿quieres ayudarme? Hee ... Porque noe quieres 2 ver asuntos infernales, así que pregúntale. Preguntando shuhui oso. El signo de madurez no es cuando empezamos a decir grandes cosas ... Pero en realidad lo es, cuando empezamos a entender las pequeñas cosas ... * QUE TENGAS UNA BONITA TARDE * BSLVYL Siempre hablo contigo. De hecho, necesito dinero, ¿puedes criarme? No he comprado ahora solo el señor i juz llegó Me estoy tomando medio día de licencia porque no estoy bien MIRA EL FUCKIN TIME. Que mierda crees que es Oh k :) después de esa colocación ahí, ¿ah? K Me voy pronto, estaré un poco después de las 9 Mi superior me dice que el viernes es un permiso para todos los demás departamentos excepto el nuestro :) así que será un permiso para ti :) de cualquier manera llama a waheed fathima hr y conforma :) Estamos en el lado opuesto de donde te dejamos Mmmm ... Joder ... ¡No es justo! ¡Conoces mis debilidades! * sonríe * * te empuja a tus rodillas * * expone mi barriga y tira de tu cabeza hacia ella * No te olvides ... yo también conozco la tuya * sonrisa malvada * Por favor, no me envíes más mensajes de texto. No tengo nada más que decir. Siento molestarte de nuevo. ¿Puedo volver a comprar 4d para mi papá? 1405, 1680, 1843. Todos 2 grandes 1 pequeño, sat n sun. Gracias. Buenos días, hoy llego tarde por 2 horas. Por dolor de espalda. 4 en punto en el mío. Solo para hacer un plan plano. Así que ahora mi papá llamará después de que salga del trabajo y hará todas estas preguntas locas. Hola, he reservado las 2 lecciones sobre sun liao ... Eso es porque eres viejo. Vivo para estar drogado. Si ganamos, es realmente el lado n ° 1 durante mucho tiempo. Esa es una cancion maravillosa Felicitaciones para ti. Estaba lejos del sistema. Cómo tu lado. Hola querida, llámame urgente. No sé cuál es tu problema. No quieres trabajar o si tienes algún otro problema al menos dímelo. Esperando tu respuesta. Buenos días, hoy llego tarde 1 hora. ¡Bueno, voy a ser una tía! No sé, lo mismo que está mal de vez en cuando, comienza a entrar en pánico por no ser lo suficientemente bueno ... La belleza de la vida está en el siguiente segundo ... que esconde miles de secretos. Deseo que cada segundo sea maravilloso en tu vida ... !! gud n8 ¿A QUÉ HORA debería venir mañana? Ja ... Entonces debemos caminar a todas partes ... No se puede tomar el tranvía. Mi primo dijo que puede caminar al mercado de vic desde nuestro hotel Hoy es el DÍA DE ACEPTAR ... ¿Me aceptas como? Hermano Sister Amante Querido1 Mejor1 Clos1 Lvblefrnd Jstfrnd Cutefrnd Lifpartnr Amado Cariño Mejor Amigo No rply significa enemigo Lo siento, llamaré más tarde en la reunión ¿Tienes tiempos de radio de Navidad? Si no lo conseguiré ahora Tendrás que comprar una hamburguesa de $ 1 para ti de camino a casa. Ni siquiera puedo moverme. El dolor me está matando. Sí, no nos iríamos por una hora al menos, ¿cómo suena 4? Dormir bien se trata de ritmo. La persona tiene que establecer un ritmo que el cuerpo aprenderá y utilizará. Si quieres saber más :-) Mm, estoy de camino al ferrocarril Yo estamos viendo una película en netflix Okay. Todas las noches toma un baño tibio, bebe una taza de leche y verás una obra de magia. Aún necesitas perder peso. Solo para que sepas Un bloo bloo bloo, extrañaré el primer tazón Quiero kfc es martes. Solo compre 2 comidas SOLAMENTE 2. Sin salsa. Solo 2 marcos. 2! También maaaan te estás perdiendo No querida, estaba durmiendo :-P Tengo hambre comprar algo de comida buena lei ... Pero mamá n yun dun wan juz comprar un poco ... Quiero mostrarte el mundo, princesa :) ¿Qué tal Europa? ¿Entonces crees que debería hablar con él? ¿No llamar a su jefe por la mañana? Fui a este lugar el año pasado y me dijo dónde podía ir y arreglar mi auto más barato. No dejaba de decirme hoy cuánto esperaba que volviera, cómo siempre se arrepintió de no haber recibido mi número, etc. ¿Ahora tienes TV 2, mírame? ¿No trabajas hoy? Olol imprimí una publicación en el foro de un tipo con exactamente el mismo problema que se solucionó con un reemplazo de gpu. Ojalá no lo ignoren. Luego ü pedirle a papá que recoja ü lar ... Ü quiero 2 quedarme hasta las 6 meh ... Entonces, ¿tienes hombros de samus todavía? Olvidé decirle algo ... ¿Me gusta numerar las secciones para que quede más claro ... Lo siento, llamaré más tarde ¿No es esa época del mes ni la mitad del tiempo? ¿Cómo está mi amante? ¿Qué hace que le impida acudir a su Reina, hmmm? ¿No anhela hablar conmigo? ¿Me extrañas desesperadamente? Hola. Ahora nos hemos mudado a nuestro pub. Sería genial 2 c u si aparece u cud. Poema de la amistad: Querido O Querido U R No está cerca, pero puedo oír No te asustes Viva con alegría No más lágrimas U R Siempre mi querido. Gud ni8 Sí, tenemos uno preparado para nosotros Prabha ... lo siento ... de verdad ... de corazón lo siento Ok, pero no demasiado temprano. Todavía tengo la reunión del proyecto ahora. Seguramente el resultado ofrecerá :) Es cierto, querida ... me senté a orar por la noche y me sentí así. Oye nena, mi amigo tuvo que cancelar, ¿todavía estás listo para una visita? Estoy en el hospital da. . Regresaré a casa por la noche Ü todos escriben o wat .. No puedo asumir ningún papel importante en el alcance comunitario. Tu rock mel Ojalá estuviera contigo. Sosteniéndote fuerte. Haciéndote ver lo importante que eres. Cuánto significas para mí ... Cuánto te necesito ... En mi vida ... Huh tan rápido ... ¿Eso significa que no has terminado de pintar?'"
      ]
     },
     "execution_count": 11,
     "metadata": {},
     "output_type": "execute_result"
    }
   ],
   "source": [
    "df['mensaje'].str.cat(sep=' ')"
   ]
  },
  {
   "cell_type": "markdown",
   "metadata": {
    "slideshow": {
     "slide_type": "slide"
    }
   },
   "source": [
    "### 👷🏽‍♀️ 3. Archivos más comunes\n",
    "\n",
    "#### Archivos tipo `.txt`"
   ]
  },
  {
   "cell_type": "code",
   "execution_count": 18,
   "metadata": {
    "slideshow": {
     "slide_type": "fragment"
    }
   },
   "outputs": [],
   "source": [
    "with open('../archivos/dragonball.txt', encoding='utf-8') as archivo:\n",
    "    data = archivo.read()"
   ]
  },
  {
   "cell_type": "code",
   "execution_count": 19,
   "metadata": {
    "slideshow": {
     "slide_type": "fragment"
    }
   },
   "outputs": [
    {
     "name": "stdout",
     "output_type": "stream",
     "text": [
      "Tu sonrisa tan resplandeciente\n",
      "A mi corazón deja encantado\n",
      "Ven toma mi mano para huir de esta terrible obscuridad.\n",
      "\n",
      "En el instante en que te volví a encontrar\n",
      "Mi mente trajo a mí aquel hermoso lugar\n",
      "Que cuando era niño fue tan valioso para mí.\n",
      "Quiero saber si acaso tú conmigo quieres bailar\n",
      "Si me das tu mano te llevaré\n",
      "Por un camino cubierto de luz y oscuridad.\n",
      "\n",
      "Tal vez sigues pensando en él\n",
      "No puedo yo saberlo pero sé y entiendo\n",
      "Que amor necesitas tú\n",
      "Y el valor para pelear en mi lo hallarás.\n",
      "\n",
      "Mi corazón encantado vibra\n",
      "Por el polvo de esperanza y magia\n",
      "Del universo que ambicionan todos poseer.\n",
      "Voy amarte para toda la vida\n",
      "No me importa si aun no te intereso\n",
      "Ven toma mi mano para huir de esta infinita obscuridad.\n",
      "\n",
      "Sin importar que pase yo te amare\n",
      "Y quiero que por siempre a mi lado estés.\n",
      "No vale la pena seguir pensando en el ayer.\n",
      "\n",
      "Quiero saber si acaso sigues tu soñando con el\n",
      "En un mar de dudas me perderé\n",
      "Y ya no encuentro el camino que me lleve hasta ti.\n",
      "\n",
      "Cuando al fin me logre decidir\n",
      "A confesar las cosas que siento por ti\n",
      "No sé que me lo impidió\n",
      "Pero hoy voy a pelar con todo mi amor.\n",
      "\n",
      "Mi corazón encantado vibra\n",
      "Por el polvo de esperanza y magia\n",
      "Te voy a demostrar\n",
      "Que el amor que siento es real\n",
      "Voy amarte para toda la vida\n",
      "Que mas da ven, ya no tengas miedo\n",
      "Ven toma mi mano y busquemos juntos la felicidad.\n"
     ]
    }
   ],
   "source": [
    "print(data)"
   ]
  },
  {
   "cell_type": "markdown",
   "metadata": {
    "slideshow": {
     "slide_type": "slide"
    }
   },
   "source": [
    "### 👷🏽‍♀️ 3. Archivos más comunes\n",
    "\n",
    "#### Archivos tipo `.json`"
   ]
  },
  {
   "cell_type": "code",
   "execution_count": 20,
   "metadata": {
    "slideshow": {
     "slide_type": "fragment"
    }
   },
   "outputs": [],
   "source": [
    "import json"
   ]
  },
  {
   "cell_type": "code",
   "execution_count": 24,
   "metadata": {
    "slideshow": {
     "slide_type": "fragment"
    }
   },
   "outputs": [],
   "source": [
    "with open('../archivos/sistemas_operativos.json') as archivo:\n",
    "    data = json.load(archivo)"
   ]
  },
  {
   "cell_type": "code",
   "execution_count": 26,
   "metadata": {},
   "outputs": [
    {
     "data": {
      "text/plain": [
       "{'Name': 'Gentoo',\n",
       " 'Version': 'Rolling Release',\n",
       " 'Install': 'emerge',\n",
       " 'Owner': 'Gentoo Foundation',\n",
       " 'Kernel': '4.12'}"
      ]
     },
     "execution_count": 26,
     "metadata": {},
     "output_type": "execute_result"
    }
   ],
   "source": [
    "data[-1]"
   ]
  },
  {
   "cell_type": "code",
   "execution_count": null,
   "metadata": {
    "slideshow": {
     "slide_type": "fragment"
    }
   },
   "outputs": [],
   "source": []
  },
  {
   "cell_type": "code",
   "execution_count": 27,
   "metadata": {
    "slideshow": {
     "slide_type": "slide"
    }
   },
   "outputs": [
    {
     "data": {
      "text/html": [
       "<div>\n",
       "<style scoped>\n",
       "    .dataframe tbody tr th:only-of-type {\n",
       "        vertical-align: middle;\n",
       "    }\n",
       "\n",
       "    .dataframe tbody tr th {\n",
       "        vertical-align: top;\n",
       "    }\n",
       "\n",
       "    .dataframe thead th {\n",
       "        text-align: right;\n",
       "    }\n",
       "</style>\n",
       "<table border=\"1\" class=\"dataframe\">\n",
       "  <thead>\n",
       "    <tr style=\"text-align: right;\">\n",
       "      <th></th>\n",
       "      <th>Name</th>\n",
       "      <th>Version</th>\n",
       "      <th>Install</th>\n",
       "      <th>Owner</th>\n",
       "      <th>Kernel</th>\n",
       "    </tr>\n",
       "  </thead>\n",
       "  <tbody>\n",
       "    <tr>\n",
       "      <th>0</th>\n",
       "      <td>Debian</td>\n",
       "      <td>9</td>\n",
       "      <td>apt</td>\n",
       "      <td>SPI</td>\n",
       "      <td>4.9</td>\n",
       "    </tr>\n",
       "    <tr>\n",
       "      <th>1</th>\n",
       "      <td>Ubuntu</td>\n",
       "      <td>17.10</td>\n",
       "      <td>apt</td>\n",
       "      <td>Canonical</td>\n",
       "      <td>4.13</td>\n",
       "    </tr>\n",
       "    <tr>\n",
       "      <th>2</th>\n",
       "      <td>Fedora</td>\n",
       "      <td>26</td>\n",
       "      <td>dnf</td>\n",
       "      <td>Red Hat</td>\n",
       "      <td>4.13</td>\n",
       "    </tr>\n",
       "    <tr>\n",
       "      <th>3</th>\n",
       "      <td>CentOS</td>\n",
       "      <td>7</td>\n",
       "      <td>yum</td>\n",
       "      <td>Red Hat</td>\n",
       "      <td>3.10</td>\n",
       "    </tr>\n",
       "    <tr>\n",
       "      <th>4</th>\n",
       "      <td>OpenSUSE</td>\n",
       "      <td>42.3</td>\n",
       "      <td>zypper</td>\n",
       "      <td>Novell</td>\n",
       "      <td>4.4</td>\n",
       "    </tr>\n",
       "    <tr>\n",
       "      <th>5</th>\n",
       "      <td>Arch Linux</td>\n",
       "      <td>Rolling Release</td>\n",
       "      <td>pacman</td>\n",
       "      <td>SPI</td>\n",
       "      <td>4.13</td>\n",
       "    </tr>\n",
       "    <tr>\n",
       "      <th>6</th>\n",
       "      <td>Gentoo</td>\n",
       "      <td>Rolling Release</td>\n",
       "      <td>emerge</td>\n",
       "      <td>Gentoo Foundation</td>\n",
       "      <td>4.12</td>\n",
       "    </tr>\n",
       "  </tbody>\n",
       "</table>\n",
       "</div>"
      ],
      "text/plain": [
       "         Name          Version Install              Owner Kernel\n",
       "0      Debian                9     apt                SPI    4.9\n",
       "1      Ubuntu            17.10     apt          Canonical   4.13\n",
       "2      Fedora               26     dnf            Red Hat   4.13\n",
       "3      CentOS                7     yum            Red Hat   3.10\n",
       "4    OpenSUSE             42.3  zypper             Novell    4.4\n",
       "5  Arch Linux  Rolling Release  pacman                SPI   4.13\n",
       "6      Gentoo  Rolling Release  emerge  Gentoo Foundation   4.12"
      ]
     },
     "execution_count": 27,
     "metadata": {},
     "output_type": "execute_result"
    }
   ],
   "source": [
    "from pandas import json_normalize\n",
    "json_normalize(data)"
   ]
  },
  {
   "cell_type": "markdown",
   "metadata": {
    "slideshow": {
     "slide_type": "slide"
    }
   },
   "source": [
    "### 👷🏽‍♀️ 3. Archivos más comunes\n",
    "\n",
    "#### Archivos tipo `.zip` (archivos anidados)"
   ]
  },
  {
   "cell_type": "code",
   "execution_count": 28,
   "metadata": {
    "slideshow": {
     "slide_type": "fragment"
    }
   },
   "outputs": [],
   "source": [
    "import os\n",
    "from zipfile import ZipFile"
   ]
  },
  {
   "cell_type": "code",
   "execution_count": 29,
   "metadata": {
    "slideshow": {
     "slide_type": "fragment"
    }
   },
   "outputs": [],
   "source": [
    "direccion = '../archivos/astro.zip'"
   ]
  },
  {
   "cell_type": "code",
   "execution_count": 31,
   "metadata": {
    "code_folding": [],
    "slideshow": {
     "slide_type": "fragment"
    }
   },
   "outputs": [],
   "source": [
    "with ZipFile(direccion) as archivo:\n",
    "    archivo.extractall('../archivos/')"
   ]
  },
  {
   "cell_type": "markdown",
   "metadata": {
    "slideshow": {
     "slide_type": "slide"
    }
   },
   "source": [
    "Para ver el nombre de los archivos:"
   ]
  },
  {
   "cell_type": "code",
   "execution_count": 32,
   "metadata": {
    "code_folding": [],
    "slideshow": {
     "slide_type": "fragment"
    }
   },
   "outputs": [
    {
     "name": "stdout",
     "output_type": "stream",
     "text": [
      "('../archivos/astro', [], ['Perseverance.txt', 'La muerte de las estrellas.txt', 'Cojuncio╠ün Jupiter.txt'])\n"
     ]
    }
   ],
   "source": [
    "for archivo in os.walk('../archivos/astro'):\n",
    "    print(archivo)"
   ]
  },
  {
   "cell_type": "code",
   "execution_count": 33,
   "metadata": {
    "slideshow": {
     "slide_type": "fragment"
    }
   },
   "outputs": [
    {
     "name": "stdout",
     "output_type": "stream",
     "text": [
      "Perseverance.txt\n",
      "La muerte de las estrellas.txt\n",
      "Cojuncio╠ün Jupiter.txt\n"
     ]
    }
   ],
   "source": [
    "for raiz, dirs, archivos in os.walk('../archivos/astro'):\n",
    "    for a in archivos:\n",
    "        print(a)"
   ]
  },
  {
   "cell_type": "markdown",
   "metadata": {
    "slideshow": {
     "slide_type": "slide"
    }
   },
   "source": [
    "### 👷🏽‍♀️ 4. Archivos de Office\n",
    "\n",
    "#### Word"
   ]
  },
  {
   "cell_type": "markdown",
   "metadata": {
    "slideshow": {
     "slide_type": "fragment"
    }
   },
   "source": [
    "Instalar libreria: `pip install python-docx`"
   ]
  },
  {
   "cell_type": "code",
   "execution_count": 34,
   "metadata": {
    "slideshow": {
     "slide_type": "fragment"
    }
   },
   "outputs": [],
   "source": [
    "import docx"
   ]
  },
  {
   "cell_type": "code",
   "execution_count": 35,
   "metadata": {
    "slideshow": {
     "slide_type": "fragment"
    }
   },
   "outputs": [],
   "source": [
    "documento = docx.Document(\"../archivos/Colombia.docx\")"
   ]
  },
  {
   "cell_type": "code",
   "execution_count": 40,
   "metadata": {
    "slideshow": {
     "slide_type": "fragment"
    }
   },
   "outputs": [
    {
     "name": "stdout",
     "output_type": "stream",
     "text": [
      "Colombia\n",
      "\n",
      "Colombia, oficialmente República de Colombia, es un país soberano situado en la región noroccidental de América del Sur, que se constituye en un estado unitario, social y democrático d\n",
      "e derecho cuya forma de gobierno es presidencialista. Es una república organizada políticamente en 32 departamentos descentralizados y el Distrito Capital de Bogotá, sede del Gobierno Nacional.\n",
      "\n",
      "\n",
      "\n"
     ]
    }
   ],
   "source": [
    "for parrafo in documento.paragraphs:\n",
    "    print(parrafo.text)"
   ]
  },
  {
   "cell_type": "markdown",
   "metadata": {
    "slideshow": {
     "slide_type": "slide"
    }
   },
   "source": [
    "Para poder leer tablas dentro del archivo"
   ]
  },
  {
   "cell_type": "code",
   "execution_count": 43,
   "metadata": {
    "slideshow": {
     "slide_type": "fragment"
    }
   },
   "outputs": [
    {
     "data": {
      "text/plain": [
       "<docx.table.Table at 0x7f7efbbb4940>"
      ]
     },
     "execution_count": 43,
     "metadata": {},
     "output_type": "execute_result"
    }
   ],
   "source": [
    "tabla = documento.tables[0]\n",
    "tabla"
   ]
  },
  {
   "cell_type": "code",
   "execution_count": 45,
   "metadata": {
    "slideshow": {
     "slide_type": "fragment"
    }
   },
   "outputs": [
    {
     "data": {
      "text/html": [
       "<div>\n",
       "<style scoped>\n",
       "    .dataframe tbody tr th:only-of-type {\n",
       "        vertical-align: middle;\n",
       "    }\n",
       "\n",
       "    .dataframe tbody tr th {\n",
       "        vertical-align: top;\n",
       "    }\n",
       "\n",
       "    .dataframe thead th {\n",
       "        text-align: right;\n",
       "    }\n",
       "</style>\n",
       "<table border=\"1\" class=\"dataframe\">\n",
       "  <thead>\n",
       "    <tr style=\"text-align: right;\">\n",
       "      <th></th>\n",
       "      <th>REGION</th>\n",
       "      <th>DEPARTAMENTO</th>\n",
       "      <th>MUNICIPIO</th>\n",
       "    </tr>\n",
       "  </thead>\n",
       "  <tbody>\n",
       "    <tr>\n",
       "      <th>0</th>\n",
       "      <td>REGION</td>\n",
       "      <td>DEPARTAMENTO</td>\n",
       "      <td>MUNICIPIO</td>\n",
       "    </tr>\n",
       "    <tr>\n",
       "      <th>1</th>\n",
       "      <td>Región Eje Cafetero - Antioquia</td>\n",
       "      <td>Antioquia</td>\n",
       "      <td>Medellín</td>\n",
       "    </tr>\n",
       "    <tr>\n",
       "      <th>2</th>\n",
       "      <td>Región Eje Cafetero - Antioquia</td>\n",
       "      <td>Antioquia</td>\n",
       "      <td>Abejorral</td>\n",
       "    </tr>\n",
       "    <tr>\n",
       "      <th>3</th>\n",
       "      <td>Región Eje Cafetero - Antioquia</td>\n",
       "      <td>Antioquia</td>\n",
       "      <td>Abriaquí</td>\n",
       "    </tr>\n",
       "    <tr>\n",
       "      <th>4</th>\n",
       "      <td>Región Eje Cafetero - Antioquia</td>\n",
       "      <td>Antioquia</td>\n",
       "      <td>Alejandría</td>\n",
       "    </tr>\n",
       "    <tr>\n",
       "      <th>5</th>\n",
       "      <td>Región Eje Cafetero - Antioquia</td>\n",
       "      <td>Antioquia</td>\n",
       "      <td>Amagá</td>\n",
       "    </tr>\n",
       "    <tr>\n",
       "      <th>6</th>\n",
       "      <td>Región Eje Cafetero - Antioquia</td>\n",
       "      <td>Antioquia</td>\n",
       "      <td>Amalfi</td>\n",
       "    </tr>\n",
       "    <tr>\n",
       "      <th>7</th>\n",
       "      <td>Región Eje Cafetero - Antioquia</td>\n",
       "      <td>Antioquia</td>\n",
       "      <td>Andes</td>\n",
       "    </tr>\n",
       "    <tr>\n",
       "      <th>8</th>\n",
       "      <td>Región Eje Cafetero - Antioquia</td>\n",
       "      <td>Antioquia</td>\n",
       "      <td>Angelópolis</td>\n",
       "    </tr>\n",
       "    <tr>\n",
       "      <th>9</th>\n",
       "      <td>Región Eje Cafetero - Antioquia</td>\n",
       "      <td>Antioquia</td>\n",
       "      <td>Angostura</td>\n",
       "    </tr>\n",
       "    <tr>\n",
       "      <th>10</th>\n",
       "      <td>Región Eje Cafetero - Antioquia</td>\n",
       "      <td>Antioquia</td>\n",
       "      <td>Anorí</td>\n",
       "    </tr>\n",
       "  </tbody>\n",
       "</table>\n",
       "</div>"
      ],
      "text/plain": [
       "                             REGION  DEPARTAMENTO    MUNICIPIO\n",
       "0                            REGION  DEPARTAMENTO    MUNICIPIO\n",
       "1   Región Eje Cafetero - Antioquia     Antioquia     Medellín\n",
       "2   Región Eje Cafetero - Antioquia     Antioquia    Abejorral\n",
       "3   Región Eje Cafetero - Antioquia     Antioquia     Abriaquí\n",
       "4   Región Eje Cafetero - Antioquia     Antioquia   Alejandría\n",
       "5   Región Eje Cafetero - Antioquia     Antioquia        Amagá\n",
       "6   Región Eje Cafetero - Antioquia     Antioquia       Amalfi\n",
       "7   Región Eje Cafetero - Antioquia     Antioquia        Andes\n",
       "8   Región Eje Cafetero - Antioquia     Antioquia  Angelópolis\n",
       "9   Región Eje Cafetero - Antioquia     Antioquia    Angostura\n",
       "10  Región Eje Cafetero - Antioquia     Antioquia        Anorí"
      ]
     },
     "execution_count": 45,
     "metadata": {},
     "output_type": "execute_result"
    }
   ],
   "source": [
    "data = []\n",
    "\n",
    "for i, fila in enumerate(tabla.rows):\n",
    "    f = [celda.text for celda in fila.cells]\n",
    "    data.append(f)\n",
    "    \n",
    "df = pd.DataFrame(data)\n",
    "\n",
    "df.columns = df.loc[0].values\n",
    "\n",
    "df"
   ]
  },
  {
   "cell_type": "markdown",
   "metadata": {
    "slideshow": {
     "slide_type": "slide"
    }
   },
   "source": [
    "### 👷🏽‍♀️ 4. Archivos de Office\n",
    "\n",
    "#### Excel"
   ]
  },
  {
   "cell_type": "markdown",
   "metadata": {
    "slideshow": {
     "slide_type": "fragment"
    }
   },
   "source": [
    "Instalar libreria: `pip install openpyxl`"
   ]
  },
  {
   "cell_type": "code",
   "execution_count": 46,
   "metadata": {
    "slideshow": {
     "slide_type": "fragment"
    }
   },
   "outputs": [],
   "source": [
    "import pandas as pd"
   ]
  },
  {
   "cell_type": "code",
   "execution_count": 47,
   "metadata": {
    "slideshow": {
     "slide_type": "fragment"
    }
   },
   "outputs": [],
   "source": [
    "data = pd.read_excel(\"../archivos/hoja.xlsx\")"
   ]
  },
  {
   "cell_type": "code",
   "execution_count": 49,
   "metadata": {
    "slideshow": {
     "slide_type": "fragment"
    }
   },
   "outputs": [
    {
     "data": {
      "text/html": [
       "<div>\n",
       "<style scoped>\n",
       "    .dataframe tbody tr th:only-of-type {\n",
       "        vertical-align: middle;\n",
       "    }\n",
       "\n",
       "    .dataframe tbody tr th {\n",
       "        vertical-align: top;\n",
       "    }\n",
       "\n",
       "    .dataframe thead th {\n",
       "        text-align: right;\n",
       "    }\n",
       "</style>\n",
       "<table border=\"1\" class=\"dataframe\">\n",
       "  <thead>\n",
       "    <tr style=\"text-align: right;\">\n",
       "      <th></th>\n",
       "      <th>OrderDate</th>\n",
       "      <th>Region</th>\n",
       "      <th>Rep</th>\n",
       "      <th>Item</th>\n",
       "      <th>Units</th>\n",
       "      <th>Unit Cost</th>\n",
       "      <th>Total</th>\n",
       "    </tr>\n",
       "  </thead>\n",
       "  <tbody>\n",
       "    <tr>\n",
       "      <th>38</th>\n",
       "      <td>2020-10-14</td>\n",
       "      <td>West</td>\n",
       "      <td>Thompson</td>\n",
       "      <td>Binder</td>\n",
       "      <td>57</td>\n",
       "      <td>19.99</td>\n",
       "      <td>1139.43</td>\n",
       "    </tr>\n",
       "    <tr>\n",
       "      <th>39</th>\n",
       "      <td>2020-10-31</td>\n",
       "      <td>Central</td>\n",
       "      <td>Andrews</td>\n",
       "      <td>Pencil</td>\n",
       "      <td>14</td>\n",
       "      <td>1.29</td>\n",
       "      <td>18.06</td>\n",
       "    </tr>\n",
       "    <tr>\n",
       "      <th>40</th>\n",
       "      <td>2020-11-17</td>\n",
       "      <td>Central</td>\n",
       "      <td>Jardine</td>\n",
       "      <td>Binder</td>\n",
       "      <td>11</td>\n",
       "      <td>4.99</td>\n",
       "      <td>54.89</td>\n",
       "    </tr>\n",
       "    <tr>\n",
       "      <th>41</th>\n",
       "      <td>2020-12-04</td>\n",
       "      <td>Central</td>\n",
       "      <td>Jardine</td>\n",
       "      <td>Binder</td>\n",
       "      <td>94</td>\n",
       "      <td>19.99</td>\n",
       "      <td>1879.06</td>\n",
       "    </tr>\n",
       "    <tr>\n",
       "      <th>42</th>\n",
       "      <td>2020-12-21</td>\n",
       "      <td>Central</td>\n",
       "      <td>Andrews</td>\n",
       "      <td>Binder</td>\n",
       "      <td>28</td>\n",
       "      <td>4.99</td>\n",
       "      <td>139.72</td>\n",
       "    </tr>\n",
       "  </tbody>\n",
       "</table>\n",
       "</div>"
      ],
      "text/plain": [
       "    OrderDate   Region       Rep    Item  Units  Unit Cost    Total\n",
       "38 2020-10-14     West  Thompson  Binder     57      19.99  1139.43\n",
       "39 2020-10-31  Central   Andrews  Pencil     14       1.29    18.06\n",
       "40 2020-11-17  Central   Jardine  Binder     11       4.99    54.89\n",
       "41 2020-12-04  Central   Jardine  Binder     94      19.99  1879.06\n",
       "42 2020-12-21  Central   Andrews  Binder     28       4.99   139.72"
      ]
     },
     "execution_count": 49,
     "metadata": {},
     "output_type": "execute_result"
    }
   ],
   "source": [
    "data.tail()"
   ]
  },
  {
   "cell_type": "markdown",
   "metadata": {
    "slideshow": {
     "slide_type": "slide"
    }
   },
   "source": [
    "¿Y la segunda hoja?"
   ]
  },
  {
   "cell_type": "code",
   "execution_count": 50,
   "metadata": {
    "slideshow": {
     "slide_type": "fragment"
    }
   },
   "outputs": [],
   "source": [
    "data2 = pd.read_excel(\"../archivos/hoja.xlsx\", sheet_name=1)"
   ]
  },
  {
   "cell_type": "code",
   "execution_count": 51,
   "metadata": {
    "slideshow": {
     "slide_type": "fragment"
    }
   },
   "outputs": [
    {
     "data": {
      "text/html": [
       "<div>\n",
       "<style scoped>\n",
       "    .dataframe tbody tr th:only-of-type {\n",
       "        vertical-align: middle;\n",
       "    }\n",
       "\n",
       "    .dataframe tbody tr th {\n",
       "        vertical-align: top;\n",
       "    }\n",
       "\n",
       "    .dataframe thead th {\n",
       "        text-align: right;\n",
       "    }\n",
       "</style>\n",
       "<table border=\"1\" class=\"dataframe\">\n",
       "  <thead>\n",
       "    <tr style=\"text-align: right;\">\n",
       "      <th></th>\n",
       "      <th>Hoja 2</th>\n",
       "      <th>Unnamed: 1</th>\n",
       "    </tr>\n",
       "  </thead>\n",
       "  <tbody>\n",
       "    <tr>\n",
       "      <th>0</th>\n",
       "      <td>Días</td>\n",
       "      <td>Número</td>\n",
       "    </tr>\n",
       "    <tr>\n",
       "      <th>1</th>\n",
       "      <td>Lunes</td>\n",
       "      <td>1</td>\n",
       "    </tr>\n",
       "    <tr>\n",
       "      <th>2</th>\n",
       "      <td>Martes</td>\n",
       "      <td>2</td>\n",
       "    </tr>\n",
       "    <tr>\n",
       "      <th>3</th>\n",
       "      <td>Miércoles</td>\n",
       "      <td>3</td>\n",
       "    </tr>\n",
       "    <tr>\n",
       "      <th>4</th>\n",
       "      <td>Jueves</td>\n",
       "      <td>4</td>\n",
       "    </tr>\n",
       "    <tr>\n",
       "      <th>5</th>\n",
       "      <td>Viernes</td>\n",
       "      <td>5</td>\n",
       "    </tr>\n",
       "    <tr>\n",
       "      <th>6</th>\n",
       "      <td>Sábado</td>\n",
       "      <td>6</td>\n",
       "    </tr>\n",
       "    <tr>\n",
       "      <th>7</th>\n",
       "      <td>Domingo</td>\n",
       "      <td>7</td>\n",
       "    </tr>\n",
       "  </tbody>\n",
       "</table>\n",
       "</div>"
      ],
      "text/plain": [
       "      Hoja 2 Unnamed: 1\n",
       "0       Días     Número\n",
       "1      Lunes          1\n",
       "2     Martes          2\n",
       "3  Miércoles          3\n",
       "4     Jueves          4\n",
       "5    Viernes          5\n",
       "6     Sábado          6\n",
       "7    Domingo          7"
      ]
     },
     "execution_count": 51,
     "metadata": {},
     "output_type": "execute_result"
    }
   ],
   "source": [
    "data2"
   ]
  },
  {
   "cell_type": "markdown",
   "metadata": {
    "slideshow": {
     "slide_type": "slide"
    }
   },
   "source": [
    "### 👷🏽‍♀️ 4. Archivos de Office\n",
    "\n",
    "#### Excel (Directamente desde Google Sheets)"
   ]
  },
  {
   "cell_type": "code",
   "execution_count": 52,
   "metadata": {
    "slideshow": {
     "slide_type": "fragment"
    }
   },
   "outputs": [],
   "source": [
    "url = \"https://docs.google.com/spreadsheets/d/1O8k9ZBaHSPbw_8IgE-jxmVE8FkMWimr6dZPuKhAT2hM/edit#gid=0\""
   ]
  },
  {
   "cell_type": "code",
   "execution_count": 61,
   "metadata": {
    "slideshow": {
     "slide_type": "fragment"
    }
   },
   "outputs": [],
   "source": [
    "new_url = url.rsplit(\"/\",1)[0] + \"/gviz/tq?tqx=out:csv\""
   ]
  },
  {
   "cell_type": "code",
   "execution_count": 62,
   "metadata": {
    "slideshow": {
     "slide_type": "fragment"
    }
   },
   "outputs": [
    {
     "data": {
      "text/html": [
       "<div>\n",
       "<style scoped>\n",
       "    .dataframe tbody tr th:only-of-type {\n",
       "        vertical-align: middle;\n",
       "    }\n",
       "\n",
       "    .dataframe tbody tr th {\n",
       "        vertical-align: top;\n",
       "    }\n",
       "\n",
       "    .dataframe thead th {\n",
       "        text-align: right;\n",
       "    }\n",
       "</style>\n",
       "<table border=\"1\" class=\"dataframe\">\n",
       "  <thead>\n",
       "    <tr style=\"text-align: right;\">\n",
       "      <th></th>\n",
       "      <th>Español</th>\n",
       "      <th>English</th>\n",
       "    </tr>\n",
       "  </thead>\n",
       "  <tbody>\n",
       "    <tr>\n",
       "      <th>0</th>\n",
       "      <td>Lunes</td>\n",
       "      <td>Monday</td>\n",
       "    </tr>\n",
       "    <tr>\n",
       "      <th>1</th>\n",
       "      <td>Martes</td>\n",
       "      <td>Tuesday</td>\n",
       "    </tr>\n",
       "    <tr>\n",
       "      <th>2</th>\n",
       "      <td>Miércoles</td>\n",
       "      <td>Wednesday</td>\n",
       "    </tr>\n",
       "    <tr>\n",
       "      <th>3</th>\n",
       "      <td>Jueves</td>\n",
       "      <td>Thursday</td>\n",
       "    </tr>\n",
       "    <tr>\n",
       "      <th>4</th>\n",
       "      <td>Viernes</td>\n",
       "      <td>Friday</td>\n",
       "    </tr>\n",
       "  </tbody>\n",
       "</table>\n",
       "</div>"
      ],
      "text/plain": [
       "     Español    English\n",
       "0      Lunes     Monday\n",
       "1     Martes    Tuesday\n",
       "2  Miércoles  Wednesday\n",
       "3     Jueves   Thursday\n",
       "4    Viernes     Friday"
      ]
     },
     "execution_count": 62,
     "metadata": {},
     "output_type": "execute_result"
    }
   ],
   "source": [
    "data = pd.read_csv(new_url)\n",
    "\n",
    "data"
   ]
  },
  {
   "cell_type": "markdown",
   "metadata": {
    "slideshow": {
     "slide_type": "slide"
    }
   },
   "source": [
    "### 👷🏽‍♀️ 5.  Archivos PDF"
   ]
  },
  {
   "cell_type": "markdown",
   "metadata": {
    "slideshow": {
     "slide_type": "fragment"
    }
   },
   "source": [
    "Instalar libreria:  `pip install PyMuPDF`"
   ]
  },
  {
   "cell_type": "code",
   "execution_count": 63,
   "metadata": {
    "slideshow": {
     "slide_type": "fragment"
    }
   },
   "outputs": [],
   "source": [
    "import fitz"
   ]
  },
  {
   "cell_type": "code",
   "execution_count": 64,
   "metadata": {
    "slideshow": {
     "slide_type": "fragment"
    }
   },
   "outputs": [],
   "source": [
    "documento = fitz.open(\"../archivos/cien.pdf\")"
   ]
  },
  {
   "cell_type": "code",
   "execution_count": 67,
   "metadata": {
    "slideshow": {
     "slide_type": "fragment"
    }
   },
   "outputs": [
    {
     "name": "stdout",
     "output_type": "stream",
     "text": [
      "Número de páginas:  1\n",
      "Metados:  {'format': 'PDF 1.3', 'title': 'cien', 'author': '', 'subject': '', 'keywords': '', 'creator': 'Pages', 'producer': 'macOS Version 10.15.6 (Build 19G2021) Quartz PDFContext', 'creationDate': \"D:20200822062639Z00'00'\", 'modDate': \"D:20200822062639Z00'00'\", 'trapped': '', 'encryption': None}\n"
     ]
    }
   ],
   "source": [
    "print(f\"Número de páginas: \", documento.page_count)\n",
    "print(f\"Metados: \", documento.metadata)"
   ]
  },
  {
   "cell_type": "code",
   "execution_count": 69,
   "metadata": {
    "slideshow": {
     "slide_type": "slide"
    }
   },
   "outputs": [
    {
     "name": "stdout",
     "output_type": "stream",
     "text": [
      "Cien años de soledad \n",
      "Muchos años después, frente al pelotón de fusilamiento, el coronel Aureliano Buendía había de \n",
      "recordar aquella tarde remota en que su padre lo llevó a conocer el hielo. Macondo era entonces \n",
      "una aldea de veinte casas de barro y cañabrava construidas a la orilla de un río de aguas diáfanas \n",
      "que se precipitaban por un lecho de piedras pulidas, blancas y enormes como huevos \n",
      "prehistóricos. El mundo era tan reciente, que muchas cosas carecían de nombre, y para \n",
      "mencionarlas había que señalarías con el dedo. Todos los años, por el mes de marzo, una familia \n",
      "de gitanos desarrapados plantaba su carpa cerca de la aldea, y con un grande alboroto de pitos y \n",
      "timbales daban a conocer los nuevos inventos. Primero llevaron el imán. Un gitano corpulento, de \n",
      "barba montaraz y manos de gorrión, que se presentó con el nombre de Melquiades, hizo una \n",
      "truculenta demostración pública de lo que él mismo llamaba la octava maravilla de los sabios \n",
      "alquimistas de Macedonia. Fue de casa en casa arrastrando dos lingotes metálicos, y todo el \n",
      "mundo se espantó al ver que los calderos, las pailas, las tenazas y los anafes se caían de su sitio, y \n",
      "las maderas crujían por la desesperación de los clavos y los tornillos tratando de desenclavarse, y \n",
      "aun los objetos perdidos desde hacía mucho tiempo aparecían por donde más se les había buscado, \n",
      "y se arrastraban en desbandada turbulenta detrás de los ﬁerros mágicos de Melquíades. «Las \n",
      "cosas, tienen vida propia -pregonaba el gitano con áspero acento-, todo es cuestión de despertarles \n",
      "el ánima.» José Arcadio Buendía, cuya desaforada imaginación iba siempre más lejos que el \n",
      "ingenio de la naturaleza, y aun más allá del milagro y la magia, pensó que era posible servirse de \n",
      "aquella invención inútil para desentrañar el oro de la tierra. Melquíades, que era un hombre \n",
      "honrado, le previno: «Para eso no sirve.» Pero José Arcadio Buendía no creía en aquel tiempo en la \n",
      "honradez de los gitanos, así que cambió su mulo y una partida de chivos por los dos lingotes \n",
      "imantados. Úrsula Iguarán, su mujer, que contaba con aquellos animales para ensanchar el \n",
      "desmedrado patrimonio doméstico, no consiguió disuadirlo. «Muy pronto ha de sobrarnos oro \n",
      "para empedrar la casa», replicó su marido. Durante varios meses se empeñó en demostrar el \n",
      "acierto de sus conjeturas. Exploró palmo a palmo la región, inclusive el fondo del río, arrastrando \n",
      "los dos lingotes de hierro y recitando en voz alta el conjuro de Melquíades. Lo único que logró \n",
      "desenterrar fue una armadura del siglo xv con todas sus partes soldadas por un cascote de óxido, \n",
      "cuyo interior tenía la resonancia hueca de un enorme calabazo lleno de piedras. Cuando José \n",
      "Arcadio Buendía y los cuatro hombres de su expedición lograron desarticular la armadura, \n",
      "encontraron dentro un esqueleto calciﬁcado que llevaba colgado en el cuello un relicario de cobre \n",
      "con un rizo de mujer.  \n",
      "\n"
     ]
    }
   ],
   "source": [
    "pagina = documento.load_page(0)\n",
    "texto = pagina.get_text(\"text\")\n",
    "print(texto)"
   ]
  },
  {
   "cell_type": "markdown",
   "metadata": {
    "slideshow": {
     "slide_type": "slide"
    }
   },
   "source": [
    "### 👷🏽‍♀️ 5.  Aumentación de datos\n",
    "\n",
    "<br>\n",
    "\n",
    "<center><img src='../img/clase05/gato1.jpg' style='height:300px; float: center; margin: 0px 15px 15px 0px'><center>\n",
    "\n",
    "• Estrategia utilizada frecuentemente en machine learning cuando no se tienen suficiente datos."
   ]
  },
  {
   "cell_type": "markdown",
   "metadata": {
    "slideshow": {
     "slide_type": "slide"
    }
   },
   "source": [
    "### 👷🏽‍♀️ 6.  Aumentación de datos\n",
    "\n",
    "<br>\n",
    "\n",
    "<center><img src='../img/clase05/gato2.jpg' style='height:300px; float: center; margin: 0px 15px 15px 0px'><center>\n",
    "\n",
    "• Estrategia utilizada frecuentemente en machine learning cuando no se tienen suficiente datos."
   ]
  },
  {
   "cell_type": "markdown",
   "metadata": {
    "slideshow": {
     "slide_type": "slide"
    }
   },
   "source": [
    "### 👷🏽‍♀️ 6.  Aumentación de datos\n",
    "\n",
    "<br>\n",
    "\n",
    "<center><img src='../img/clase05/gato3.jpg' style='height:300px; float: center; margin: 0px 15px 15px 0px'><center>\n",
    "\n",
    "• Estrategia utilizada frecuentemente en machine learning cuando no se tienen suficiente datos."
   ]
  },
  {
   "cell_type": "markdown",
   "metadata": {
    "slideshow": {
     "slide_type": "slide"
    }
   },
   "source": [
    "### 👷🏽‍♀️ 6.  Aumentación de datos\n",
    "\n",
    "<br>\n",
    "\n",
    "<center><img src='../img/clase05/gato4.jpg' style='height:300px; float: center; margin: 0px 15px 15px 0px'><center>\n",
    "\n",
    "• Estrategia utilizada frecuentemente en machine learning cuando no se tienen suficiente datos."
   ]
  },
  {
   "cell_type": "markdown",
   "metadata": {
    "slideshow": {
     "slide_type": "slide"
    }
   },
   "source": [
    "### 👷🏽‍♀️ 6.  Aumentación de datos\n",
    "\n",
    "<br>\n",
    "\n",
    "<center>\n",
    "<img src='../img/clase05/4cats.png' style='height:200px; float: center; margin: 0px 15px 15px 0px'></center>\n",
    "    \n",
    "• ¿Con textos?"
   ]
  },
  {
   "cell_type": "markdown",
   "metadata": {
    "slideshow": {
     "slide_type": "fragment"
    }
   },
   "source": [
    "- Reemplazo de sinónimos\n",
    "- Traducción de ida y vuelta\n",
    "- Reemplazar entidades\n",
    "- Agregar \"ruido\" al texto\n",
    "\n",
    "Libreria `nlpaug`: https://github.com/makcedward/nlpaug"
   ]
  },
  {
   "cell_type": "markdown",
   "metadata": {
    "slideshow": {
     "slide_type": "notes"
    }
   },
   "source": [
    "Más info: Libreria de `nlpaug`: https://github.com/makcedward/nlpaug"
   ]
  },
  {
   "cell_type": "markdown",
   "metadata": {
    "slideshow": {
     "slide_type": "slide"
    }
   },
   "source": [
    "# 👷🏽‍♀️ Usar un conjunto de datos abiertos\n",
    "\n",
    "- GitHub\n",
    "- Kaggle: https://www.kaggle.com/\n",
    "- Búsqueda de datos de Google: https://datasetsearch.research.google.com/\n",
    "- Datos Abiertos Colombia: https://www.datos.gov.co/\n",
    "- Datos Abiertos Bogotá: https://datosabiertos.bogota.gov.co/about\n",
    "- Ministerio de Salud: https://www.minsalud.gov.co/Paginas/datos-abiertos.aspx"
   ]
  },
  {
   "cell_type": "markdown",
   "metadata": {
    "slideshow": {
     "slide_type": "slide"
    }
   },
   "source": [
    "### 🤓 Recapitulando: Hoy aprendímos...\n",
    "\n",
    "- Métodos para leer datos en diferentes formatos en Python\n",
    "    - Archivos más comunes: `.csv`, `.txt`, `.json`, `.zip`\n",
    "    - Archivos Office: Word, Excel, Google Sheets\n",
    "    - PDFs\n",
    "    - Aumentación de datos\n",
    "    \n",
    "- Datos abiertos"
   ]
  },
  {
   "cell_type": "markdown",
   "metadata": {
    "slideshow": {
     "slide_type": "slide"
    }
   },
   "source": [
    "<img src='../img/dragonball/5.jpeg' style='height:600px; float: left; margin: 0px 15px 15px 0px'>\n",
    "\n",
    "• **Módulo 1**: &nbsp;&nbsp;&nbsp;&nbsp; Introducción ✅ <br>\n",
    "• **Módulo 2**: &nbsp;&nbsp;&nbsp;&nbsp; Configuración de ambiente de desarrollo ✅ <br>\n",
    "• **Módulo 3**: &nbsp;&nbsp;&nbsp;&nbsp; Repaso de Python ✅ <br>\n",
    "• **Módulo 4**: &nbsp;&nbsp;&nbsp;&nbsp; Panorama general del Aprendizaje Automático (Machine Learning) ✅ <br>\n",
    "• **Módulo 5**: &nbsp;&nbsp;&nbsp;&nbsp; ¿Cómo adquirir datos? ✅ <br>"
   ]
  }
 ],
 "metadata": {
  "celltoolbar": "Slideshow",
  "kernelspec": {
   "display_name": "Python 3 (ipykernel)",
   "language": "python",
   "name": "python3"
  },
  "language_info": {
   "codemirror_mode": {
    "name": "ipython",
    "version": 3
   },
   "file_extension": ".py",
   "mimetype": "text/x-python",
   "name": "python",
   "nbconvert_exporter": "python",
   "pygments_lexer": "ipython3",
   "version": "3.9.13"
  }
 },
 "nbformat": 4,
 "nbformat_minor": 2
}
