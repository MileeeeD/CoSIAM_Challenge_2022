{
 "cells": [
  {
   "cell_type": "markdown",
   "metadata": {
    "slideshow": {
     "slide_type": "slide"
    }
   },
   "source": [
    "<center><img src='../img/logo_cosiam/LogoCoSIAM_COL.png' style='height:230px;  margin: 0px 15px 15px 0px'></center>\n",
    "\n",
    "# Módulo 6:  Cuenta de desarrollador de Twitter\n",
    "\n",
    "- Adquisición de datos, parte III: Twitter usando la cuenta de desarrollador\n",
    "- Adquisición de datos, parte IV: Redes sociales usando la libreria SNScrape\n"
   ]
  },
  {
   "cell_type": "markdown",
   "metadata": {
    "slideshow": {
     "slide_type": "slide"
    }
   },
   "source": [
    "# En capítulos anteriores...\n",
    "\n",
    "<br>\n",
    "<center><img src='../img/pipeline/pipeline1.png' style='height:600px;'> </centeR>\n"
   ]
  },
  {
   "cell_type": "markdown",
   "metadata": {
    "slideshow": {
     "slide_type": "slide"
    }
   },
   "source": [
    "# NLP y las Redes Sociales\n",
    "\n",
    "<center><img src='../img/clase06/2021minute.jpeg' style='height:400px; float: center; margin: 0px 15px 15px 0px'></center>\n",
    "\n",
    "- Son datos y hay que darlos:\n",
    "    - +300 millones de usuarios **activos** al mes en Twitter\n",
    "    - +350.000 tuits por minuto\n",
    "    - 2.900 millones usuarios **activos** al mes en Facebook\n",
    "- La fuente más grande de datos no estructurados"
   ]
  },
  {
   "cell_type": "markdown",
   "metadata": {
    "slideshow": {
     "slide_type": "slide"
    }
   },
   "source": [
    "## Aplicaciones de NLP en las redes sociales \n",
    "\n",
    "<center><br>\n",
    "<img src='../img/clase01/adele.png' style='height:350px;'>\n",
    "</center>\n",
    "\n",
    "- Detección de temas tendencia\n",
    "- Minería de opinión\n",
    "- Detección de sentimiento \n",
    "- Detección de Fake News\n",
    "- Filtrar contenido adulto/ofensivo \n",
    "- Soporte al cliente"
   ]
  },
  {
   "cell_type": "markdown",
   "metadata": {
    "slideshow": {
     "slide_type": "slide"
    }
   },
   "source": [
    "# Retos de NLP en las redes sociales \n",
    "\n",
    "<center><img src='../img/clase06/formal.png' style='height:300px; float: center; margin: 0px 15px 15px 0px'><Small><i>Escala de formalidad</i></Small></center>\n",
    "\n",
    "- Varios idiomas \n",
    "- Diferentes sistemas de escritura y trasliteración\n",
    "- No es formal\n",
    "- Errores de gramática y ortografía \n",
    "- Elementos no textuales (🤔🦠🥺⏫, memes, xD :), etc.)\n",
    "- Textos cortos y vocabulario nuevo"
   ]
  },
  {
   "cell_type": "markdown",
   "metadata": {
    "slideshow": {
     "slide_type": "slide"
    }
   },
   "source": [
    "# 🤖 La API de Twitter: Tweepy\n",
    "\n",
    "`pip install tweepy`\n",
    "\n",
    "http://docs.tweepy.org/en/latest/\n",
    "\n",
    "- API (Interfaz de programación de aplicaciones): Cuando una compañía construye un conjunto de URLs dedicadas a devolver respuestas de datos. \n",
    "- Tweepy es la libreria de Python que nos permite conectarnos a Twitter\n",
    "- **Limitación**: Se pueden adquirir máximo 2.000.000 de tweets al mes. Sólo se pueden adquirir tweets con una semana de antiguedad."
   ]
  },
  {
   "cell_type": "markdown",
   "metadata": {
    "slideshow": {
     "slide_type": "slide"
    }
   },
   "source": [
    "## Paso 1: Crear una aplicación\n",
    "\n",
    "<br>\n",
    "<center><img src='../img/clase06/micro.png' style='height:300px; float: center; margin: 0px 15px 15px 0px'></center>\n",
    "\n",
    "- Ir a https://developer.twitter.com/en/portal/dashboard\n",
    "- Crear aplicación en la sección `Elevated` y guardar claves en otro archivo\n",
    "\n",
    "```\n",
    "api_key,\n",
    "api_secret_key,\n",
    "access_token,\n",
    "access_token_secret,\n",
    "bearer_token,\n",
    "```"
   ]
  },
  {
   "cell_type": "markdown",
   "metadata": {
    "slideshow": {
     "slide_type": "slide"
    }
   },
   "source": [
    "## Paso 2: Autenticarse con Twitter\n",
    "\n"
   ]
  },
  {
   "cell_type": "code",
   "execution_count": 1,
   "metadata": {
    "slideshow": {
     "slide_type": "fragment"
    }
   },
   "outputs": [],
   "source": [
    "import pandas as pd\n",
    "import tweepy"
   ]
  },
  {
   "cell_type": "code",
   "execution_count": 39,
   "metadata": {
    "slideshow": {
     "slide_type": "fragment"
    }
   },
   "outputs": [],
   "source": [
    "# Leer llaves\n",
    "keys = pd.read_csv(\"/Users/vivianamarquez/Desktop/CCC/otros/no/keys.csv\", header=None)\n",
    "keys = dict(zip(keys[0], keys[1]))"
   ]
  },
  {
   "cell_type": "code",
   "execution_count": 40,
   "metadata": {},
   "outputs": [],
   "source": [
    "# Autorizar a través de la API\n",
    "auth = tweepy.OAuthHandler(keys['api_key'], keys['api_secret_key'])\n",
    "auth.set_access_token(keys['access_token'],keys['access_token_secret'])\n",
    "api = tweepy.API(auth, wait_on_rate_limit=True)"
   ]
  },
  {
   "cell_type": "code",
   "execution_count": null,
   "metadata": {
    "slideshow": {
     "slide_type": "fragment"
    }
   },
   "outputs": [],
   "source": []
  },
  {
   "cell_type": "markdown",
   "metadata": {
    "slideshow": {
     "slide_type": "slide"
    }
   },
   "source": [
    "## Paso 3: Hacer un tuit\n",
    "\n",
    "- Documentación: http://docs.tweepy.org/en/latest/\n"
   ]
  },
  {
   "cell_type": "code",
   "execution_count": 41,
   "metadata": {
    "scrolled": true
   },
   "outputs": [],
   "source": [
    "# api.update_status(\"Me encanta el café... sí señor, ahora sí\")"
   ]
  },
  {
   "cell_type": "code",
   "execution_count": null,
   "metadata": {
    "slideshow": {
     "slide_type": "fragment"
    }
   },
   "outputs": [],
   "source": []
  },
  {
   "cell_type": "markdown",
   "metadata": {
    "slideshow": {
     "slide_type": "slide"
    }
   },
   "source": [
    "## Paso 4: Recolectar datos\n",
    "Documentación: https://docs.tweepy.org/en/stable/api.html"
   ]
  },
  {
   "cell_type": "code",
   "execution_count": 42,
   "metadata": {
    "slideshow": {
     "slide_type": "fragment"
    }
   },
   "outputs": [],
   "source": [
    "tweets = tweepy.Cursor(api.search_tweets,\n",
    "                       q=['sincelejo -RT'],\n",
    "                       lang='es',\n",
    "                       geocode=f'9.304722,-75.397778,100km',\n",
    "                       tweet_mode='extended').items(100)"
   ]
  },
  {
   "cell_type": "code",
   "execution_count": 43,
   "metadata": {
    "slideshow": {
     "slide_type": "fragment"
    }
   },
   "outputs": [],
   "source": [
    "t = [tweet for tweet in tweets]"
   ]
  },
  {
   "cell_type": "code",
   "execution_count": 44,
   "metadata": {
    "slideshow": {
     "slide_type": "fragment"
    }
   },
   "outputs": [
    {
     "data": {
      "text/plain": [
       "'Acaba de publicar una foto en Sincelejo, Sucre https://t.co/nVzzSEcZme'"
      ]
     },
     "execution_count": 44,
     "metadata": {},
     "output_type": "execute_result"
    }
   ],
   "source": [
    "t[0].full_text"
   ]
  },
  {
   "cell_type": "code",
   "execution_count": 45,
   "metadata": {
    "slideshow": {
     "slide_type": "fragment"
    }
   },
   "outputs": [],
   "source": [
    "t_processed = []\n",
    "\n",
    "for tweet in t:\n",
    "    temp = []\n",
    "    temp.append(tweet.full_text)\n",
    "    temp.append(tweet.created_at)\n",
    "    temp.append(tweet.user.location)\n",
    "    temp.append(tweet.id)\n",
    "    temp.append(f\"https://twitter.com/i/web/status/{tweet.id}\")\n",
    "    \n",
    "    t_processed.append(temp)\n"
   ]
  },
  {
   "cell_type": "code",
   "execution_count": 46,
   "metadata": {
    "slideshow": {
     "slide_type": "slide"
    }
   },
   "outputs": [
    {
     "data": {
      "text/html": [
       "<div>\n",
       "<style scoped>\n",
       "    .dataframe tbody tr th:only-of-type {\n",
       "        vertical-align: middle;\n",
       "    }\n",
       "\n",
       "    .dataframe tbody tr th {\n",
       "        vertical-align: top;\n",
       "    }\n",
       "\n",
       "    .dataframe thead th {\n",
       "        text-align: right;\n",
       "    }\n",
       "</style>\n",
       "<table border=\"1\" class=\"dataframe\">\n",
       "  <thead>\n",
       "    <tr style=\"text-align: right;\">\n",
       "      <th></th>\n",
       "      <th>tweet</th>\n",
       "      <th>date</th>\n",
       "      <th>user_location</th>\n",
       "      <th>id</th>\n",
       "      <th>link</th>\n",
       "    </tr>\n",
       "  </thead>\n",
       "  <tbody>\n",
       "    <tr>\n",
       "      <th>0</th>\n",
       "      <td>Acaba de publicar una foto en Sincelejo, Sucre...</td>\n",
       "      <td>2022-10-09 18:17:38+00:00</td>\n",
       "      <td>Periodista</td>\n",
       "      <td>1579174263126634496</td>\n",
       "      <td>https://twitter.com/i/web/status/1579174263126...</td>\n",
       "    </tr>\n",
       "    <tr>\n",
       "      <th>1</th>\n",
       "      <td>@CarlosPaterC @CABUSTAMANTEF @Acus2020 Un aspi...</td>\n",
       "      <td>2022-10-09 17:42:35+00:00</td>\n",
       "      <td></td>\n",
       "      <td>1579165443130281985</td>\n",
       "      <td>https://twitter.com/i/web/status/1579165443130...</td>\n",
       "    </tr>\n",
       "    <tr>\n",
       "      <th>2</th>\n",
       "      <td>@SabanaVeolia qué pasa con el servicio de acue...</td>\n",
       "      <td>2022-10-09 16:35:16+00:00</td>\n",
       "      <td>Colombia, Sucre, Corozal</td>\n",
       "      <td>1579148502198022144</td>\n",
       "      <td>https://twitter.com/i/web/status/1579148502198...</td>\n",
       "    </tr>\n",
       "    <tr>\n",
       "      <th>3</th>\n",
       "      <td>@julianhrios Saliendo de Sincelejo rumbo medel...</td>\n",
       "      <td>2022-10-09 16:20:12+00:00</td>\n",
       "      <td></td>\n",
       "      <td>1579144709477654530</td>\n",
       "      <td>https://twitter.com/i/web/status/1579144709477...</td>\n",
       "    </tr>\n",
       "    <tr>\n",
       "      <th>4</th>\n",
       "      <td>Que pueblo top es Chinú, preferiría vivir cien...</td>\n",
       "      <td>2022-10-09 16:10:41+00:00</td>\n",
       "      <td>Sincelejo, Colombia</td>\n",
       "      <td>1579142314320363521</td>\n",
       "      <td>https://twitter.com/i/web/status/1579142314320...</td>\n",
       "    </tr>\n",
       "  </tbody>\n",
       "</table>\n",
       "</div>"
      ],
      "text/plain": [
       "                                               tweet  \\\n",
       "0  Acaba de publicar una foto en Sincelejo, Sucre...   \n",
       "1  @CarlosPaterC @CABUSTAMANTEF @Acus2020 Un aspi...   \n",
       "2  @SabanaVeolia qué pasa con el servicio de acue...   \n",
       "3  @julianhrios Saliendo de Sincelejo rumbo medel...   \n",
       "4  Que pueblo top es Chinú, preferiría vivir cien...   \n",
       "\n",
       "                       date             user_location                   id  \\\n",
       "0 2022-10-09 18:17:38+00:00                Periodista  1579174263126634496   \n",
       "1 2022-10-09 17:42:35+00:00                            1579165443130281985   \n",
       "2 2022-10-09 16:35:16+00:00  Colombia, Sucre, Corozal  1579148502198022144   \n",
       "3 2022-10-09 16:20:12+00:00                            1579144709477654530   \n",
       "4 2022-10-09 16:10:41+00:00       Sincelejo, Colombia  1579142314320363521   \n",
       "\n",
       "                                                link  \n",
       "0  https://twitter.com/i/web/status/1579174263126...  \n",
       "1  https://twitter.com/i/web/status/1579165443130...  \n",
       "2  https://twitter.com/i/web/status/1579148502198...  \n",
       "3  https://twitter.com/i/web/status/1579144709477...  \n",
       "4  https://twitter.com/i/web/status/1579142314320...  "
      ]
     },
     "execution_count": 46,
     "metadata": {},
     "output_type": "execute_result"
    }
   ],
   "source": [
    "data = pd.DataFrame(t_processed)\n",
    "data.columns = ['tweet', 'date', 'user_location', 'id', 'link']\n",
    "data.head()"
   ]
  },
  {
   "cell_type": "code",
   "execution_count": 47,
   "metadata": {
    "slideshow": {
     "slide_type": "fragment"
    }
   },
   "outputs": [],
   "source": [
    "data.to_csv(\"archivo.csv\", index=False)"
   ]
  },
  {
   "cell_type": "markdown",
   "metadata": {
    "slideshow": {
     "slide_type": "slide"
    }
   },
   "source": [
    "# ... pero, quiero datos más antiguos 🥺\n",
    "\n",
    "<br>\n",
    "<center><img src='../img/clase06/no_t.jpeg' style='height:400px; float: center; margin: 0px 15px 15px 0px'></center>"
   ]
  },
  {
   "cell_type": "markdown",
   "metadata": {
    "slideshow": {
     "slide_type": "slide"
    }
   },
   "source": [
    "<center><img src='../img/clase06/si_t2.jpeg' style='height:400px; float: center; margin: 0px 15px 15px 0px'></center>"
   ]
  },
  {
   "cell_type": "markdown",
   "metadata": {
    "slideshow": {
     "slide_type": "slide"
    }
   },
   "source": [
    "###  Paso 1: Crear un entorno en Twitter\n",
    "\n",
    "Dirigirse a https://developer.twitter.com/en/account/environments y seguir los siguientes pasos."
   ]
  },
  {
   "cell_type": "markdown",
   "metadata": {
    "slideshow": {
     "slide_type": "fragment"
    }
   },
   "source": [
    "1. Hacer click en `set up dev environment` en la sección de `full archive`\n",
    "<img src='../img/clase06/tw1.png'>"
   ]
  },
  {
   "cell_type": "markdown",
   "metadata": {
    "slideshow": {
     "slide_type": "slide"
    }
   },
   "source": [
    "2. Darle un nombre al entorno y escoger una de las aplicaciones\n",
    "<img src='../img/clase06/tw2.png'>"
   ]
  },
  {
   "cell_type": "markdown",
   "metadata": {
    "slideshow": {
     "slide_type": "slide"
    }
   },
   "source": [
    "3. Recordar el nombre del ambiente (en este ejemplo `Historico`) y saber cuál aplicación se usó para acceder con esas llaves\n",
    "<img src='../img/clase06/tw3.png'>"
   ]
  },
  {
   "cell_type": "markdown",
   "metadata": {
    "slideshow": {
     "slide_type": "slide"
    }
   },
   "source": [
    "### Ejemplo de uso"
   ]
  },
  {
   "cell_type": "code",
   "execution_count": 48,
   "metadata": {
    "slideshow": {
     "slide_type": "fragment"
    }
   },
   "outputs": [],
   "source": [
    "# Nótese que la cadena de búsqueda ahora debe incluir otros paramétros que no son soportados en la librería\n",
    "busqueda = 'Dragon Ball lang:es -\"RT @\"'\n",
    "\n",
    "params = dict(label = 'Historico',\n",
    "              query = busqueda,\n",
    "              fromDate = '202001010000',\n",
    "              toDate = '202002010000')"
   ]
  },
  {
   "cell_type": "code",
   "execution_count": 49,
   "metadata": {
    "slideshow": {
     "slide_type": "fragment"
    }
   },
   "outputs": [],
   "source": [
    "tweets = tweepy.Cursor(api.search_full_archive, **params).items(200)"
   ]
  },
  {
   "cell_type": "code",
   "execution_count": 50,
   "metadata": {
    "slideshow": {
     "slide_type": "slide"
    }
   },
   "outputs": [],
   "source": [
    "t_processed = []\n",
    "\n",
    "for tweet in tweets:\n",
    "    temp = []\n",
    "    \n",
    "    if tweet.truncated:\n",
    "        temp.append(tweet.extended_tweet['full_text'])\n",
    "    else:\n",
    "        temp.append(tweet.text)\n",
    "        \n",
    "    temp.append(tweet.created_at)\n",
    "    temp.append(tweet.user.location)\n",
    "    temp.append(tweet.id)\n",
    "    temp.append(f\"https://twitter.com/i/web/status/{tweet.id}\")\n",
    "    \n",
    "    t_processed.append(temp)"
   ]
  },
  {
   "cell_type": "code",
   "execution_count": 51,
   "metadata": {
    "slideshow": {
     "slide_type": "fragment"
    }
   },
   "outputs": [
    {
     "data": {
      "text/html": [
       "<div>\n",
       "<style scoped>\n",
       "    .dataframe tbody tr th:only-of-type {\n",
       "        vertical-align: middle;\n",
       "    }\n",
       "\n",
       "    .dataframe tbody tr th {\n",
       "        vertical-align: top;\n",
       "    }\n",
       "\n",
       "    .dataframe thead th {\n",
       "        text-align: right;\n",
       "    }\n",
       "</style>\n",
       "<table border=\"1\" class=\"dataframe\">\n",
       "  <thead>\n",
       "    <tr style=\"text-align: right;\">\n",
       "      <th></th>\n",
       "      <th>tweet</th>\n",
       "      <th>date</th>\n",
       "      <th>user_location</th>\n",
       "      <th>id</th>\n",
       "      <th>link</th>\n",
       "    </tr>\n",
       "  </thead>\n",
       "  <tbody>\n",
       "    <tr>\n",
       "      <th>0</th>\n",
       "      <td>@Incineroar_Dark @BlazeXeom97 El mejor episodi...</td>\n",
       "      <td>2020-01-31 23:59:02+00:00</td>\n",
       "      <td>None</td>\n",
       "      <td>1223395296580919298</td>\n",
       "      <td>https://twitter.com/i/web/status/1223395296580...</td>\n",
       "    </tr>\n",
       "    <tr>\n",
       "      <th>1</th>\n",
       "      <td>Odio los tutoriales, bueno pues Dragón Ball Z ...</td>\n",
       "      <td>2020-01-31 23:57:32+00:00</td>\n",
       "      <td>Kaer Morhen</td>\n",
       "      <td>1223394919206789120</td>\n",
       "      <td>https://twitter.com/i/web/status/1223394919206...</td>\n",
       "    </tr>\n",
       "    <tr>\n",
       "      <th>2</th>\n",
       "      <td>@Carlhillos Qué recuerdos que la primera vez o...</td>\n",
       "      <td>2020-01-31 23:54:53+00:00</td>\n",
       "      <td>None</td>\n",
       "      <td>1223394250047414272</td>\n",
       "      <td>https://twitter.com/i/web/status/1223394250047...</td>\n",
       "    </tr>\n",
       "    <tr>\n",
       "      <th>3</th>\n",
       "      <td>@fmaluau A ya terminas dragon ball,perfecto,ya...</td>\n",
       "      <td>2020-01-31 23:54:47+00:00</td>\n",
       "      <td>None</td>\n",
       "      <td>1223394226144206848</td>\n",
       "      <td>https://twitter.com/i/web/status/1223394226144...</td>\n",
       "    </tr>\n",
       "    <tr>\n",
       "      <th>4</th>\n",
       "      <td>@mintonarel Otros a Dragón Ball.</td>\n",
       "      <td>2020-01-31 23:44:35+00:00</td>\n",
       "      <td>Hermosillo, Sonora</td>\n",
       "      <td>1223391657409884161</td>\n",
       "      <td>https://twitter.com/i/web/status/1223391657409...</td>\n",
       "    </tr>\n",
       "  </tbody>\n",
       "</table>\n",
       "</div>"
      ],
      "text/plain": [
       "                                               tweet  \\\n",
       "0  @Incineroar_Dark @BlazeXeom97 El mejor episodi...   \n",
       "1  Odio los tutoriales, bueno pues Dragón Ball Z ...   \n",
       "2  @Carlhillos Qué recuerdos que la primera vez o...   \n",
       "3  @fmaluau A ya terminas dragon ball,perfecto,ya...   \n",
       "4                   @mintonarel Otros a Dragón Ball.   \n",
       "\n",
       "                       date       user_location                   id  \\\n",
       "0 2020-01-31 23:59:02+00:00                None  1223395296580919298   \n",
       "1 2020-01-31 23:57:32+00:00         Kaer Morhen  1223394919206789120   \n",
       "2 2020-01-31 23:54:53+00:00                None  1223394250047414272   \n",
       "3 2020-01-31 23:54:47+00:00                None  1223394226144206848   \n",
       "4 2020-01-31 23:44:35+00:00  Hermosillo, Sonora  1223391657409884161   \n",
       "\n",
       "                                                link  \n",
       "0  https://twitter.com/i/web/status/1223395296580...  \n",
       "1  https://twitter.com/i/web/status/1223394919206...  \n",
       "2  https://twitter.com/i/web/status/1223394250047...  \n",
       "3  https://twitter.com/i/web/status/1223394226144...  \n",
       "4  https://twitter.com/i/web/status/1223391657409...  "
      ]
     },
     "execution_count": 51,
     "metadata": {},
     "output_type": "execute_result"
    }
   ],
   "source": [
    "data = pd.DataFrame(t_processed)\n",
    "data.columns = ['tweet', 'date', 'user_location', 'id', 'link']\n",
    "data.head()"
   ]
  },
  {
   "cell_type": "markdown",
   "metadata": {
    "slideshow": {
     "slide_type": "slide"
    }
   },
   "source": [
    "# ... pero, quiero datos más antiguos 🥺\n",
    "\n",
    "<br>\n",
    "<center><img src='../img/clase06/no_t.jpeg' style='height:400px; float: center; margin: 0px 15px 15px 0px'></center>"
   ]
  },
  {
   "cell_type": "markdown",
   "metadata": {
    "slideshow": {
     "slide_type": "slide"
    }
   },
   "source": [
    "# ... presentando `snscrape`\n",
    "\n",
    "<br>\n",
    "<center><img src='../img/clase06/si_t.jpeg' style='height:400px; float: center; margin: 0px 15px 15px 0px'></center>"
   ]
  },
  {
   "cell_type": "markdown",
   "metadata": {
    "slideshow": {
     "slide_type": "slide"
    }
   },
   "source": [
    "# SNScrape \n",
    "\n",
    "`pip install snscrape`\n",
    "\n",
    "- Libreria creada para hacer scraping de diferentes redes sociales (Twitter, Facebook, Instagram, VKontakte y más...)\n",
    "- En un futuro podría dejar de funcionar\n",
    "- Documentación: https://github.com/JustAnotherArchivist/snscrape"
   ]
  },
  {
   "cell_type": "code",
   "execution_count": 54,
   "metadata": {
    "slideshow": {
     "slide_type": "fragment"
    }
   },
   "outputs": [
    {
     "name": "stdout",
     "output_type": "stream",
     "text": [
      "https://twitter.com/CANmialegria/status/500066563522056192\n",
      "2014-08-14 23:48:54+00:00\n",
      "Cambiemos el HT #EraGolDeYepes, por #EraGolDeCopete. ¡Nunca hubo fuera de lugar!\n",
      "¿#LaCulpaEsDePostobon?  @PradoVerde1999 @vamosmiverdecom\n",
      "****************************************************************************************************\n",
      "\n",
      "https://twitter.com/MiguelSalcedoV/status/500065738640850944\n",
      "2014-08-14 23:45:37+00:00\n",
      "#EraGolDeYepes era gol de yepessssssssssssss #10añosduNord\n",
      "****************************************************************************************************\n",
      "\n",
      "https://twitter.com/cami_canoles/status/500064190288384000\n",
      "2014-08-14 23:39:28+00:00\n",
      "http://t.co/X3CpWL1Q3x #eragoldeyepes\n",
      "****************************************************************************************************\n",
      "\n",
      "https://twitter.com/TamayoJr11/status/500062617969643520\n",
      "2014-08-14 23:33:13+00:00\n",
      "#EraGolDeYepes http://t.co/K9Am0bxOIh\n",
      "****************************************************************************************************\n",
      "\n",
      "https://twitter.com/Edw_Chacon/status/500055868361412608\n",
      "2014-08-14 23:06:24+00:00\n",
      "JjaJja Todavia Me Acuerdo :') #EraGolDeYepes http://t.co/xFkiku07ae\n",
      "****************************************************************************************************\n",
      "\n",
      "https://twitter.com/niko14p/status/500043243581882368\n",
      "2014-08-14 22:16:14+00:00\n",
      "#EraGolDeYepes\n",
      "****************************************************************************************************\n",
      "\n",
      "https://twitter.com/SebastianTK1/status/500037065510486017\n",
      "2014-08-14 21:51:41+00:00\n",
      "#EraGolDeYepes\n",
      "****************************************************************************************************\n",
      "\n",
      "https://twitter.com/vanegiraldo196/status/500033127444930560\n",
      "2014-08-14 21:36:02+00:00\n",
      "Día 42 #EraGolDeYepes\n",
      "****************************************************************************************************\n",
      "\n",
      "https://twitter.com/DussanCristhian/status/500023139699802113\n",
      "2014-08-14 20:56:21+00:00\n",
      "Ahhhhh #yodespechado disfruto de mis amistades #PásalaJoven es mi#SituacionSentimental .y #EraGolDeYepes\n",
      "****************************************************************************************************\n",
      "\n",
      "https://twitter.com/SaraBenavides27/status/500021235234136064\n",
      "2014-08-14 20:48:47+00:00\n",
      "#EraGolDeYepes .\n",
      "****************************************************************************************************\n",
      "\n",
      "https://twitter.com/pildoradigital_/status/500011323502370816\n",
      "2014-08-14 20:09:23+00:00\n",
      "http://t.co/GGkbwNMx3w #EraGolDeYepes Ingresa y lee lo mejor del fútbol.\n",
      "****************************************************************************************************\n",
      "\n"
     ]
    }
   ],
   "source": [
    "import snscrape.modules.twitter as sntwitter\n",
    "\n",
    "maxTweets = 10  \n",
    "for i,tweet in enumerate(sntwitter.TwitterSearchScraper('#eragoldeyepes ' + 'since:2014-07-15 until:2014-08-15').get_items()) :\n",
    "        if i > maxTweets :\n",
    "            break\n",
    "        print(tweet)\n",
    "        print(tweet.date)\n",
    "        print(tweet.content)\n",
    "        print(\"*\"*100)\n",
    "        print()"
   ]
  },
  {
   "cell_type": "markdown",
   "metadata": {
    "slideshow": {
     "slide_type": "slide"
    }
   },
   "source": [
    "### 🤓 Recapitulando: Hoy aprendímos...\n",
    "\n",
    "- Twitter usando la cuenta de desarrollador\n",
    "- Redes sociales usando la libreria SNScrape"
   ]
  },
  {
   "cell_type": "markdown",
   "metadata": {
    "slideshow": {
     "slide_type": "slide"
    }
   },
   "source": [
    "<img src='../img/dragonball/6.jpeg' style='height:600px; float: left; margin: 0px 15px 15px 0px'>\n",
    "\n",
    "• **Módulo 1**: &nbsp;&nbsp;&nbsp;&nbsp; Introducción ✅ <br>\n",
    "• **Módulo 2**: &nbsp;&nbsp;&nbsp;&nbsp; Configuración de ambiente de desarrollo ✅ <br>\n",
    "• **Módulo 3**: &nbsp;&nbsp;&nbsp;&nbsp; Repaso de Python ✅ <br>\n",
    "• **Módulo 4**: &nbsp;&nbsp;&nbsp;&nbsp; Panorama general del Aprendizaje Automático (Machine Learning) ✅ <br>\n",
    "• **Módulo 5**: &nbsp;&nbsp;&nbsp;&nbsp; ¿Cómo adquirir datos? ✅ <br>\n",
    "• **Módulo 6**: &nbsp;&nbsp;&nbsp;&nbsp; Cuenta de desarrollador de Twitter ✅ <br>"
   ]
  }
 ],
 "metadata": {
  "celltoolbar": "Slideshow",
  "kernelspec": {
   "display_name": "Python 3 (ipykernel)",
   "language": "python",
   "name": "python3"
  },
  "language_info": {
   "codemirror_mode": {
    "name": "ipython",
    "version": 3
   },
   "file_extension": ".py",
   "mimetype": "text/x-python",
   "name": "python",
   "nbconvert_exporter": "python",
   "pygments_lexer": "ipython3",
   "version": "3.9.13"
  }
 },
 "nbformat": 4,
 "nbformat_minor": 2
}
