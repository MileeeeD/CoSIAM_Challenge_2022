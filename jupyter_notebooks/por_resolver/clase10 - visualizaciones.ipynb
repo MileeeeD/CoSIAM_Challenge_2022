{
 "cells": [
  {
   "cell_type": "markdown",
   "metadata": {
    "slideshow": {
     "slide_type": "slide"
    }
   },
   "source": [
    "<center><img src='../img/logo_cosiam/LogoCoSIAM_COL.png' style='height:230px;  margin: 0px 15px 15px 0px'></center>\n",
    "\n",
    "# Módulo 10: Visualizaciones\n"
   ]
  },
  {
   "cell_type": "markdown",
   "metadata": {
    "slideshow": {
     "slide_type": "slide"
    }
   },
   "source": [
    "# En capítulos anteriores...\n",
    "\n",
    "<br>\n",
    "<center><img src='../img/pipeline/pipeline4b.png' style='height:600px;'> </centeR>\n"
   ]
  },
  {
   "cell_type": "markdown",
   "metadata": {
    "slideshow": {
     "slide_type": "slide"
    }
   },
   "source": [
    "# Hoy\n",
    "\n",
    "<br>\n",
    "<center><img src='../img/pipeline/pipeline5.png' style='height:600px;'> </centeR>\n"
   ]
  },
  {
   "cell_type": "markdown",
   "metadata": {
    "slideshow": {
     "slide_type": "slide"
    }
   },
   "source": [
    "### 🤔 ¿Por qué son importante las visualizaciones?\n",
    "\n",
    "<br>\n",
    "<img src='../img/clase10/pic2.png' style='height:500px; float: left; margin: 15px 15px 15px 15px'>\n",
    "\n",
    "- Parte esencial de un profesional en datos\n",
    "- Estamos un mundo lleno de datos\n",
    "- Queremos ganar conocimiento (ENTENDER)\n",
    "- Queremos hacer impacto (COMUNICAR)"
   ]
  },
  {
   "cell_type": "markdown",
   "metadata": {
    "slideshow": {
     "slide_type": "slide"
    }
   },
   "source": [
    "### 🤔 ¿Por qué son importante las visualizaciones?\n",
    "\n",
    "### Para ENTENDER nuestros datos\n",
    "\n",
    "<br>\n",
    "<img src='../img/clase10/ss1.png' style='height:500px'>"
   ]
  },
  {
   "cell_type": "markdown",
   "metadata": {
    "slideshow": {
     "slide_type": "slide"
    }
   },
   "source": [
    "### 🤔 ¿Por qué son importante las visualizaciones?\n",
    "\n",
    "### Para ENTENDER nuestros datos\n",
    "\n",
    "<br>\n",
    "<img src='../img/clase10/ss2.png' style='height:500px'>"
   ]
  },
  {
   "cell_type": "markdown",
   "metadata": {
    "slideshow": {
     "slide_type": "slide"
    }
   },
   "source": [
    "### 🤔 ¿Por qué son importante las visualizaciones?\n",
    "\n",
    "### Para COMUNICAR nuestros datos\n",
    "\n",
    "<br>\n",
    "<img src='../img/clase10/ss3.png' style='height:500px'>"
   ]
  },
  {
   "cell_type": "markdown",
   "metadata": {
    "slideshow": {
     "slide_type": "slide"
    }
   },
   "source": [
    "### 🤔 ¿Por qué son importante las visualizaciones?\n",
    "\n",
    "### Para COMUNICAR nuestros datos\n",
    "\n",
    "<br>\n",
    "<img src='../img/clase10/ss4b.png' style='height:500px'>"
   ]
  },
  {
   "cell_type": "markdown",
   "metadata": {
    "slideshow": {
     "slide_type": "slide"
    }
   },
   "source": [
    "### ⚙️ Herramientas más populares en el mercado para hacer visualizaciones \n",
    "\n",
    "<br>\n",
    "<img src='../img/clase10/herramientas2.png' style='height:500px'>"
   ]
  },
  {
   "cell_type": "markdown",
   "metadata": {
    "slideshow": {
     "slide_type": "slide"
    }
   },
   "source": [
    "### ⚙️ Herramientas más populares en el mercado para hacer visualizaciones \n",
    "\n",
    "<br>\n",
    "<img src='../img/clase10/info.png' style='height:500px'>"
   ]
  },
  {
   "cell_type": "markdown",
   "metadata": {
    "slideshow": {
     "slide_type": "slide"
    }
   },
   "source": [
    "### ⚙️ Herramientas más populares en el mercado para hacer visualizaciones \n",
    "\n",
    "<br><br>\n",
    "<img src='../img/clase10/python.jpg' style='height:300px; float: left; margin: 45px 45px 45px 45px'>\n",
    "\n",
    "- Matplotlib\n",
    "- Seaborn\n",
    "- Plotly\n",
    "- Bokeh\n",
    "- Altair\n",
    "- Geoplotlib"
   ]
  },
  {
   "cell_type": "markdown",
   "metadata": {
    "slideshow": {
     "slide_type": "slide"
    }
   },
   "source": [
    "# 😉 Tips generales para las visualizaciones\n",
    "Source: HubSpot + Visage"
   ]
  },
  {
   "cell_type": "markdown",
   "metadata": {
    "slideshow": {
     "slide_type": "slide"
    }
   },
   "source": [
    "<img src='../img/clase10/tip1a.png'>"
   ]
  },
  {
   "cell_type": "markdown",
   "metadata": {
    "slideshow": {
     "slide_type": "slide"
    }
   },
   "source": [
    "<img src='../img/clase10/tip2.png'>"
   ]
  },
  {
   "cell_type": "markdown",
   "metadata": {
    "slideshow": {
     "slide_type": "slide"
    }
   },
   "source": [
    "<img src='../img/clase10/tip4.png'>"
   ]
  },
  {
   "cell_type": "markdown",
   "metadata": {
    "slideshow": {
     "slide_type": "slide"
    }
   },
   "source": [
    "<img src='../img/clase10/tip5.png'>"
   ]
  },
  {
   "cell_type": "markdown",
   "metadata": {
    "slideshow": {
     "slide_type": "slide"
    }
   },
   "source": [
    "# 😉 Tips generales para las visualizaciones\n",
    "\n",
    "- Piensa en la audiencia:\n",
    "    - ¿Cómo van a crear tus datos objetivos realizables? \n",
    "    - ¿Su público tiene el software necesario?\n",
    "    \n",
    "- Menos es más\n",
    "    - En un mundo lleno de datos, queremos ENTENDER y COMUNICAR  "
   ]
  },
  {
   "cell_type": "markdown",
   "metadata": {
    "slideshow": {
     "slide_type": "slide"
    }
   },
   "source": [
    "# 1. Jupyter Notebook & GitHub Pages\n",
    "\n",
    "- Jupyter Notebook te da la posibilidad de crear presentaciones con el plugging RISE\n",
    "    - `pip install RISE`\n",
    "    - `jupyter-nbextension install rise --py --sys-prefix`\n",
    "    - `jupyter nbextension enable rise --py --sys-prefix`\n",
    "<br><br>\n",
    "- GitHub pages te da la opción de publicar presentaciones, páginas web, etc.\n",
    "    - Instrucciones para subir presentaciones [aquí](https://medium.com/@alejatorresm/presentaciones-usando-jupyter-notebook-6cb20434fbe9) --- Ejemplo [aquí](https://alejandratm.github.io/Jupyter-Slides-Hola-Mundo/Presentacion-HW/Hello-litle-World.slides.html#/)\n",
    "    - Ejemplo página web [aquí](http://vivianamarquez.com/) --- Plantilla [aquí](https://github.com/daattali/beautiful-jekyll)\n",
    "    <br><br>\n",
    "- Visualizador de Notebooks `https://nbviewer.jupyter.org/github/` --- Ejemplo "
   ]
  },
  {
   "cell_type": "markdown",
   "metadata": {
    "slideshow": {
     "slide_type": "slide"
    }
   },
   "source": [
    "### Presentaciones con Jupyter Notebook\n",
    "\n",
    "1. Instalar RISE\n",
    "<br><br>\n",
    "<center>\n",
    "    <img src='../img/clase10/rise1.png' style='width:1300px; float: center; margin: 0px 15px 15px 0px'>\n",
    "    <img src='../img/clase10/rise2.png' style='width:1300px; float: center; margin: 0px 15px 15px 0px'>\n",
    "    <img src='../img/clase10/rise3.png' style='width:1300px; float: center; margin: 0px 15px 15px 0px'>\n",
    "</center>"
   ]
  },
  {
   "cell_type": "markdown",
   "metadata": {
    "slideshow": {
     "slide_type": "slide"
    }
   },
   "source": [
    "### Presentaciones con Jupyter Notebook\n",
    "\n",
    "2. Botón de presentación debe aparecer\n",
    "<br><br>\n",
    "<center>\n",
    "    <img src='../img/clase10/rise4.png' style='width:600px; float: center; margin: 0px 15px 15px 0px'>\n",
    "</center>\n",
    "\n",
    "2. Seleccionar Markdown\n",
    "<br><br>\n",
    "<center>\n",
    "    <img src='../img/clase10/rise5.png' style='width:600px; float: center; margin: 0px 15px 15px 0px'>\n",
    "</center>"
   ]
  },
  {
   "cell_type": "markdown",
   "metadata": {
    "slideshow": {
     "slide_type": "slide"
    }
   },
   "source": [
    "### Presentaciones con Jupyter Notebook\n",
    "\n",
    "4. Modo presentación\n",
    "<br><br>\n",
    "<center>\n",
    "    <img src='../img/clase10/rise6.png' style='width:600px; float: center; margin: 0px 15px 15px 0px'>\n",
    "    \n",
    "    <img src='../img/clase10/rise7.png' style='width:600px; float: center; margin: 0px 15px 15px 0px'>\n",
    "</center>"
   ]
  },
  {
   "cell_type": "markdown",
   "metadata": {
    "slideshow": {
     "slide_type": "slide"
    }
   },
   "source": [
    "### Presentaciones con Jupyter Notebook\n",
    "\n",
    "5. Exportar\n",
    "<br><br>\n",
    "<center>\n",
    "    <img src='../img/clase10/rise8.png' style='width:600px; float: center; margin: 0px 15px 15px 0px'>\n",
    "</center>\n",
    "\n",
    "6. Los Jupyter Notebooks pueden ser usados para otros lenguajes de programación"
   ]
  },
  {
   "cell_type": "markdown",
   "metadata": {
    "slideshow": {
     "slide_type": "slide"
    }
   },
   "source": [
    "#### Carguemos los datos con los que vamos a trabajar"
   ]
  },
  {
   "cell_type": "code",
   "execution_count": null,
   "metadata": {
    "slideshow": {
     "slide_type": "fragment"
    }
   },
   "outputs": [],
   "source": []
  },
  {
   "cell_type": "markdown",
   "metadata": {
    "slideshow": {
     "slide_type": "slide"
    }
   },
   "source": [
    "# 2. Nube de palabras\n",
    "\n",
    "`pip install wordcloud`\n",
    "\n",
    "`conda install -c anaconda pillow`"
   ]
  },
  {
   "cell_type": "code",
   "execution_count": null,
   "metadata": {
    "slideshow": {
     "slide_type": "fragment"
    }
   },
   "outputs": [],
   "source": []
  },
  {
   "cell_type": "code",
   "execution_count": null,
   "metadata": {
    "slideshow": {
     "slide_type": "slide"
    }
   },
   "outputs": [],
   "source": []
  },
  {
   "cell_type": "code",
   "execution_count": null,
   "metadata": {
    "slideshow": {
     "slide_type": "slide"
    }
   },
   "outputs": [],
   "source": []
  },
  {
   "cell_type": "code",
   "execution_count": null,
   "metadata": {
    "slideshow": {
     "slide_type": "slide"
    }
   },
   "outputs": [],
   "source": []
  },
  {
   "cell_type": "code",
   "execution_count": null,
   "metadata": {
    "slideshow": {
     "slide_type": "slide"
    }
   },
   "outputs": [],
   "source": []
  },
  {
   "cell_type": "code",
   "execution_count": null,
   "metadata": {
    "slideshow": {
     "slide_type": "slide"
    }
   },
   "outputs": [],
   "source": []
  },
  {
   "cell_type": "markdown",
   "metadata": {
    "slideshow": {
     "slide_type": "slide"
    }
   },
   "source": [
    "# 3. Tableau \n",
    "\n",
    "Link de descarga: https://public.tableau.com/en-us/s/download\n",
    "\n",
    "- Programa para crear tableros (dashboards) interactivos\n",
    "- Tiene varios productos:\n",
    "    - Tableau Desktop (Profesional)\n",
    "    - Tableau Server\n",
    "    - Tableau Prep (flujo de datos)\n",
    "    - Tableau Public (versión gratis) [Link](https://public.tableau.com/profile/viviana.m.rquez#!/?newProfile=&activeTab=0)\n",
    "    \n",
    "- Se puede conectar Python y R a Tableau [Link1](https://vivianamarquez.medium.com/python-tableau-desktop-101-b1281d9f7404) [Link2](https://vivianamarquez.medium.com/tableau-prep-python-101-c6a2b5292233)"
   ]
  },
  {
   "cell_type": "markdown",
   "metadata": {
    "slideshow": {
     "slide_type": "fragment"
    }
   },
   "source": [
    "# Resultado: \n",
    "LINK\n",
    "\n",
    "https://public.tableau.com/profile/viviana.m.rquez#!/vizhome/HalloweenNLP/Dashboard1?publish=yes"
   ]
  },
  {
   "cell_type": "markdown",
   "metadata": {
    "slideshow": {
     "slide_type": "slide"
    }
   },
   "source": [
    "# 4. La trifecta: Plotly, Dash y Flask\n",
    "\n",
    "- **Plotly**: Herramienta de visualización interactiva. Funciona con Python, R, Julia, etc.\n",
    "[Recurso](https://plotly.com/python/plotly-fundamentals/)\n",
    "\n",
    "- **Dash**: Entorno de trabajo para construir aplicaciones web (usa Flask y Plotly)\n",
    "[Recurso](https://www.datacamp.com/community/tutorials/learn-build-dash-python). [Ejemplo](https://msds2019.herokuapp.com/)\n",
    "\n",
    "- **Flask**: Entorno de trabajo para construir aplicaciones web para Python\n",
    "[Recurso](https://flask.palletsprojects.com/en/1.1.x/tutorial/)\n"
   ]
  },
  {
   "cell_type": "markdown",
   "metadata": {
    "slideshow": {
     "slide_type": "fragment"
    }
   },
   "source": [
    "### Series de tiempo"
   ]
  },
  {
   "cell_type": "code",
   "execution_count": null,
   "metadata": {
    "slideshow": {
     "slide_type": "fragment"
    }
   },
   "outputs": [],
   "source": []
  },
  {
   "cell_type": "code",
   "execution_count": null,
   "metadata": {
    "slideshow": {
     "slide_type": "slide"
    }
   },
   "outputs": [],
   "source": []
  },
  {
   "cell_type": "code",
   "execution_count": null,
   "metadata": {
    "slideshow": {
     "slide_type": "slide"
    }
   },
   "outputs": [],
   "source": []
  },
  {
   "cell_type": "markdown",
   "metadata": {
    "slideshow": {
     "slide_type": "slide"
    }
   },
   "source": [
    "### Barras"
   ]
  },
  {
   "cell_type": "code",
   "execution_count": null,
   "metadata": {
    "slideshow": {
     "slide_type": "fragment"
    }
   },
   "outputs": [],
   "source": []
  },
  {
   "cell_type": "code",
   "execution_count": null,
   "metadata": {
    "slideshow": {
     "slide_type": "slide"
    }
   },
   "outputs": [],
   "source": []
  },
  {
   "cell_type": "code",
   "execution_count": null,
   "metadata": {
    "slideshow": {
     "slide_type": "fragment"
    }
   },
   "outputs": [],
   "source": []
  },
  {
   "cell_type": "code",
   "execution_count": null,
   "metadata": {
    "slideshow": {
     "slide_type": "slide"
    }
   },
   "outputs": [],
   "source": []
  },
  {
   "cell_type": "markdown",
   "metadata": {
    "slideshow": {
     "slide_type": "slide"
    }
   },
   "source": [
    "## Notas... \n",
    "\n",
    "- Cronjob: https://crontab.guru/\n",
    "- Más visualizaciones (https://plotly.com/python/box-plots/)"
   ]
  },
  {
   "cell_type": "markdown",
   "metadata": {
    "slideshow": {
     "slide_type": "slide"
    }
   },
   "source": [
    "<img src='../img/dragonball/10.jpeg' style='height:600px; float: left; margin: 0px 15px 15px 0px'>\n",
    "\n",
    "• **Módulo 1**: &nbsp;&nbsp;&nbsp;&nbsp; Introducción ✅ <br>\n",
    "• **Módulo 2**: &nbsp;&nbsp;&nbsp;&nbsp; Configuración de ambiente de desarrollo ✅ <br>\n",
    "• **Módulo 3**: &nbsp;&nbsp;&nbsp;&nbsp; Repaso de Python ✅ <br>\n",
    "• **Módulo 4**: &nbsp;&nbsp;&nbsp;&nbsp; Panorama general del Aprendizaje Automático (Machine Learning) ✅ <br>\n",
    "• **Módulo 5**: &nbsp;&nbsp;&nbsp;&nbsp; ¿Cómo adquirir datos? ✅ <br>\n",
    "• **Módulo 6**: &nbsp;&nbsp;&nbsp;&nbsp; Cuenta de desarrollador de Twitter ✅ <br>\n",
    "• **Módulo 7**: &nbsp;&nbsp;&nbsp;&nbsp; Web Scraping ✅ <br>\n",
    "• **Módulo 8**: &nbsp;&nbsp;&nbsp;&nbsp; De palabras a vectores ✅ <br>\n",
    "• **Módulo 9**: &nbsp;&nbsp;&nbsp;&nbsp; Modelos de Machine Learning ✅ <br>\n",
    "• **Módulo 10**: &nbsp; Visualizaciones ✅<br>"
   ]
  }
 ],
 "metadata": {
  "celltoolbar": "Slideshow",
  "kernelspec": {
   "display_name": "Python 3 (ipykernel)",
   "language": "python",
   "name": "python3"
  },
  "language_info": {
   "codemirror_mode": {
    "name": "ipython",
    "version": 3
   },
   "file_extension": ".py",
   "mimetype": "text/x-python",
   "name": "python",
   "nbconvert_exporter": "python",
   "pygments_lexer": "ipython3",
   "version": "3.9.13"
  }
 },
 "nbformat": 4,
 "nbformat_minor": 2
}
