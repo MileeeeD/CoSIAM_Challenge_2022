{
 "cells": [
  {
   "cell_type": "markdown",
   "id": "c7fa103e",
   "metadata": {
    "slideshow": {
     "slide_type": "slide"
    }
   },
   "source": [
    "<center><img src='../img/logo_cosiam/LogoCoSIAM_COL.png' style='height:230px;  margin: 0px 15px 15px 0px'></center>\n",
    "\n",
    "# Módulo 2: Configuración de ambiente de desarrollo\n",
    "\n",
    "• Crear cuenta de desarrollador en Twitter<br>\n",
    "• Configurar ambiente de desarrollo e instalar librerias necesarias para el curso\n"
   ]
  },
  {
   "cell_type": "markdown",
   "id": "e005bf61",
   "metadata": {
    "slideshow": {
     "slide_type": "slide"
    }
   },
   "source": [
    "## Crear una cuenta de desarrollador en Twitter\n",
    "\n",
    "- Muy importante realizar durante la primera clase\n",
    "- Link: https://developer.twitter.com/en/apply-for-access"
   ]
  },
  {
   "cell_type": "markdown",
   "id": "7ccf0db7",
   "metadata": {
    "slideshow": {
     "slide_type": "slide"
    }
   },
   "source": [
    "## Crear una cuenta de desarrollador en Twitter\n",
    "\n",
    "#### Paso 1:  Crear cuenta\n",
    "\n",
    "<br>\n",
    "<center><img src='../img/clase02/twitter/1.png' style='height:500px;  margin: 0px 15px 15px 0px'></center>"
   ]
  },
  {
   "cell_type": "markdown",
   "id": "a4fbfbdc",
   "metadata": {
    "slideshow": {
     "slide_type": "slide"
    }
   },
   "source": [
    "## Crear una cuenta de desarrollador en Twitter\n",
    "\n",
    "#### Paso 2:  Importante-- decir que no está asociado al gobierno\n",
    "\n",
    "<br>\n",
    "<center><img src='../img/clase02/twitter/2.png' style='height:500px;  margin: 0px 15px 15px 0px'></center>"
   ]
  },
  {
   "cell_type": "markdown",
   "id": "9ec19553",
   "metadata": {
    "slideshow": {
     "slide_type": "slide"
    }
   },
   "source": [
    "## Crear una cuenta de desarrollador en Twitter\n",
    "\n",
    "#### Paso 3:  Confirmar el número de teléfono\n",
    "\n",
    "<br>\n",
    "<center><img src='../img/clase02/twitter/3.png' style='height:500px;  margin: 0px 15px 15px 0px'></center>"
   ]
  },
  {
   "cell_type": "markdown",
   "id": "30884e1b",
   "metadata": {
    "slideshow": {
     "slide_type": "slide"
    }
   },
   "source": [
    "## Crear una cuenta de desarrollador en Twitter\n",
    "\n",
    "#### Paso 4:  Verificar el email\n",
    "\n",
    "<br>\n",
    "<center><img src='../img/clase02/twitter/4.png' style='height:500px;  margin: 0px 15px 15px 0px'></center>"
   ]
  },
  {
   "cell_type": "markdown",
   "id": "987c8ef5",
   "metadata": {
    "slideshow": {
     "slide_type": "slide"
    }
   },
   "source": [
    "## Instalar Python\n",
    "\n",
    "- https://www.anaconda.com/products/individual\n",
    "- Abrir `Anaconda Power Shell` (o `terminal` en Mac) \n",
    "- Puede verificar la versión de su instalación con `python --version`"
   ]
  },
  {
   "cell_type": "markdown",
   "id": "4e9f5807",
   "metadata": {
    "slideshow": {
     "slide_type": "slide"
    }
   },
   "source": [
    "## ⚠️ ¿Problemas con Python? \n",
    "\n",
    "- Google Colab: https://colab.research.google.com/"
   ]
  },
  {
   "cell_type": "markdown",
   "id": "d033ea84",
   "metadata": {
    "slideshow": {
     "slide_type": "slide"
    }
   },
   "source": [
    "## Vamos a crear un ambiente de desarrollo en la terminal\n",
    "\n",
    "- `conda create -n coSIAM2022 python=3.9`\n",
    "- `conda activate coSIAM2022`\n",
    "- `pip install -r requirements.txt`\n",
    "- `jupyter notebook`"
   ]
  },
  {
   "cell_type": "markdown",
   "id": "c329c8b1",
   "metadata": {
    "slideshow": {
     "slide_type": "slide"
    }
   },
   "source": [
    "<img src='../img/dragonball/2.jpeg' style='height:600px; float: left; margin: 0px 15px 15px 0px'>\n",
    "\n",
    "• **Módulo 1**: &nbsp;&nbsp;&nbsp;&nbsp; Introducción ✅ <br>\n",
    "• **Módulo 2**: &nbsp;&nbsp;&nbsp;&nbsp; Configuración de ambiente de desarrollo ✅ <br>"
   ]
  }
 ],
 "metadata": {
  "celltoolbar": "Slideshow",
  "kernelspec": {
   "display_name": "Python 3 (ipykernel)",
   "language": "python",
   "name": "python3"
  },
  "language_info": {
   "codemirror_mode": {
    "name": "ipython",
    "version": 3
   },
   "file_extension": ".py",
   "mimetype": "text/x-python",
   "name": "python",
   "nbconvert_exporter": "python",
   "pygments_lexer": "ipython3",
   "version": "3.9.13"
  }
 },
 "nbformat": 4,
 "nbformat_minor": 5
}
