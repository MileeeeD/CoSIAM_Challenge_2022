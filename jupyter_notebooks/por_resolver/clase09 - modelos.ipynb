{
 "cells": [
  {
   "cell_type": "markdown",
   "metadata": {
    "slideshow": {
     "slide_type": "slide"
    }
   },
   "source": [
    "<center><img src='../img/logo_cosiam/LogoCoSIAM_COL.png' style='height:230px;  margin: 0px 15px 15px 0px'></center>\n",
    "\n",
    "# Módulo 9: Modelos de Machine Learning\n",
    "\n",
    "- Modelos de clasificación y métricas de clasificación\n",
    "- Modelos de agrupación\n",
    "- Análisis de sentimiento\n"
   ]
  },
  {
   "cell_type": "markdown",
   "metadata": {
    "slideshow": {
     "slide_type": "slide"
    }
   },
   "source": [
    "# En capítulos anteriores...\n",
    "\n",
    "<br>\n",
    "<center><img src='../img/pipeline/pipeline3b.png' style='height:600px;'> </centeR>\n"
   ]
  },
  {
   "cell_type": "markdown",
   "metadata": {
    "slideshow": {
     "slide_type": "slide"
    }
   },
   "source": [
    "# Hoy\n",
    "\n",
    "<br>\n",
    "<center><img src='../img/pipeline/pipeline4.png' style='height:600px;'> </centeR>\n"
   ]
  },
  {
   "cell_type": "markdown",
   "metadata": {
    "slideshow": {
     "slide_type": "slide"
    }
   },
   "source": [
    "# Parte 1: Modelos de clasificación y sus métricas"
   ]
  },
  {
   "cell_type": "markdown",
   "metadata": {
    "slideshow": {
     "slide_type": "slide"
    }
   },
   "source": [
    "### Modelos de clasificación en el contexto de Machine Learning"
   ]
  },
  {
   "cell_type": "markdown",
   "metadata": {
    "slideshow": {
     "slide_type": "fragment"
    }
   },
   "source": [
    "<center><img src='../img/clase09/mlmodels3.png' style='height:600px; float: center; margin: 0px 0px 0px 0px'></center>"
   ]
  },
  {
   "cell_type": "markdown",
   "metadata": {
    "slideshow": {
     "slide_type": "slide"
    }
   },
   "source": [
    "### Modelos de clasificación\n",
    "\n",
    "Se dividen en tres categorías:\n",
    "- Binarios\n",
    "- Multiclase \n",
    "- Multietiqueta\n"
   ]
  },
  {
   "cell_type": "markdown",
   "metadata": {
    "slideshow": {
     "slide_type": "slide"
    }
   },
   "source": [
    "### Modelos de clasificación \n",
    "\n",
    "**Binarios:** Clasificar dos clases\n",
    "\n",
    "<center><img src='../img/clase09/clas1.png' style='height:600px; float: center; margin: 0px 0px 0px 0px'></center>\n"
   ]
  },
  {
   "cell_type": "markdown",
   "metadata": {
    "slideshow": {
     "slide_type": "slide"
    }
   },
   "source": [
    "### Modelos de clasificación \n",
    "\n",
    "**Multiclase:** Clasificar más de dos clases\n",
    "\n",
    "<center><img src='../img/clase09/clas2.png' style='height:600px; float: center; margin: 0px 0px 0px 0px'></center>\n"
   ]
  },
  {
   "cell_type": "markdown",
   "metadata": {
    "slideshow": {
     "slide_type": "slide"
    }
   },
   "source": [
    "### Modelos de clasificación \n",
    "\n",
    "**Multietiqueta:** Cuando un documento puede tener más de una clase/etiqueta\n",
    "\n",
    "<center><img src='../img/clase09/catdog.png' style='height:600px; float: center; margin: 0px 0px 0px 0px'></center>\n",
    "\n",
    "¿En qué otros escenarios podemos tener un problema de multietiqueta?"
   ]
  },
  {
   "cell_type": "markdown",
   "metadata": {
    "slideshow": {
     "slide_type": "slide"
    }
   },
   "source": [
    "### Modelos de clasificación\n",
    "\n",
    "Pasos para un modelo de clasificación:\n",
    "1. Adquirir datos **etiquetados**... (mala noticia)\n"
   ]
  },
  {
   "cell_type": "code",
   "execution_count": null,
   "metadata": {
    "slideshow": {
     "slide_type": "fragment"
    }
   },
   "outputs": [],
   "source": []
  },
  {
   "cell_type": "code",
   "execution_count": null,
   "metadata": {
    "slideshow": {
     "slide_type": "fragment"
    }
   },
   "outputs": [],
   "source": []
  },
  {
   "cell_type": "markdown",
   "metadata": {
    "slideshow": {
     "slide_type": "slide"
    }
   },
   "source": [
    "### Modelos de clasificación\n",
    "\n",
    "Pasos para un modelo de clasificación:\n",
    "\n",
    "1. Adquirir datos **etiquetados**\n",
    "2. Feature Engineering (Pre-procesamiento, TF-IDF, etc...)"
   ]
  },
  {
   "cell_type": "markdown",
   "metadata": {
    "slideshow": {
     "slide_type": "slide"
    }
   },
   "source": [
    "### Modelos de clasificación\n",
    "\n",
    "Pasos para un modelo de clasificación:\n",
    "\n",
    "1. Adquirir datos **etiquetados**\n",
    "2. Feature Engineering (Pre-procesamiento, TF-IDF, etc...)\n",
    "3. Dividir el conjunto de datos en dos:\n",
    "    - Entrenamiento (`training`) y prueba (`test`)"
   ]
  },
  {
   "cell_type": "code",
   "execution_count": null,
   "metadata": {
    "slideshow": {
     "slide_type": "fragment"
    }
   },
   "outputs": [],
   "source": []
  },
  {
   "cell_type": "markdown",
   "metadata": {
    "slideshow": {
     "slide_type": "slide"
    }
   },
   "source": [
    "### Modelos de clasificación\n",
    "\n",
    "Pasos para un modelo de clasificación:\n",
    "\n",
    "1. Adquirir datos **etiquetados**\n",
    "2. Feature Engineering (Pre-procesamiento, TF-IDF, etc...)\n",
    "3. Dividir el conjunto de datos en dos:\n",
    "    - Entrenamiento (`training`) y prueba (`test`)\n",
    "4. Entrenar el modelo 🚀 "
   ]
  },
  {
   "cell_type": "markdown",
   "metadata": {
    "slideshow": {
     "slide_type": "slide"
    }
   },
   "source": [
    "### Modelos de clasificación\n",
    "\n",
    "⚠️⚠️⚠️ Pasos para un modelo de clasificación:\n",
    "\n",
    "1. Adquirir datos **etiquetados**\n",
    "2. Feature Engineering (Pre-procesamiento, TF-IDF, etc...)\n",
    "3. Dividir el conjunto de datos en dos:\n",
    "    - Entrenamiento (`training`) y prueba (`test`)\n",
    "4. Entrenar el modelo 🚀 \n",
    "5. Obtener medidas de rendimiento en el conjunto de datos de prueba y mejorar modelo"
   ]
  },
  {
   "cell_type": "markdown",
   "metadata": {
    "slideshow": {
     "slide_type": "slide"
    }
   },
   "source": [
    "### Modelos de clasificación\n",
    "\n",
    "Pasos para un modelo de clasificación:\n",
    "\n",
    "1. Adquirir datos **etiquetados**\n",
    "2. Feature Engineering (Pre-procesamiento, TF-IDF, etc...)\n",
    "3. Dividir el conjunto de datos en dos:\n",
    "    - Entrenamiento (`training`) y prueba (`test`)\n",
    "4. Entrenar el modelo**\n",
    "5. Obtener medidas de rendimiento en el conjunto de datos de prueba y mejorar modelo\n",
    "6. Poner en producción"
   ]
  },
  {
   "cell_type": "markdown",
   "metadata": {
    "slideshow": {
     "slide_type": "slide"
    }
   },
   "source": [
    "### Medidas de rendimiento para modelos de clasificación\n",
    "\n",
    "Algunas de las medidas más populares son:\n",
    "\n",
    "- Exactitud (accuracy)\n",
    "- Precisión (precission)\n",
    "- Sensibilidad (recall)\n",
    "- Valor-F1 (F1-score)"
   ]
  },
  {
   "cell_type": "markdown",
   "metadata": {
    "slideshow": {
     "slide_type": "fragment"
    }
   },
   "source": [
    "En tu modelo puedes lograr dos resultados:\n",
    "- Tu modelo predice correctamente\n",
    "- Tu modelo predice incorrectamente"
   ]
  },
  {
   "cell_type": "markdown",
   "metadata": {
    "slideshow": {
     "slide_type": "slide"
    }
   },
   "source": [
    "### Medidas de rendimiento para modelos de clasificación\n",
    "\n",
    "**Exactitud (accuracy):** El número de predicciones correctas hechas por el modelo divididas por el número total de predicciones. \n",
    "\n",
    "<img src=\"../img/clase09/met3.png\">"
   ]
  },
  {
   "cell_type": "markdown",
   "metadata": {
    "slideshow": {
     "slide_type": "fragment"
    }
   },
   "source": [
    "- Exactitud: $\\dfrac{7}{10} = 0.7$ ó 70% exacto"
   ]
  },
  {
   "cell_type": "markdown",
   "metadata": {
    "slideshow": {
     "slide_type": "slide"
    }
   },
   "source": [
    "### Medidas de rendimiento para modelos de clasificación\n",
    "<br>\n",
    "\n",
    "<img src=\"../img/clase09/met2.png\">"
   ]
  },
  {
   "cell_type": "markdown",
   "metadata": {
    "slideshow": {
     "slide_type": "fragment"
    }
   },
   "source": [
    "- Exactitud: $\\dfrac{9}{10} = 0.9$ ó 90% exacto"
   ]
  },
  {
   "cell_type": "markdown",
   "metadata": {
    "slideshow": {
     "slide_type": "fragment"
    }
   },
   "source": [
    "Problemas con la **exactitud (accuracy).** Necesita un conjunto de datos balanceados."
   ]
  },
  {
   "cell_type": "markdown",
   "metadata": {
    "slideshow": {
     "slide_type": "slide"
    }
   },
   "source": [
    "### Medidas de rendimiento para modelos de clasificación\n",
    "\n",
    "**Sensibilidad (recall):** La capacidad que tiene el modelo para encontrar <u>todos</u> los casos relevantes dentro de un conjunto de datos.\n",
    "\n",
    "<img src=\"../img/clase09/met3.png\">"
   ]
  },
  {
   "cell_type": "markdown",
   "metadata": {
    "slideshow": {
     "slide_type": "fragment"
    }
   },
   "source": [
    "- Sensibilidad $= \\dfrac{\\text{verdaderos positivos}}{\\text{verdaderos positivos}+\\text{falsos negativos}} = \\dfrac{\\text{verdaderos positivos}}{\\text{lo que realmente es positivo}} = \\dfrac{2}{3} = \\text{67% sensibilidad}$ "
   ]
  },
  {
   "cell_type": "markdown",
   "metadata": {
    "slideshow": {
     "slide_type": "slide"
    }
   },
   "source": [
    "### Medidas de rendimiento para modelos de clasificación\n",
    "\n",
    "**Precisión (precision):** La capacidad que tiene el modelo para encontrar <u>sólo</u> los casos relevantes dentro de un conjunto de datos.\n",
    "\n",
    "<img src=\"../img/clase09/met3.png\">"
   ]
  },
  {
   "cell_type": "markdown",
   "metadata": {
    "slideshow": {
     "slide_type": "fragment"
    }
   },
   "source": [
    "- Precisión $= \\dfrac{\\text{verdaderos positivos}}{\\text{verdaderos positivos}+\\text{falsos positivos}} = \\dfrac{\\text{verdaderos positivos}}{\\text{lo que fue clasificado positivo}} = \\dfrac{2}{4} = \\text{50% precisión}$"
   ]
  },
  {
   "cell_type": "markdown",
   "metadata": {
    "slideshow": {
     "slide_type": "slide"
    }
   },
   "source": [
    "### Medidas de rendimiento para modelos de clasificación\n",
    "\n",
    "**Valor-F1:** Sirve para encontrar un balance óptimo entre precisión y sensibilidad.\n",
    "\n",
    "<img src=\"../img/clase09/met3.png\">"
   ]
  },
  {
   "cell_type": "markdown",
   "metadata": {
    "slideshow": {
     "slide_type": "fragment"
    }
   },
   "source": [
    "- $F_1 = 2 \\cdot \\dfrac{\\text{precisión}\\cdot\\text{sensibilidad}}{\\text{precisión}+\\text{sensibilidad}} = 2 \\cdot \\dfrac{(2/3)\\cdot(2/4)}{(2/3)+(2/4)} = \\dfrac{4}{7} = 57\\%$"
   ]
  },
  {
   "cell_type": "markdown",
   "metadata": {
    "slideshow": {
     "slide_type": "slide"
    }
   },
   "source": [
    "En tu modelo puedes lograr dos resultados:\n",
    "- Tu modelo predice correctamente\n",
    "- Tu modelo predice incorrectamente"
   ]
  },
  {
   "cell_type": "markdown",
   "metadata": {
    "slideshow": {
     "slide_type": "slide"
    }
   },
   "source": [
    "Esto quiere decir que al final tienes cuatro grupos:\n",
    "- Clasificación correcta `clase 1`: Verdadero perro\n",
    "<img src='../img/clase09/resultados/VP.png' style='height:120px; float: center; margin: 0px 15px 15px 0px'>\n",
    "- Clasificación correcta `clase 2`: Verdadero gato\n",
    "<img src='../img/clase09/resultados/VG.png' style='height:120px; float: center; margin: 0px 15px 15px 0px'>\n",
    "- Clasificación incorrecta `clase 2`: Falso perro\n",
    "<img src='../img/clase09/resultados/FP.png' style='height:120px; float: center; margin: 0px 15px 15px 0px'>\n",
    "- Clasificación incorrecta `clase 1`: Falso gato\n",
    "<img src='../img/clase09/resultados/FG.png' style='height:120px; float: center; margin: 0px 15px 15px 0px'>"
   ]
  },
  {
   "cell_type": "markdown",
   "metadata": {
    "slideshow": {
     "slide_type": "slide"
    }
   },
   "source": [
    "### Matriz de confusión\n",
    "\n",
    "Herramienta que permite la visualización del desempeño de un modelo de clasificación\n",
    "\n",
    "<center><img src=\"../img/clase09/conf.png\" style='height:600px; float: center; margin: 0px 0px 0px 0px'></center>"
   ]
  },
  {
   "cell_type": "markdown",
   "metadata": {
    "slideshow": {
     "slide_type": "slide"
    }
   },
   "source": [
    "### Matriz de confusión\n",
    "\n",
    "<center><img src=\"../img/clase09/conf3.png\" style='height:500px; float: center; margin: 0px 0px 0px 0px'></center>\n",
    "<br>\n",
    "<center><img src=\"../img/clase09/met3.png\" style='height:200px; float: center; margin: 0px 0px 0px 0px'></center>"
   ]
  },
  {
   "cell_type": "markdown",
   "metadata": {
    "slideshow": {
     "slide_type": "slide"
    }
   },
   "source": [
    "<center><img src=\"../img/clase09/emb.png\" style='height:500px; float: center; margin: 0px 0px 0px 0px'></center>\n",
    "\n",
    "<br>\n",
    "\n",
    "- El objetivo principal de la matriz de confusión es obtener medidas para comparar los valores predecidos con los valores verdaderos\n",
    "\n",
    "- Lo que constituye una \"buena\" medida depende de la situación "
   ]
  },
  {
   "cell_type": "markdown",
   "metadata": {
    "slideshow": {
     "slide_type": "slide"
    }
   },
   "source": [
    "### En resumidas cuentas..."
   ]
  },
  {
   "cell_type": "markdown",
   "metadata": {
    "slideshow": {
     "slide_type": "fragment"
    }
   },
   "source": [
    "- **Exactitud** $= \\dfrac{\\text{VP+VN}}{\\text{VP}+\\text{VN}+\\text{FP}+\\text{FN}} = \\dfrac{\\text{clasificado correcto}}{\\text{número total de datos}}$"
   ]
  },
  {
   "cell_type": "markdown",
   "metadata": {
    "slideshow": {
     "slide_type": "fragment"
    }
   },
   "source": [
    "- **Sensibilidad** $= \\dfrac{\\text{VP}}{\\text{VP}+\\text{FN}} = \\dfrac{\\text{VP}}{\\text{lo que realmente es positivo}} $ "
   ]
  },
  {
   "cell_type": "markdown",
   "metadata": {
    "slideshow": {
     "slide_type": "fragment"
    }
   },
   "source": [
    "- **Precisión** $= \\dfrac{\\text{VP}}{\\text{VP}+\\text{FP}} = \\dfrac{\\text{VP}}{\\text{lo que fue clasificado positivo}} $"
   ]
  },
  {
   "cell_type": "markdown",
   "metadata": {
    "slideshow": {
     "slide_type": "fragment"
    }
   },
   "source": [
    "- **F1** $= 2 \\cdot \\dfrac{\\text{precisión}\\cdot\\text{sensibilidad}}{\\text{precisión}+\\text{sensibilidad}} $"
   ]
  },
  {
   "cell_type": "markdown",
   "metadata": {
    "slideshow": {
     "slide_type": "slide"
    }
   },
   "source": [
    "<center><img src=\"../img/clase09/matconf.png\" style='height:800px; float: center; margin: 0px 0px 0px 0px'></center>"
   ]
  },
  {
   "cell_type": "markdown",
   "metadata": {
    "slideshow": {
     "slide_type": "slide"
    }
   },
   "source": [
    "### Modelos de clasificación\n",
    "\n",
    "Pasos para un modelo de clasificación:\n",
    "\n",
    "1. Adquirir datos **etiquetados**\n",
    "2. Dividir el conjunto de datos en dos:\n",
    "    - Entrenamiento (`training`) y prueba (`test`)\n",
    "3. Feature Engineering (Pre-procesamiento, TF-IDF, etc...)\n",
    "4. **Entrenar el modelo** 🚀 \n",
    "5. Obtener medidas de rendimiento en el conjunto de datos de prueba y mejorar modelo\n",
    "6. Poner en producción"
   ]
  },
  {
   "cell_type": "markdown",
   "metadata": {
    "slideshow": {
     "slide_type": "slide"
    }
   },
   "source": [
    "### Regresión Logística\n",
    "\n",
    "<br>\n",
    "<center><img src='../img/clase09/rm.png' style='height:500px; float: center; margin: 0px 0px 0px 0px'></center>"
   ]
  },
  {
   "cell_type": "markdown",
   "metadata": {
    "slideshow": {
     "slide_type": "slide"
    }
   },
   "source": [
    "### Regresión Logística\n",
    "\n",
    "<br>\n",
    "<center><img src='../img/clase09/rm2.png' style='height:500px; float: center; margin: 0px 0px 0px 0px'></center>"
   ]
  },
  {
   "cell_type": "markdown",
   "metadata": {
    "slideshow": {
     "slide_type": "slide"
    }
   },
   "source": [
    "### Regresión Logística"
   ]
  },
  {
   "cell_type": "markdown",
   "metadata": {
    "slideshow": {
     "slide_type": "fragment"
    }
   },
   "source": [
    "• Es el modelo más famoso de Machine Learning después de la regresión lineal"
   ]
  },
  {
   "cell_type": "markdown",
   "metadata": {
    "slideshow": {
     "slide_type": "fragment"
    }
   },
   "source": [
    "• Mientras que la regresión lineal se usa para predecir/pronosticar valores **continuos**, la regresión logística se usa <u>habitualmente</u> para clasificar valores **discretos**."
   ]
  },
  {
   "cell_type": "markdown",
   "metadata": {
    "slideshow": {
     "slide_type": "fragment"
    }
   },
   "source": [
    "• Las predicciones están mapeados entre 0 y 1 a través de la función logística, lo que significa que las predicciones pueden ser interpretadas como probabilidades. "
   ]
  },
  {
   "cell_type": "markdown",
   "metadata": {
    "slideshow": {
     "slide_type": "slide"
    }
   },
   "source": [
    "### Regresión Logística"
   ]
  },
  {
   "cell_type": "markdown",
   "metadata": {
    "slideshow": {
     "slide_type": "fragment"
    }
   },
   "source": [
    "**👍 VENTAJAS:** \n",
    "- Los resultados tienen una elegante representación probabilistica\n",
    "- El modelo puede ser regularizado para evitar [sobreajuste](https://es.wikipedia.org/wiki/Sobreajuste) (`overfitting`)"
   ]
  },
  {
   "cell_type": "markdown",
   "metadata": {
    "slideshow": {
     "slide_type": "fragment"
    }
   },
   "source": [
    "**👎 DESVENTAJAS:** \n",
    "- Tiende a tener un rendimiento inferior cuando hay multiples lineas de decisión o estas no son lineales\n",
    "- No es lo suficientemente flexible para capturar relaciones más complejas"
   ]
  },
  {
   "cell_type": "markdown",
   "metadata": {
    "slideshow": {
     "slide_type": "slide"
    }
   },
   "source": [
    "### Máquinas de vectores de soporte (support vector machines - SVM)\n",
    "\n",
    "<br>\n",
    "\n",
    "<center><img src='../img/clase09/svm1.png' style='height:400px; float: center; margin: 0px 0px 0px 0px'></center>"
   ]
  },
  {
   "cell_type": "markdown",
   "metadata": {
    "slideshow": {
     "slide_type": "slide"
    }
   },
   "source": [
    "### Máquinas de vectores de soporte (support vector machines - SVM)\n",
    "\n",
    "¿Cómo separarían estos datos de 1-dimensión en dos clases?\n",
    "<br>\n",
    "\n",
    "<center><img src='../img/clase09/svm2.png' style='height:400px; float: center; margin: 0px 0px 0px 0px'></center>"
   ]
  },
  {
   "cell_type": "markdown",
   "metadata": {
    "slideshow": {
     "slide_type": "slide"
    }
   },
   "source": [
    "### Máquinas de vectores de soporte (support vector machines - SVM)\n",
    "\n",
    "¿Cómo separarían estos datos de 2-dimensión en dos clases?\n",
    "<br>\n",
    "\n",
    "<center><img src='../img/clase09/svm3.png' style='height:400px; float: center; margin: 0px 0px 0px 0px'></center>"
   ]
  },
  {
   "cell_type": "markdown",
   "metadata": {
    "slideshow": {
     "slide_type": "slide"
    }
   },
   "source": [
    "### Máquinas de vectores de soporte (support vector machines - SVM)\n",
    "\n",
    "¿Cómo separarían datos de $n$-dimensión en dos clases?\n",
    "<br>\n",
    "\n",
    "- Un punto/escalar en 1 dimensión\n",
    "\n",
    "- Una línea o una curva en 2 dimensiones\n",
    "\n",
    "- Un ________ en dimensiones más altas."
   ]
  },
  {
   "cell_type": "markdown",
   "metadata": {
    "slideshow": {
     "slide_type": "slide"
    }
   },
   "source": [
    "### Máquinas de vectores de soporte (support vector machines - SVM)\n",
    "\n",
    "¿Cuál es la separación perfecta?\n",
    "\n",
    "<center><img src='../img/clase09/svm4.png' style='height:400px; float: center; margin: 0px 0px 0px 0px'></center>"
   ]
  },
  {
   "cell_type": "markdown",
   "metadata": {
    "slideshow": {
     "slide_type": "slide"
    }
   },
   "source": [
    "### Máquinas de vectores de soporte (support vector machines - SVM)\n",
    "\n",
    "Las MVS usan un mecanismo llamado kernel (ó núcleo) que esencialmente calcula la distancia entre dos observaciones. Con esto, el modelo encuentra un límite de decisión (hiperplano) óptimo para separar las clases. \n",
    "\n",
    "<center><img src='../img/clase09/svm5.png' style='height:400px; float: center; margin: 0px 0px 0px 0px'></center>"
   ]
  },
  {
   "cell_type": "markdown",
   "metadata": {
    "slideshow": {
     "slide_type": "slide"
    }
   },
   "source": [
    "### Máquinas de vectores de soporte (support vector machines - SVM)\n",
    "\n",
    "Una MVS con un núcleo lineal es muy similar a la regresión logística, así que por lo general se usa con núcleos no-lineales con datos no-lineales\n",
    "\n",
    "<br>\n",
    "<center><img src='../img/clase09/svm7.png' style='height:400px;'></center>"
   ]
  },
  {
   "cell_type": "markdown",
   "metadata": {
    "slideshow": {
     "slide_type": "slide"
    }
   },
   "source": [
    "### Máquinas de vectores de soporte (support vector machines - SVM)"
   ]
  },
  {
   "cell_type": "markdown",
   "metadata": {
    "slideshow": {
     "slide_type": "fragment"
    }
   },
   "source": [
    "**👍 VENTAJAS:** \n",
    "- Puede modelar relaciones no lineales\n",
    "- Hay muchos núcleos de dónde escoger\n",
    "- Son buenos evitando sobreajuste"
   ]
  },
  {
   "cell_type": "markdown",
   "metadata": {
    "slideshow": {
     "slide_type": "fragment"
    }
   },
   "source": [
    "**👎 DESVENTAJAS:** \n",
    "- Intensos con la memoria\n",
    "- Difícil de ajustar, difícil de eligir núcleo\n",
    "- No le va bien con grandes conjuntos de datos"
   ]
  },
  {
   "cell_type": "markdown",
   "metadata": {
    "slideshow": {
     "slide_type": "slide"
    }
   },
   "source": [
    "### Árboles de decisión\n",
    "\n",
    "<br>\n",
    "<center><img src='../img/clase09/dt.png' style='height:250px; float: center; margin: 0px 0px 0px 0px'></center>\n",
    "\n",
    "- Es un algoritmo que puede ser usado tanto para clasificación como para regresión.\n",
    "- La meta es crear un modelo que predice el valor de la variable objetivo aprendiendo simples reglas de decisión.\n"
   ]
  },
  {
   "cell_type": "markdown",
   "metadata": {
    "slideshow": {
     "slide_type": "slide"
    }
   },
   "source": [
    "**👍 VENTAJAS:** \n",
    "- Fácil de entender e interpretar.\n",
    "- No requiere mucha preparación de los datos."
   ]
  },
  {
   "cell_type": "markdown",
   "metadata": {
    "slideshow": {
     "slide_type": "fragment"
    }
   },
   "source": [
    "**👎 DESVENTAJAS:** \n",
    "- Propensos al sobreajuste.\n",
    "- Son inestables, pero esto se puede solucionar con un ensamble."
   ]
  },
  {
   "cell_type": "markdown",
   "metadata": {
    "slideshow": {
     "slide_type": "slide"
    }
   },
   "source": [
    "### ⏳ Recapitulando\n",
    "\n",
    "- Vimos tres modelos de clasificación, pero existen muchos más\n",
    "    - Regresión logística\n",
    "    - Máquinas de vectores de soporte (SVM)\n",
    "    - Árboles de decisión\n",
    " "
   ]
  },
  {
   "cell_type": "markdown",
   "metadata": {
    "slideshow": {
     "slide_type": "slide"
    }
   },
   "source": [
    "#### 1. Adquirir datos etiquetados"
   ]
  },
  {
   "cell_type": "code",
   "execution_count": null,
   "metadata": {
    "slideshow": {
     "slide_type": "fragment"
    }
   },
   "outputs": [],
   "source": []
  },
  {
   "cell_type": "markdown",
   "metadata": {
    "slideshow": {
     "slide_type": "slide"
    }
   },
   "source": [
    "#### 2. Dividir el conjunto de datos en dos:\n",
    "Entrenamiento (`training`) y prueba (`test`)"
   ]
  },
  {
   "cell_type": "markdown",
   "metadata": {
    "slideshow": {
     "slide_type": "fragment"
    }
   },
   "source": [
    "- Antes de este paso, es buena práctica revisar que los datos estén balanceados"
   ]
  },
  {
   "cell_type": "code",
   "execution_count": null,
   "metadata": {
    "slideshow": {
     "slide_type": "fragment"
    }
   },
   "outputs": [],
   "source": []
  },
  {
   "cell_type": "markdown",
   "metadata": {
    "slideshow": {
     "slide_type": "fragment"
    }
   },
   "source": [
    "Estrategias para equilibrar el conjunto de datos:\n",
    "- Remuestreo: submuestreo y sobremuestreo\n",
    "- Ensamblar diferentes conjuntos de datos remuestreados\n",
    "- Agrupar la clase abundante"
   ]
  },
  {
   "cell_type": "markdown",
   "metadata": {
    "slideshow": {
     "slide_type": "slide"
    }
   },
   "source": [
    "#### 2. Dividir el conjunto de datos en dos:\n",
    "Entrenamiento (`training`) y prueba (`test`). Usualmente 80% training y 20% test."
   ]
  },
  {
   "cell_type": "code",
   "execution_count": null,
   "metadata": {
    "slideshow": {
     "slide_type": "fragment"
    }
   },
   "outputs": [],
   "source": []
  },
  {
   "cell_type": "markdown",
   "metadata": {
    "slideshow": {
     "slide_type": "slide"
    }
   },
   "source": [
    "#### 3. Feature Engineering (Pre-procesamiento, TF-IDF, etc...)"
   ]
  },
  {
   "cell_type": "code",
   "execution_count": null,
   "metadata": {
    "slideshow": {
     "slide_type": "fragment"
    }
   },
   "outputs": [],
   "source": []
  },
  {
   "cell_type": "code",
   "execution_count": null,
   "metadata": {
    "slideshow": {
     "slide_type": "fragment"
    }
   },
   "outputs": [],
   "source": []
  },
  {
   "cell_type": "markdown",
   "metadata": {
    "slideshow": {
     "slide_type": "slide"
    }
   },
   "source": [
    "#### 4. Entrenar el modelo"
   ]
  },
  {
   "cell_type": "code",
   "execution_count": null,
   "metadata": {
    "slideshow": {
     "slide_type": "fragment"
    }
   },
   "outputs": [],
   "source": []
  },
  {
   "cell_type": "code",
   "execution_count": null,
   "metadata": {
    "slideshow": {
     "slide_type": "fragment"
    }
   },
   "outputs": [],
   "source": []
  },
  {
   "cell_type": "code",
   "execution_count": null,
   "metadata": {
    "slideshow": {
     "slide_type": "fragment"
    }
   },
   "outputs": [],
   "source": []
  },
  {
   "cell_type": "markdown",
   "metadata": {
    "slideshow": {
     "slide_type": "slide"
    }
   },
   "source": [
    "#### 5. Obtener medidas de rendimiento en el conjunto de datos de prueba y mejorar modelo\n",
    "\n",
    "`pip install --upgrade scikit-learn`"
   ]
  },
  {
   "cell_type": "code",
   "execution_count": null,
   "metadata": {
    "slideshow": {
     "slide_type": "fragment"
    }
   },
   "outputs": [],
   "source": []
  },
  {
   "cell_type": "code",
   "execution_count": null,
   "metadata": {
    "slideshow": {
     "slide_type": "fragment"
    }
   },
   "outputs": [],
   "source": []
  },
  {
   "cell_type": "markdown",
   "metadata": {
    "slideshow": {
     "slide_type": "slide"
    }
   },
   "source": [
    "#### Exactitud "
   ]
  },
  {
   "cell_type": "code",
   "execution_count": null,
   "metadata": {
    "slideshow": {
     "slide_type": "fragment"
    }
   },
   "outputs": [],
   "source": []
  },
  {
   "cell_type": "markdown",
   "metadata": {
    "slideshow": {
     "slide_type": "slide"
    }
   },
   "source": [
    "#### Otras métricas"
   ]
  },
  {
   "cell_type": "code",
   "execution_count": null,
   "metadata": {
    "slideshow": {
     "slide_type": "fragment"
    }
   },
   "outputs": [],
   "source": []
  },
  {
   "cell_type": "code",
   "execution_count": null,
   "metadata": {
    "slideshow": {
     "slide_type": "slide"
    }
   },
   "outputs": [],
   "source": []
  },
  {
   "cell_type": "code",
   "execution_count": null,
   "metadata": {
    "slideshow": {
     "slide_type": "slide"
    }
   },
   "outputs": [],
   "source": []
  },
  {
   "cell_type": "code",
   "execution_count": null,
   "metadata": {
    "slideshow": {
     "slide_type": "slide"
    }
   },
   "outputs": [],
   "source": []
  },
  {
   "cell_type": "markdown",
   "metadata": {
    "slideshow": {
     "slide_type": "slide"
    }
   },
   "source": [
    "#### 6. Poner el modelo en producción\n",
    "\n",
    "Resultados & explicación"
   ]
  },
  {
   "cell_type": "code",
   "execution_count": null,
   "metadata": {
    "slideshow": {
     "slide_type": "fragment"
    }
   },
   "outputs": [],
   "source": []
  },
  {
   "cell_type": "code",
   "execution_count": null,
   "metadata": {
    "slideshow": {
     "slide_type": "fragment"
    }
   },
   "outputs": [],
   "source": []
  },
  {
   "cell_type": "code",
   "execution_count": null,
   "metadata": {
    "scrolled": true,
    "slideshow": {
     "slide_type": "slide"
    }
   },
   "outputs": [],
   "source": []
  },
  {
   "cell_type": "code",
   "execution_count": null,
   "metadata": {
    "scrolled": true,
    "slideshow": {
     "slide_type": "slide"
    }
   },
   "outputs": [],
   "source": []
  },
  {
   "cell_type": "markdown",
   "metadata": {
    "slideshow": {
     "slide_type": "notes"
    }
   },
   "source": [
    "- En Mac: `pip install graphviz` \n",
    "- En Ubuntu: `sudo apt-get install graphviz`\n",
    "- En Windows: `conda install graphviz`"
   ]
  },
  {
   "cell_type": "code",
   "execution_count": null,
   "metadata": {
    "slideshow": {
     "slide_type": "slide"
    }
   },
   "outputs": [],
   "source": []
  },
  {
   "cell_type": "markdown",
   "metadata": {
    "slideshow": {
     "slide_type": "fragment"
    }
   },
   "source": [
    "Más visualizaciones: https://github.com/parrt/dtreeviz/blob/master/notebooks/dtreeviz_sklearn_visualisations.ipynb"
   ]
  },
  {
   "cell_type": "markdown",
   "metadata": {
    "slideshow": {
     "slide_type": "fragment"
    }
   },
   "source": [
    "### Interpretabilidad de modelos con LIME: https://github.com/marcotcr/lime"
   ]
  },
  {
   "cell_type": "code",
   "execution_count": 24,
   "metadata": {
    "slideshow": {
     "slide_type": "notes"
    }
   },
   "outputs": [],
   "source": [
    "# ¿Cómo guardar su modelo?\n",
    "\n",
    "import pickle\n",
    "\n",
    "with open('mimodelo.pkl', 'wb') as f:\n",
    "    pickle.dump(logreg, f)\n",
    "\n",
    "\n",
    "with open('mimodelo.pkl', 'rb') as f:\n",
    "    mimodelo = pickle.load(f)"
   ]
  },
  {
   "cell_type": "markdown",
   "metadata": {
    "slideshow": {
     "slide_type": "slide"
    }
   },
   "source": [
    "# Parte 2: Modelos de agrupación"
   ]
  },
  {
   "cell_type": "markdown",
   "metadata": {
    "slideshow": {
     "slide_type": "slide"
    }
   },
   "source": [
    "### 🤔 ¿Y si no tenemos etiquetas?"
   ]
  },
  {
   "cell_type": "markdown",
   "metadata": {
    "slideshow": {
     "slide_type": "fragment"
    }
   },
   "source": [
    "<center><img src=\"../img/clase09/img4.png\" style='height:800px; float: center; margin: 0px 0px 0px 0px'></center>"
   ]
  },
  {
   "cell_type": "markdown",
   "metadata": {
    "slideshow": {
     "slide_type": "slide"
    }
   },
   "source": [
    "## 🤖 Métodos de Agrupación\n",
    "\n",
    "Es la forma más común de aprendizaje no supervisado\n"
   ]
  },
  {
   "cell_type": "markdown",
   "metadata": {
    "slideshow": {
     "slide_type": "fragment"
    }
   },
   "source": [
    "#### Datos\n",
    "\n",
    "• Muestras de entrenamiento $\\{ x_1, \\ldots, x_n\\} \\in \\mathbb{R}^{n}$\n",
    "\n",
    "• No necesitamos <i>(tenemos)</i> etiquetas $y_i$"
   ]
  },
  {
   "cell_type": "markdown",
   "metadata": {
    "slideshow": {
     "slide_type": "slide"
    }
   },
   "source": [
    "## Primera (?) aplicación de agrupación\n",
    "\n",
    "<br>\n",
    "<img src='https://upload.wikimedia.org/wikipedia/commons/c/cc/John_Snow.jpg' style='height:250px; float: left; margin: 0px 50px 30px 0px'>• En la década de 1850, un médico de Londres llamado John Snow, graficó la ubicación de las muertes por cólera en un mapa.\n",
    "\n",
    "\n",
    "• Las ubicaciones mostraron que los casos estaban agrupados cerca ciertas intersecciones donde habían pozos contaminados -- así, exponiendo tanto el problema como la solución.\n",
    "\n",
    "<br>\n",
    "<center><img src='../img/clase09/img3b.png' style='height:300px'><small>Fuente: Nina Mishra HP Labs</small></center>"
   ]
  },
  {
   "cell_type": "markdown",
   "metadata": {
    "slideshow": {
     "slide_type": "slide"
    }
   },
   "source": [
    "## 🤖 Métodos de Agrupación\n",
    "<br>"
   ]
  },
  {
   "cell_type": "markdown",
   "metadata": {
    "slideshow": {
     "slide_type": "fragment"
    }
   },
   "source": [
    "<b> Objetivo:</b> Agrupar ejemplares en clases de objetos similares-- \"cúmulos/clusters\""
   ]
  },
  {
   "cell_type": "markdown",
   "metadata": {
    "slideshow": {
     "slide_type": "fragment"
    }
   },
   "source": [
    "<b> ¿Cuándo usarlos?</b> Cuando no sabemos qué estamos buscando"
   ]
  },
  {
   "cell_type": "markdown",
   "metadata": {
    "slideshow": {
     "slide_type": "fragment"
    }
   },
   "source": [
    "<b>... pero, ¡cuidado, se puede convertir en galimatías!</b>"
   ]
  },
  {
   "cell_type": "markdown",
   "metadata": {
    "slideshow": {
     "slide_type": "fragment"
    }
   },
   "source": [
    "```python\n",
    "El conjuto de datos debe tener:\n",
    "- Alta similaridad intra-clases\n",
    "- Baja similaridad inter-clases\n",
    "```"
   ]
  },
  {
   "cell_type": "markdown",
   "metadata": {
    "slideshow": {
     "slide_type": "slide"
    }
   },
   "source": [
    "## 🔎  K-means en el mundo de Machine Learning\n",
    "<br>\n",
    "\n",
    "<center><img src='../img/clase09/img4.png' style='height:600px'></center>"
   ]
  },
  {
   "cell_type": "markdown",
   "metadata": {
    "slideshow": {
     "slide_type": "slide"
    }
   },
   "source": [
    "## 🔎 K-means en el mundo de Machine Learning\n",
    "<br>\n",
    "\n",
    "<center><img src='../img/clase09/img5bc.png' style='height:800px'></center>"
   ]
  },
  {
   "cell_type": "markdown",
   "metadata": {
    "slideshow": {
     "slide_type": "slide"
    }
   },
   "source": [
    "# K-means\n",
    "<b>(También conocido como K-medias)</b>\n",
    "\n",
    "<br>\n",
    "Modelo de Machine Learning NO supervisado de agrupación por partición\n",
    "\n",
    "<br><br>\n",
    "\n",
    "<center><img src='../img/clase09/img7b.gif' style='height:150px'></center>\n",
    "\n"
   ]
  },
  {
   "cell_type": "markdown",
   "metadata": {
    "slideshow": {
     "slide_type": "fragment"
    }
   },
   "source": [
    "<center>K-means un algoritmo <b><u>iterativo</u></b> cuyo objetivo es particionar un conjunto de $N$ observaciones <br>\n",
    "    en $K$ grupos en el que cada observación pertenece al grupo cuyo valor medio es más cercano.</center>"
   ]
  },
  {
   "cell_type": "markdown",
   "metadata": {
    "slideshow": {
     "slide_type": "slide"
    }
   },
   "source": [
    "### K-means --- Pasos"
   ]
  },
  {
   "cell_type": "markdown",
   "metadata": {
    "slideshow": {
     "slide_type": "fragment"
    }
   },
   "source": [
    "<img src='https://upload.wikimedia.org/wikipedia/commons/thumb/5/5e/K_Means_Example_Step_1.svg/249px-K_Means_Example_Step_1.svg.png' style='height:250px; float: left; margin: 0px 50px 0px 0px'>\n",
    "\n",
    "<b> 1. Inicializar</b>\n",
    "<br><br>A. &nbsp; Elegir un número K de cúmulos\n",
    "<br><br>B. &nbsp; Escoger aleatoriamente K puntos como centroides"
   ]
  },
  {
   "cell_type": "markdown",
   "metadata": {
    "slideshow": {
     "slide_type": "fragment"
    }
   },
   "source": [
    "<center><img src='https://upload.wikimedia.org/wikipedia/commons/thumb/a/a5/K_Means_Example_Step_2.svg/278px-K_Means_Example_Step_2.svg.png' style='height:250px; float: right; margin: 0px 0px 0px 0px'>\n",
    "\n",
    "\n",
    "<img src='https://upload.wikimedia.org/wikipedia/commons/thumb/3/3e/K_Means_Example_Step_3.svg/278px-K_Means_Example_Step_3.svg.png' style='height:250px; float: right; margin: 0px 0px 0px 0px'></center>\n",
    "\n",
    "<b>2. Repetir</b>\n",
    "<br><br>A. &nbsp; Los K cúmulos se crean asociando cada observación con la media más cercana\n",
    "<br><br>B. &nbsp; El nuevo centroide de cada uno de los K cúmulos es la media de sus observaciones"
   ]
  },
  {
   "cell_type": "markdown",
   "metadata": {
    "slideshow": {
     "slide_type": "slide"
    }
   },
   "source": [
    "### K-means --- Pasos"
   ]
  },
  {
   "cell_type": "markdown",
   "metadata": {
    "slideshow": {
     "slide_type": "fragment"
    }
   },
   "source": [
    "<img src='https://upload.wikimedia.org/wikipedia/commons/thumb/d/d2/K_Means_Example_Step_4.svg/278px-K_Means_Example_Step_4.svg.png' style='height:250px; float: left; margin: 0px 50px 0px 0px'>\n",
    "\n",
    "<b>3. Parar </b>\n",
    "<br><br>A. &nbsp; Repetir pasos 1 y 2\n",
    "<br><br>B. &nbsp; El algoritmo acaba cuando ya no hay cambio en los centroides de los cúmulos, las observaciones de los cúmulos siguen siendo las mismas, o el máximo número de iteraciones es alcanzado"
   ]
  },
  {
   "cell_type": "markdown",
   "metadata": {
    "slideshow": {
     "slide_type": "fragment"
    }
   },
   "source": [
    "#### Referencias:\n",
    "    \n",
    "- Definición matemática: [Link](https://nlp.stanford.edu/IR-book/html/htmledition/k-means-1.html)\n",
    "\n",
    "- Visualización: [Video](https://www.youtube.com/watch?v=BVFG7fd1H30)"
   ]
  },
  {
   "cell_type": "markdown",
   "metadata": {
    "slideshow": {
     "slide_type": "slide"
    }
   },
   "source": [
    "### 👮‍♀️ Punto de control\n",
    "<br>\n",
    "<img src='../img/clase09/kmeans2.png' style='height:700px; float: right; margin: 0px 50px 0px 0px'>\n",
    "\n",
    "¿Cuál es el número de $K$?\n",
    "\n",
    " ¿Qué está pasando en cada paso?"
   ]
  },
  {
   "cell_type": "markdown",
   "metadata": {
    "slideshow": {
     "slide_type": "slide"
    }
   },
   "source": [
    "# 👩‍💻 Manos a la obra\n",
    "\n",
    "<b>Paso 1:</b> Cargar los datos"
   ]
  },
  {
   "cell_type": "code",
   "execution_count": 25,
   "metadata": {
    "slideshow": {
     "slide_type": "fragment"
    }
   },
   "outputs": [
    {
     "name": "stdout",
     "output_type": "stream",
     "text": [
      "Tenemos 1000 registros.\n"
     ]
    },
    {
     "data": {
      "text/html": [
       "<div>\n",
       "<style scoped>\n",
       "    .dataframe tbody tr th:only-of-type {\n",
       "        vertical-align: middle;\n",
       "    }\n",
       "\n",
       "    .dataframe tbody tr th {\n",
       "        vertical-align: top;\n",
       "    }\n",
       "\n",
       "    .dataframe thead th {\n",
       "        text-align: right;\n",
       "    }\n",
       "</style>\n",
       "<table border=\"1\" class=\"dataframe\">\n",
       "  <thead>\n",
       "    <tr style=\"text-align: right;\">\n",
       "      <th></th>\n",
       "      <th>Text</th>\n",
       "    </tr>\n",
       "  </thead>\n",
       "  <tbody>\n",
       "    <tr>\n",
       "      <th>499</th>\n",
       "      <td>коллегия еэк является исполнительным органом к...</td>\n",
       "    </tr>\n",
       "    <tr>\n",
       "      <th>812</th>\n",
       "      <td>апреля  года председатель коллегии еэк тигран...</td>\n",
       "    </tr>\n",
       "    <tr>\n",
       "      <th>75</th>\n",
       "      <td>первой их совместной группой стала the primiti...</td>\n",
       "    </tr>\n",
       "    <tr>\n",
       "      <th>445</th>\n",
       "      <td>ce sont de jolis insectes au corps généralemen...</td>\n",
       "    </tr>\n",
       "    <tr>\n",
       "      <th>275</th>\n",
       "      <td>es el primer álbum completo del grupo vnv nati...</td>\n",
       "    </tr>\n",
       "  </tbody>\n",
       "</table>\n",
       "</div>"
      ],
      "text/plain": [
       "                                                  Text\n",
       "499  коллегия еэк является исполнительным органом к...\n",
       "812   апреля  года председатель коллегии еэк тигран...\n",
       "75   первой их совместной группой стала the primiti...\n",
       "445  ce sont de jolis insectes au corps généralemen...\n",
       "275  es el primer álbum completo del grupo vnv nati..."
      ]
     },
     "execution_count": 25,
     "metadata": {},
     "output_type": "execute_result"
    }
   ],
   "source": [
    "import pandas as pd\n",
    "\n",
    "data = pd.read_csv(\"../archivos/lang_clase.csv\")\n",
    "print(f\"Tenemos {data.shape[0]} registros.\")\n",
    "\n",
    "data.sample(5)"
   ]
  },
  {
   "cell_type": "markdown",
   "metadata": {
    "slideshow": {
     "slide_type": "slide"
    }
   },
   "source": [
    "# 👩‍💻 Manos a la obra\n",
    "\n",
    "<b>Paso 2:</b> Feature Engineering "
   ]
  },
  {
   "cell_type": "code",
   "execution_count": null,
   "metadata": {
    "slideshow": {
     "slide_type": "fragment"
    }
   },
   "outputs": [],
   "source": []
  },
  {
   "cell_type": "markdown",
   "metadata": {
    "slideshow": {
     "slide_type": "slide"
    }
   },
   "source": [
    "# 👩‍💻 Manos a la obra\n",
    "\n",
    "<b>Paso 2:</b> Entrenar el modelo"
   ]
  },
  {
   "cell_type": "markdown",
   "metadata": {
    "slideshow": {
     "slide_type": "fragment"
    }
   },
   "source": [
    "Pero primero tenemos que escoger $K$"
   ]
  },
  {
   "cell_type": "markdown",
   "metadata": {
    "slideshow": {
     "slide_type": "slide"
    }
   },
   "source": [
    "# ¿Cómo escoger $K$?\n",
    "\n",
    "\n",
    "#### Es importante escoger un buen número para K\n",
    "\n",
    "<br>\n",
    "<center><img src='../img/clase09/pickk1.png' style='height:600px'></center>"
   ]
  },
  {
   "cell_type": "markdown",
   "metadata": {
    "slideshow": {
     "slide_type": "slide"
    }
   },
   "source": [
    "# ¿Cómo escoger K?\n",
    "\n",
    "\n",
    "#### ¿Cuántos cúmulos hay aquí?\n",
    "\n",
    "<br>\n",
    "<center><img src='https://cdn.analyticsvidhya.com/wp-content/uploads/2019/08/Screenshot-from-2019-08-09-15-51-38.png'></center>"
   ]
  },
  {
   "cell_type": "markdown",
   "metadata": {
    "slideshow": {
     "slide_type": "slide"
    }
   },
   "source": [
    "# ¿Cómo escoger K?\n",
    "\n",
    "\n",
    "#### ¿Cuántos cúmulos hay aquí? \n",
    "\n",
    "#### ¿Dos?\n",
    "\n",
    "<br>\n",
    "<center><img src='https://cdn.analyticsvidhya.com/wp-content/uploads/2019/08/Screenshot-from-2019-08-09-15-53-27.png'></center>"
   ]
  },
  {
   "cell_type": "markdown",
   "metadata": {
    "slideshow": {
     "slide_type": "slide"
    }
   },
   "source": [
    "# ¿Cómo escoger K?\n",
    "\n",
    "\n",
    "#### ¿Cuántos cúmulos hay aquí? \n",
    "\n",
    "#### ¿Ocho?\n",
    "\n",
    "<br>\n",
    "<center><img src='https://cdn.analyticsvidhya.com/wp-content/uploads/2019/08/Screenshot-from-2019-08-09-15-54-58.png'></center>"
   ]
  },
  {
   "cell_type": "markdown",
   "metadata": {
    "slideshow": {
     "slide_type": "slide"
    }
   },
   "source": [
    "### 👮‍♀️ Punto de control\n",
    "<br>\n",
    "\n",
    "• ¿Cuál es valor mínimo posible para K?\n",
    "\n",
    "• ¿Cuál es valor máximo para K?"
   ]
  },
  {
   "cell_type": "markdown",
   "metadata": {
    "slideshow": {
     "slide_type": "slide"
    }
   },
   "source": [
    "# 👩‍💻 Manos a la obra\n",
    "\n",
    "<b>Paso 2:</b> Entrenar el modelo\n",
    "\n",
    "#### Escoger $K$ usando el método del codo"
   ]
  },
  {
   "cell_type": "markdown",
   "metadata": {
    "slideshow": {
     "slide_type": "notes"
    }
   },
   "source": [
    "La inercia mide lo bien que un conjunto de datos fue agrupado por K-Means. Se calcula midiendo la distancia entre cada punto de datos y su centroide, elevando al cuadrado esta distancia y sumando estos cuadrados en un clúster."
   ]
  },
  {
   "cell_type": "code",
   "execution_count": null,
   "metadata": {
    "slideshow": {
     "slide_type": "fragment"
    }
   },
   "outputs": [],
   "source": []
  },
  {
   "cell_type": "code",
   "execution_count": null,
   "metadata": {
    "slideshow": {
     "slide_type": "slide"
    }
   },
   "outputs": [],
   "source": []
  },
  {
   "cell_type": "code",
   "execution_count": null,
   "metadata": {
    "slideshow": {
     "slide_type": "fragment"
    }
   },
   "outputs": [],
   "source": []
  },
  {
   "cell_type": "code",
   "execution_count": null,
   "metadata": {
    "slideshow": {
     "slide_type": "slide"
    }
   },
   "outputs": [],
   "source": []
  },
  {
   "cell_type": "code",
   "execution_count": null,
   "metadata": {
    "slideshow": {
     "slide_type": "fragment"
    }
   },
   "outputs": [],
   "source": []
  },
  {
   "cell_type": "code",
   "execution_count": null,
   "metadata": {
    "slideshow": {
     "slide_type": "slide"
    }
   },
   "outputs": [],
   "source": []
  },
  {
   "cell_type": "code",
   "execution_count": null,
   "metadata": {
    "slideshow": {
     "slide_type": "slide"
    }
   },
   "outputs": [],
   "source": []
  },
  {
   "cell_type": "code",
   "execution_count": null,
   "metadata": {
    "scrolled": true,
    "slideshow": {
     "slide_type": "fragment"
    }
   },
   "outputs": [],
   "source": []
  },
  {
   "cell_type": "code",
   "execution_count": null,
   "metadata": {
    "slideshow": {
     "slide_type": "slide"
    }
   },
   "outputs": [],
   "source": []
  },
  {
   "cell_type": "code",
   "execution_count": null,
   "metadata": {
    "slideshow": {
     "slide_type": "fragment"
    }
   },
   "outputs": [],
   "source": []
  },
  {
   "cell_type": "code",
   "execution_count": null,
   "metadata": {
    "slideshow": {
     "slide_type": "slide"
    }
   },
   "outputs": [],
   "source": []
  },
  {
   "cell_type": "code",
   "execution_count": null,
   "metadata": {
    "slideshow": {
     "slide_type": "slide"
    }
   },
   "outputs": [],
   "source": []
  },
  {
   "cell_type": "markdown",
   "metadata": {
    "slideshow": {
     "slide_type": "slide"
    }
   },
   "source": [
    "# 🙁 ¿Qué puede salir mal?\n",
    "Cuando NO usar K-means\n",
    "\n",
    "<br>\n",
    "\n",
    "<center><img src='https://cdn.analyticsvidhya.com/wp-content/uploads/2019/08/Screenshot-from-2019-08-09-13-15-26.png'></center>"
   ]
  },
  {
   "cell_type": "markdown",
   "metadata": {
    "slideshow": {
     "slide_type": "slide"
    }
   },
   "source": [
    "# 🙁 ¿Qué puede salir mal?\n",
    "Cuando NO usar K-means\n",
    "\n",
    "<br>\n",
    "\n",
    "<center><img src='../img/clase09/ej1.png' style='height:500px'></center>"
   ]
  },
  {
   "cell_type": "markdown",
   "metadata": {
    "slideshow": {
     "slide_type": "slide"
    }
   },
   "source": [
    "# 🙁 ¿Qué puede salir mal?\n",
    "Cuando NO usar K-means\n",
    "\n",
    "<br>\n",
    "\n",
    "<center><img src='https://cdn.analyticsvidhya.com/wp-content/uploads/2019/08/Screenshot-from-2019-08-09-13-19-05.png'></center>"
   ]
  },
  {
   "cell_type": "markdown",
   "metadata": {
    "slideshow": {
     "slide_type": "slide"
    }
   },
   "source": [
    "# 🤓 Recapitulando\n",
    "\n",
    "<br>\n",
    "\n",
    "<img src='https://bgstieber.github.io/post/an-introduction-to-the-kmeans-algorithm/post_images/kmeans.gif' style='height:550px; float: left; margin: 0px 15px 15px 0px'>\n",
    "\n",
    "<br>\n",
    "\n",
    "• Los modelos de agrupación son técnicas no supervisadas de Machine Learning que buscan extraer la estructura de los datos al juntar las observaciones similares.\n",
    "\n",
    "• K-means es el modelo de agrupación más usado\n",
    "\n",
    "• El algoritmo es iterativo y reasigna los centroides hasta cuando ya no haya cambio en los grupos\n",
    "\n",
    "• Como todo modelo, es importante hacer una buena selección de variables dependientes y usar conocimento del tema para evaluar e interpretar el modelo.\n",
    "\n",
    "• Hay que considerar las limitaciones del modelo a la hora de escoger trabajar o no con él."
   ]
  },
  {
   "cell_type": "markdown",
   "metadata": {
    "slideshow": {
     "slide_type": "slide"
    }
   },
   "source": [
    "# 🤔 Más algoritmos de agrupación\n",
    "\n",
    "<br>\n",
    "\n",
    "<center><img src='https://scikit-learn.org/stable/_images/sphx_glr_plot_cluster_comparison_001.png' style='height:630px'></center>\n",
    "\n",
    "\n",
    "    \n",
    "Lectura adicional: [Documentación](https://scikit-learn.org/stable/modules/clustering.html), [Más ejemplos](http://brandonrose.org/clustering?ref=dzone)\n"
   ]
  },
  {
   "cell_type": "markdown",
   "metadata": {
    "slideshow": {
     "slide_type": "slide"
    }
   },
   "source": [
    "### ⏳ Recapitulando\n",
    "\n",
    "- Vimos un modelo de agrupación, pero existen muchos más\n",
    "    - K-Means\n",
    " "
   ]
  },
  {
   "cell_type": "markdown",
   "metadata": {
    "slideshow": {
     "slide_type": "slide"
    }
   },
   "source": [
    "# Parte 3: Análisis de sentimiento"
   ]
  },
  {
   "cell_type": "markdown",
   "metadata": {
    "slideshow": {
     "slide_type": "slide"
    }
   },
   "source": [
    "\n",
    "### 🥺 Análisis de sentimiento\n",
    "\n",
    "<br>\n",
    "<center><img src='../img/clase09/intro.jpg' style='height:300px; float: center; margin: 0px 15px 15px 0px'></center>\n",
    "<br>\n",
    "\n",
    "- Muy útil en un contexto de negocio \n",
    "- Idea general: Asignar un puntaje de sentimiento de -1 a 1\n",
    "- Podemos aplicar los modelos que ya conocemos de clasificación (etiquetados)\n",
    "- ¿Y si no tenemos etiquetas? 🤔"
   ]
  },
  {
   "cell_type": "markdown",
   "metadata": {
    "slideshow": {
     "slide_type": "slide"
    }
   },
   "source": [
    "### 😭 Limitaciones \n",
    "\n",
    "<br>\n",
    "<center><img src='../img/clase09/posneg.jpg' style='height:300px; float: center; margin: 0px 15px 15px 0px'></center>\n",
    " "
   ]
  },
  {
   "cell_type": "markdown",
   "metadata": {
    "slideshow": {
     "slide_type": "slide"
    }
   },
   "source": [
    "### 😭 Limitaciones \n",
    "\n",
    "<br>\n",
    "<center><img src='../img/clase09/tragicom.jpg' style='height:300px; float: center; margin: 0px 15px 15px 0px'></center>\n",
    "\n",
    "#### \"El hotel estaba horrible, pero los empleados fueron muy amables\"\n",
    " "
   ]
  },
  {
   "cell_type": "markdown",
   "metadata": {
    "slideshow": {
     "slide_type": "slide"
    }
   },
   "source": [
    "### 😭 Limitaciones \n",
    "\n",
    "<br>\n",
    "<center><img src='../img/clase09/sarcasmo2.png' style='height:350px; float: center; margin: 0px 15px 15px 0px'></center>\n",
    "\n",
    " "
   ]
  },
  {
   "cell_type": "markdown",
   "metadata": {
    "slideshow": {
     "slide_type": "slide"
    }
   },
   "source": [
    "### 😭 Limitaciones \n",
    "\n",
    "<br>\n",
    "<center><img src='../img/clase09/ingles.jpg' style='height:450px; float: center; margin: 0px 15px 15px 0px'></center>"
   ]
  },
  {
   "cell_type": "markdown",
   "metadata": {
    "slideshow": {
     "slide_type": "slide"
    }
   },
   "source": [
    "### 😭 Limitaciones \n",
    "\n",
    "<br>\n",
    "<center><img src='../img/clase09/callar.jpeg' style='height:250px; float: center; margin: 0px 15px 15px 0px'></center>\n",
    "\n",
    " Referencia [(1)](https://towardsdatascience.com/fine-grained-sentiment-analysis-in-python-part-1-2697bb111ed4)"
   ]
  },
  {
   "cell_type": "markdown",
   "metadata": {
    "slideshow": {
     "slide_type": "slide"
    }
   },
   "source": [
    "### Modelos basados en reglas\n",
    "\n",
    "Utilizan puntuaciones pre-definidas para cada palabra y determinar el resultado de una frase sacando el promedio. (También son capaces de detectar modificadores). \n",
    "\n",
    "😭 Limitación: Funciona sólo en inglés\n",
    "\n",
    "- [**Textblob**](https://textblob.readthedocs.io/en/dev/): También ofrece puntuación de subjetividad\n",
    "- [**Vader**](https://github.com/cjhutto/vaderSentiment) (Valence Aware Dictionary and sEntiment Reasoner): Se enfoca en textos de redes sociales, es decir, toma en cuenta vocabulario repetitivo, uso copioso de la puntuación, mayúsculas y emojis. \n",
    "\n",
    "`pip install vaderSentiment`\n",
    "\n",
    "`pip install textblob`\n"
   ]
  },
  {
   "cell_type": "code",
   "execution_count": null,
   "metadata": {
    "slideshow": {
     "slide_type": "slide"
    }
   },
   "outputs": [],
   "source": []
  },
  {
   "cell_type": "code",
   "execution_count": null,
   "metadata": {
    "slideshow": {
     "slide_type": "fragment"
    }
   },
   "outputs": [],
   "source": []
  },
  {
   "cell_type": "code",
   "execution_count": null,
   "metadata": {
    "slideshow": {
     "slide_type": "fragment"
    }
   },
   "outputs": [],
   "source": []
  },
  {
   "cell_type": "code",
   "execution_count": null,
   "metadata": {
    "scrolled": true,
    "slideshow": {
     "slide_type": "slide"
    }
   },
   "outputs": [],
   "source": []
  },
  {
   "cell_type": "code",
   "execution_count": null,
   "metadata": {
    "slideshow": {
     "slide_type": "slide"
    }
   },
   "outputs": [],
   "source": []
  },
  {
   "cell_type": "code",
   "execution_count": null,
   "metadata": {
    "slideshow": {
     "slide_type": "fragment"
    }
   },
   "outputs": [],
   "source": []
  },
  {
   "cell_type": "markdown",
   "metadata": {
    "slideshow": {
     "slide_type": "slide"
    }
   },
   "source": [
    "### Modelos basados en redes neuronales\n",
    "\n",
    "Estos modelos aprenden los *embeddings* para considerar las similitudes entre las palabras y hacerlos resistentes a los errores de ortografía.\n",
    "\n",
    "- [**Flair**](https://github.com/flairNLP/flair)\n",
    "\n",
    "`pip install flair` \n",
    "https://pytorch.org/\n",
    "Opción: [Google Colab](https://colab.research.google.com/notebooks/intro.ipynb#recent=true)"
   ]
  },
  {
   "cell_type": "code",
   "execution_count": null,
   "metadata": {
    "slideshow": {
     "slide_type": "slide"
    }
   },
   "outputs": [],
   "source": []
  },
  {
   "cell_type": "code",
   "execution_count": null,
   "metadata": {
    "slideshow": {
     "slide_type": "fragment"
    }
   },
   "outputs": [],
   "source": []
  },
  {
   "cell_type": "markdown",
   "metadata": {
    "slideshow": {
     "slide_type": "slide"
    }
   },
   "source": [
    "### 🤓 Recapitulando: Hoy aprendímos...\n",
    "\n",
    "- Modelos de clasificación \n",
    "    - Modelos\n",
    "        - Regresión logística\n",
    "        - Máquinas de vectores de soporte (SVM)\n",
    "        - Árboles de decisión\n",
    "    - Métricas\n",
    "        - Exactitud (accuracy)\n",
    "        - Precisión (precission)\n",
    "        - Sensibilidad (recall)\n",
    "        - Valor-F1 (F1-score)\n",
    "        - Matriz de confusión\n",
    "        - Error de tipo I y II\n",
    "    \n",
    "- Modelos de agrupación\n",
    "    - K-Means\n",
    "- Análisis de sentimiento\n",
    "    - Texblob\n",
    "    - Vader\n",
    "    - Flair"
   ]
  },
  {
   "cell_type": "markdown",
   "metadata": {
    "slideshow": {
     "slide_type": "slide"
    }
   },
   "source": [
    "<img src='../img/dragonball/9.jpeg' style='height:600px; float: left; margin: 0px 15px 15px 0px'>\n",
    "\n",
    "• **Módulo 1**: &nbsp;&nbsp;&nbsp;&nbsp; Introducción ✅ <br>\n",
    "• **Módulo 2**: &nbsp;&nbsp;&nbsp;&nbsp; Configuración de ambiente de desarrollo ✅ <br>\n",
    "• **Módulo 3**: &nbsp;&nbsp;&nbsp;&nbsp; Repaso de Python ✅ <br>\n",
    "• **Módulo 4**: &nbsp;&nbsp;&nbsp;&nbsp; Panorama general del Aprendizaje Automático (Machine Learning) ✅ <br>\n",
    "• **Módulo 5**: &nbsp;&nbsp;&nbsp;&nbsp; ¿Cómo adquirir datos? ✅ <br>\n",
    "• **Módulo 6**: &nbsp;&nbsp;&nbsp;&nbsp; Cuenta de desarrollador de Twitter ✅ <br>\n",
    "• **Módulo 7**: &nbsp;&nbsp;&nbsp;&nbsp; Web Scraping ✅ <br>\n",
    "• **Módulo 8**: &nbsp;&nbsp;&nbsp;&nbsp; De palabras a vectores ✅ <br>\n",
    "• **Módulo 9**: &nbsp;&nbsp;&nbsp;&nbsp; Modelos de Machine Learning ✅ <br>"
   ]
  }
 ],
 "metadata": {
  "celltoolbar": "Slideshow",
  "kernelspec": {
   "display_name": "Python 3 (ipykernel)",
   "language": "python",
   "name": "python3"
  },
  "language_info": {
   "codemirror_mode": {
    "name": "ipython",
    "version": 3
   },
   "file_extension": ".py",
   "mimetype": "text/x-python",
   "name": "python",
   "nbconvert_exporter": "python",
   "pygments_lexer": "ipython3",
   "version": "3.9.13"
  }
 },
 "nbformat": 4,
 "nbformat_minor": 2
}
