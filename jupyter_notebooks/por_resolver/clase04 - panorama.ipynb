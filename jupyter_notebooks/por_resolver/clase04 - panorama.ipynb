{
 "cells": [
  {
   "cell_type": "markdown",
   "id": "ac3b37c1",
   "metadata": {
    "slideshow": {
     "slide_type": "slide"
    }
   },
   "source": [
    "<center><img src='../img/logo_cosiam/LogoCoSIAM_COL.png' style='height:230px;  margin: 0px 15px 15px 0px'></center>\n",
    "\n",
    "# Módulo 4: Panorama general del Aprendizaje Automático (Machine Learning)\n",
    "\n",
    "• Elementos de un modelo de Machine Learning: Input, output, dataset, target, etc.<br>\n",
    "• Panorama de Machine Learning: Aprendizaje supervisado vs Aprendizaje no supervisado<br>\n",
    "• Ciclo de vida de un modelo de Machine Leraning<br>"
   ]
  },
  {
   "cell_type": "markdown",
   "id": "41afd1a7",
   "metadata": {
    "slideshow": {
     "slide_type": "slide"
    }
   },
   "source": [
    "# En capítulos anteriores...\n",
    "\n",
    "<br>\n",
    "<center><img src='../img/clase01/meme2.png' style='height:600px;'> </centeR>\n"
   ]
  },
  {
   "cell_type": "markdown",
   "id": "81044b0f",
   "metadata": {
    "slideshow": {
     "slide_type": "notes"
    }
   },
   "source": [
    "En capítulos anteriores vimos cómo el Machine Learning (aprendizaje automático) se encarga de representar la estructura y generalizar el comportamiento de un conjunto de datos a través de un modelo. En este módulo vamos a comprender qué tipo de modelos se usan en este contexto."
   ]
  },
  {
   "cell_type": "markdown",
   "id": "1a06dbfc",
   "metadata": {
    "slideshow": {
     "slide_type": "slide"
    }
   },
   "source": [
    "### 👠 ¿Modelo?\n",
    "\n",
    "<center><img src='../img/clase04/modelo.png' style='height:500px; float: center; margin: 0px 0px 0px 0px'>Sí, pero modelos matemáticos.<center><br>\n",
    "    \n",
    "Estos se usan para describir un sistema (natural, físico, social, industrial, etc.) usando conceptos y lenguaje matemático.\n"
   ]
  },
  {
   "cell_type": "markdown",
   "id": "55bef5c3",
   "metadata": {
    "slideshow": {
     "slide_type": "slide"
    }
   },
   "source": [
    "### 👠 Elementos de un modelo en el contexto de Machine Learning\n"
   ]
  },
  {
   "cell_type": "code",
   "execution_count": 7,
   "id": "94ded2d3",
   "metadata": {
    "slideshow": {
     "slide_type": "fragment"
    }
   },
   "outputs": [
    {
     "data": {
      "text/html": [
       "<div>\n",
       "<style scoped>\n",
       "    .dataframe tbody tr th:only-of-type {\n",
       "        vertical-align: middle;\n",
       "    }\n",
       "\n",
       "    .dataframe tbody tr th {\n",
       "        vertical-align: top;\n",
       "    }\n",
       "\n",
       "    .dataframe thead th {\n",
       "        text-align: right;\n",
       "    }\n",
       "</style>\n",
       "<table border=\"1\" class=\"dataframe\">\n",
       "  <thead>\n",
       "    <tr style=\"text-align: right;\">\n",
       "      <th></th>\n",
       "      <th>mensaje</th>\n",
       "      <th>etiqueta</th>\n",
       "    </tr>\n",
       "  </thead>\n",
       "  <tbody>\n",
       "    <tr>\n",
       "      <th>24</th>\n",
       "      <td>Entrada gratuita para la primera semana 2 TEXT...</td>\n",
       "      <td>basura</td>\n",
       "    </tr>\n",
       "    <tr>\n",
       "      <th>408</th>\n",
       "      <td>La pureza de la amistad entre dos no se trata ...</td>\n",
       "      <td>legítimo</td>\n",
       "    </tr>\n",
       "    <tr>\n",
       "      <th>139</th>\n",
       "      <td>Hola nena, soy Chloe, ¿cómo estás? Me destroza...</td>\n",
       "      <td>basura</td>\n",
       "    </tr>\n",
       "  </tbody>\n",
       "</table>\n",
       "</div>"
      ],
      "text/plain": [
       "                                               mensaje  etiqueta\n",
       "24   Entrada gratuita para la primera semana 2 TEXT...    basura\n",
       "408  La pureza de la amistad entre dos no se trata ...  legítimo\n",
       "139  Hola nena, soy Chloe, ¿cómo estás? Me destroza...    basura"
      ]
     },
     "execution_count": 7,
     "metadata": {},
     "output_type": "execute_result"
    }
   ],
   "source": [
    "import pandas as pd\n",
    "\n",
    "data = pd.read_csv(\"../archivos/basura.csv\")\n",
    "data.sample(3)"
   ]
  },
  {
   "cell_type": "markdown",
   "id": "fc9a2337",
   "metadata": {
    "slideshow": {
     "slide_type": "fragment"
    }
   },
   "source": [
    "- <b>Datos de entrada (input) del modelo:</b>\n",
    "En ML también conocido como: X, Características, Atributos, Predictores, Entradas, Variables independientes, Dimensiones, etc."
   ]
  },
  {
   "cell_type": "markdown",
   "id": "535d2c18",
   "metadata": {
    "slideshow": {
     "slide_type": "fragment"
    }
   },
   "source": [
    "- <b>Datos de salida (output) del modelo:</b>\n",
    "En ML también conocido como: Y, Objetivo, Respuesta, Salida, Variable dependiente, etc."
   ]
  },
  {
   "cell_type": "markdown",
   "id": "f34f12a3",
   "metadata": {
    "slideshow": {
     "slide_type": "fragment"
    }
   },
   "source": [
    "- <b>Fila:</b>\n",
    "(Incluye input y output) En ML también conocido como: Observación, Registro, Documento, etc."
   ]
  },
  {
   "cell_type": "markdown",
   "id": "aea6b759",
   "metadata": {
    "slideshow": {
     "slide_type": "fragment"
    }
   },
   "source": [
    "- <b>Etiquetas:</b>\n",
    "Los valores de la variable dependiente (en el contexto de aprendizaje supervisado)."
   ]
  },
  {
   "cell_type": "markdown",
   "id": "70e3f8fc",
   "metadata": {
    "slideshow": {
     "slide_type": "slide"
    }
   },
   "source": [
    "### 📝 Tipos de modelos en Machine Learning\n",
    "<br>\n",
    "\n",
    "<center><img src='../img/clase04/perritos.png' style='height:500px; float: center; margin: 0px 0px 0px 0px'>¿Es un perro o es un muffin?</center>\n",
    "\n",
    "Dos preguntas:\n",
    "- ¿Tenemos etiquetas? ¿De qué tipo son nuestros datos?"
   ]
  },
  {
   "cell_type": "markdown",
   "id": "dbb7be2f",
   "metadata": {
    "slideshow": {
     "slide_type": "slide"
    }
   },
   "source": [
    "### Primera pregunta: ¿Tenemos etiquetas?"
   ]
  },
  {
   "cell_type": "markdown",
   "id": "942c5cdc",
   "metadata": {
    "slideshow": {
     "slide_type": "fragment"
    }
   },
   "source": [
    "<center><img src='../img/clase04/supervised_unsupervised.png' style='height:500px; float: center; margin: 0px 0px 0px 0px'></center>\n",
    "\n",
    "- **Supervisados** Problemas con etiquetas\n",
    "- **No supervisados** Problemas sin etiquetas"
   ]
  },
  {
   "cell_type": "markdown",
   "id": "0e86404f",
   "metadata": {
    "slideshow": {
     "slide_type": "slide"
    }
   },
   "source": [
    "#### 👮‍♀️ Pop Quiz: ¿Supervisado o no?\n",
    "\n",
    "- Clasificar críticas de restaurantes como positivas o negativas"
   ]
  },
  {
   "cell_type": "markdown",
   "id": "a7009eb7",
   "metadata": {
    "slideshow": {
     "slide_type": "fragment"
    }
   },
   "source": [
    "- Agrupar locales de centros comerciales en conjuntos similares según sus características"
   ]
  },
  {
   "cell_type": "markdown",
   "id": "9fe58284",
   "metadata": {
    "slideshow": {
     "slide_type": "slide"
    }
   },
   "source": [
    "### Segunda pregunta: ¿De qué tipo son nuestros datos?"
   ]
  },
  {
   "cell_type": "markdown",
   "id": "d14fdc0a",
   "metadata": {
    "slideshow": {
     "slide_type": "fragment"
    }
   },
   "source": [
    "<center><img src='../img/clase04/clasreg.png' style='height:500px; float: center; margin: 0px 0px 0px 0px'></center>\n",
    "\n",
    "- **Datos continuos -> Regresión:** Información cuantitativa/numérica\n",
    "- **Datos discretos -> Clasificación:** Información cualitativa"
   ]
  },
  {
   "cell_type": "markdown",
   "id": "cc72564a",
   "metadata": {
    "slideshow": {
     "slide_type": "slide"
    }
   },
   "source": [
    "#### 👮‍♀️Pop Quiz: ¿Clasificación o regresión?\n",
    "<br>\n",
    "\n",
    "<center><img src='../img/clase04/pollo.jpg' style='height:600px; float: center; margin: 0px 0px 0px 0px'></center>\n",
    "\n",
    "- ¿Es un pollo o un perro?"
   ]
  },
  {
   "cell_type": "markdown",
   "id": "8ed07ad9",
   "metadata": {
    "slideshow": {
     "slide_type": "fragment"
    }
   },
   "source": [
    "- Predecir la estatura de una persona"
   ]
  },
  {
   "cell_type": "markdown",
   "id": "830a4d61",
   "metadata": {
    "slideshow": {
     "slide_type": "slide"
    }
   },
   "source": [
    "### Primera pregunta: ¿Tenemos etiquetas?"
   ]
  },
  {
   "cell_type": "markdown",
   "id": "e0004448",
   "metadata": {
    "slideshow": {
     "slide_type": "fragment"
    }
   },
   "source": [
    "<center><img src='../img/clase04/img1.png' style='height:600px; float: center; margin: 0px 0px 0px 0px'></center>\n",
    "\n",
    "- **Supervisados:** Problemas con etiquetas\n",
    "- **No supervisados:** Problemas sin etiquetas"
   ]
  },
  {
   "cell_type": "markdown",
   "id": "c8c39e0d",
   "metadata": {
    "slideshow": {
     "slide_type": "slide"
    }
   },
   "source": [
    "### Segunda pregunta: ¿De qué tipo son nuestros datos?"
   ]
  },
  {
   "cell_type": "markdown",
   "id": "6cbbb4cb",
   "metadata": {
    "slideshow": {
     "slide_type": "fragment"
    }
   },
   "source": [
    "<center><img src='../img/clase04/img2.png' style='height:600px; float: center; margin: 0px 0px 0px 0px'></center>\n",
    "\n",
    "- **Datos continuos:** Información cuantitativa/numérica\n",
    "- **Datos discretos:** Información cualitativa"
   ]
  },
  {
   "cell_type": "markdown",
   "id": "a62e4be9",
   "metadata": {
    "slideshow": {
     "slide_type": "slide"
    }
   },
   "source": [
    "# 🤔 ¿Es correo basura o no?"
   ]
  },
  {
   "cell_type": "markdown",
   "id": "8e5d599d",
   "metadata": {
    "slideshow": {
     "slide_type": "fragment"
    }
   },
   "source": [
    "<center><img src='../img/clase04/img3.png' style='height:600px; float: center; margin: 0px 0px 0px 0px'></center>"
   ]
  },
  {
   "cell_type": "markdown",
   "id": "c352af25",
   "metadata": {
    "slideshow": {
     "slide_type": "slide"
    }
   },
   "source": [
    "### Si en su empresa/universidad les piden desarrollar un proyecto, ¿cómo lo harían?\n",
    "\n",
    "<br><center><img src='../img/clase04/jefe.png' style='height:350px;'><center>"
   ]
  },
  {
   "cell_type": "markdown",
   "id": "7334126f",
   "metadata": {
    "slideshow": {
     "slide_type": "notes"
    }
   },
   "source": [
    "Normalmente, revisaríamos los requerimientos y dividiríamos el problema en diferentes pasos; para luego crear una estrategía para resolver cada paso. \n",
    "\n",
    "Esto mismo se hace con los proyectos de *machine learning* y se le conoce como **pipeline** o **flujo de datos**. Aunque los detalles específicos varian de proyecto a proyecto, estos pasos son comunes y nos van a permitir comenzar cualquier proyecto de *machine learning*."
   ]
  },
  {
   "cell_type": "markdown",
   "id": "f1d9c850",
   "metadata": {
    "slideshow": {
     "slide_type": "slide"
    }
   },
   "source": [
    "### Flujo de datos en un proyecto de NLP (pipeline)\n",
    "\n",
    "<br><center><img src='../img/clase04/pipeline.png'><center>\n",
    "\n",
    "#### Paso 1: Adquisición de datos\n",
    "<br>\n",
    "<center>Necesitamos adquirir datos relevantes a nuestro proyecto<br>"
   ]
  },
  {
   "cell_type": "markdown",
   "id": "4f04d949",
   "metadata": {
    "slideshow": {
     "slide_type": "slide"
    }
   },
   "source": [
    "### Flujo de datos en un proyecto de NLP (pipeline)\n",
    "\n",
    "<br><center><img src='../img/clase04/pipeline.png'><center>\n",
    "\n",
    "#### Paso 2 y 3: Limpieza de Texto y Pre-Procesamiento\n",
    "<br>\n",
    "<center>Rara vez los datos están como los necesitamos, por lo tanto tenemos que hacer <br>limpieza y pre-procesamiento de estos para normalizarlos<br>"
   ]
  },
  {
   "cell_type": "markdown",
   "id": "f8d1c3fd",
   "metadata": {
    "slideshow": {
     "slide_type": "slide"
    }
   },
   "source": [
    "### Flujo de datos en un proyecto de NLP (pipeline)\n",
    "\n",
    "<br><center><img src='../img/clase04/pipeline.png'><center>\n",
    "\n",
    "#### Paso 4: Feature Engineering (Creación de Características)\n",
    "<br>\n",
    "<center>Creamos indicadores que son los más adecuados para nuestro proyecto y los convertimos en un formato que sea entendido por nuestro modelo/algoritmo<center>"
   ]
  },
  {
   "cell_type": "markdown",
   "id": "68a7ea76",
   "metadata": {
    "slideshow": {
     "slide_type": "slide"
    }
   },
   "source": [
    "### Flujo de datos en un proyecto de NLP (pipeline)\n",
    "\n",
    "<br><center><img src='../img/clase04/pipeline.png'><center>\n",
    "\n",
    "#### Paso 5: Modelo\n",
    "<br>\n",
    "<center>Usualmente se crean varios modelos para poder escoger el mejor<center>"
   ]
  },
  {
   "cell_type": "markdown",
   "id": "cad5b33f",
   "metadata": {
    "slideshow": {
     "slide_type": "slide"
    }
   },
   "source": [
    "### Flujo de datos en un proyecto de NLP (pipeline)\n",
    "\n",
    "<br><center><img src='../img/clase04/pipeline.png'><center>\n",
    "\n",
    "#### Paso 6: Evaluación del rendimiento del modelo\n",
    "<br>\n",
    "<center>Las métricas de rendimiento nos permiten escoger el modelo más adecuado y ajustar sus parámetros para mejorarlo. De ser necesario, podemos regresar y optimizar los primeros pasos<center>"
   ]
  },
  {
   "cell_type": "markdown",
   "id": "9e406bb1",
   "metadata": {
    "slideshow": {
     "slide_type": "slide"
    }
   },
   "source": [
    "### Flujo de datos en un proyecto de NLP (pipeline)\n",
    "\n",
    "<br><center><img src='../img/clase04/pipeline.png'><center>\n",
    "\n",
    "#### Paso 7: Modelo en producción\n",
    "<br>\n",
    "<center>Una vez tenemos un buen modelo, pasamos a ponerlo en producción o socializar resultados<center>"
   ]
  },
  {
   "cell_type": "markdown",
   "id": "2d9cf9ab",
   "metadata": {
    "slideshow": {
     "slide_type": "slide"
    }
   },
   "source": [
    "### Flujo de datos en un proyecto de NLP (pipeline)\n",
    "\n",
    "<br><center><img src='../img/clase04/pipeline.png'><center>\n",
    "\n",
    "\n",
    "#### Paso 8: Vigilancia y actualización\n",
    "<br>\n",
    "<center>Es buena práctica monitorear regularmente el rendimiento del modelo y actualizarlo para que siga dando buenos resultados<center>"
   ]
  },
  {
   "cell_type": "markdown",
   "id": "aa51feeb",
   "metadata": {
    "slideshow": {
     "slide_type": "slide"
    }
   },
   "source": [
    "### 🤓 Recapitulando: Hoy aprendímos...\n",
    "\n",
    "- Elementos de un modelo de Machine Learning: Input, output, dataset, target, etc.\n",
    "- Aprendizaje supervisado vs Aprendizaje no supervisado\n",
    "- Ciclo de vida de un modelo de Machine Leraning"
   ]
  },
  {
   "cell_type": "markdown",
   "id": "57cbb280",
   "metadata": {
    "slideshow": {
     "slide_type": "slide"
    }
   },
   "source": [
    "<img src='../img/dragonball/4.jpeg' style='height:600px; float: left; margin: 0px 15px 15px 0px'>\n",
    "\n",
    "• **Módulo 1**: &nbsp;&nbsp;&nbsp;&nbsp; Introducción ✅ <br>\n",
    "• **Módulo 2**: &nbsp;&nbsp;&nbsp;&nbsp; Configuración de ambiente de desarrollo ✅ <br>\n",
    "• **Módulo 3**: &nbsp;&nbsp;&nbsp;&nbsp; Repaso de Python ✅ <br>\n",
    "• **Módulo 4**: &nbsp;&nbsp;&nbsp;&nbsp; Panorama general del Aprendizaje Automático (Machine Learning) ✅ <br>"
   ]
  }
 ],
 "metadata": {
  "celltoolbar": "Slideshow",
  "kernelspec": {
   "display_name": "Python 3 (ipykernel)",
   "language": "python",
   "name": "python3"
  },
  "language_info": {
   "codemirror_mode": {
    "name": "ipython",
    "version": 3
   },
   "file_extension": ".py",
   "mimetype": "text/x-python",
   "name": "python",
   "nbconvert_exporter": "python",
   "pygments_lexer": "ipython3",
   "version": "3.9.13"
  }
 },
 "nbformat": 4,
 "nbformat_minor": 5
}
