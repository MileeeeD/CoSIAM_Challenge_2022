{
 "cells": [
  {
   "cell_type": "markdown",
   "id": "ac3b37c1",
   "metadata": {
    "slideshow": {
     "slide_type": "slide"
    }
   },
   "source": [
    "<center><img src='../img/logo_cosiam/LogoCoSIAM_COL.png' style='height:230px;  margin: 0px 15px 15px 0px'></center>\n",
    "\n",
    "# Módulo 3: Repaso de Python\n"
   ]
  },
  {
   "cell_type": "markdown",
   "id": "6f6782c3",
   "metadata": {
    "slideshow": {
     "slide_type": "slide"
    }
   },
   "source": [
    "# Python\n",
    "\n",
    "<br>\n",
    "<img src='../img/clase03/python.png' style='height:300px; float: left; margin: 0px 15px 15px 0px'> \n",
    "\n",
    "• Lenguaje de programación <br>\n",
    "• Muy popular en el campo de la ciencia de datos <br>\n",
    "• Reconocido por su legibilidad <br>"
   ]
  },
  {
   "cell_type": "markdown",
   "id": "e1010ef7",
   "metadata": {
    "slideshow": {
     "slide_type": "slide"
    }
   },
   "source": [
    "# Tipos de archivo: `.py` vs `.ipynb`\n",
    "\n",
    "• `ipynb`: Jupyter Notebook. Necesitas tener instalado Jupyter para poder ejecutar. Ideal para realizar experimentos e interactuar con ellos.\n",
    "\n",
    "• `py`: Script. Se ejecutan desde la **terminal**. Se pueden crear usando un editor de código (ejemplo: Visual Studio Code). Ideal para escribir código en producción. "
   ]
  },
  {
   "cell_type": "markdown",
   "id": "a5edd8d4",
   "metadata": {
    "slideshow": {
     "slide_type": "slide"
    }
   },
   "source": [
    "# Código"
   ]
  },
  {
   "cell_type": "markdown",
   "id": "fe14fb0c",
   "metadata": {
    "slideshow": {
     "slide_type": "slide"
    }
   },
   "source": [
    "# Variables"
   ]
  },
  {
   "cell_type": "code",
   "execution_count": null,
   "id": "8b88dd83",
   "metadata": {},
   "outputs": [],
   "source": []
  },
  {
   "cell_type": "markdown",
   "id": "95c8d5a7",
   "metadata": {
    "slideshow": {
     "slide_type": "slide"
    }
   },
   "source": [
    "# Listas"
   ]
  },
  {
   "cell_type": "code",
   "execution_count": null,
   "id": "5c08505a",
   "metadata": {},
   "outputs": [],
   "source": []
  },
  {
   "cell_type": "markdown",
   "id": "d05419b4",
   "metadata": {
    "slideshow": {
     "slide_type": "slide"
    }
   },
   "source": [
    "# Condicionales"
   ]
  },
  {
   "cell_type": "code",
   "execution_count": null,
   "id": "5ff2b996",
   "metadata": {},
   "outputs": [],
   "source": []
  },
  {
   "cell_type": "markdown",
   "id": "099250b3",
   "metadata": {
    "slideshow": {
     "slide_type": "slide"
    }
   },
   "source": [
    "# Bucles"
   ]
  },
  {
   "cell_type": "code",
   "execution_count": null,
   "id": "f718c74f",
   "metadata": {},
   "outputs": [],
   "source": []
  },
  {
   "cell_type": "markdown",
   "id": "38843707",
   "metadata": {
    "slideshow": {
     "slide_type": "slide"
    }
   },
   "source": [
    "# Listas de comprensión"
   ]
  },
  {
   "cell_type": "code",
   "execution_count": null,
   "id": "405873c6",
   "metadata": {},
   "outputs": [],
   "source": []
  },
  {
   "cell_type": "markdown",
   "id": "898c83a3",
   "metadata": {
    "slideshow": {
     "slide_type": "slide"
    }
   },
   "source": [
    "# Diccionarios"
   ]
  },
  {
   "cell_type": "code",
   "execution_count": null,
   "id": "d3475745",
   "metadata": {},
   "outputs": [],
   "source": []
  },
  {
   "cell_type": "markdown",
   "id": "92be057b",
   "metadata": {
    "slideshow": {
     "slide_type": "slide"
    }
   },
   "source": [
    "# Funciones"
   ]
  },
  {
   "cell_type": "code",
   "execution_count": null,
   "id": "31f5edd5",
   "metadata": {},
   "outputs": [],
   "source": []
  },
  {
   "cell_type": "markdown",
   "id": "2a4bf034",
   "metadata": {
    "slideshow": {
     "slide_type": "slide"
    }
   },
   "source": [
    "# Importar librerias"
   ]
  },
  {
   "cell_type": "markdown",
   "id": "8a764b7d",
   "metadata": {},
   "source": [
    "• Se pueden instalar librerias desde la terminal o desde el notebook"
   ]
  },
  {
   "cell_type": "code",
   "execution_count": 50,
   "id": "d8a35c6c",
   "metadata": {},
   "outputs": [
    {
     "name": "stdout",
     "output_type": "stream",
     "text": [
      "Requirement already satisfied: pandas in /opt/anaconda3/envs/coSIAM2022/lib/python3.9/site-packages (1.5.0)\r\n",
      "Requirement already satisfied: python-dateutil>=2.8.1 in /opt/anaconda3/envs/coSIAM2022/lib/python3.9/site-packages (from pandas) (2.8.2)\r\n",
      "Requirement already satisfied: numpy>=1.20.3 in /opt/anaconda3/envs/coSIAM2022/lib/python3.9/site-packages (from pandas) (1.23.3)\r\n",
      "Requirement already satisfied: pytz>=2020.1 in /opt/anaconda3/envs/coSIAM2022/lib/python3.9/site-packages (from pandas) (2022.4)\r\n",
      "Requirement already satisfied: six>=1.5 in /opt/anaconda3/envs/coSIAM2022/lib/python3.9/site-packages (from python-dateutil>=2.8.1->pandas) (1.16.0)\r\n"
     ]
    }
   ],
   "source": [
    "! pip install pandas"
   ]
  },
  {
   "cell_type": "code",
   "execution_count": null,
   "id": "098f1377",
   "metadata": {},
   "outputs": [],
   "source": []
  },
  {
   "cell_type": "markdown",
   "id": "0cf3c1f6",
   "metadata": {
    "slideshow": {
     "slide_type": "slide"
    }
   },
   "source": [
    "# Funciones lambda"
   ]
  },
  {
   "cell_type": "code",
   "execution_count": null,
   "id": "d3e9b2b4",
   "metadata": {},
   "outputs": [],
   "source": []
  },
  {
   "cell_type": "markdown",
   "id": "6a6889c8",
   "metadata": {
    "slideshow": {
     "slide_type": "slide"
    }
   },
   "source": [
    "### 🤓 Recapitulando: Hoy aprendímos...\n",
    "- Básicos de Python"
   ]
  },
  {
   "cell_type": "markdown",
   "id": "57cbb280",
   "metadata": {
    "slideshow": {
     "slide_type": "slide"
    }
   },
   "source": [
    "<img src='../img/dragonball/3.jpeg' style='height:600px; float: left; margin: 0px 15px 15px 0px'>\n",
    "\n",
    "• **Módulo 1**: &nbsp;&nbsp;&nbsp;&nbsp; Introducción ✅ <br>\n",
    "• **Módulo 2**: &nbsp;&nbsp;&nbsp;&nbsp; Configuración de ambiente de desarrollo ✅ <br>\n",
    "• **Módulo 3**: &nbsp;&nbsp;&nbsp;&nbsp; Repaso de Python ✅ <br>"
   ]
  }
 ],
 "metadata": {
  "kernelspec": {
   "display_name": "Python 3 (ipykernel)",
   "language": "python",
   "name": "python3"
  },
  "language_info": {
   "codemirror_mode": {
    "name": "ipython",
    "version": 3
   },
   "file_extension": ".py",
   "mimetype": "text/x-python",
   "name": "python",
   "nbconvert_exporter": "python",
   "pygments_lexer": "ipython3",
   "version": "3.9.13"
  }
 },
 "nbformat": 4,
 "nbformat_minor": 5
}
