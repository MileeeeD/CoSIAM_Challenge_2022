{
 "cells": [
  {
   "cell_type": "markdown",
   "metadata": {
    "slideshow": {
     "slide_type": "slide"
    }
   },
   "source": [
    "<center><img src='../img/logo_cosiam/LogoCoSIAM_COL.png' style='height:230px;  margin: 0px 15px 15px 0px'></center>\n",
    "\n",
    "# Módulo 6:  Cuenta de desarrollador de Twitter\n",
    "\n",
    "- Adquisición de datos, parte III: Twitter usando la cuenta de desarrollador\n",
    "- Adquisición de datos, parte IV: Redes sociales usando la libreria SNScrape\n"
   ]
  },
  {
   "cell_type": "markdown",
   "metadata": {
    "slideshow": {
     "slide_type": "slide"
    }
   },
   "source": [
    "# En capítulos anteriores...\n",
    "\n",
    "<br>\n",
    "<center><img src='../img/pipeline/pipeline1.png' style='height:600px;'> </centeR>\n"
   ]
  },
  {
   "cell_type": "markdown",
   "metadata": {
    "slideshow": {
     "slide_type": "slide"
    }
   },
   "source": [
    "# NLP y las Redes Sociales\n",
    "\n",
    "<center><img src='../img/clase06/2021minute.jpeg' style='height:400px; float: center; margin: 0px 15px 15px 0px'></center>\n",
    "\n",
    "- Son datos y hay que darlos:\n",
    "    - +300 millones de usuarios **activos** al mes en Twitter\n",
    "    - +350.000 tuits por minuto\n",
    "    - 2.900 millones usuarios **activos** al mes en Facebook\n",
    "- La fuente más grande de datos no estructurados"
   ]
  },
  {
   "cell_type": "markdown",
   "metadata": {
    "slideshow": {
     "slide_type": "slide"
    }
   },
   "source": [
    "## Aplicaciones de NLP en las redes sociales \n",
    "\n",
    "<center><br>\n",
    "<img src='../img/clase01/adele.png' style='height:350px;'>\n",
    "</center>\n",
    "\n",
    "- Detección de temas tendencia\n",
    "- Minería de opinión\n",
    "- Detección de sentimiento \n",
    "- Detección de Fake News\n",
    "- Filtrar contenido adulto/ofensivo \n",
    "- Soporte al cliente"
   ]
  },
  {
   "cell_type": "markdown",
   "metadata": {
    "slideshow": {
     "slide_type": "slide"
    }
   },
   "source": [
    "# Retos de NLP en las redes sociales \n",
    "\n",
    "<center><img src='../img/clase06/formal.png' style='height:300px; float: center; margin: 0px 15px 15px 0px'><Small><i>Escala de formalidad</i></Small></center>\n",
    "\n",
    "- Varios idiomas \n",
    "- Diferentes sistemas de escritura y trasliteración\n",
    "- No es formal\n",
    "- Errores de gramática y ortografía \n",
    "- Elementos no textuales (🤔🦠🥺⏫, memes, xD :), etc.)\n",
    "- Textos cortos y vocabulario nuevo"
   ]
  },
  {
   "cell_type": "markdown",
   "metadata": {
    "slideshow": {
     "slide_type": "slide"
    }
   },
   "source": [
    "# 🤖 La API de Twitter: Tweepy\n",
    "\n",
    "`pip install tweepy`\n",
    "\n",
    "http://docs.tweepy.org/en/latest/\n",
    "\n",
    "- API (Interfaz de programación de aplicaciones): Cuando una compañía construye un conjunto de URLs dedicadas a devolver respuestas de datos. \n",
    "- Tweepy es la libreria de Python que nos permite conectarnos a Twitter\n",
    "- **Limitación**: Se pueden adquirir máximo 2.000.000 de tweets al mes. Sólo se pueden adquirir tweets con una semana de antiguedad."
   ]
  },
  {
   "cell_type": "markdown",
   "metadata": {
    "slideshow": {
     "slide_type": "slide"
    }
   },
   "source": [
    "## Paso 1: Crear una aplicación\n",
    "\n",
    "<br>\n",
    "<center><img src='../img/clase06/micro.png' style='height:300px; float: center; margin: 0px 15px 15px 0px'></center>\n",
    "\n",
    "- Ir a https://developer.twitter.com/en/portal/dashboard\n",
    "- Crear aplicación en la sección `Elevated` y guardar claves en otro archivo\n",
    "\n",
    "```\n",
    "api_key,\n",
    "api_secret_key,\n",
    "access_token,\n",
    "access_token_secret,\n",
    "bearer_token,\n",
    "```"
   ]
  },
  {
   "cell_type": "markdown",
   "metadata": {
    "slideshow": {
     "slide_type": "slide"
    }
   },
   "source": [
    "## Paso 2: Autenticarse con Twitter\n",
    "\n"
   ]
  },
  {
   "cell_type": "code",
   "execution_count": null,
   "metadata": {
    "slideshow": {
     "slide_type": "fragment"
    }
   },
   "outputs": [],
   "source": []
  },
  {
   "cell_type": "code",
   "execution_count": null,
   "metadata": {
    "slideshow": {
     "slide_type": "fragment"
    }
   },
   "outputs": [],
   "source": []
  },
  {
   "cell_type": "code",
   "execution_count": null,
   "metadata": {
    "slideshow": {
     "slide_type": "fragment"
    }
   },
   "outputs": [],
   "source": []
  },
  {
   "cell_type": "markdown",
   "metadata": {
    "slideshow": {
     "slide_type": "slide"
    }
   },
   "source": [
    "## Paso 3: Hacer un tuit\n",
    "\n",
    "- Documentación: http://docs.tweepy.org/en/latest/\n"
   ]
  },
  {
   "cell_type": "code",
   "execution_count": null,
   "metadata": {
    "slideshow": {
     "slide_type": "fragment"
    }
   },
   "outputs": [],
   "source": []
  },
  {
   "cell_type": "markdown",
   "metadata": {
    "slideshow": {
     "slide_type": "slide"
    }
   },
   "source": [
    "## Paso 4: Recolectar datos\n",
    "Documentación: https://docs.tweepy.org/en/stable/api.html"
   ]
  },
  {
   "cell_type": "code",
   "execution_count": null,
   "metadata": {
    "slideshow": {
     "slide_type": "fragment"
    }
   },
   "outputs": [],
   "source": []
  },
  {
   "cell_type": "code",
   "execution_count": null,
   "metadata": {
    "slideshow": {
     "slide_type": "fragment"
    }
   },
   "outputs": [],
   "source": []
  },
  {
   "cell_type": "code",
   "execution_count": null,
   "metadata": {
    "slideshow": {
     "slide_type": "fragment"
    }
   },
   "outputs": [],
   "source": []
  },
  {
   "cell_type": "code",
   "execution_count": null,
   "metadata": {
    "slideshow": {
     "slide_type": "fragment"
    }
   },
   "outputs": [],
   "source": []
  },
  {
   "cell_type": "code",
   "execution_count": null,
   "metadata": {
    "slideshow": {
     "slide_type": "fragment"
    }
   },
   "outputs": [],
   "source": []
  },
  {
   "cell_type": "code",
   "execution_count": null,
   "metadata": {
    "slideshow": {
     "slide_type": "fragment"
    }
   },
   "outputs": [],
   "source": []
  },
  {
   "cell_type": "markdown",
   "metadata": {
    "slideshow": {
     "slide_type": "slide"
    }
   },
   "source": [
    "# ... pero, quiero datos más antiguos 🥺\n",
    "\n",
    "<br>\n",
    "<center><img src='../img/clase06/no_t.jpeg' style='height:400px; float: center; margin: 0px 15px 15px 0px'></center>"
   ]
  },
  {
   "cell_type": "markdown",
   "metadata": {
    "slideshow": {
     "slide_type": "slide"
    }
   },
   "source": [
    "<center><img src='../img/clase06/si_t2.jpeg' style='height:400px; float: center; margin: 0px 15px 15px 0px'></center>"
   ]
  },
  {
   "cell_type": "markdown",
   "metadata": {
    "slideshow": {
     "slide_type": "slide"
    }
   },
   "source": [
    "###  Paso 1: Crear un entorno en Twitter\n",
    "\n",
    "Dirigirse a https://developer.twitter.com/en/account/environments y seguir los siguientes pasos."
   ]
  },
  {
   "cell_type": "markdown",
   "metadata": {
    "slideshow": {
     "slide_type": "fragment"
    }
   },
   "source": [
    "1. Hacer click en `set up dev environment` en la sección de `full archive`\n",
    "<img src='../img/clase06/tw1.png'>"
   ]
  },
  {
   "cell_type": "markdown",
   "metadata": {
    "slideshow": {
     "slide_type": "slide"
    }
   },
   "source": [
    "2. Darle un nombre al entorno y escoger una de las aplicaciones\n",
    "<img src='../img/clase06/tw2.png'>"
   ]
  },
  {
   "cell_type": "markdown",
   "metadata": {
    "slideshow": {
     "slide_type": "slide"
    }
   },
   "source": [
    "3. Recordar el nombre del ambiente (en este ejemplo `Historico`) y saber cuál aplicación se usó para acceder con esas llaves\n",
    "<img src='../img/clase06/tw3.png'>"
   ]
  },
  {
   "cell_type": "markdown",
   "metadata": {
    "slideshow": {
     "slide_type": "slide"
    }
   },
   "source": [
    "### Ejemplo de uso"
   ]
  },
  {
   "cell_type": "code",
   "execution_count": null,
   "metadata": {
    "slideshow": {
     "slide_type": "fragment"
    }
   },
   "outputs": [],
   "source": []
  },
  {
   "cell_type": "code",
   "execution_count": null,
   "metadata": {
    "slideshow": {
     "slide_type": "fragment"
    }
   },
   "outputs": [],
   "source": []
  },
  {
   "cell_type": "code",
   "execution_count": null,
   "metadata": {
    "slideshow": {
     "slide_type": "slide"
    }
   },
   "outputs": [],
   "source": []
  },
  {
   "cell_type": "code",
   "execution_count": null,
   "metadata": {
    "slideshow": {
     "slide_type": "fragment"
    }
   },
   "outputs": [],
   "source": []
  },
  {
   "cell_type": "markdown",
   "metadata": {
    "slideshow": {
     "slide_type": "slide"
    }
   },
   "source": [
    "# ... pero, quiero datos más antiguos 🥺\n",
    "\n",
    "<br>\n",
    "<center><img src='../img/clase06/no_t.jpeg' style='height:400px; float: center; margin: 0px 15px 15px 0px'></center>"
   ]
  },
  {
   "cell_type": "markdown",
   "metadata": {
    "slideshow": {
     "slide_type": "slide"
    }
   },
   "source": [
    "# ... presentando `snscrape`\n",
    "\n",
    "<br>\n",
    "<center><img src='../img/clase06/si_t.jpeg' style='height:400px; float: center; margin: 0px 15px 15px 0px'></center>"
   ]
  },
  {
   "cell_type": "markdown",
   "metadata": {
    "slideshow": {
     "slide_type": "slide"
    }
   },
   "source": [
    "# SNScrape \n",
    "\n",
    "`pip install snscrape`\n",
    "\n",
    "- Libreria creada para hacer scraping de diferentes redes sociales (Twitter, Facebook, Instagram, VKontakte y más...)\n",
    "- En un futuro podría dejar de funcionar\n",
    "- Documentación: https://github.com/JustAnotherArchivist/snscrape"
   ]
  },
  {
   "cell_type": "code",
   "execution_count": null,
   "metadata": {
    "slideshow": {
     "slide_type": "fragment"
    }
   },
   "outputs": [],
   "source": []
  },
  {
   "cell_type": "markdown",
   "metadata": {
    "slideshow": {
     "slide_type": "slide"
    }
   },
   "source": [
    "### 🤓 Recapitulando: Hoy aprendímos...\n",
    "\n",
    "- Twitter usando la cuenta de desarrollador\n",
    "- Redes sociales usando la libreria SNScrape"
   ]
  },
  {
   "cell_type": "markdown",
   "metadata": {
    "slideshow": {
     "slide_type": "slide"
    }
   },
   "source": [
    "<img src='../img/dragonball/6.jpeg' style='height:600px; float: left; margin: 0px 15px 15px 0px'>\n",
    "\n",
    "• **Módulo 1**: &nbsp;&nbsp;&nbsp;&nbsp; Introducción ✅ <br>\n",
    "• **Módulo 2**: &nbsp;&nbsp;&nbsp;&nbsp; Configuración de ambiente de desarrollo ✅ <br>\n",
    "• **Módulo 3**: &nbsp;&nbsp;&nbsp;&nbsp; Repaso de Python ✅ <br>\n",
    "• **Módulo 4**: &nbsp;&nbsp;&nbsp;&nbsp; Panorama general del Aprendizaje Automático (Machine Learning) ✅ <br>\n",
    "• **Módulo 5**: &nbsp;&nbsp;&nbsp;&nbsp; ¿Cómo adquirir datos? ✅ <br>\n",
    "• **Módulo 6**: &nbsp;&nbsp;&nbsp;&nbsp; Cuenta de desarrollador de Twitter ✅ <br>"
   ]
  }
 ],
 "metadata": {
  "celltoolbar": "Slideshow",
  "kernelspec": {
   "display_name": "Python 3 (ipykernel)",
   "language": "python",
   "name": "python3"
  },
  "language_info": {
   "codemirror_mode": {
    "name": "ipython",
    "version": 3
   },
   "file_extension": ".py",
   "mimetype": "text/x-python",
   "name": "python",
   "nbconvert_exporter": "python",
   "pygments_lexer": "ipython3",
   "version": "3.9.13"
  }
 },
 "nbformat": 4,
 "nbformat_minor": 2
}
